{
 "cells": [
  {
   "cell_type": "code",
   "execution_count": 1,
   "id": "24a9f30d-4dcb-474b-bc4a-611cfcd9d9f6",
   "metadata": {},
   "outputs": [
    {
     "name": "stdout",
     "output_type": "stream",
     "text": [
      "['False', 'None', 'True', 'and', 'as', 'assert', 'async', 'await', 'break', 'class', 'continue', 'def', 'del', 'elif', 'else', 'except', 'finally', 'for', 'from', 'global', 'if', 'import', 'in', 'is', 'lambda', 'nonlocal', 'not', 'or', 'pass', 'raise', 'return', 'try', 'while', 'with', 'yield']\n"
     ]
    }
   ],
   "source": [
    "xs#python has 33 keywords\n",
    "import keyword\n",
    "print(keyword.kwlist)"
   ]
  },
  {
   "cell_type": "code",
   "execution_count": 2,
   "id": "57f99a5a-a50d-4997-a6c4-cdbe61715b57",
   "metadata": {},
   "outputs": [
    {
     "name": "stdin",
     "output_type": "stream",
     "text": [
      "Enter a name here krunal\n"
     ]
    },
    {
     "data": {
      "text/plain": [
       "'krunal'"
      ]
     },
     "execution_count": 2,
     "metadata": {},
     "output_type": "execute_result"
    }
   ],
   "source": [
    "input(prompt = \"Enter a name here\")"
   ]
  },
  {
   "cell_type": "code",
   "execution_count": 3,
   "id": "f1c6904d-3b87-433a-83dc-428104887fd9",
   "metadata": {},
   "outputs": [
    {
     "data": {
      "text/plain": [
       "int"
      ]
     },
     "execution_count": 3,
     "metadata": {},
     "output_type": "execute_result"
    }
   ],
   "source": [
    "type(5)"
   ]
  },
  {
   "cell_type": "code",
   "execution_count": 4,
   "id": "b030343d-8aaa-4e71-aff5-5a6bd099f42b",
   "metadata": {},
   "outputs": [
    {
     "data": {
      "text/plain": [
       "complex"
      ]
     },
     "execution_count": 4,
     "metadata": {},
     "output_type": "execute_result"
    }
   ],
   "source": [
    "type(5+0j)"
   ]
  },
  {
   "cell_type": "code",
   "execution_count": 5,
   "id": "90392629-c64c-4ac1-82b7-afd34066582f",
   "metadata": {},
   "outputs": [
    {
     "data": {
      "text/plain": [
       "str"
      ]
     },
     "execution_count": 5,
     "metadata": {},
     "output_type": "execute_result"
    }
   ],
   "source": [
    "type('jskd')"
   ]
  },
  {
   "cell_type": "code",
   "execution_count": 6,
   "id": "265d6ff1-6ec0-4585-9882-5909ca818400",
   "metadata": {},
   "outputs": [
    {
     "data": {
      "text/plain": [
       "bool"
      ]
     },
     "execution_count": 6,
     "metadata": {},
     "output_type": "execute_result"
    }
   ],
   "source": [
    "type(True)"
   ]
  },
  {
   "cell_type": "code",
   "execution_count": 7,
   "id": "4ef67b0c-ea40-400e-91d5-1eca33eeec7e",
   "metadata": {},
   "outputs": [
    {
     "data": {
      "text/plain": [
       "list"
      ]
     },
     "execution_count": 7,
     "metadata": {},
     "output_type": "execute_result"
    }
   ],
   "source": [
    "type([1,2,3,4])"
   ]
  },
  {
   "cell_type": "markdown",
   "id": "d7b553ab-ee84-4d0f-85c2-d59f103170c2",
   "metadata": {},
   "source": [
    "#implicit and expilicit. Are different thing"
   ]
  },
  {
   "cell_type": "code",
   "execution_count": 8,
   "id": "249de57a-2918-4e47-8c29-95fc485b0a78",
   "metadata": {},
   "outputs": [
    {
     "data": {
      "text/plain": [
       "7.0"
      ]
     },
     "execution_count": 8,
     "metadata": {},
     "output_type": "execute_result"
    }
   ],
   "source": [
    "a = 5\n",
    "b = 2.0\n",
    "c = a + b\n",
    "c"
   ]
  },
  {
   "cell_type": "code",
   "execution_count": 9,
   "id": "9f137e60-45ad-424e-b7ef-1260ed71e86e",
   "metadata": {},
   "outputs": [
    {
     "data": {
      "text/plain": [
       "7"
      ]
     },
     "execution_count": 9,
     "metadata": {},
     "output_type": "execute_result"
    }
   ],
   "source": [
    "c = a + int(b)\n",
    "c"
   ]
  },
  {
   "cell_type": "code",
   "execution_count": 10,
   "id": "92e25c24-cfb2-4f5c-be68-b3d2f59f47a3",
   "metadata": {},
   "outputs": [
    {
     "data": {
      "text/plain": [
       "['H', 'e', 'l', 'l', 'o']"
      ]
     },
     "execution_count": 10,
     "metadata": {},
     "output_type": "execute_result"
    }
   ],
   "source": [
    "list('Hello')"
   ]
  },
  {
   "cell_type": "code",
   "execution_count": 11,
   "id": "206cbd1e-0770-4c01-bb78-23bf20bbed31",
   "metadata": {},
   "outputs": [],
   "source": [
    "a = 3.14\n",
    "b = 2e-3"
   ]
  },
  {
   "cell_type": "code",
   "execution_count": 12,
   "id": "8acb9e20-54f8-4836-98d2-7bb90e98522e",
   "metadata": {},
   "outputs": [
    {
     "name": "stdout",
     "output_type": "stream",
     "text": [
      "3.14\n",
      "0.002\n"
     ]
    }
   ],
   "source": [
    "print(a)\n",
    "print(b)"
   ]
  },
  {
   "cell_type": "code",
   "execution_count": 13,
   "id": "307ee326-9179-47b6-bd6a-1c4fc442a903",
   "metadata": {},
   "outputs": [
    {
     "name": "stdout",
     "output_type": "stream",
     "text": [
      "2\n",
      "10\n"
     ]
    }
   ],
   "source": [
    "a = True +1 \n",
    "b = False + 10\n",
    "print(a)\n",
    "print(b)"
   ]
  },
  {
   "cell_type": "code",
   "execution_count": 14,
   "id": "84416a0e-476b-4272-99a5-f57d12c79e2d",
   "metadata": {},
   "outputs": [
    {
     "name": "stdin",
     "output_type": "stream",
     "text": [
      "email:  krkjrkjkf\n",
      "password:  jkfjkjfk\n"
     ]
    },
    {
     "name": "stdout",
     "output_type": "stream",
     "text": [
      "either email id or password is not correct.\n"
     ]
    }
   ],
   "source": [
    "email = input(\"email: \")\n",
    "password = input(\"password: \")\n",
    "\n",
    "new_email = email.lower()\n",
    "new_password = password.lower()\n",
    "\n",
    "correct_email = 'krunalsoni187@gmail.com'\n",
    "correct_password = '1234'\n",
    "\n",
    "if new_email == correct_email and new_password == correct_password:\n",
    "    print('You have successfully loged in.')\n",
    "else:\n",
    "    print('either email id or password is not correct.')"
   ]
  },
  {
   "cell_type": "code",
   "execution_count": 17,
   "id": "013579d2-19c2-4961-a069-62622e5be33d",
   "metadata": {},
   "outputs": [
    {
     "name": "stdin",
     "output_type": "stream",
     "text": [
      "Enter a number here:  10\n"
     ]
    },
    {
     "name": "stdout",
     "output_type": "stream",
     "text": [
      "10\n",
      "20\n",
      "30\n",
      "40\n",
      "50\n",
      "60\n",
      "70\n",
      "80\n",
      "90\n",
      "100\n"
     ]
    }
   ],
   "source": [
    "number = int(input(\"Enter a number here: \"))\n",
    "i = 1\n",
    "while i<=number:\n",
    "    print(number * i)\n",
    "    i = i + 1"
   ]
  },
  {
   "cell_type": "markdown",
   "id": "6d43b832-3e6c-40ad-8d25-d0efeb473b1b",
   "metadata": {},
   "source": [
    "while loop has condition given to it and given iteration to its code. code runs until the condition satisfy."
   ]
  },
  {
   "cell_type": "code",
   "execution_count": 2,
   "id": "e73ef202-d472-41aa-a8a9-bbe0c9d8dd83",
   "metadata": {},
   "outputs": [],
   "source": [
    "import random"
   ]
  },
  {
   "cell_type": "code",
   "execution_count": 3,
   "id": "bbdcb5e1-b032-41c7-9584-6bfa285ae86f",
   "metadata": {},
   "outputs": [
    {
     "data": {
      "text/plain": [
       "56"
      ]
     },
     "execution_count": 3,
     "metadata": {},
     "output_type": "execute_result"
    }
   ],
   "source": [
    "random.randint(1,100)"
   ]
  },
  {
   "cell_type": "code",
   "execution_count": 2,
   "id": "640be302-84ca-43ef-b979-3b2f400bd089",
   "metadata": {},
   "outputs": [
    {
     "name": "stdin",
     "output_type": "stream",
     "text": [
      "Enter a number to guess:  80\n"
     ]
    },
    {
     "name": "stdout",
     "output_type": "stream",
     "text": [
      "guess lower\n"
     ]
    },
    {
     "name": "stdin",
     "output_type": "stream",
     "text": [
      "Enter a number to guess:  50\n"
     ]
    },
    {
     "name": "stdout",
     "output_type": "stream",
     "text": [
      "guess higher\n"
     ]
    },
    {
     "name": "stdin",
     "output_type": "stream",
     "text": [
      "Enter a number to guess:  60\n"
     ]
    },
    {
     "name": "stdout",
     "output_type": "stream",
     "text": [
      "guess lower\n"
     ]
    },
    {
     "name": "stdin",
     "output_type": "stream",
     "text": [
      "Enter a number to guess:  55\n"
     ]
    },
    {
     "name": "stdout",
     "output_type": "stream",
     "text": [
      "guess higher\n"
     ]
    },
    {
     "name": "stdin",
     "output_type": "stream",
     "text": [
      "Enter a number to guess:  57\n"
     ]
    },
    {
     "name": "stdout",
     "output_type": "stream",
     "text": [
      "sahi jawab\n",
      "you took 5 attempt\n"
     ]
    }
   ],
   "source": [
    "import random\n",
    "jackpot = random.randint(1,100)\n",
    "counter = 1\n",
    "guess = int(input('Enter a number to guess: '))\n",
    "while guess != jackpot:\n",
    "    if guess > jackpot:\n",
    "        print('guess lower')\n",
    "    elif guess < jackpot:\n",
    "        print('guess higher')\n",
    "    guess = int(input('Enter a number to guess: '))\n",
    "    counter += 1\n",
    "print('sahi jawab')\n",
    "print('you took', counter, 'attempt')"
   ]
  },
  {
   "cell_type": "code",
   "execution_count": 1,
   "id": "664c2c39-4797-453b-be60-fa51cd508b98",
   "metadata": {},
   "outputs": [],
   "source": [
    "my_list = list(range(2, 15))"
   ]
  },
  {
   "cell_type": "code",
   "execution_count": 2,
   "id": "7a09a1c1-3141-4ac9-a2e3-2492bee6d5f2",
   "metadata": {},
   "outputs": [
    {
     "data": {
      "text/plain": [
       "[2, 3, 4, 5, 6, 7, 8, 9, 10, 11, 12, 13, 14]"
      ]
     },
     "execution_count": 2,
     "metadata": {},
     "output_type": "execute_result"
    }
   ],
   "source": [
    "my_list"
   ]
  },
  {
   "cell_type": "code",
   "execution_count": 3,
   "id": "707e3fa9-6853-4e5c-b9d4-26aa736da0d3",
   "metadata": {},
   "outputs": [
    {
     "data": {
      "text/plain": [
       "[0, 1, 2, 3, 4, 5]"
      ]
     },
     "execution_count": 3,
     "metadata": {},
     "output_type": "execute_result"
    }
   ],
   "source": [
    "list(range(6))"
   ]
  },
  {
   "cell_type": "code",
   "execution_count": 5,
   "id": "4b1bff49-a474-4c3c-a735-22aa4e1ddece",
   "metadata": {},
   "outputs": [
    {
     "data": {
      "text/plain": [
       "[10, 9, 8, 7, 6, 5, 4, 3, 2, 1]"
      ]
     },
     "execution_count": 5,
     "metadata": {},
     "output_type": "execute_result"
    }
   ],
   "source": [
    "list = []\n",
    "for i in range(10,0,-1):\n",
    "    list.append(i)\n",
    "list"
   ]
  },
  {
   "cell_type": "code",
   "execution_count": 4,
   "id": "e166fdd8-d4c4-44dc-96a4-3143dff42fad",
   "metadata": {},
   "outputs": [
    {
     "name": "stdout",
     "output_type": "stream",
     "text": [
      "[10, 9, 8, 7, 6, 5, 4, 3, 2, 1]\n"
     ]
    }
   ],
   "source": [
    "list = []\n",
    "for i in range(10,0,-1):\n",
    "    list.append(i)\n",
    "print(list)"
   ]
  },
  {
   "cell_type": "code",
   "execution_count": 6,
   "id": "c42fd314-d4c6-4d1b-a2f9-88b3a6ad5f14",
   "metadata": {},
   "outputs": [
    {
     "name": "stdout",
     "output_type": "stream",
     "text": [
      "['k', 'o', 'l', 'k', 'o', 't', 'a']\n"
     ]
    }
   ],
   "source": [
    "list = []\n",
    "for i in 'kolkota':\n",
    "    list.append(i)\n",
    "print(list)"
   ]
  },
  {
   "cell_type": "code",
   "execution_count": 7,
   "id": "df29f99e-bea4-465e-8130-4ac03bdedb10",
   "metadata": {},
   "outputs": [
    {
     "name": "stdout",
     "output_type": "stream",
     "text": [
      "['k', 'o', 'l', 'k', 'o', 't', 'a']\n"
     ]
    }
   ],
   "source": [
    "list = []\n",
    "for i in 'kolkota':\n",
    "    print(i)\n",
    "    list.append(i)\n",
    "print(list)"
   ]
  },
  {
   "cell_type": "code",
   "execution_count": 28,
   "id": "1159c209-121f-41ba-bb30-1103f31a3725",
   "metadata": {},
   "outputs": [
    {
     "name": "stdout",
     "output_type": "stream",
     "text": [
      "1\n",
      "2\n",
      "3\n",
      "4\n"
     ]
    }
   ],
   "source": [
    "for i in [1,2,3,4]:\n",
    "    print(i)"
   ]
  },
  {
   "cell_type": "code",
   "execution_count": 8,
   "id": "7af7cecd-3b38-46db-b710-12416711d72d",
   "metadata": {},
   "outputs": [
    {
     "name": "stdout",
     "output_type": "stream",
     "text": [
      "* * * * * \n",
      "* * * * \n",
      "* * * \n",
      "* * \n",
      "* \n"
     ]
    }
   ],
   "source": [
    "for i in range(5,0,-1):\n",
    "    for j in range(i):\n",
    "        print('*', end = \" \")\n",
    "    print()"
   ]
  },
  {
   "cell_type": "code",
   "execution_count": 5,
   "id": "e6cda2d5-6756-4907-98af-48e9efb78870",
   "metadata": {},
   "outputs": [
    {
     "name": "stdout",
     "output_type": "stream",
     "text": [
      "\n",
      "* \n",
      "* * \n",
      "* * * \n",
      "* * * * \n",
      "* * * * * \n"
     ]
    }
   ],
   "source": [
    "for i in range(6):\n",
    "    for j in range(i):\n",
    "        print('*', end = \" \")\n",
    "    print()"
   ]
  },
  {
   "cell_type": "code",
   "execution_count": 11,
   "id": "d7b938b0-13d7-4e4e-92cc-c7f19c7130fc",
   "metadata": {},
   "outputs": [
    {
     "name": "stdout",
     "output_type": "stream",
     "text": [
      "\n",
      "* \n",
      "* * \n",
      "* * * \n",
      "* * * * \n",
      "* * * * * \n",
      "* * * * * * \n",
      "* * * * * \n",
      "* * * * \n",
      "* * * \n",
      "* * \n",
      "* \n"
     ]
    }
   ],
   "source": [
    "for i in range(6):\n",
    "    for j in range(i):\n",
    "        print('*', end = ' ')\n",
    "    print()\n",
    "\n",
    "for i in range(6,0,-1):\n",
    "    for j in range(i):\n",
    "        print('*', end = ' ')\n",
    "    print()"
   ]
  },
  {
   "cell_type": "code",
   "execution_count": 31,
   "id": "e8dc82d6-b8a2-453c-8dd3-9daed3d6a71d",
   "metadata": {},
   "outputs": [
    {
     "name": "stdout",
     "output_type": "stream",
     "text": [
      "\n",
      "* \n",
      "* * \n",
      "* * * \n",
      "* * * * \n",
      "* * * * * \n",
      "* * * * * * \n",
      "* * * * * \n",
      "* * * * \n",
      "* * * \n",
      "* * \n",
      "* \n"
     ]
    }
   ],
   "source": [
    "for i in range(7):\n",
    "    for j in range(i):\n",
    "        print('*', end = ' ')\n",
    "    print()\n",
    "for i in range(5,0,-1):\n",
    "    for j in range(i):\n",
    "        print('*', end = ' ')\n",
    "    print()"
   ]
  },
  {
   "cell_type": "code",
   "execution_count": 12,
   "id": "ce65c8ec-5380-49c1-b6ce-2ae7450eb770",
   "metadata": {},
   "outputs": [
    {
     "name": "stdout",
     "output_type": "stream",
     "text": [
      "* * * * * \n",
      "* * * * * \n",
      "* * * * * \n",
      "* * * * * \n",
      "* * * * * \n"
     ]
    }
   ],
   "source": [
    "for i in range(5):\n",
    "    for j in range(5):\n",
    "        print('*', end = ' ')\n",
    "    print()"
   ]
  },
  {
   "cell_type": "code",
   "execution_count": 33,
   "id": "9e98262d-fb3e-46c0-be04-068d8b89ad3b",
   "metadata": {},
   "outputs": [
    {
     "name": "stdout",
     "output_type": "stream",
     "text": [
      "          \n",
      "        * \n",
      "      * * \n",
      "    * * * \n",
      "  * * * * \n"
     ]
    }
   ],
   "source": [
    "for i in range(5):\n",
    "    for j in range(5,0,-1):\n",
    "        if j>i:\n",
    "            print(\" \", end = \" \")\n",
    "        else:\n",
    "            print(\"*\", end = \" \")\n",
    "    print()"
   ]
  },
  {
   "cell_type": "code",
   "execution_count": 34,
   "id": "d7765689-3755-49dd-b2a2-a28fcdbeecf4",
   "metadata": {},
   "outputs": [
    {
     "name": "stdout",
     "output_type": "stream",
     "text": [
      "* * * * * \n",
      "* * * *   \n",
      "* * *     \n",
      "* *       \n",
      "*         \n"
     ]
    }
   ],
   "source": [
    "for i in range(5,0,-1):\n",
    "    for j in range(5):\n",
    "        if j < i:\n",
    "            print(\"*\", end = \" \")\n",
    "        else:\n",
    "            print(\" \", end = \" \")\n",
    "    print()\n",
    "    "
   ]
  },
  {
   "cell_type": "code",
   "execution_count": 35,
   "id": "1ff48fc2-8100-4153-8414-2a0d43ee1069",
   "metadata": {},
   "outputs": [
    {
     "name": "stdout",
     "output_type": "stream",
     "text": [
      "\n",
      "* \n",
      "* * \n",
      "* * * \n",
      "* * * * \n",
      "* * * * * \n"
     ]
    }
   ],
   "source": [
    "for i in range(6):\n",
    "    print(\"* \" * i)"
   ]
  },
  {
   "cell_type": "code",
   "execution_count": 36,
   "id": "a5140b0c-7f26-4640-9a0f-3d827dbb5843",
   "metadata": {},
   "outputs": [
    {
     "name": "stdout",
     "output_type": "stream",
     "text": [
      "* * * * *   \n",
      "* * * *     \n",
      "* * *       \n",
      "* *         \n",
      "*           \n"
     ]
    }
   ],
   "source": [
    "for i in range(1,6):\n",
    "    for j in range(6,0,-1):\n",
    "        if j > i :\n",
    "            print(\"*\", end = \" \")\n",
    "        else:\n",
    "            print(\" \", end = \" \")\n",
    "    print()"
   ]
  },
  {
   "cell_type": "code",
   "execution_count": 37,
   "id": "3bd002e4-cfb1-4b22-8685-4dc6c6cca037",
   "metadata": {},
   "outputs": [
    {
     "name": "stdout",
     "output_type": "stream",
     "text": [
      "            \n",
      "            \n",
      "          * \n",
      "        * * \n",
      "      * * * \n",
      "    * * * * \n"
     ]
    }
   ],
   "source": [
    "for i in range(6,0,-1):\n",
    "    for j in range(6):\n",
    "        if j > i:\n",
    "            print('*', end = ' ')\n",
    "        else: \n",
    "            print(' ', end = ' ')\n",
    "    print()"
   ]
  },
  {
   "cell_type": "code",
   "execution_count": 38,
   "id": "c670da61-81f0-4a5b-9798-5abea8ba1ec4",
   "metadata": {},
   "outputs": [
    {
     "name": "stdout",
     "output_type": "stream",
     "text": [
      "0\n",
      "1\n",
      "2\n",
      "3\n",
      "4\n",
      "5\n"
     ]
    }
   ],
   "source": [
    "for i in range(10):\n",
    "    print(i)\n",
    "    if i == 5:\n",
    "        break"
   ]
  },
  {
   "cell_type": "code",
   "execution_count": 39,
   "id": "b434850b-2775-4589-bc39-5d65fa82f25f",
   "metadata": {},
   "outputs": [
    {
     "name": "stdout",
     "output_type": "stream",
     "text": [
      "0\n",
      "hello\n",
      "1\n",
      "hello\n",
      "2\n",
      "hello\n",
      "3\n",
      "hello\n",
      "4\n",
      "hello\n"
     ]
    }
   ],
   "source": [
    "for i in range(11):\n",
    "    if i == 5:\n",
    "        break\n",
    "    print(i)\n",
    "    print('hello')"
   ]
  },
  {
   "cell_type": "code",
   "execution_count": 40,
   "id": "c490490e-9daf-483a-8e07-3c247a8da2ce",
   "metadata": {},
   "outputs": [
    {
     "data": {
      "text/plain": [
       "4"
      ]
     },
     "execution_count": 40,
     "metadata": {},
     "output_type": "execute_result"
    }
   ],
   "source": [
    "abs(4)"
   ]
  },
  {
   "cell_type": "code",
   "execution_count": 41,
   "id": "77dd7a9f-403d-408e-a38c-879dd4830835",
   "metadata": {},
   "outputs": [
    {
     "data": {
      "text/plain": [
       "4"
      ]
     },
     "execution_count": 41,
     "metadata": {},
     "output_type": "execute_result"
    }
   ],
   "source": [
    "abs(-4)"
   ]
  },
  {
   "cell_type": "code",
   "execution_count": 42,
   "id": "5c447a0a-9966-4070-b37f-dbe1f31184c3",
   "metadata": {},
   "outputs": [
    {
     "data": {
      "text/plain": [
       "2.3"
      ]
     },
     "execution_count": 42,
     "metadata": {},
     "output_type": "execute_result"
    }
   ],
   "source": [
    "abs(2.3)"
   ]
  },
  {
   "cell_type": "code",
   "execution_count": 43,
   "id": "d333951b-3ccd-41e4-a59a-d3181eccb44d",
   "metadata": {},
   "outputs": [
    {
     "data": {
      "text/plain": [
       "8"
      ]
     },
     "execution_count": 43,
     "metadata": {},
     "output_type": "execute_result"
    }
   ],
   "source": [
    "pow(2,3)"
   ]
  },
  {
   "cell_type": "code",
   "execution_count": 44,
   "id": "bf54554e-d2a0-4f2d-bf2f-8c4ee4da6145",
   "metadata": {},
   "outputs": [
    {
     "data": {
      "text/plain": [
       "16"
      ]
     },
     "execution_count": 44,
     "metadata": {},
     "output_type": "execute_result"
    }
   ],
   "source": [
    "pow(4,2)"
   ]
  },
  {
   "cell_type": "code",
   "execution_count": 45,
   "id": "b72e13d0-13db-438f-8b5e-6b9736b4604b",
   "metadata": {},
   "outputs": [
    {
     "name": "stdout",
     "output_type": "stream",
     "text": [
      "3.142857142857143\n"
     ]
    }
   ],
   "source": [
    "c = 22/7\n",
    "print(c)"
   ]
  },
  {
   "cell_type": "code",
   "execution_count": 46,
   "id": "cef763ae-d989-4acf-9e96-cfafc80fb6ca",
   "metadata": {},
   "outputs": [
    {
     "data": {
      "text/plain": [
       "3.14"
      ]
     },
     "execution_count": 46,
     "metadata": {},
     "output_type": "execute_result"
    }
   ],
   "source": [
    "round(c,2)"
   ]
  },
  {
   "cell_type": "code",
   "execution_count": 47,
   "id": "78d3e348-3653-418c-9456-e19d84add894",
   "metadata": {},
   "outputs": [
    {
     "data": {
      "text/plain": [
       "3.143"
      ]
     },
     "execution_count": 47,
     "metadata": {},
     "output_type": "execute_result"
    }
   ],
   "source": [
    "round(c,3)"
   ]
  },
  {
   "cell_type": "code",
   "execution_count": 48,
   "id": "62a8495d-9fd2-4d0d-9977-c0b14632363c",
   "metadata": {},
   "outputs": [
    {
     "data": {
      "text/plain": [
       "140712512643944"
      ]
     },
     "execution_count": 48,
     "metadata": {},
     "output_type": "execute_result"
    }
   ],
   "source": [
    "a = 3\n",
    "id(a)"
   ]
  },
  {
   "cell_type": "code",
   "execution_count": 49,
   "id": "46768410-5b31-41c0-b2ef-c1297ba80cef",
   "metadata": {},
   "outputs": [
    {
     "data": {
      "text/plain": [
       "97"
      ]
     },
     "execution_count": 49,
     "metadata": {},
     "output_type": "execute_result"
    }
   ],
   "source": [
    "ord('a')"
   ]
  },
  {
   "cell_type": "code",
   "execution_count": 50,
   "id": "df61357b-179a-4c40-8b94-988505fc0ff8",
   "metadata": {},
   "outputs": [
    {
     "name": "stdout",
     "output_type": "stream",
     "text": [
      "\n",
      "Please wait a moment while I gather a list of all available modules...\n",
      "\n",
      "test_sqlite3: testing with version '2.6.0', sqlite_version '3.42.0'\n"
     ]
    },
    {
     "name": "stderr",
     "output_type": "stream",
     "text": [
      "C:\\Users\\jalpa\\AppData\\Local\\Programs\\Python\\Python311\\Lib\\pkgutil.py:92: UserWarning: The numpy.array_api submodule is still experimental. See NEP 47.\n",
      "  __import__(info.name)\n",
      "C:\\Users\\jalpa\\AppData\\Local\\Programs\\Python\\Python311\\Lib\\site-packages\\_distutils_hack\\__init__.py:33: UserWarning: Setuptools is replacing distutils.\n",
      "  warnings.warn(\"Setuptools is replacing distutils.\")\n"
     ]
    },
    {
     "name": "stdout",
     "output_type": "stream",
     "text": [
      "IPython             bs4                 marshal             stack_data\n",
      "PIL                 builtins            math                start_pythonwin\n",
      "__future__          bz2                 matplotlib          stat\n",
      "__hello__           cProfile            matplotlib_inline   statistics\n",
      "__phello__          calendar            mimetypes           string\n",
      "_abc                certifi             mistune             stringprep\n",
      "_aix_support        cffi                mmap                struct\n",
      "_argon2_cffi_bindings cgi                 mmapfile            subprocess\n",
      "_ast                cgitb               mmsystem            sunau\n",
      "_asyncio            charset_normalizer  modulefinder        symtable\n",
      "_bisect             chunk               mpl_toolkits        sys\n",
      "_blake2             cmath               msilib              sysconfig\n",
      "_bootsubprocess     cmd                 msvcrt              tabnanny\n",
      "_bz2                code                multiprocessing     tarfile\n",
      "_cffi_backend       codecs              nbclient            telnetlib\n",
      "_codecs             codeop              nbconvert           tempfile\n",
      "_codecs_cn          collections         nbformat            terminado\n",
      "_codecs_hk          colorama            nest_asyncio        test\n",
      "_codecs_iso2022     colorsys            netbios             textwrap\n",
      "_codecs_jp          comm                netrc               this\n",
      "_codecs_kr          commctrl            nntplib             threading\n",
      "_codecs_tw          compileall          notebook            time\n",
      "_collections        concurrent          notebook_shim       timeit\n",
      "_collections_abc    configparser        nt                  timer\n",
      "_compat_pickle      contextlib          ntpath              tinycss2\n",
      "_compression        contextvars         ntsecuritycon       tkinter\n",
      "_contextvars        contourpy           nturl2path          token\n",
      "_csv                copy                numbers             tokenize\n",
      "_ctypes             copyreg             numpy               tomllib\n",
      "_ctypes_test        crypt               odbc                tornado\n",
      "_datetime           csv                 opcode              trace\n",
      "_decimal            ctypes              operator            traceback\n",
      "_distutils_hack     curses              optparse            tracemalloc\n",
      "_elementtree        cv2                 os                  traitlets\n",
      "_functools          cycler              overrides           tty\n",
      "_hashlib            dataclasses         packaging           turtle\n",
      "_heapq              datetime            pandas              turtledemo\n",
      "_imp                dateutil            pandocfilters       types\n",
      "_io                 dbi                 parso               typing\n",
      "_json               dbm                 pathlib             tzdata\n",
      "_locale             dde                 pdb                 unicodedata\n",
      "_lsprof             debugpy             perfmon             unittest\n",
      "_lzma               decimal             pickle              uri_template\n",
      "_markupbase         decorator           pickletools         urllib\n",
      "_md5                defusedxml          pip                 urllib3\n",
      "_msi                difflib             pipes               uu\n",
      "_multibytecodec     dis                 pkg_resources       uuid\n",
      "_multiprocessing    distutils           pkgutil             venv\n",
      "_opcode             doctest             platform            warnings\n",
      "_operator           email               platformdirs        wave\n",
      "_osx_support        encodings           plistlib            wcwidth\n",
      "_overlapped         ensurepip           poplib              weakref\n",
      "_pickle             enum                posixpath           webbrowser\n",
      "_py_abc             errno               pprint              webcolors\n",
      "_pydecimal          executing           profile             webencodings\n",
      "_pyio               fastjsonschema      prometheus_client   websocket\n",
      "_queue              faulthandler        prompt_toolkit      widgetsnbextension\n",
      "_random             filecmp             pstats              win2kras\n",
      "_sha1               fileinput           psutil              win32api\n",
      "_sha256             fnmatch             pty                 win32clipboard\n",
      "_sha3               fontTools           pure_eval           win32com\n",
      "_sha512             fqdn                py_compile          win32con\n",
      "_signal             fractions           pyclbr              win32console\n",
      "_sitebuiltins       ftplib              pycparser           win32cred\n",
      "_socket             functools           pydoc               win32crypt\n",
      "_sqlite3            gc                  pydoc_data          win32cryptcon\n",
      "_sre                genericpath         pyexpat             win32event\n",
      "_ssl                getopt              pygments            win32evtlog\n",
      "_stat               getpass             pylab               win32evtlogutil\n",
      "_statistics         gettext             pyparsing           win32file\n",
      "_string             glob                pythoncom           win32gui\n",
      "_strptime           graphlib            pythonjsonlogger    win32gui_struct\n",
      "_struct             gzip                pytz                win32help\n",
      "_symtable           hashlib             pywin               win32inet\n",
      "_testbuffer         heapq               pywin32_bootstrap   win32inetcon\n",
      "_testcapi           hmac                pywin32_testutil    win32job\n",
      "_testconsole        html                pywintypes          win32lz\n",
      "_testimportmultiple http                qtconsole           win32net\n",
      "_testinternalcapi   idlelib             qtpy                win32netcon\n",
      "_testmultiphase     idna                queue               win32pdh\n",
      "_thread             imaplib             quopri              win32pdhquery\n",
      "_threading_local    imghdr              random              win32pdhutil\n",
      "_tkinter            imp                 rasutil             win32pipe\n",
      "_tokenize           importlib           re                  win32print\n",
      "_tracemalloc        inspect             referencing         win32process\n",
      "_typing             io                  regcheck            win32profile\n",
      "_uuid               ipaddress           regutil             win32ras\n",
      "_warnings           ipykernel           reprlib             win32rcparser\n",
      "_weakref            ipykernel_launcher  requests            win32security\n",
      "_weakrefset         ipywidgets          rfc3339_validator   win32service\n",
      "_win32sysloader     isapi               rfc3986_validator   win32serviceutil\n",
      "_winapi             isoduration         rlcompleter         win32timezone\n",
      "_winxptheme         itertools           rpds                win32trace\n",
      "_xxsubinterpreters  jedi                runpy               win32traceutil\n",
      "_yaml               jinja2              sched               win32transaction\n",
      "_zoneinfo           json                seaborn             win32ts\n",
      "abc                 json5               secrets             win32ui\n",
      "adodbapi            jsonpointer         select              win32uiole\n",
      "afxres              jsonschema          selectors           win32verstamp\n",
      "aifc                jsonschema_specifications send2trash          win32wnet\n",
      "antigravity         jupyter             servicemanager      winerror\n",
      "anyio               jupyter_client      setuptools          winioctlcon\n",
      "argon2              jupyter_console     shelve              winnt\n",
      "argparse            jupyter_core        shlex               winperf\n",
      "array               jupyter_events      shutil              winpty\n",
      "arrow               jupyter_lsp         signal              winreg\n",
      "ast                 jupyter_server      site                winsound\n",
      "asttokens           jupyter_server_terminals six                 winxpgui\n",
      "async_lru           jupyterlab          smtpd               winxptheme\n",
      "asynchat            jupyterlab_pygments smtplib             wsgiref\n",
      "asyncio             jupyterlab_server   sndhdr              xdrlib\n",
      "asyncore            jupyterlab_widgets  sniffio             xml\n",
      "atexit              keyword             socket              xmlrpc\n",
      "attr                kiwisolver          socketserver        xxsubtype\n",
      "attrs               lib2to3             soupsieve           yaml\n",
      "audioop             linecache           sqlite3             zipapp\n",
      "babel               locale              sre_compile         zipfile\n",
      "base64              logging             sre_constants       zipimport\n",
      "bdb                 lzma                sre_parse           zlib\n",
      "binascii            mailbox             ssl                 zmq\n",
      "bisect              mailcap             sspi                zoneinfo\n",
      "bleach              markupsafe          sspicon             \n",
      "\n",
      "Enter any module name to get more help.  Or, type \"modules spam\" to search\n",
      "for modules whose name or summary contain the string \"spam\".\n",
      "\n"
     ]
    }
   ],
   "source": [
    "help('modules')"
   ]
  },
  {
   "cell_type": "code",
   "execution_count": 51,
   "id": "15ce1c7b-1b42-4a2a-98aa-1fecdd1f9a0e",
   "metadata": {},
   "outputs": [],
   "source": [
    "import math as m\n",
    "import random\n",
    "import os\n",
    "import time"
   ]
  },
  {
   "cell_type": "code",
   "execution_count": 52,
   "id": "363157f2-fac4-4e6c-83a9-1e0b6a751752",
   "metadata": {},
   "outputs": [
    {
     "data": {
      "text/plain": [
       "3.141592653589793"
      ]
     },
     "execution_count": 52,
     "metadata": {},
     "output_type": "execute_result"
    }
   ],
   "source": [
    "m.pi"
   ]
  },
  {
   "cell_type": "code",
   "execution_count": 53,
   "id": "8910e8ac-f1ca-4fb5-89c5-466ed9f6fa0a",
   "metadata": {},
   "outputs": [
    {
     "data": {
      "text/plain": [
       "2.718281828459045"
      ]
     },
     "execution_count": 53,
     "metadata": {},
     "output_type": "execute_result"
    }
   ],
   "source": [
    "m.e"
   ]
  },
  {
   "cell_type": "code",
   "execution_count": 54,
   "id": "30999dae-dcc2-4336-a22b-fdf94f4aae54",
   "metadata": {},
   "outputs": [
    {
     "data": {
      "text/plain": [
       "120"
      ]
     },
     "execution_count": 54,
     "metadata": {},
     "output_type": "execute_result"
    }
   ],
   "source": [
    "m.factorial(5)"
   ]
  },
  {
   "cell_type": "code",
   "execution_count": 55,
   "id": "41ae154d-45f1-4f9e-8977-e5cb84bddc24",
   "metadata": {},
   "outputs": [
    {
     "data": {
      "text/plain": [
       "7"
      ]
     },
     "execution_count": 55,
     "metadata": {},
     "output_type": "execute_result"
    }
   ],
   "source": [
    "m.ceil(6.3)"
   ]
  },
  {
   "cell_type": "code",
   "execution_count": 56,
   "id": "79d476df-6686-4ecf-871b-cd49fe188e4e",
   "metadata": {},
   "outputs": [
    {
     "data": {
      "text/plain": [
       "6"
      ]
     },
     "execution_count": 56,
     "metadata": {},
     "output_type": "execute_result"
    }
   ],
   "source": [
    "m.floor(6.3)"
   ]
  },
  {
   "cell_type": "code",
   "execution_count": 57,
   "id": "96da9bf4-332a-45f3-bb08-351b08b82ee1",
   "metadata": {},
   "outputs": [
    {
     "data": {
      "text/plain": [
       "1.0"
      ]
     },
     "execution_count": 57,
     "metadata": {},
     "output_type": "execute_result"
    }
   ],
   "source": [
    "m.log10(10)"
   ]
  },
  {
   "cell_type": "code",
   "execution_count": 58,
   "id": "c2829c02-7bd5-4922-94ac-1448722640d2",
   "metadata": {},
   "outputs": [
    {
     "data": {
      "text/plain": [
       "90"
      ]
     },
     "execution_count": 58,
     "metadata": {},
     "output_type": "execute_result"
    }
   ],
   "source": [
    "random.randint(1,100)"
   ]
  },
  {
   "cell_type": "code",
   "execution_count": 59,
   "id": "21f45ba3-c392-449a-98a3-1f7c6717a43c",
   "metadata": {},
   "outputs": [
    {
     "data": {
      "text/plain": [
       "[5, 2, 3, 1, 4]"
      ]
     },
     "execution_count": 59,
     "metadata": {},
     "output_type": "execute_result"
    }
   ],
   "source": [
    "a = [1,2,3,4,5]\n",
    "random.shuffle(a)\n",
    "a"
   ]
  },
  {
   "cell_type": "code",
   "execution_count": 60,
   "id": "b72ebd8e-08fd-4eae-b2ac-f400b4dc48e4",
   "metadata": {},
   "outputs": [
    {
     "data": {
      "text/plain": [
       "1706193252.8763611"
      ]
     },
     "execution_count": 60,
     "metadata": {},
     "output_type": "execute_result"
    }
   ],
   "source": [
    "time.time()"
   ]
  },
  {
   "cell_type": "code",
   "execution_count": 61,
   "id": "01711675-48a6-4a41-b7ee-aac03c81d7a4",
   "metadata": {},
   "outputs": [
    {
     "data": {
      "text/plain": [
       "'Thu Jan 25 20:04:13 2024'"
      ]
     },
     "execution_count": 61,
     "metadata": {},
     "output_type": "execute_result"
    }
   ],
   "source": [
    "time.ctime()"
   ]
  },
  {
   "cell_type": "code",
   "execution_count": 62,
   "id": "71298d3f-edb1-40f0-a196-66faa60bd92c",
   "metadata": {},
   "outputs": [
    {
     "name": "stdout",
     "output_type": "stream",
     "text": [
      "hello\n",
      "world\n"
     ]
    }
   ],
   "source": [
    "print('hello')\n",
    "time.sleep(2)\n",
    "print('world')"
   ]
  },
  {
   "cell_type": "code",
   "execution_count": 63,
   "id": "6f47f938-866c-4222-a30a-e193972154bf",
   "metadata": {},
   "outputs": [
    {
     "data": {
      "text/plain": [
       "'C:\\\\Users\\\\jalpa\\\\OneDrive\\\\Desktop\\\\Python'"
      ]
     },
     "execution_count": 63,
     "metadata": {},
     "output_type": "execute_result"
    }
   ],
   "source": [
    "os.getcwd()"
   ]
  },
  {
   "cell_type": "code",
   "execution_count": 64,
   "id": "b2d3bebb-7118-4e56-a411-f1af5591458c",
   "metadata": {},
   "outputs": [
    {
     "data": {
      "text/plain": [
       "['.ipynb_checkpoints',\n",
       " 'Basic Python programming.ipynb',\n",
       " 'Computer Vision 25-01.ipynb',\n",
       " 'computer vision class.ipynb',\n",
       " 'Computer vision practise.ipynb',\n",
       " 'Data analysis 24-01.ipynb',\n",
       " 'Data Analysis for python 10-01-2024.ipynb',\n",
       " 'Data Analysis lab 17-01.ipynb',\n",
       " 'Data analysis using python.ipynb',\n",
       " 'EDA 24-01.ipynb',\n",
       " 'EDA.ipynb',\n",
       " 'Learning from certificate.ipynb',\n",
       " 'Machine Learning 16-01-2024.ipynb',\n",
       " 'Machine Learning lab 09-01-24.ipynb',\n",
       " 'Machine Learning.ipynb',\n",
       " 'MATPLOTLIB NOTES.ipynb',\n",
       " 'NUMPY NOTES.ipynb',\n",
       " 'PANDAS NOTES.ipynb',\n",
       " 'Python practise.ipynb']"
      ]
     },
     "execution_count": 64,
     "metadata": {},
     "output_type": "execute_result"
    }
   ],
   "source": [
    "os.listdir()"
   ]
  },
  {
   "cell_type": "code",
   "execution_count": 65,
   "id": "483cde89-90bd-4976-838c-0d46dfa1d213",
   "metadata": {},
   "outputs": [],
   "source": [
    "#creating string\n",
    "c = 'Hello World'"
   ]
  },
  {
   "cell_type": "code",
   "execution_count": 66,
   "id": "18658b93-8e3a-4f0b-ad18-78877fc0661d",
   "metadata": {},
   "outputs": [
    {
     "name": "stdout",
     "output_type": "stream",
     "text": [
      "H\n",
      "He\n",
      "ello World\n",
      "el ol\n",
      "dlroW olleH\n"
     ]
    }
   ],
   "source": [
    "print(c[0])\n",
    "print(c[:2])\n",
    "print(c[1:])\n",
    "print(c[1::2])\n",
    "print(c[::-1])"
   ]
  },
  {
   "cell_type": "code",
   "execution_count": 67,
   "id": "1d0f8e6d-a77f-4ef1-8675-71d6f6243808",
   "metadata": {},
   "outputs": [],
   "source": [
    "#editing"
   ]
  },
  {
   "cell_type": "code",
   "execution_count": 68,
   "id": "337703bd-5dfc-4b6c-94a4-d7d8ae8a5094",
   "metadata": {},
   "outputs": [],
   "source": [
    "c = 'world'"
   ]
  },
  {
   "cell_type": "code",
   "execution_count": 69,
   "id": "c514aa9d-d5af-4624-8d8f-8e1c6e41f49a",
   "metadata": {},
   "outputs": [],
   "source": [
    "del c"
   ]
  },
  {
   "cell_type": "code",
   "execution_count": 70,
   "id": "6d4a91fb-3fe9-421c-9330-cc0a92b503a8",
   "metadata": {},
   "outputs": [
    {
     "ename": "NameError",
     "evalue": "name 'c' is not defined",
     "output_type": "error",
     "traceback": [
      "\u001b[1;31m---------------------------------------------------------------------------\u001b[0m",
      "\u001b[1;31mNameError\u001b[0m                                 Traceback (most recent call last)",
      "Cell \u001b[1;32mIn[70], line 1\u001b[0m\n\u001b[1;32m----> 1\u001b[0m \u001b[38;5;28mprint\u001b[39m(\u001b[43mc\u001b[49m)\n",
      "\u001b[1;31mNameError\u001b[0m: name 'c' is not defined"
     ]
    }
   ],
   "source": [
    "print(c)"
   ]
  },
  {
   "cell_type": "code",
   "execution_count": null,
   "id": "3859521b-a075-4772-a4ff-691d9ed9e7ee",
   "metadata": {},
   "outputs": [],
   "source": [
    "#operations on strings  \n",
    "#arithmatic operator  \n",
    "#logical operators  \n",
    "#membership operators  "
   ]
  },
  {
   "cell_type": "code",
   "execution_count": 71,
   "id": "c9f72220-ff8d-48e9-af00-69a5d032591b",
   "metadata": {},
   "outputs": [
    {
     "name": "stdout",
     "output_type": "stream",
     "text": [
      "Hello World\n"
     ]
    }
   ],
   "source": [
    "print('Hello' + ' ' + 'World')"
   ]
  },
  {
   "cell_type": "code",
   "execution_count": 72,
   "id": "3ec5ec7f-a24a-41c3-a763-dde1a4e57e38",
   "metadata": {},
   "outputs": [
    {
     "name": "stdout",
     "output_type": "stream",
     "text": [
      "**************************************************\n"
     ]
    }
   ],
   "source": [
    "print('*' * 50)"
   ]
  },
  {
   "cell_type": "code",
   "execution_count": 73,
   "id": "ba1c3a52-1cc3-4573-aa60-23148a2af3f2",
   "metadata": {},
   "outputs": [
    {
     "data": {
      "text/plain": [
       "True"
      ]
     },
     "execution_count": 73,
     "metadata": {},
     "output_type": "execute_result"
    }
   ],
   "source": [
    "'Pune' > 'Mumbai'"
   ]
  },
  {
   "cell_type": "code",
   "execution_count": 74,
   "id": "1e419b0f-8d27-4312-be7e-b1fd2cd2fdc6",
   "metadata": {},
   "outputs": [
    {
     "data": {
      "text/plain": [
       "2329308760496"
      ]
     },
     "execution_count": 74,
     "metadata": {},
     "output_type": "execute_result"
    }
   ],
   "source": [
    "id('Pune')"
   ]
  },
  {
   "cell_type": "code",
   "execution_count": 75,
   "id": "9b634d7c-109c-4f22-b9ec-2c1787323896",
   "metadata": {},
   "outputs": [
    {
     "data": {
      "text/plain": [
       "2329308771312"
      ]
     },
     "execution_count": 75,
     "metadata": {},
     "output_type": "execute_result"
    }
   ],
   "source": [
    "id('Mumbai')"
   ]
  },
  {
   "cell_type": "code",
   "execution_count": 76,
   "id": "6be2c88f-009f-4229-ae79-352805a964b3",
   "metadata": {},
   "outputs": [
    {
     "data": {
      "text/plain": [
       "26304"
      ]
     },
     "execution_count": 76,
     "metadata": {},
     "output_type": "execute_result"
    }
   ],
   "source": [
    "id('Pune') - id('Mumbai')"
   ]
  },
  {
   "cell_type": "code",
   "execution_count": 77,
   "id": "0bdb180b-69d2-492a-91b6-6806dcf9e16b",
   "metadata": {},
   "outputs": [],
   "source": [
    "c = 'Kolkota'"
   ]
  },
  {
   "cell_type": "code",
   "execution_count": 78,
   "id": "a4a71347-9b95-4974-878b-b62cc972e62f",
   "metadata": {},
   "outputs": [
    {
     "data": {
      "text/plain": [
       "'Kolkota'"
      ]
     },
     "execution_count": 78,
     "metadata": {},
     "output_type": "execute_result"
    }
   ],
   "source": [
    "c.capitalize()"
   ]
  },
  {
   "cell_type": "code",
   "execution_count": 79,
   "id": "6184e11b-52fe-4745-8454-7acfd6236be1",
   "metadata": {},
   "outputs": [
    {
     "data": {
      "text/plain": [
       "'Kolkota'"
      ]
     },
     "execution_count": 79,
     "metadata": {},
     "output_type": "execute_result"
    }
   ],
   "source": [
    "c.title()"
   ]
  },
  {
   "cell_type": "code",
   "execution_count": 80,
   "id": "f8b06781-a906-4770-bda8-c0d195aa4869",
   "metadata": {},
   "outputs": [
    {
     "data": {
      "text/plain": [
       "'kOLKOTA'"
      ]
     },
     "execution_count": 80,
     "metadata": {},
     "output_type": "execute_result"
    }
   ],
   "source": [
    "c.swapcase()"
   ]
  },
  {
   "cell_type": "code",
   "execution_count": 81,
   "id": "abfb0a9e-9263-4107-a40f-5e1d0da8d656",
   "metadata": {},
   "outputs": [
    {
     "data": {
      "text/plain": [
       "1"
      ]
     },
     "execution_count": 81,
     "metadata": {},
     "output_type": "execute_result"
    }
   ],
   "source": [
    "c.count('a')"
   ]
  },
  {
   "cell_type": "code",
   "execution_count": 82,
   "id": "b6b9a9ae-131e-4cb6-9fe7-9c71a25be66a",
   "metadata": {},
   "outputs": [
    {
     "data": {
      "text/plain": [
       "6"
      ]
     },
     "execution_count": 82,
     "metadata": {},
     "output_type": "execute_result"
    }
   ],
   "source": [
    "c.find('a')"
   ]
  },
  {
   "cell_type": "code",
   "execution_count": 83,
   "id": "53d023d2-2312-4e45-aca0-e282a3039a9d",
   "metadata": {},
   "outputs": [
    {
     "data": {
      "text/plain": [
       "False"
      ]
     },
     "execution_count": 83,
     "metadata": {},
     "output_type": "execute_result"
    }
   ],
   "source": [
    "c.startswith('a')"
   ]
  },
  {
   "cell_type": "code",
   "execution_count": 84,
   "id": "452de8b2-171f-4326-85b0-9168d4e00fd2",
   "metadata": {},
   "outputs": [
    {
     "data": {
      "text/plain": [
       "'Hello my name is Krunal, and My age is 24'"
      ]
     },
     "execution_count": 84,
     "metadata": {},
     "output_type": "execute_result"
    }
   ],
   "source": [
    "'Hello my name is {}, and My age is {}'.format('Krunal', 24)"
   ]
  },
  {
   "cell_type": "code",
   "execution_count": 85,
   "id": "68ad506d-5f41-4797-a1eb-043664c67d2a",
   "metadata": {},
   "outputs": [
    {
     "data": {
      "text/plain": [
       "'Hello my name is Krunal, and My age is 24'"
      ]
     },
     "execution_count": 85,
     "metadata": {},
     "output_type": "execute_result"
    }
   ],
   "source": [
    "'Hello my name is {0}, and My age is {1}'.format('Krunal', 24)"
   ]
  },
  {
   "cell_type": "code",
   "execution_count": 86,
   "id": "a55dcd34-4982-4a25-ba2c-d0731aa36d84",
   "metadata": {},
   "outputs": [
    {
     "data": {
      "text/plain": [
       "'Hello my name is Krunal, and My age is 24'"
      ]
     },
     "execution_count": 86,
     "metadata": {},
     "output_type": "execute_result"
    }
   ],
   "source": [
    "'Hello my name is {name}, and My age is {age}'.format(name= 'Krunal', age = 24)"
   ]
  },
  {
   "cell_type": "code",
   "execution_count": 87,
   "id": "bde5413b-381f-4298-801e-d8793140f2f3",
   "metadata": {},
   "outputs": [
    {
     "data": {
      "text/plain": [
       "True"
      ]
     },
     "execution_count": 87,
     "metadata": {},
     "output_type": "execute_result"
    }
   ],
   "source": [
    "c.isalnum()"
   ]
  },
  {
   "cell_type": "code",
   "execution_count": 88,
   "id": "db405e2d-fad1-48de-ad32-2aee017b6571",
   "metadata": {},
   "outputs": [
    {
     "data": {
      "text/plain": [
       "False"
      ]
     },
     "execution_count": 88,
     "metadata": {},
     "output_type": "execute_result"
    }
   ],
   "source": [
    "c.isdecimal()"
   ]
  },
  {
   "cell_type": "code",
   "execution_count": 89,
   "id": "6a85e33b-8682-48fd-b121-692f1247a6dc",
   "metadata": {},
   "outputs": [
    {
     "data": {
      "text/plain": [
       "False"
      ]
     },
     "execution_count": 89,
     "metadata": {},
     "output_type": "execute_result"
    }
   ],
   "source": [
    "a = 'Hello1'\n",
    "a.isdecimal()"
   ]
  },
  {
   "cell_type": "code",
   "execution_count": 90,
   "id": "0c5fef29-f9cb-4c36-9ad8-6b2d439bda8a",
   "metadata": {},
   "outputs": [
    {
     "data": {
      "text/plain": [
       "False"
      ]
     },
     "execution_count": 90,
     "metadata": {},
     "output_type": "execute_result"
    }
   ],
   "source": [
    "'2a'.isdigit()"
   ]
  },
  {
   "cell_type": "code",
   "execution_count": 91,
   "id": "51eebc90-e836-4bea-a54e-9e27a2517725",
   "metadata": {},
   "outputs": [
    {
     "data": {
      "text/plain": [
       "['Hello', 'World']"
      ]
     },
     "execution_count": 91,
     "metadata": {},
     "output_type": "execute_result"
    }
   ],
   "source": [
    "'Hello World'.split()"
   ]
  },
  {
   "cell_type": "code",
   "execution_count": 92,
   "id": "0000a5cc-ddd7-4ec9-8e25-80a9be1cb294",
   "metadata": {},
   "outputs": [
    {
     "data": {
      "text/plain": [
       "'Hello World'"
      ]
     },
     "execution_count": 92,
     "metadata": {},
     "output_type": "execute_result"
    }
   ],
   "source": [
    "\" \".join(['Hello', 'World'])"
   ]
  },
  {
   "cell_type": "code",
   "execution_count": 93,
   "id": "2f07d00f-a8ed-499e-8ead-c54eb360f922",
   "metadata": {},
   "outputs": [
    {
     "data": {
      "text/plain": [
       "'Hello Guys'"
      ]
     },
     "execution_count": 93,
     "metadata": {},
     "output_type": "execute_result"
    }
   ],
   "source": [
    "'Hello World'.replace('World', 'Guys')"
   ]
  },
  {
   "cell_type": "code",
   "execution_count": 31,
   "id": "1b10eef8-5bc5-4799-8cff-124178363948",
   "metadata": {},
   "outputs": [],
   "source": [
    "my_list = [[1,2],[3,7],[4,5]]"
   ]
  },
  {
   "cell_type": "code",
   "execution_count": 20,
   "id": "5bd96c17-f83c-4977-baef-004d113def61",
   "metadata": {},
   "outputs": [
    {
     "data": {
      "text/plain": [
       "4"
      ]
     },
     "execution_count": 20,
     "metadata": {},
     "output_type": "execute_result"
    }
   ],
   "source": [
    "my_list[2][0]"
   ]
  },
  {
   "cell_type": "code",
   "execution_count": 21,
   "id": "d4e9b14e-f35f-4fd1-8641-960a4c09b540",
   "metadata": {},
   "outputs": [
    {
     "data": {
      "text/plain": [
       "7"
      ]
     },
     "execution_count": 21,
     "metadata": {},
     "output_type": "execute_result"
    }
   ],
   "source": [
    "my_list [1][1]"
   ]
  },
  {
   "cell_type": "code",
   "execution_count": 22,
   "id": "6ccfa37c-2969-41b7-af00-6c8b383b2c3f",
   "metadata": {},
   "outputs": [
    {
     "data": {
      "text/plain": [
       "[[1, 100], [3, 7], [4, 5]]"
      ]
     },
     "execution_count": 22,
     "metadata": {},
     "output_type": "execute_result"
    }
   ],
   "source": [
    "#list are mutable\n",
    "my_list[0][1] = 100\n",
    "my_list"
   ]
  },
  {
   "cell_type": "code",
   "execution_count": 32,
   "id": "5cffdc0a-6563-4ed3-ae2f-c5ec83f14251",
   "metadata": {},
   "outputs": [
    {
     "data": {
      "text/plain": [
       "[[100, 100], [3, 7], [4, 5]]"
      ]
     },
     "execution_count": 32,
     "metadata": {},
     "output_type": "execute_result"
    }
   ],
   "source": [
    "my_list[0][0:2] = [100,100]\n",
    "my_list"
   ]
  },
  {
   "cell_type": "code",
   "execution_count": 33,
   "id": "b02d0ba7-5693-4b82-aa3b-295ed9ff1484",
   "metadata": {},
   "outputs": [],
   "source": [
    "my_list.insert(1,'world')"
   ]
  },
  {
   "cell_type": "code",
   "execution_count": 34,
   "id": "18a0bd9a-f3e6-44cd-9911-fa7907a1ce73",
   "metadata": {},
   "outputs": [
    {
     "data": {
      "text/plain": [
       "[[100, 100], 'world', [3, 7], [4, 5]]"
      ]
     },
     "execution_count": 34,
     "metadata": {},
     "output_type": "execute_result"
    }
   ],
   "source": [
    "my_list"
   ]
  },
  {
   "cell_type": "code",
   "execution_count": 35,
   "id": "62cf6fe0-a578-42be-9bfe-c19ab2e5e4f9",
   "metadata": {},
   "outputs": [],
   "source": [
    "my_list_2 = [7,8,9]"
   ]
  },
  {
   "cell_type": "code",
   "execution_count": 36,
   "id": "6d181870-0e8e-4f73-b4eb-3d888397b2a5",
   "metadata": {},
   "outputs": [],
   "source": [
    "list = my_list + my_list_2"
   ]
  },
  {
   "cell_type": "code",
   "execution_count": 37,
   "id": "b43a00b0-9a66-4ade-8023-04f8da5a9cb5",
   "metadata": {},
   "outputs": [
    {
     "data": {
      "text/plain": [
       "[[100, 100], 'world', [3, 7], [4, 5], 7, 8, 9]"
      ]
     },
     "execution_count": 37,
     "metadata": {},
     "output_type": "execute_result"
    }
   ],
   "source": [
    "list"
   ]
  },
  {
   "cell_type": "code",
   "execution_count": 38,
   "id": "31efad77-cccf-4d48-b290-2ac356718eb0",
   "metadata": {},
   "outputs": [
    {
     "data": {
      "text/plain": [
       "[[100, 100],\n",
       " 'world',\n",
       " [3, 7],\n",
       " [4, 5],\n",
       " [100, 100],\n",
       " 'world',\n",
       " [3, 7],\n",
       " [4, 5],\n",
       " [100, 100],\n",
       " 'world',\n",
       " [3, 7],\n",
       " [4, 5]]"
      ]
     },
     "execution_count": 38,
     "metadata": {},
     "output_type": "execute_result"
    }
   ],
   "source": [
    "my_list * 3"
   ]
  },
  {
   "cell_type": "code",
   "execution_count": 39,
   "id": "fdb92f55-ad9e-471a-9dbc-eb748571b626",
   "metadata": {},
   "outputs": [
    {
     "data": {
      "text/plain": [
       "4"
      ]
     },
     "execution_count": 39,
     "metadata": {},
     "output_type": "execute_result"
    }
   ],
   "source": [
    "len(my_list)"
   ]
  },
  {
   "cell_type": "code",
   "execution_count": 40,
   "id": "c993ff1e-897f-46e2-bba0-a4444db068e8",
   "metadata": {},
   "outputs": [
    {
     "ename": "TypeError",
     "evalue": "'>' not supported between instances of 'str' and 'list'",
     "output_type": "error",
     "traceback": [
      "\u001b[1;31m---------------------------------------------------------------------------\u001b[0m",
      "\u001b[1;31mTypeError\u001b[0m                                 Traceback (most recent call last)",
      "Cell \u001b[1;32mIn[40], line 1\u001b[0m\n\u001b[1;32m----> 1\u001b[0m \u001b[38;5;28;43mmax\u001b[39;49m\u001b[43m(\u001b[49m\u001b[43mmy_list\u001b[49m\u001b[43m)\u001b[49m\n",
      "\u001b[1;31mTypeError\u001b[0m: '>' not supported between instances of 'str' and 'list'"
     ]
    }
   ],
   "source": [
    "max(my_list)"
   ]
  },
  {
   "cell_type": "code",
   "execution_count": 41,
   "id": "a8d9eddf-a6b9-4963-9483-d5b6851da7cd",
   "metadata": {},
   "outputs": [],
   "source": [
    "my_list.remove('world')"
   ]
  },
  {
   "cell_type": "code",
   "execution_count": 42,
   "id": "6c04d9e2-dd00-476f-81dc-fb17882c6818",
   "metadata": {},
   "outputs": [
    {
     "data": {
      "text/plain": [
       "[[100, 100], [3, 7], [4, 5]]"
      ]
     },
     "execution_count": 42,
     "metadata": {},
     "output_type": "execute_result"
    }
   ],
   "source": [
    "my_list"
   ]
  },
  {
   "cell_type": "code",
   "execution_count": 43,
   "id": "4363ec9c-ca0e-4860-97ec-fe81320cf92d",
   "metadata": {},
   "outputs": [],
   "source": [
    "my_list.sort()"
   ]
  },
  {
   "cell_type": "code",
   "execution_count": 44,
   "id": "86313495-c7ea-4a08-be8e-b1ee14542e01",
   "metadata": {},
   "outputs": [
    {
     "data": {
      "text/plain": [
       "[[3, 7], [4, 5], [100, 100]]"
      ]
     },
     "execution_count": 44,
     "metadata": {},
     "output_type": "execute_result"
    }
   ],
   "source": [
    "my_list"
   ]
  },
  {
   "cell_type": "code",
   "execution_count": 46,
   "id": "c046e5ad-95a2-4d8f-ae09-806abe5ddf04",
   "metadata": {},
   "outputs": [
    {
     "data": {
      "text/plain": [
       "[100, 100]"
      ]
     },
     "execution_count": 46,
     "metadata": {},
     "output_type": "execute_result"
    }
   ],
   "source": [
    "max(my_list)"
   ]
  },
  {
   "cell_type": "code",
   "execution_count": 47,
   "id": "2c675557-bde3-43d9-9381-21e6f281c585",
   "metadata": {},
   "outputs": [
    {
     "data": {
      "text/plain": [
       "[3, 7]"
      ]
     },
     "execution_count": 47,
     "metadata": {},
     "output_type": "execute_result"
    }
   ],
   "source": [
    "min(my_list)"
   ]
  },
  {
   "cell_type": "code",
   "execution_count": 49,
   "id": "74e7d7ba-1434-4ed2-92b1-a5ce599d47fe",
   "metadata": {},
   "outputs": [
    {
     "data": {
      "text/plain": [
       "2"
      ]
     },
     "execution_count": 49,
     "metadata": {},
     "output_type": "execute_result"
    }
   ],
   "source": [
    "my_list.index([100,100])"
   ]
  },
  {
   "cell_type": "code",
   "execution_count": 50,
   "id": "51ae02bd-86a4-4ab0-bb6e-229ce5371de3",
   "metadata": {},
   "outputs": [
    {
     "data": {
      "text/plain": [
       "'Hello How Are You I Am Fine'"
      ]
     },
     "execution_count": 50,
     "metadata": {},
     "output_type": "execute_result"
    }
   ],
   "source": [
    "\"hello how are you i am fine\".title()"
   ]
  },
  {
   "cell_type": "code",
   "execution_count": 9,
   "id": "a75eaf49-d353-48d9-b60c-5da3da6fd4bf",
   "metadata": {},
   "outputs": [
    {
     "name": "stdout",
     "output_type": "stream",
     "text": [
      "Hello How Are You I Am Fine\n"
     ]
    }
   ],
   "source": [
    "list1 = \"hello how are you i am fine\"\n",
    "list2 = []\n",
    "\n",
    "for i in list1.split():\n",
    "    list2.append(i.capitalize())\n",
    "print(\" \".join(list2) )"
   ]
  },
  {
   "cell_type": "code",
   "execution_count": 16,
   "id": "341c4a03-8cdb-4381-a265-8ebeb9e74a00",
   "metadata": {},
   "outputs": [
    {
     "name": "stdout",
     "output_type": "stream",
     "text": [
      "abc\n"
     ]
    }
   ],
   "source": [
    "sample = 'abc@gmail.com'\n",
    "print(sample[:sample.find('@')])"
   ]
  },
  {
   "cell_type": "code",
   "execution_count": 36,
   "id": "fcc91f30-e570-440d-ba66-e644712d8c43",
   "metadata": {},
   "outputs": [],
   "source": [
    "s1 = {1,2,3,4,5}"
   ]
  },
  {
   "cell_type": "code",
   "execution_count": 37,
   "id": "9ec8200e-c132-47f7-bac2-89cfc710734b",
   "metadata": {},
   "outputs": [
    {
     "data": {
      "text/plain": [
       "2171647545344"
      ]
     },
     "execution_count": 37,
     "metadata": {},
     "output_type": "execute_result"
    }
   ],
   "source": [
    "id(s1)"
   ]
  },
  {
   "cell_type": "code",
   "execution_count": 38,
   "id": "16cab347-b5ea-4b7f-b631-48739792577a",
   "metadata": {},
   "outputs": [],
   "source": [
    "s1.remove(3)"
   ]
  },
  {
   "cell_type": "code",
   "execution_count": 39,
   "id": "59ee3d86-c1a4-4bb0-8296-10a54661fa62",
   "metadata": {},
   "outputs": [
    {
     "data": {
      "text/plain": [
       "1"
      ]
     },
     "execution_count": 39,
     "metadata": {},
     "output_type": "execute_result"
    }
   ],
   "source": [
    "s1.pop()"
   ]
  },
  {
   "cell_type": "code",
   "execution_count": 40,
   "id": "2c76bf89-bf0f-47f7-a54f-fc9deb7950ff",
   "metadata": {},
   "outputs": [
    {
     "data": {
      "text/plain": [
       "{2, 4, 5}"
      ]
     },
     "execution_count": 40,
     "metadata": {},
     "output_type": "execute_result"
    }
   ],
   "source": [
    "s1"
   ]
  },
  {
   "cell_type": "code",
   "execution_count": 45,
   "id": "833f37ef-2bb9-4faf-ab5d-1ff6dc7c9031",
   "metadata": {},
   "outputs": [
    {
     "data": {
      "text/plain": [
       "3"
      ]
     },
     "execution_count": 45,
     "metadata": {},
     "output_type": "execute_result"
    }
   ],
   "source": [
    "len(s1)"
   ]
  },
  {
   "cell_type": "code",
   "execution_count": 46,
   "id": "a9f33b9f-1e5d-48c7-8522-e4bb371860fe",
   "metadata": {},
   "outputs": [
    {
     "data": {
      "text/plain": [
       "2"
      ]
     },
     "execution_count": 46,
     "metadata": {},
     "output_type": "execute_result"
    }
   ],
   "source": [
    "min(s1)"
   ]
  },
  {
   "cell_type": "code",
   "execution_count": 47,
   "id": "e9a36a0e-009a-4527-bd5c-9ff0b5311fdd",
   "metadata": {},
   "outputs": [
    {
     "data": {
      "text/plain": [
       "5"
      ]
     },
     "execution_count": 47,
     "metadata": {},
     "output_type": "execute_result"
    }
   ],
   "source": [
    "max(s1)"
   ]
  },
  {
   "cell_type": "code",
   "execution_count": 48,
   "id": "607402ae-bf4f-48f1-b78e-677fc947ae12",
   "metadata": {},
   "outputs": [
    {
     "data": {
      "text/plain": [
       "11"
      ]
     },
     "execution_count": 48,
     "metadata": {},
     "output_type": "execute_result"
    }
   ],
   "source": [
    "sum(s1)"
   ]
  },
  {
   "cell_type": "code",
   "execution_count": 50,
   "id": "ad5be38d-ee90-4302-97c5-4ba25f0182c7",
   "metadata": {},
   "outputs": [],
   "source": [
    "s2 = {4,5,6}"
   ]
  },
  {
   "cell_type": "code",
   "execution_count": 51,
   "id": "809aac49-f09d-4bb7-8ffb-345a51fe4d48",
   "metadata": {},
   "outputs": [
    {
     "data": {
      "text/plain": [
       "{2, 4, 5, 6}"
      ]
     },
     "execution_count": 51,
     "metadata": {},
     "output_type": "execute_result"
    }
   ],
   "source": [
    "s1.union(s2)"
   ]
  },
  {
   "cell_type": "code",
   "execution_count": 52,
   "id": "c3ae2773-73f2-4111-b528-16539b9cbe0d",
   "metadata": {},
   "outputs": [
    {
     "data": {
      "text/plain": [
       "{4, 5}"
      ]
     },
     "execution_count": 52,
     "metadata": {},
     "output_type": "execute_result"
    }
   ],
   "source": [
    "s1.intersection(s2)"
   ]
  },
  {
   "cell_type": "code",
   "execution_count": 53,
   "id": "72acad26-1196-4953-bc1a-1dd47e504c2c",
   "metadata": {},
   "outputs": [
    {
     "data": {
      "text/plain": [
       "{2}"
      ]
     },
     "execution_count": 53,
     "metadata": {},
     "output_type": "execute_result"
    }
   ],
   "source": [
    "s1.difference(s2)"
   ]
  },
  {
   "cell_type": "code",
   "execution_count": 54,
   "id": "b375832d-c444-45a3-a801-d33f40594063",
   "metadata": {},
   "outputs": [
    {
     "data": {
      "text/plain": [
       "{6}"
      ]
     },
     "execution_count": 54,
     "metadata": {},
     "output_type": "execute_result"
    }
   ],
   "source": [
    "s2.difference(s1)"
   ]
  },
  {
   "cell_type": "code",
   "execution_count": 55,
   "id": "73d7b331-3110-4b3a-b393-b3215503e77a",
   "metadata": {},
   "outputs": [],
   "source": [
    "D = {'Name': 'Nitin', 'Gender':'Male'}"
   ]
  },
  {
   "cell_type": "code",
   "execution_count": 56,
   "id": "137a1ec3-8ca8-4444-b416-28ee4f15eb82",
   "metadata": {},
   "outputs": [
    {
     "data": {
      "text/plain": [
       "{'Name': 'Nitin', 'Gender': 'Male'}"
      ]
     },
     "execution_count": 56,
     "metadata": {},
     "output_type": "execute_result"
    }
   ],
   "source": [
    "D"
   ]
  },
  {
   "cell_type": "code",
   "execution_count": 59,
   "id": "27918c7b-87f9-4126-b657-ce6c2e9970b2",
   "metadata": {},
   "outputs": [
    {
     "data": {
      "text/plain": [
       "'Nitin'"
      ]
     },
     "execution_count": 59,
     "metadata": {},
     "output_type": "execute_result"
    }
   ],
   "source": [
    "D['Name']"
   ]
  },
  {
   "cell_type": "code",
   "execution_count": 62,
   "id": "5fca1499-a196-42ed-a557-a95e4eed203f",
   "metadata": {},
   "outputs": [],
   "source": [
    "D['Name'] = 'Krunal'"
   ]
  },
  {
   "cell_type": "code",
   "execution_count": 63,
   "id": "1bfa37e5-471b-47ee-b22a-f81c50b2bccf",
   "metadata": {},
   "outputs": [
    {
     "data": {
      "text/plain": [
       "{'Name': 'Krunal', 'Gender': 'Male'}"
      ]
     },
     "execution_count": 63,
     "metadata": {},
     "output_type": "execute_result"
    }
   ],
   "source": [
    "D"
   ]
  },
  {
   "cell_type": "code",
   "execution_count": 64,
   "id": "ed5b5cfe-912e-4435-a2ff-3a3369126758",
   "metadata": {},
   "outputs": [
    {
     "data": {
      "text/plain": [
       "'Krunal'"
      ]
     },
     "execution_count": 64,
     "metadata": {},
     "output_type": "execute_result"
    }
   ],
   "source": [
    "D.get('Name')"
   ]
  },
  {
   "cell_type": "code",
   "execution_count": 69,
   "id": "ea1b7a83-3aac-4f58-87a1-9b4db7f34d00",
   "metadata": {},
   "outputs": [
    {
     "name": "stdout",
     "output_type": "stream",
     "text": [
      "Name : Krunal\n",
      "Gender : Male\n"
     ]
    }
   ],
   "source": [
    "for i in D:\n",
    "    print(i,\":\",D[i])"
   ]
  },
  {
   "cell_type": "code",
   "execution_count": 70,
   "id": "6d473c39-5d8d-409d-8df9-10eefe579acd",
   "metadata": {},
   "outputs": [
    {
     "data": {
      "text/plain": [
       "2"
      ]
     },
     "execution_count": 70,
     "metadata": {},
     "output_type": "execute_result"
    }
   ],
   "source": [
    "len(D)"
   ]
  },
  {
   "cell_type": "code",
   "execution_count": 71,
   "id": "e1de5242-0e82-4638-8649-0599c8313442",
   "metadata": {},
   "outputs": [
    {
     "data": {
      "text/plain": [
       "'Name'"
      ]
     },
     "execution_count": 71,
     "metadata": {},
     "output_type": "execute_result"
    }
   ],
   "source": [
    "max(D)"
   ]
  },
  {
   "cell_type": "code",
   "execution_count": 72,
   "id": "db78fc6b-0da1-4bc6-944e-ad6c4eb4b478",
   "metadata": {},
   "outputs": [
    {
     "data": {
      "text/plain": [
       "'Gender'"
      ]
     },
     "execution_count": 72,
     "metadata": {},
     "output_type": "execute_result"
    }
   ],
   "source": [
    "min(D)"
   ]
  },
  {
   "cell_type": "code",
   "execution_count": 73,
   "id": "7dc9ca5b-fe7e-4220-8801-4d0ca625191f",
   "metadata": {},
   "outputs": [
    {
     "data": {
      "text/plain": [
       "['Gender', 'Name']"
      ]
     },
     "execution_count": 73,
     "metadata": {},
     "output_type": "execute_result"
    }
   ],
   "source": [
    "sorted(D)"
   ]
  },
  {
   "cell_type": "code",
   "execution_count": 74,
   "id": "09707ef8-b39e-4be7-8baa-0101ecffe9bf",
   "metadata": {},
   "outputs": [
    {
     "data": {
      "text/plain": [
       "dict_keys(['Name', 'Gender'])"
      ]
     },
     "execution_count": 74,
     "metadata": {},
     "output_type": "execute_result"
    }
   ],
   "source": [
    "D.keys()"
   ]
  },
  {
   "cell_type": "code",
   "execution_count": 77,
   "id": "4d6c4c6c-15ba-4f4f-a1aa-01f4d21869c5",
   "metadata": {},
   "outputs": [
    {
     "data": {
      "text/plain": [
       "dict_values(['Krunal', 'Male'])"
      ]
     },
     "execution_count": 77,
     "metadata": {},
     "output_type": "execute_result"
    }
   ],
   "source": [
    "D.values()"
   ]
  },
  {
   "cell_type": "code",
   "execution_count": 14,
   "id": "dda749e8-96c9-4c9f-abae-e5d59cc33c87",
   "metadata": {},
   "outputs": [
    {
     "name": "stdout",
     "output_type": "stream",
     "text": [
      " k\n"
     ]
    },
    {
     "name": "stdout",
     "output_type": "stream",
     "text": [
      "k\n"
     ]
    }
   ],
   "source": [
    "def my_name(z):\n",
    "    y = input()\n",
    "    print(y)\n",
    "\n",
    "my_name('krunal')"
   ]
  },
  {
   "cell_type": "code",
   "execution_count": 17,
   "id": "8447c998-0d51-414c-ba4f-c022bac8f51c",
   "metadata": {},
   "outputs": [
    {
     "data": {
      "text/plain": [
       "False"
      ]
     },
     "execution_count": 17,
     "metadata": {},
     "output_type": "execute_result"
    }
   ],
   "source": [
    "def is_even(i):\n",
    "    \"\"\"input the i, it should be positive int,\n",
    "    and return true if it is even. otherwise it return false.\n",
    "    \"\"\"\n",
    "    x = i%2 == 0\n",
    "    return x\n",
    "is_even(5)"
   ]
  },
  {
   "cell_type": "code",
   "execution_count": 24,
   "id": "6992b8da-6dc9-40a9-8f78-3dab75b252ae",
   "metadata": {},
   "outputs": [
    {
     "name": "stdout",
     "output_type": "stream",
     "text": [
      "odd\n",
      "even\n",
      "odd\n",
      "even\n",
      "odd\n",
      "even\n",
      "odd\n",
      "even\n",
      "odd\n",
      "even\n",
      "None\n"
     ]
    }
   ],
   "source": [
    "def is_even(number):\n",
    "    if number % 2 ==0:\n",
    "        return 'even'\n",
    "    else:\n",
    "        return 'odd'\n",
    "\n",
    "for i in range(1,11):\n",
    "    print(is_even(i))\n",
    "\n",
    "print(is_even.__doc__)"
   ]
  },
  {
   "cell_type": "code",
   "execution_count": 26,
   "id": "a48b69a9-ee1f-411d-84af-e81769f0737f",
   "metadata": {},
   "outputs": [
    {
     "data": {
      "text/plain": [
       "'even'"
      ]
     },
     "execution_count": 26,
     "metadata": {},
     "output_type": "execute_result"
    }
   ],
   "source": [
    "is_even(34)"
   ]
  },
  {
   "cell_type": "code",
   "execution_count": 27,
   "id": "da01a5be-3839-423b-b8ad-b7ae000012fd",
   "metadata": {},
   "outputs": [
    {
     "data": {
      "text/plain": [
       "125"
      ]
     },
     "execution_count": 27,
     "metadata": {},
     "output_type": "execute_result"
    }
   ],
   "source": [
    "def power(a,b):\n",
    "    return a**b\n",
    "power(5,3)"
   ]
  },
  {
   "cell_type": "code",
   "execution_count": 28,
   "id": "20aa777d-5934-4b0a-8c40-3c3192c955e7",
   "metadata": {},
   "outputs": [
    {
     "data": {
      "text/plain": [
       "16"
      ]
     },
     "execution_count": 28,
     "metadata": {},
     "output_type": "execute_result"
    }
   ],
   "source": [
    "power(b=4, a=2)"
   ]
  },
  {
   "cell_type": "code",
   "execution_count": 32,
   "id": "d83b5c9f-12c9-4df3-a770-e3b746845b17",
   "metadata": {},
   "outputs": [
    {
     "name": "stdout",
     "output_type": "stream",
     "text": [
      "40\n"
     ]
    }
   ],
   "source": [
    "def flexi(*number):\n",
    "    product = 1\n",
    "    for i in number:\n",
    "        product = product * i\n",
    "    print(product)\n",
    "flexi(1,2,4,5)"
   ]
  },
  {
   "cell_type": "code",
   "execution_count": 33,
   "id": "74491b10-9001-49cf-a516-c5ab2d0e1ac3",
   "metadata": {},
   "outputs": [
    {
     "name": "stdout",
     "output_type": "stream",
     "text": [
      "2\n",
      "5\n"
     ]
    }
   ],
   "source": [
    "def f(y):\n",
    "    x = 1\n",
    "    x += 1\n",
    "    print(x)\n",
    "x = 5\n",
    "f(x)\n",
    "print(x)"
   ]
  },
  {
   "cell_type": "code",
   "execution_count": 15,
   "id": "492ec1cd-4079-437e-8b46-e041a90b8903",
   "metadata": {},
   "outputs": [
    {
     "name": "stdout",
     "output_type": "stream",
     "text": [
      "1 1 1 1 1 \n",
      "2 2 2 2 2 \n",
      "3 3 3 3 3 \n",
      "4 4 4 4 4 \n",
      "5 5 5 5 5 \n"
     ]
    }
   ],
   "source": [
    "#pattern 2\n",
    "for i in range(1,6):\n",
    "    for j in range(5):\n",
    "        print(i, end = ' ')\n",
    "    print()"
   ]
  },
  {
   "cell_type": "code",
   "execution_count": 16,
   "id": "2f603797-d9a2-4a81-94cd-836f9748d03d",
   "metadata": {},
   "outputs": [
    {
     "name": "stdout",
     "output_type": "stream",
     "text": [
      "1 2 3 4 5 \n",
      "1 2 3 4 5 \n",
      "1 2 3 4 5 \n",
      "1 2 3 4 5 \n",
      "1 2 3 4 5 \n"
     ]
    }
   ],
   "source": [
    "#pattern 3\n",
    "for i in range(5):\n",
    "    for j in range(1,6):\n",
    "        print(j, end = ' ')\n",
    "    print()"
   ]
  },
  {
   "cell_type": "code",
   "execution_count": 17,
   "id": "eaa6355c-0595-425b-b39c-3e8edf0d9cf3",
   "metadata": {},
   "outputs": [
    {
     "name": "stdout",
     "output_type": "stream",
     "text": [
      "5 5 5 5 5 \n",
      "4 4 4 4 4 \n",
      "3 3 3 3 3 \n",
      "2 2 2 2 2 \n",
      "1 1 1 1 1 \n"
     ]
    }
   ],
   "source": [
    "for i in range(5,0,-1):\n",
    "    for j in range(5,0,-1):\n",
    "        print(i, end= ' ')\n",
    "    print()"
   ]
  },
  {
   "cell_type": "code",
   "execution_count": 18,
   "id": "d4146456-0d31-4961-a328-570b1ece1e96",
   "metadata": {},
   "outputs": [
    {
     "name": "stdout",
     "output_type": "stream",
     "text": [
      "5 4 3 2 1 \n",
      "5 4 3 2 1 \n",
      "5 4 3 2 1 \n",
      "5 4 3 2 1 \n",
      "5 4 3 2 1 \n"
     ]
    }
   ],
   "source": [
    "for i in range(5,0,-1):\n",
    "    for j in range(5,0,-1):\n",
    "        print(j, end = ' ')\n",
    "    print()"
   ]
  },
  {
   "cell_type": "code",
   "execution_count": 21,
   "id": "e4cf49b0-04f6-4279-a151-e6ad49771a8c",
   "metadata": {},
   "outputs": [
    {
     "name": "stdout",
     "output_type": "stream",
     "text": [
      "1 2 3 4 5 \n",
      "6 7 8 9 10 \n",
      "11 12 13 14 15 \n",
      "16 17 18 19 20 \n",
      "21 22 23 24 25 \n"
     ]
    }
   ],
   "source": [
    "n = 1\n",
    "for i in range(5):\n",
    "    for j in range(5):\n",
    "        print(n, end = ' ')\n",
    "        n = n + 1\n",
    "    print()"
   ]
  },
  {
   "cell_type": "code",
   "execution_count": 22,
   "id": "4ecd2443-562e-4e30-ac21-60a4276c108d",
   "metadata": {},
   "outputs": [
    {
     "name": "stdout",
     "output_type": "stream",
     "text": [
      "1 3 5 7 9 \n",
      "11 13 15 17 19 \n",
      "21 23 25 27 29 \n",
      "31 33 35 37 39 \n",
      "41 43 45 47 49 \n"
     ]
    }
   ],
   "source": [
    "n = 1\n",
    "for i in range(5):\n",
    "    for j in range(5):\n",
    "        print(\"{:2d}.format(n, end = ' ')\n",
    "        n = n + 2\n",
    "    print()"
   ]
  },
  {
   "cell_type": "code",
   "execution_count": 7,
   "id": "495e5e07-3e7d-4319-afa4-477965ac4ac2",
   "metadata": {},
   "outputs": [
    {
     "name": "stdout",
     "output_type": "stream",
     "text": [
      "1 2 3 4 5 \n",
      "2 4 6 8 10 \n",
      "3 6 9 12 15 \n",
      "4 8 12 16 20 \n",
      "5 10 15 20 25 \n"
     ]
    }
   ],
   "source": [
    "#pattern 9\n",
    "for i in range(1,6):\n",
    "    for j in range(1,6):\n",
    "        print( i * j , end = \" \")\n",
    "    print()"
   ]
  },
  {
   "cell_type": "code",
   "execution_count": 6,
   "id": "5cdb4155-4fa1-44a2-9a96-f73105b924da",
   "metadata": {},
   "outputs": [
    {
     "name": "stdout",
     "output_type": "stream",
     "text": [
      "1 1 2 1 3 1 \n",
      "1 2 2 2 3 2 \n",
      "1 3 2 3 3 3 \n",
      "1 4 2 4 3 4 \n",
      "1 5 2 5 3 5 \n"
     ]
    }
   ],
   "source": [
    "#pattern 10\n",
    "for i in range(1,6):\n",
    "    for j in range(1,4):\n",
    "        print(j,i, end =\" \")\n",
    "    print()"
   ]
  },
  {
   "cell_type": "code",
   "execution_count": 7,
   "id": "6d437900-3f84-471a-a23e-b608faa858b1",
   "metadata": {},
   "outputs": [
    {
     "name": "stdout",
     "output_type": "stream",
     "text": [
      "1 1 1 2 1 3 \n",
      "2 1 2 2 2 3 \n",
      "3 1 3 2 3 3 \n",
      "4 1 4 2 4 3 \n",
      "5 1 5 2 5 3 \n"
     ]
    }
   ],
   "source": [
    "#pattern 11\n",
    "for i in range(1,6):\n",
    "    for j in range(1,4):\n",
    "        print(i,j, end =\" \")\n",
    "    print()"
   ]
  },
  {
   "cell_type": "code",
   "execution_count": 10,
   "id": "dae21142-a23c-41a4-bd7b-8b5d72679385",
   "metadata": {},
   "outputs": [
    {
     "name": "stdout",
     "output_type": "stream",
     "text": [
      "1 6 11 16 21 \n",
      "2 7 12 17 22 \n",
      "3 8 13 18 23 \n",
      "4 9 14 19 24 \n",
      "5 10 15 20 25 \n"
     ]
    }
   ],
   "source": [
    "#pattern 12\n",
    "for i in range(1,6):\n",
    "    for j in range(5):\n",
    "        print(i, end = \" \")\n",
    "        i = i + 5\n",
    "    print()"
   ]
  },
  {
   "cell_type": "code",
   "execution_count": 11,
   "id": "669ba9a1-1487-447f-bb4c-578eaf723f2a",
   "metadata": {},
   "outputs": [],
   "source": [
    "#pattern 13,14,15 remain"
   ]
  },
  {
   "cell_type": "code",
   "execution_count": 5,
   "id": "8151dc98-33dc-477b-aa40-c52d571bf1c0",
   "metadata": {},
   "outputs": [
    {
     "name": "stdin",
     "output_type": "stream",
     "text": [
      "enter the year:  2000\n"
     ]
    },
    {
     "name": "stdout",
     "output_type": "stream",
     "text": [
      "2000 is a leap year\n"
     ]
    },
    {
     "data": {
      "text/plain": [
       "False"
      ]
     },
     "execution_count": 5,
     "metadata": {},
     "output_type": "execute_result"
    }
   ],
   "source": [
    "def is_leap(year):\n",
    "    leap = False\n",
    "    # Write your logic here\n",
    "    if (year%400 == 0) and (year%100==0):\n",
    "        print(\"{0} is a leap year\".format(year))\n",
    "    else:\n",
    "        print(\"{0} is not a leap year\".format(year))\n",
    "    return leap\n",
    "\n",
    "year = int(input(\"enter the year: \"))\n",
    "is_leap(year)"
   ]
  },
  {
   "cell_type": "code",
   "execution_count": null,
   "id": "36c768cd-abab-428a-a691-23d3f584bca5",
   "metadata": {},
   "outputs": [],
   "source": []
  }
 ],
 "metadata": {
  "kernelspec": {
   "display_name": "Python 3 (ipykernel)",
   "language": "python",
   "name": "python3"
  },
  "language_info": {
   "codemirror_mode": {
    "name": "ipython",
    "version": 3
   },
   "file_extension": ".py",
   "mimetype": "text/x-python",
   "name": "python",
   "nbconvert_exporter": "python",
   "pygments_lexer": "ipython3",
   "version": "3.11.4"
  }
 },
 "nbformat": 4,
 "nbformat_minor": 5
}
