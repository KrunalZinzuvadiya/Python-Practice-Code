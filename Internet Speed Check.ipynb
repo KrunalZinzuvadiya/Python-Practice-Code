{
 "cells": [
  {
   "cell_type": "code",
   "execution_count": 2,
   "id": "2cc3e3b5-64ed-4376-95a8-4c2889da1b45",
   "metadata": {},
   "outputs": [
    {
     "name": "stdout",
     "output_type": "stream",
     "text": [
      "Collecting speedtest-cliNote: you may need to restart the kernel to use updated packages.\n",
      "\n",
      "  Downloading speedtest_cli-2.1.3-py2.py3-none-any.whl.metadata (6.8 kB)\n",
      "Downloading speedtest_cli-2.1.3-py2.py3-none-any.whl (23 kB)\n",
      "Installing collected packages: speedtest-cli\n",
      "Successfully installed speedtest-cli-2.1.3\n"
     ]
    }
   ],
   "source": [
    "pip install speedtest-cli"
   ]
  },
  {
   "cell_type": "code",
   "execution_count": 13,
   "id": "fdb4b875-b07b-47d6-b1c4-3349bf3b16e2",
   "metadata": {},
   "outputs": [
    {
     "name": "stdout",
     "output_type": "stream",
     "text": [
      "Download speed in Mbps:  75.99\n",
      "Upload speed in Mbps:  29.37\n",
      "Ping is:  19.286\n"
     ]
    }
   ],
   "source": [
    "import speedtest as st\n",
    "\n",
    "def speed_test():\n",
    "    test = st.Speedtest()\n",
    "\n",
    "    down_speed = test.download()\n",
    "    down_speed = round(down_speed / 10**6, 2)\n",
    "    print(\"Download speed in Mbps: \", down_speed)\n",
    "\n",
    "    up_speed = test.upload()\n",
    "    up_speed = round(up_speed / 10**6, 2)\n",
    "    print(\"Upload speed in Mbps: \", up_speed)\n",
    "\n",
    "    ping = test.results.ping\n",
    "    print(\"Ping is: \", ping)\n",
    "\n",
    "speed_test()"
   ]
  },
  {
   "cell_type": "code",
   "execution_count": null,
   "id": "cdd5dde8-87de-4582-844e-3ceca4ff7eef",
   "metadata": {},
   "outputs": [],
   "source": []
  },
  {
   "cell_type": "code",
   "execution_count": null,
   "id": "cf373e31-aa3b-4440-bae4-6dbd959e1030",
   "metadata": {},
   "outputs": [],
   "source": []
  },
  {
   "cell_type": "code",
   "execution_count": null,
   "id": "7af817b6-56df-459f-ae2d-fc64c716769e",
   "metadata": {},
   "outputs": [],
   "source": []
  }
 ],
 "metadata": {
  "kernelspec": {
   "display_name": "Python 3 (ipykernel)",
   "language": "python",
   "name": "python3"
  },
  "language_info": {
   "codemirror_mode": {
    "name": "ipython",
    "version": 3
   },
   "file_extension": ".py",
   "mimetype": "text/x-python",
   "name": "python",
   "nbconvert_exporter": "python",
   "pygments_lexer": "ipython3",
   "version": "3.11.4"
  }
 },
 "nbformat": 4,
 "nbformat_minor": 5
}
