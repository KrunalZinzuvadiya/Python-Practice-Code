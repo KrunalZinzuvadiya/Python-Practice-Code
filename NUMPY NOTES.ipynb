{
 "cells": [
  {
   "cell_type": "markdown",
   "id": "28172347",
   "metadata": {},
   "source": [
    "# PYTHON NUMPY"
   ]
  },
  {
   "cell_type": "code",
   "execution_count": 1,
   "id": "4426c3f8",
   "metadata": {},
   "outputs": [
    {
     "data": {
      "text/plain": [
       "array([1, 2, 3])"
      ]
     },
     "execution_count": 1,
     "metadata": {},
     "output_type": "execute_result"
    }
   ],
   "source": [
    "# creating 1-D array\n",
    "\n",
    "import numpy as np\n",
    "arr=np.array([1,2,3])\n",
    "arr"
   ]
  },
  {
   "cell_type": "code",
   "execution_count": 2,
   "id": "783db69e",
   "metadata": {},
   "outputs": [
    {
     "data": {
      "text/plain": [
       "array([[30, 20, 10],\n",
       "       [10, 20, 30]])"
      ]
     },
     "execution_count": 2,
     "metadata": {},
     "output_type": "execute_result"
    }
   ],
   "source": [
    "# creating multi dimensional array\n",
    "\n",
    "import numpy as np\n",
    "arr=np.array([[30,20,10],[10,20,30]])\n",
    "arr"
   ]
  },
  {
   "cell_type": "code",
   "execution_count": 3,
   "id": "7a5f019d",
   "metadata": {},
   "outputs": [
    {
     "data": {
      "text/plain": [
       "array([[[12, 45, 87],\n",
       "        [12, 45, 87]],\n",
       "\n",
       "       [[10, 23, 30],\n",
       "        [10, 54, 60]]])"
      ]
     },
     "execution_count": 3,
     "metadata": {},
     "output_type": "execute_result"
    }
   ],
   "source": [
    "import numpy as np\n",
    "arr=np.array([[[12,45,87],[12,45,87]],[[10,23,30],[10,54,60]]])\n",
    "arr"
   ]
  },
  {
   "cell_type": "code",
   "execution_count": 4,
   "id": "19f63d5b",
   "metadata": {},
   "outputs": [
    {
     "data": {
      "text/plain": [
       "array([[0., 0., 0., 0., 0.],\n",
       "       [0., 0., 0., 0., 0.],\n",
       "       [0., 0., 0., 0., 0.],\n",
       "       [0., 0., 0., 0., 0.]])"
      ]
     },
     "execution_count": 4,
     "metadata": {},
     "output_type": "execute_result"
    }
   ],
   "source": [
    "# initializing numpy arrray with zeros\n",
    "\n",
    "import numpy as np\n",
    "arr=np.zeros((4,5))\n",
    "arr"
   ]
  },
  {
   "cell_type": "code",
   "execution_count": 5,
   "id": "1c2d3b96",
   "metadata": {},
   "outputs": [
    {
     "data": {
      "text/plain": [
       "array([[1., 1., 1., 1., 1.],\n",
       "       [1., 1., 1., 1., 1.]])"
      ]
     },
     "execution_count": 5,
     "metadata": {},
     "output_type": "execute_result"
    }
   ],
   "source": [
    "# initializing numpy arrray with zeros\n",
    "\n",
    "import numpy as np\n",
    "arr=np.ones((2,5))\n",
    "arr"
   ]
  },
  {
   "cell_type": "code",
   "execution_count": 6,
   "id": "f6cd9362",
   "metadata": {},
   "outputs": [
    {
     "data": {
      "text/plain": [
       "array([[10, 10, 10, 10],\n",
       "       [10, 10, 10, 10],\n",
       "       [10, 10, 10, 10],\n",
       "       [10, 10, 10, 10],\n",
       "       [10, 10, 10, 10]])"
      ]
     },
     "execution_count": 6,
     "metadata": {},
     "output_type": "execute_result"
    }
   ],
   "source": [
    "# initializing numpy arrray with full\n",
    "\n",
    "import numpy as np\n",
    "arr=np.full((5,4),10)    # (5,4) indicates rows and columns\n",
    "arr                      # and 10 is the element"
   ]
  },
  {
   "cell_type": "code",
   "execution_count": 7,
   "id": "1d5e64de",
   "metadata": {},
   "outputs": [
    {
     "data": {
      "text/plain": [
       "array([10, 11, 12, 13, 14, 15, 16, 17, 18, 19])"
      ]
     },
     "execution_count": 7,
     "metadata": {},
     "output_type": "execute_result"
    }
   ],
   "source": [
    "# initializing numpy arrray within a range\n",
    "\n",
    "import numpy as np\n",
    "arr=np.arange(10,20)\n",
    "arr"
   ]
  },
  {
   "cell_type": "code",
   "execution_count": 8,
   "id": "e9513eda",
   "metadata": {},
   "outputs": [
    {
     "data": {
      "text/plain": [
       "array([10, 13, 16, 19])"
      ]
     },
     "execution_count": 8,
     "metadata": {},
     "output_type": "execute_result"
    }
   ],
   "source": [
    "import numpy as np\n",
    "arr=np.arange(10,20,3)\n",
    "arr"
   ]
  },
  {
   "cell_type": "code",
   "execution_count": 9,
   "id": "64106d74",
   "metadata": {},
   "outputs": [
    {
     "data": {
      "text/plain": [
       "array([ 24,  12,  76,  20,  84,  92, 196, 166,  86,  64])"
      ]
     },
     "execution_count": 9,
     "metadata": {},
     "output_type": "execute_result"
    }
   ],
   "source": [
    "# initializing numpy arrray with random numbers\n",
    "\n",
    "import numpy as np\n",
    "arr=np.random.randint(1,200,10)\n",
    "arr"
   ]
  },
  {
   "cell_type": "code",
   "execution_count": 10,
   "id": "bcf96362",
   "metadata": {},
   "outputs": [
    {
     "name": "stdout",
     "output_type": "stream",
     "text": [
      "[[12 45 87]\n",
      " [12 45 87]]\n"
     ]
    },
    {
     "data": {
      "text/plain": [
       "(2, 3)"
      ]
     },
     "execution_count": 10,
     "metadata": {},
     "output_type": "execute_result"
    }
   ],
   "source": [
    "# checking the shape of numpy arrays\n",
    "\n",
    "import numpy as np\n",
    "arr=np.array([[12,45,87],[12,45,87]])\n",
    "print(arr)\n",
    "arr.shape"
   ]
  },
  {
   "cell_type": "code",
   "execution_count": 11,
   "id": "506f6531",
   "metadata": {},
   "outputs": [
    {
     "name": "stdout",
     "output_type": "stream",
     "text": [
      "[[12 45]\n",
      " [87 12]\n",
      " [45 87]]\n"
     ]
    },
    {
     "data": {
      "text/plain": [
       "(3, 2)"
      ]
     },
     "execution_count": 11,
     "metadata": {},
     "output_type": "execute_result"
    }
   ],
   "source": [
    "# changing the shape of arrays\n",
    "\n",
    "arr.shape = (3,2)\n",
    "print(arr)\n",
    "arr.shape"
   ]
  },
  {
   "cell_type": "code",
   "execution_count": 12,
   "id": "6c76350a",
   "metadata": {},
   "outputs": [
    {
     "name": "stdout",
     "output_type": "stream",
     "text": [
      "[10 20 30 40] \n",
      "\n",
      "[40 30 20 10]\n"
     ]
    },
    {
     "data": {
      "text/plain": [
       "array([[10, 20, 30, 40],\n",
       "       [40, 30, 20, 10]])"
      ]
     },
     "execution_count": 12,
     "metadata": {},
     "output_type": "execute_result"
    }
   ],
   "source": [
    "# joining numpy arrays using vstack()\n",
    "\n",
    "import numpy as np\n",
    "arr1=np.array([10,20,30,40])\n",
    "arr2=np.array([40,30,20,10])\n",
    "print(arr1,'\\n')\n",
    "print(arr2)\n",
    "\n",
    "np.vstack((arr1,arr2))"
   ]
  },
  {
   "cell_type": "code",
   "execution_count": 13,
   "id": "d14f258c",
   "metadata": {},
   "outputs": [
    {
     "name": "stdout",
     "output_type": "stream",
     "text": [
      "[10 20 30 40] \n",
      "\n",
      "[40 30 20 10]\n"
     ]
    },
    {
     "data": {
      "text/plain": [
       "array([10, 20, 30, 40, 40, 30, 20, 10])"
      ]
     },
     "execution_count": 13,
     "metadata": {},
     "output_type": "execute_result"
    }
   ],
   "source": [
    "# joining numpy arrays using hstack()\n",
    "\n",
    "import numpy as np\n",
    "arr1=np.array([10,20,30,40])\n",
    "arr2=np.array([40,30,20,10])\n",
    "print(arr1,'\\n')\n",
    "print(arr2)\n",
    "\n",
    "np.hstack((arr1,arr2))"
   ]
  },
  {
   "cell_type": "code",
   "execution_count": 14,
   "id": "3322b7b8",
   "metadata": {},
   "outputs": [
    {
     "name": "stdout",
     "output_type": "stream",
     "text": [
      "[10 20 30 40]\n",
      "[40 30 20 10]\n"
     ]
    },
    {
     "data": {
      "text/plain": [
       "array([[10, 40],\n",
       "       [20, 30],\n",
       "       [30, 20],\n",
       "       [40, 10]])"
      ]
     },
     "execution_count": 14,
     "metadata": {},
     "output_type": "execute_result"
    }
   ],
   "source": [
    "# joining numpy arrays using column_stack()\n",
    "\n",
    "import numpy as np\n",
    "arr1=np.array([10,20,30,40])\n",
    "arr2=np.array([40,30,20,10])\n",
    "print(arr1)\n",
    "print(arr2)\n",
    "\n",
    "np.column_stack((arr1,arr2))"
   ]
  },
  {
   "cell_type": "code",
   "execution_count": 15,
   "id": "bf5a084a",
   "metadata": {},
   "outputs": [
    {
     "data": {
      "text/plain": [
       "array([20, 30])"
      ]
     },
     "execution_count": 15,
     "metadata": {},
     "output_type": "execute_result"
    }
   ],
   "source": [
    "# finding intersection or common elements in two arrays\n",
    "\n",
    "import numpy as np\n",
    "arr1=np.array([10,20,30,40])\n",
    "arr2=np.array([60,30,20,50])\n",
    "np.intersect1d(arr1,arr2)"
   ]
  },
  {
   "cell_type": "code",
   "execution_count": 16,
   "id": "d77f232a",
   "metadata": {},
   "outputs": [
    {
     "data": {
      "text/plain": [
       "array([10, 40])"
      ]
     },
     "execution_count": 16,
     "metadata": {},
     "output_type": "execute_result"
    }
   ],
   "source": [
    "# finding difference or unique elements in two arrays\n",
    "\n",
    "import numpy as np\n",
    "arr1=np.array([10,20,30,40])\n",
    "arr2=np.array([60,30,20,50])\n",
    "np.setdiff1d(arr1,arr2)"
   ]
  },
  {
   "cell_type": "code",
   "execution_count": 17,
   "id": "7f236302",
   "metadata": {},
   "outputs": [
    {
     "name": "stdout",
     "output_type": "stream",
     "text": [
      "260 \n",
      "\n",
      "[70 50 50 90] \n",
      "\n",
      "[70 50 50 90] \n",
      "\n",
      "[100 160] \n",
      "\n"
     ]
    }
   ],
   "source": [
    "# finding addition\n",
    "\n",
    "import numpy as np\n",
    "arr1=np.array([10,20,30,40])\n",
    "arr2=np.array([60,30,20,50])\n",
    "\n",
    "print(np.sum([arr1,arr2]),'\\n')\n",
    "\n",
    "print(np.add(arr1,arr2),'\\n')\n",
    "\n",
    "print(np.sum([arr1,arr2],axis=0),'\\n')\n",
    "\n",
    "print(np.sum([arr1,arr2],axis=1),'\\n')"
   ]
  },
  {
   "cell_type": "code",
   "execution_count": 18,
   "id": "327c2f49",
   "metadata": {},
   "outputs": [
    {
     "name": "stdout",
     "output_type": "stream",
     "text": [
      "[-50 -10  10 -10] \n",
      "\n",
      "[ 600  600  600 2000] \n",
      "\n",
      "[0.16666667 0.66666667 1.5        0.8       ] \n",
      "\n"
     ]
    }
   ],
   "source": [
    "#finding subtraction,multiplication,division of two arrays\n",
    "\n",
    "import numpy as np\n",
    "arr1=np.array([10,20,30,40])\n",
    "arr2=np.array([60,30,20,50])\n",
    "\n",
    "subtraction=np.subtract(arr1,arr2)        #finding subtraction\n",
    "print(subtraction,'\\n')\n",
    "\n",
    "multiplication=np.multiply(arr1,arr2)     #finding multiplication\n",
    "print(multiplication,'\\n')\n",
    "\n",
    "division=np.divide(arr1,arr2)             #finding division\n",
    "print(division,'\\n')"
   ]
  },
  {
   "cell_type": "code",
   "execution_count": 19,
   "id": "8a103b02",
   "metadata": {},
   "outputs": [
    {
     "name": "stdout",
     "output_type": "stream",
     "text": [
      "25.0 \n",
      "\n",
      "11.180339887498949 \n",
      "\n",
      "25.0 \n",
      "\n"
     ]
    }
   ],
   "source": [
    "# numpy math functions\n",
    "\n",
    "import numpy as np\n",
    "arr1=np.array([10,20,30,40])\n",
    "print(np.mean(arr1),'\\n')          # mean\n",
    "\n",
    "print(np.std(arr1),'\\n')           # standard deviation\n",
    "\n",
    "print(np.median(arr1),'\\n')        # median"
   ]
  },
  {
   "cell_type": "code",
   "execution_count": 20,
   "id": "dd68c945",
   "metadata": {},
   "outputs": [
    {
     "data": {
      "text/plain": [
       "array([0.        , 0.04166667, 0.08333333, 0.125     , 0.16666667,\n",
       "       0.20833333, 0.25      , 0.29166667, 0.33333333, 0.375     ,\n",
       "       0.41666667, 0.45833333, 0.5       , 0.54166667, 0.58333333,\n",
       "       0.625     , 0.66666667, 0.70833333, 0.75      , 0.79166667,\n",
       "       0.83333333, 0.875     , 0.91666667, 0.95833333, 1.        ])"
      ]
     },
     "execution_count": 20,
     "metadata": {},
     "output_type": "execute_result"
    }
   ],
   "source": [
    "# generating decimal numbers \n",
    "\n",
    "import numpy as np\n",
    "arr=np.linspace(0,1,25)\n",
    "arr"
   ]
  },
  {
   "cell_type": "markdown",
   "id": "26b010d5-972c-46e2-871e-7243c90d0b46",
   "metadata": {},
   "source": [
    "## Krunal"
   ]
  },
  {
   "cell_type": "code",
   "execution_count": 21,
   "id": "02395497-ff6e-4505-b695-fdeedf524fd4",
   "metadata": {},
   "outputs": [],
   "source": [
    "import numpy as np"
   ]
  },
  {
   "cell_type": "code",
   "execution_count": 22,
   "id": "faa7d5c4-d8d1-4498-a855-4e9ced12bd30",
   "metadata": {},
   "outputs": [
    {
     "name": "stdout",
     "output_type": "stream",
     "text": [
      "[1 2 3 4]\n"
     ]
    }
   ],
   "source": [
    "arr = np.array([1,2,3,4])\n",
    "print(arr)"
   ]
  },
  {
   "cell_type": "code",
   "execution_count": 23,
   "id": "12cd3e8c-248a-453e-9d90-f8ce3a87cd23",
   "metadata": {},
   "outputs": [
    {
     "name": "stdout",
     "output_type": "stream",
     "text": [
      "1.26.2\n"
     ]
    }
   ],
   "source": [
    "print(np.__version__)"
   ]
  },
  {
   "cell_type": "code",
   "execution_count": 24,
   "id": "b2269f57-bcb7-43ce-b5de-8c42f6c05c17",
   "metadata": {},
   "outputs": [
    {
     "name": "stdout",
     "output_type": "stream",
     "text": [
      "<class 'numpy.ndarray'>\n"
     ]
    }
   ],
   "source": [
    "print(type(arr))"
   ]
  },
  {
   "cell_type": "code",
   "execution_count": 25,
   "id": "52686646-2fb7-4d54-bc91-172d2b569a1b",
   "metadata": {},
   "outputs": [
    {
     "name": "stdout",
     "output_type": "stream",
     "text": [
      "[1 2 3 4 5]\n"
     ]
    }
   ],
   "source": [
    "arr = np.array((1,2,3,4,5))\n",
    "print(arr)"
   ]
  },
  {
   "cell_type": "code",
   "execution_count": 26,
   "id": "06698912-52fb-45f7-8f3e-ad1bbdcb43c4",
   "metadata": {},
   "outputs": [
    {
     "data": {
      "text/plain": [
       "1"
      ]
     },
     "execution_count": 26,
     "metadata": {},
     "output_type": "execute_result"
    }
   ],
   "source": [
    "arr.ndim"
   ]
  },
  {
   "cell_type": "code",
   "execution_count": 27,
   "id": "e08f905e-5445-440a-8bfa-1448d6b978cf",
   "metadata": {},
   "outputs": [
    {
     "name": "stdout",
     "output_type": "stream",
     "text": [
      "[[1 2]\n",
      " [4 5]\n",
      " [7 8]]\n"
     ]
    }
   ],
   "source": [
    "arr1 = np.array([[1,2],[4,5],[7,8]])\n",
    "print(arr1)"
   ]
  },
  {
   "cell_type": "code",
   "execution_count": 28,
   "id": "c4f891d5-1b84-4237-a18d-1fe2ad6448b2",
   "metadata": {},
   "outputs": [
    {
     "data": {
      "text/plain": [
       "2"
      ]
     },
     "execution_count": 28,
     "metadata": {},
     "output_type": "execute_result"
    }
   ],
   "source": [
    "arr1.ndim"
   ]
  },
  {
   "cell_type": "code",
   "execution_count": 29,
   "id": "1111934a-ef10-439b-8c89-2cf3734c3a89",
   "metadata": {},
   "outputs": [
    {
     "name": "stdout",
     "output_type": "stream",
     "text": [
      "[[[1 2]\n",
      "  [4 5]]\n",
      "\n",
      " [[1 2]\n",
      "  [4 5]]]\n"
     ]
    }
   ],
   "source": [
    "arr2 = np.array([[[1,2],[4,5]], [[1,2],[4,5]]])\n",
    "print(arr2)"
   ]
  },
  {
   "cell_type": "code",
   "execution_count": 30,
   "id": "1c3cc55c-fa55-44c3-9f22-05185506e32a",
   "metadata": {},
   "outputs": [
    {
     "data": {
      "text/plain": [
       "3"
      ]
     },
     "execution_count": 30,
     "metadata": {},
     "output_type": "execute_result"
    }
   ],
   "source": [
    "arr2.ndim"
   ]
  },
  {
   "cell_type": "code",
   "execution_count": 31,
   "id": "1184bc85-1c11-42ae-8d23-b122e09b2bc0",
   "metadata": {},
   "outputs": [
    {
     "name": "stdout",
     "output_type": "stream",
     "text": [
      "[[[[[[[[[[1 2 3 4 5]]]]]]]]]]\n"
     ]
    }
   ],
   "source": [
    "arr = np.array([1,2,3,4,5], ndmin= 10)\n",
    "print(arr)"
   ]
  },
  {
   "cell_type": "code",
   "execution_count": 32,
   "id": "94a5fc91-eac2-42d5-8be5-416fda5d0b55",
   "metadata": {},
   "outputs": [
    {
     "name": "stdout",
     "output_type": "stream",
     "text": [
      "1\n"
     ]
    }
   ],
   "source": [
    "arr = np.array([1,2,3,4])\n",
    "print(arr[0])"
   ]
  },
  {
   "cell_type": "code",
   "execution_count": 33,
   "id": "4f634b15-d1a3-4dbe-9555-9743649aa991",
   "metadata": {},
   "outputs": [
    {
     "name": "stdout",
     "output_type": "stream",
     "text": [
      "5\n"
     ]
    }
   ],
   "source": [
    "print(arr[1] + arr[2])"
   ]
  },
  {
   "cell_type": "code",
   "execution_count": 34,
   "id": "fed38b9d-3e76-402e-a00d-8bc6b8fe6217",
   "metadata": {},
   "outputs": [
    {
     "data": {
      "text/plain": [
       "8"
      ]
     },
     "execution_count": 34,
     "metadata": {},
     "output_type": "execute_result"
    }
   ],
   "source": [
    "arr1[2,1]"
   ]
  },
  {
   "cell_type": "code",
   "execution_count": 35,
   "id": "3d733797-e23f-4d3e-ac3a-a72423f95fae",
   "metadata": {},
   "outputs": [
    {
     "data": {
      "text/plain": [
       "4"
      ]
     },
     "execution_count": 35,
     "metadata": {},
     "output_type": "execute_result"
    }
   ],
   "source": [
    "arr2[0,1,0]"
   ]
  },
  {
   "cell_type": "code",
   "execution_count": 36,
   "id": "80ebe3ea-9f31-4eb7-8fe7-27a4543ad11d",
   "metadata": {},
   "outputs": [
    {
     "data": {
      "text/plain": [
       "4"
      ]
     },
     "execution_count": 36,
     "metadata": {},
     "output_type": "execute_result"
    }
   ],
   "source": [
    "arr2[0,1,-2]"
   ]
  },
  {
   "cell_type": "code",
   "execution_count": 37,
   "id": "c66a8e3e-2ffe-4749-9e11-e6a238723e09",
   "metadata": {},
   "outputs": [
    {
     "name": "stdout",
     "output_type": "stream",
     "text": [
      "[1 2 3 4 5 6 7]\n"
     ]
    }
   ],
   "source": [
    "arr = np.array([1,2,3,4,5,6,7])\n",
    "print(arr)"
   ]
  },
  {
   "cell_type": "markdown",
   "id": "83d8d4ab-b9f4-42cb-bab5-6ad66acf3c6d",
   "metadata": {},
   "source": [
    "Slicing in python means taking elements from one given index to another given index.\n",
    "\n",
    "We pass slice instead of index like this: [start:end].\n",
    "\n",
    "We can also define the step, like this: [start:end:step].\n",
    "\n",
    "If we don't pass start its considered 0\n",
    "\n",
    "If we don't pass end its considered length of array in that dimension\n",
    "\n",
    "If we don't pass step its considered 1"
   ]
  },
  {
   "cell_type": "code",
   "execution_count": 38,
   "id": "3de481e6-ba4a-4312-90c0-bfdd9ee18692",
   "metadata": {},
   "outputs": [
    {
     "data": {
      "text/plain": [
       "array([2, 3, 4, 5])"
      ]
     },
     "execution_count": 38,
     "metadata": {},
     "output_type": "execute_result"
    }
   ],
   "source": [
    "arr[1:5]"
   ]
  },
  {
   "cell_type": "code",
   "execution_count": 39,
   "id": "f083c443-6659-48f2-97db-09cb3f7ab418",
   "metadata": {},
   "outputs": [
    {
     "data": {
      "text/plain": [
       "array([5, 6, 7])"
      ]
     },
     "execution_count": 39,
     "metadata": {},
     "output_type": "execute_result"
    }
   ],
   "source": [
    "arr[4:]"
   ]
  },
  {
   "cell_type": "code",
   "execution_count": 40,
   "id": "874668b6-dd84-497e-9bb7-19e141be9a2d",
   "metadata": {},
   "outputs": [
    {
     "data": {
      "text/plain": [
       "array([1, 2, 3, 4])"
      ]
     },
     "execution_count": 40,
     "metadata": {},
     "output_type": "execute_result"
    }
   ],
   "source": [
    "arr[:4]"
   ]
  },
  {
   "cell_type": "code",
   "execution_count": 41,
   "id": "eea76055-d280-4af9-8d89-a03d576abfbf",
   "metadata": {},
   "outputs": [
    {
     "name": "stdout",
     "output_type": "stream",
     "text": [
      "[5 6]\n"
     ]
    }
   ],
   "source": [
    "print(arr[-3:-1])"
   ]
  },
  {
   "cell_type": "code",
   "execution_count": 42,
   "id": "21ffa758-2a39-44e7-b114-a9db2b6d0b3f",
   "metadata": {},
   "outputs": [
    {
     "name": "stdout",
     "output_type": "stream",
     "text": [
      "[2 4]\n"
     ]
    }
   ],
   "source": [
    "print(arr[1:5:2])"
   ]
  },
  {
   "cell_type": "code",
   "execution_count": 43,
   "id": "2582c4dd-2571-4d08-917b-96252e99b689",
   "metadata": {},
   "outputs": [
    {
     "name": "stdout",
     "output_type": "stream",
     "text": [
      "[1 3 5 7]\n"
     ]
    }
   ],
   "source": [
    "print(arr[::2])"
   ]
  },
  {
   "cell_type": "code",
   "execution_count": 44,
   "id": "2e72f35e-f989-4a51-b66d-e87ee345d933",
   "metadata": {},
   "outputs": [
    {
     "data": {
      "text/plain": [
       "array([[[1, 2],\n",
       "        [4, 5]],\n",
       "\n",
       "       [[1, 2],\n",
       "        [4, 5]]])"
      ]
     },
     "execution_count": 44,
     "metadata": {},
     "output_type": "execute_result"
    }
   ],
   "source": [
    "arr2[0:2,0:2]"
   ]
  },
  {
   "cell_type": "code",
   "execution_count": 45,
   "id": "619e44b7-4bbe-4ca9-95ec-10833d23d91e",
   "metadata": {},
   "outputs": [
    {
     "data": {
      "text/plain": [
       "array([[[1, 2],\n",
       "        [4, 5]],\n",
       "\n",
       "       [[1, 2],\n",
       "        [4, 5]]])"
      ]
     },
     "execution_count": 45,
     "metadata": {},
     "output_type": "execute_result"
    }
   ],
   "source": [
    "arr2"
   ]
  },
  {
   "cell_type": "markdown",
   "id": "2fea5067-cde5-4ff8-87eb-b9d09e36d1bf",
   "metadata": {},
   "source": [
    "i - integer  \n",
    "b - boolean  \n",
    "u - unsigned integer  \n",
    "f - float  \n",
    "c - complex float  \n",
    "m - timedelta  \n",
    "M - datetime  \n",
    "O - object  \n",
    "S - string  \n",
    "U - unicode string  \n",
    "V - fixed chunk of memory for other type ( void )  \n",
    "An unsigned integer is a data type used in programming that can only represent non-negative whole numbers (zero and positive integers).  \n",
    "In programming, Unicode strings are often used to handle text data that may include characters from various languages, symbols, emojis, and special characters.\n"
   ]
  },
  {
   "cell_type": "code",
   "execution_count": 46,
   "id": "14063b72-8bc8-4908-8565-d5990d274af0",
   "metadata": {},
   "outputs": [
    {
     "name": "stdout",
     "output_type": "stream",
     "text": [
      "[1 2 3 4 5 6 7]\n"
     ]
    }
   ],
   "source": [
    "arr = np.array([1,2,3,4,5,6,7], dtype = 'i4')\n",
    "print(arr)"
   ]
  },
  {
   "cell_type": "code",
   "execution_count": 47,
   "id": "9b5a831d-e8df-496a-90db-2605b86694b6",
   "metadata": {},
   "outputs": [
    {
     "name": "stdout",
     "output_type": "stream",
     "text": [
      "[1 2 3 4 5 6 7]\n"
     ]
    }
   ],
   "source": [
    "arr = np.array([1,2,3,4,5,6,7], dtype = 'i')\n",
    "print(arr)"
   ]
  },
  {
   "cell_type": "code",
   "execution_count": 48,
   "id": "5fab0717-663a-49c8-818f-55423fe331fb",
   "metadata": {},
   "outputs": [
    {
     "ename": "ValueError",
     "evalue": "invalid literal for int() with base 10: 'a'",
     "output_type": "error",
     "traceback": [
      "\u001b[1;31m---------------------------------------------------------------------------\u001b[0m",
      "\u001b[1;31mValueError\u001b[0m                                Traceback (most recent call last)",
      "Cell \u001b[1;32mIn[48], line 2\u001b[0m\n\u001b[0;32m      1\u001b[0m \u001b[38;5;66;03m#A non integer string like 'a' can not be converted to integer \u001b[39;00m\n\u001b[1;32m----> 2\u001b[0m arr \u001b[38;5;241m=\u001b[39m \u001b[43mnp\u001b[49m\u001b[38;5;241;43m.\u001b[39;49m\u001b[43marray\u001b[49m\u001b[43m(\u001b[49m\u001b[43m[\u001b[49m\u001b[38;5;124;43m'\u001b[39;49m\u001b[38;5;124;43ma\u001b[39;49m\u001b[38;5;124;43m'\u001b[39;49m\u001b[43m,\u001b[49m\u001b[43m \u001b[49m\u001b[38;5;124;43m'\u001b[39;49m\u001b[38;5;124;43m2\u001b[39;49m\u001b[38;5;124;43m'\u001b[39;49m\u001b[43m,\u001b[49m\u001b[43m \u001b[49m\u001b[38;5;124;43m'\u001b[39;49m\u001b[38;5;124;43m3\u001b[39;49m\u001b[38;5;124;43m'\u001b[39;49m\u001b[43m]\u001b[49m\u001b[43m,\u001b[49m\u001b[43m \u001b[49m\u001b[43mdtype\u001b[49m\u001b[38;5;241;43m=\u001b[39;49m\u001b[38;5;124;43m'\u001b[39;49m\u001b[38;5;124;43mi\u001b[39;49m\u001b[38;5;124;43m'\u001b[39;49m\u001b[43m)\u001b[49m\n",
      "\u001b[1;31mValueError\u001b[0m: invalid literal for int() with base 10: 'a'"
     ]
    }
   ],
   "source": [
    "#A non integer string like 'a' can not be converted to integer \n",
    "arr = np.array(['a', '2', '3'], dtype='i')"
   ]
  },
  {
   "cell_type": "markdown",
   "id": "3c43b389-ec16-43ae-aab6-58d4e923155d",
   "metadata": {},
   "source": [
    "The best way to change the data type of an existing array, is to make a copy of the array with the astype() method."
   ]
  },
  {
   "cell_type": "code",
   "execution_count": 49,
   "id": "34a00728-566f-4639-9690-1a967b83d9b8",
   "metadata": {},
   "outputs": [
    {
     "data": {
      "text/plain": [
       "array([b'1', b'2', b'3', b'4', b'5', b'6', b'7'], dtype='|S11')"
      ]
     },
     "execution_count": 49,
     "metadata": {},
     "output_type": "execute_result"
    }
   ],
   "source": [
    "arr.astype('S')"
   ]
  },
  {
   "cell_type": "code",
   "execution_count": 50,
   "id": "54baeec1-02dc-45e9-8f80-33fc46f2d3f9",
   "metadata": {},
   "outputs": [
    {
     "data": {
      "text/plain": [
       "array([1, 2, 3], dtype=int32)"
      ]
     },
     "execution_count": 50,
     "metadata": {},
     "output_type": "execute_result"
    }
   ],
   "source": [
    "arr3 = np.array([1.1,2.2,3.3])\n",
    "arr3.astype('i')"
   ]
  },
  {
   "cell_type": "code",
   "execution_count": 51,
   "id": "068915aa-8c4e-4c9e-a133-430ffb08de13",
   "metadata": {},
   "outputs": [
    {
     "data": {
      "text/plain": [
       "array([ True, False,  True])"
      ]
     },
     "execution_count": 51,
     "metadata": {},
     "output_type": "execute_result"
    }
   ],
   "source": [
    "arr4 = np.array([1,0,3])\n",
    "arr4.astype(bool)"
   ]
  },
  {
   "cell_type": "markdown",
   "id": "1e3ea6f5-3c79-4762-9fff-b438e8fe98cd",
   "metadata": {},
   "source": [
    "The main difference between a copy and a view of an array is that the copy is a new array, and the view is just a view of the original array."
   ]
  },
  {
   "cell_type": "code",
   "execution_count": 52,
   "id": "c15b2f87-3766-4c0d-bfa2-e89edc11e404",
   "metadata": {},
   "outputs": [
    {
     "name": "stdout",
     "output_type": "stream",
     "text": [
      "[1 2 3 4]\n",
      "[1 2 3 4]\n"
     ]
    }
   ],
   "source": [
    "arr = np.array([1,2,3,4])\n",
    "x = arr.copy()\n",
    "print(arr)\n",
    "print(x)"
   ]
  },
  {
   "cell_type": "code",
   "execution_count": 53,
   "id": "65a24a81-6cf6-431a-b14b-5ce8c84f53a5",
   "metadata": {},
   "outputs": [
    {
     "name": "stdout",
     "output_type": "stream",
     "text": [
      "[1 2 3 4]\n",
      "[1 2 3 4]\n"
     ]
    }
   ],
   "source": [
    "arr = np.array([1,2,3,4])\n",
    "x = arr.view()\n",
    "print(arr)\n",
    "print(x)"
   ]
  },
  {
   "cell_type": "code",
   "execution_count": 54,
   "id": "5c700dd8-175e-4fa1-9274-5682331dd10f",
   "metadata": {},
   "outputs": [
    {
     "name": "stdout",
     "output_type": "stream",
     "text": [
      "[42  2  3  4]\n"
     ]
    }
   ],
   "source": [
    "x[0] = 42\n",
    "print(x)"
   ]
  },
  {
   "cell_type": "code",
   "execution_count": 55,
   "id": "ff131dad-6bfc-4d81-aab0-bb0c07db6651",
   "metadata": {},
   "outputs": [
    {
     "name": "stdout",
     "output_type": "stream",
     "text": [
      "[42  2  3  4]\n"
     ]
    }
   ],
   "source": [
    "print(arr)"
   ]
  },
  {
   "cell_type": "code",
   "execution_count": 56,
   "id": "cd5085a8-d214-4386-a766-e0af94881371",
   "metadata": {},
   "outputs": [],
   "source": [
    "arr = np.array([1,2,3,4,5])\n",
    "x = arr.copy()\n",
    "y = arr.view()"
   ]
  },
  {
   "cell_type": "code",
   "execution_count": 57,
   "id": "dbb36c5b-8c48-414e-bdab-42f9f99e1f0a",
   "metadata": {},
   "outputs": [
    {
     "name": "stdout",
     "output_type": "stream",
     "text": [
      "None\n"
     ]
    }
   ],
   "source": [
    "print(x.base)\n",
    "#The copy returns None.\n",
    "#The view returns the original array."
   ]
  },
  {
   "cell_type": "code",
   "execution_count": 58,
   "id": "1e4f9a1f-ffd5-4994-af52-f6e9fe0e49cc",
   "metadata": {},
   "outputs": [
    {
     "name": "stdout",
     "output_type": "stream",
     "text": [
      "[1 2 3 4 5]\n"
     ]
    }
   ],
   "source": [
    "print(y.base)"
   ]
  },
  {
   "cell_type": "code",
   "execution_count": 59,
   "id": "d2437786-e347-4684-8540-076adbbc0328",
   "metadata": {},
   "outputs": [
    {
     "name": "stdout",
     "output_type": "stream",
     "text": [
      "(5,)\n"
     ]
    }
   ],
   "source": [
    "print(arr.shape)"
   ]
  },
  {
   "cell_type": "code",
   "execution_count": 60,
   "id": "dc13f450-62d3-4837-82bb-17d57ff6dca6",
   "metadata": {},
   "outputs": [
    {
     "name": "stdout",
     "output_type": "stream",
     "text": [
      "[[[[[1 2 3 4]]]]]\n",
      "shape of array : (1, 1, 1, 1, 4)\n"
     ]
    }
   ],
   "source": [
    "arr = np.array([1, 2, 3, 4], ndmin=5)\n",
    "\n",
    "print(arr)\n",
    "print('shape of array :', arr.shape)"
   ]
  },
  {
   "cell_type": "code",
   "execution_count": 61,
   "id": "0dafed5c-b965-48cc-8d1b-96846a133222",
   "metadata": {},
   "outputs": [
    {
     "name": "stdout",
     "output_type": "stream",
     "text": [
      "[[ 1  2  3  4]\n",
      " [ 5  6  7  8]\n",
      " [ 9 10 11 12]]\n"
     ]
    }
   ],
   "source": [
    "arr = np.array([1,2,3,4,5,6,7,8,9,10,11,12])\n",
    "x = arr.reshape(3,4)\n",
    "print(x)"
   ]
  },
  {
   "cell_type": "code",
   "execution_count": 62,
   "id": "d1d9544d-6690-4938-ac97-ff792a15f2d2",
   "metadata": {},
   "outputs": [
    {
     "name": "stdout",
     "output_type": "stream",
     "text": [
      "1\n",
      "2\n",
      "3\n",
      "4\n",
      "7\n",
      "8\n",
      "9\n",
      "4\n"
     ]
    }
   ],
   "source": [
    "arr = np.array([[1,2,3,4],[7,8,9,4]])\n",
    "for x in arr:\n",
    "    for y in x:\n",
    "        print(y)"
   ]
  },
  {
   "cell_type": "code",
   "execution_count": 63,
   "id": "2bd2d802-f76e-445c-9979-1484652fbe5a",
   "metadata": {},
   "outputs": [],
   "source": [
    "arr = np.array([[[1,2,3,4],[7,8,9,4]],[[1,2,7,8],[8,5,6,9]]])"
   ]
  },
  {
   "cell_type": "code",
   "execution_count": 64,
   "id": "2049c0a3-2ceb-4bdf-818d-35b76ba86cc7",
   "metadata": {},
   "outputs": [
    {
     "data": {
      "text/plain": [
       "3"
      ]
     },
     "execution_count": 64,
     "metadata": {},
     "output_type": "execute_result"
    }
   ],
   "source": [
    "arr.ndim"
   ]
  },
  {
   "cell_type": "code",
   "execution_count": 65,
   "id": "5593132e-b608-498e-8d3e-9657e56ce663",
   "metadata": {},
   "outputs": [
    {
     "name": "stdout",
     "output_type": "stream",
     "text": [
      "1\n",
      "2\n",
      "3\n",
      "4\n",
      "7\n",
      "8\n",
      "9\n",
      "4\n",
      "1\n",
      "2\n",
      "7\n",
      "8\n",
      "8\n",
      "5\n",
      "6\n",
      "9\n"
     ]
    }
   ],
   "source": [
    "for x in arr:\n",
    "    for y in x:\n",
    "        for z in y:\n",
    "            print(z)"
   ]
  },
  {
   "cell_type": "code",
   "execution_count": 66,
   "id": "a84041bc-5eac-4bc4-9ea1-077b972b2003",
   "metadata": {},
   "outputs": [
    {
     "name": "stdout",
     "output_type": "stream",
     "text": [
      "1\n",
      "2\n",
      "3\n",
      "4\n",
      "7\n",
      "8\n",
      "9\n",
      "4\n",
      "1\n",
      "2\n",
      "7\n",
      "8\n",
      "8\n",
      "5\n",
      "6\n",
      "9\n"
     ]
    }
   ],
   "source": [
    "for x in np.nditer(arr):\n",
    "    print(x)"
   ]
  },
  {
   "cell_type": "code",
   "execution_count": 67,
   "id": "6881cc1a-b6c7-4ec4-b96e-3431eba2f597",
   "metadata": {},
   "outputs": [
    {
     "name": "stdout",
     "output_type": "stream",
     "text": [
      "1\n",
      "2\n",
      "3\n"
     ]
    }
   ],
   "source": [
    "arr = np.array([1,2,3])\n",
    "for i in np.nditer(arr, flags = ['buffered'], op_dtypes = ['i']):\n",
    "    print(i)"
   ]
  },
  {
   "cell_type": "code",
   "execution_count": 68,
   "id": "c4ae518d-de7f-4a81-92ef-da4c557c2545",
   "metadata": {},
   "outputs": [
    {
     "name": "stdout",
     "output_type": "stream",
     "text": [
      "1\n",
      "2\n",
      "3\n",
      "4\n",
      "5\n",
      "6\n",
      "4\n",
      "8\n",
      "9\n",
      "7\n",
      "5\n",
      "3\n"
     ]
    }
   ],
   "source": [
    "arr = np.array([[[1,2,3],[4,5,6]],[[4,8,9],[7,5,3]]])\n",
    "for i in np.nditer(arr, flags = ['buffered'], op_dtypes = ['i']):\n",
    "    print(i)"
   ]
  },
  {
   "cell_type": "code",
   "execution_count": 69,
   "id": "855a4b7c-90da-4b8b-a964-2e6653bc6c68",
   "metadata": {},
   "outputs": [
    {
     "name": "stdout",
     "output_type": "stream",
     "text": [
      "(0, 0, 0) 1\n",
      "(0, 0, 1) 2\n",
      "(0, 0, 2) 3\n",
      "(0, 1, 0) 4\n",
      "(0, 1, 1) 5\n",
      "(0, 1, 2) 6\n",
      "(1, 0, 0) 4\n",
      "(1, 0, 1) 8\n",
      "(1, 0, 2) 9\n",
      "(1, 1, 0) 7\n",
      "(1, 1, 1) 5\n",
      "(1, 1, 2) 3\n"
     ]
    }
   ],
   "source": [
    "arr = np.array([[[1,2,3],[4,5,6]],[[4,8,9],[7,5,3]]])\n",
    "for idx, x in np.ndenumerate(arr):\n",
    "    print(idx, x)"
   ]
  },
  {
   "cell_type": "code",
   "execution_count": 70,
   "id": "30815f5c-432b-4e70-b39a-4bf190160a2c",
   "metadata": {},
   "outputs": [
    {
     "name": "stdout",
     "output_type": "stream",
     "text": [
      "[1 2 4 4 5 6]\n"
     ]
    }
   ],
   "source": [
    "arr1 = np.array([1,2,4])\n",
    "arr2 = np.array([4,5,6])\n",
    "arr = np.concatenate((arr1, arr2))\n",
    "print(arr)"
   ]
  },
  {
   "cell_type": "code",
   "execution_count": 71,
   "id": "bfc41a82-830a-4d53-90a9-23a67241474c",
   "metadata": {},
   "outputs": [
    {
     "name": "stdout",
     "output_type": "stream",
     "text": [
      "[[1 2 7 8]\n",
      " [4 5 9 4]]\n"
     ]
    }
   ],
   "source": [
    "arr1 = np.array([[1,2],[4,5]])\n",
    "arr2 = np.array([[7,8],[9,4]])\n",
    "arr = np.concatenate((arr1, arr2), axis = 1)\n",
    "print(arr)"
   ]
  },
  {
   "cell_type": "code",
   "execution_count": 72,
   "id": "0bf71174-10c4-45fb-95cb-06c1126248c4",
   "metadata": {},
   "outputs": [
    {
     "name": "stdout",
     "output_type": "stream",
     "text": [
      "[[1 4]\n",
      " [2 5]\n",
      " [4 6]]\n"
     ]
    }
   ],
   "source": [
    "arr1 = np.array([1,2,4])\n",
    "arr2 = np.array([4,5,6])\n",
    "arr = np.stack((arr1, arr2), axis =1)\n",
    "print(arr)"
   ]
  },
  {
   "cell_type": "code",
   "execution_count": 73,
   "id": "e5c97742-6ef8-4d0a-ab75-c4b1bcb48e5f",
   "metadata": {},
   "outputs": [
    {
     "name": "stdout",
     "output_type": "stream",
     "text": [
      "[1 2 4 4 5 6]\n"
     ]
    }
   ],
   "source": [
    "arr1 = np.array([1,2,4])\n",
    "arr2 = np.array([4,5,6])\n",
    "arr = np.hstack((arr1, arr2))\n",
    "print(arr)"
   ]
  },
  {
   "cell_type": "code",
   "execution_count": 74,
   "id": "5aff5bf3-5616-4652-8840-27ab50a41f42",
   "metadata": {},
   "outputs": [
    {
     "name": "stdout",
     "output_type": "stream",
     "text": [
      "[[1 2 4]\n",
      " [4 5 6]]\n"
     ]
    }
   ],
   "source": [
    "arr1 = np.array([1,2,4])\n",
    "arr2 = np.array([4,5,6])\n",
    "arr = np.vstack((arr1, arr2))\n",
    "print(arr)"
   ]
  },
  {
   "cell_type": "code",
   "execution_count": 75,
   "id": "440bc4b8-0a0c-4be0-b03b-c76100d679b0",
   "metadata": {},
   "outputs": [
    {
     "name": "stdout",
     "output_type": "stream",
     "text": [
      "[[1 2 4]\n",
      " [4 5 6]]\n"
     ]
    }
   ],
   "source": [
    "arr1 = np.array([1,2,4])\n",
    "arr2 = np.array([4,5,6])\n",
    "arr = np.stack((arr1, arr2))\n",
    "print(arr)"
   ]
  },
  {
   "cell_type": "code",
   "execution_count": 76,
   "id": "9aa682fe-a1f9-41f7-8f63-11e03e4aa811",
   "metadata": {},
   "outputs": [
    {
     "name": "stdout",
     "output_type": "stream",
     "text": [
      "[[[1 4]\n",
      "  [2 5]\n",
      "  [4 6]]]\n"
     ]
    }
   ],
   "source": [
    "arr1 = np.array([1,2,4])\n",
    "arr2 = np.array([4,5,6])\n",
    "arr = np.dstack((arr1, arr2))\n",
    "print(arr)"
   ]
  },
  {
   "cell_type": "code",
   "execution_count": 77,
   "id": "f08e03ae-abd2-4cb5-92b3-17826ad5d5f0",
   "metadata": {},
   "outputs": [
    {
     "name": "stdout",
     "output_type": "stream",
     "text": [
      "[array([1, 2, 3]), array([4, 5, 6])]\n"
     ]
    }
   ],
   "source": [
    "arr = np.array([1,2,3,4,5,6])\n",
    "new_arr = np.array_split(arr,2)\n",
    "print(new_arr)"
   ]
  },
  {
   "cell_type": "code",
   "execution_count": 78,
   "id": "744395db-a649-44e8-ac4d-4e1ec5b45a49",
   "metadata": {},
   "outputs": [
    {
     "name": "stdout",
     "output_type": "stream",
     "text": [
      "[array([[1, 2]]), array([[4, 5]])]\n"
     ]
    }
   ],
   "source": [
    "arr = np.array([[1,2],[4,5]])\n",
    "new_arr = np.array_split(arr, 2)\n",
    "print(new_arr)"
   ]
  },
  {
   "cell_type": "code",
   "execution_count": 79,
   "id": "b9468b5b-4174-499c-826d-6350895a426e",
   "metadata": {},
   "outputs": [
    {
     "name": "stdout",
     "output_type": "stream",
     "text": [
      "[array([[ 1,  2],\n",
      "       [ 4,  5],\n",
      "       [ 7,  8],\n",
      "       [10, 11],\n",
      "       [13, 14],\n",
      "       [16, 17]]), array([[ 3],\n",
      "       [ 6],\n",
      "       [ 9],\n",
      "       [12],\n",
      "       [15],\n",
      "       [18]])]\n"
     ]
    }
   ],
   "source": [
    "arr = np.array([[1, 2, 3], [4, 5, 6], [7, 8, 9], [10, 11, 12], [13, 14, 15], [16, 17, 18]])\n",
    "\n",
    "new_arr = np.array_split(arr,2, axis = 1)\n",
    "print(new_arr)"
   ]
  },
  {
   "cell_type": "code",
   "execution_count": 80,
   "id": "c11763fe-10fb-420e-b15f-2bc40aa025e7",
   "metadata": {},
   "outputs": [
    {
     "name": "stdout",
     "output_type": "stream",
     "text": [
      "[array([[ 1],\n",
      "       [ 4],\n",
      "       [ 7],\n",
      "       [10],\n",
      "       [13],\n",
      "       [16]]), array([[ 2],\n",
      "       [ 5],\n",
      "       [ 8],\n",
      "       [11],\n",
      "       [14],\n",
      "       [17]]), array([[ 3],\n",
      "       [ 6],\n",
      "       [ 9],\n",
      "       [12],\n",
      "       [15],\n",
      "       [18]])]\n"
     ]
    }
   ],
   "source": [
    "new_arr = np.hsplit(arr,3)\n",
    "print(new_arr)"
   ]
  },
  {
   "cell_type": "code",
   "execution_count": 81,
   "id": "b3d79807-b4ba-49bf-a42a-7a68c150d224",
   "metadata": {},
   "outputs": [
    {
     "name": "stdout",
     "output_type": "stream",
     "text": [
      "[array([[1, 2, 3],\n",
      "       [4, 5, 6]]), array([[ 7,  8,  9],\n",
      "       [10, 11, 12]]), array([[13, 14, 15],\n",
      "       [16, 17, 18]])]\n"
     ]
    }
   ],
   "source": [
    "new_arr = np.vsplit(arr,3)\n",
    "print(new_arr)"
   ]
  },
  {
   "cell_type": "code",
   "execution_count": 82,
   "id": "2d9b126d-ef94-4160-8f8f-b435c437122b",
   "metadata": {},
   "outputs": [
    {
     "name": "stdout",
     "output_type": "stream",
     "text": [
      "(array([3, 7], dtype=int64),)\n"
     ]
    }
   ],
   "source": [
    "arr = np.array([7,8,9,4,5,2,1,4])\n",
    "x = np.where( arr ==4)\n",
    "print(x)"
   ]
  },
  {
   "cell_type": "code",
   "execution_count": 83,
   "id": "3f2f6940-747a-4bbb-993e-929448c604fc",
   "metadata": {},
   "outputs": [
    {
     "name": "stdout",
     "output_type": "stream",
     "text": [
      "(array([ 0,  2,  4,  6,  8, 10, 12], dtype=int64),)\n"
     ]
    }
   ],
   "source": [
    "arr = np.arange(1,15)\n",
    "x = np.where(arr % 2 != 0)\n",
    "print(x)"
   ]
  },
  {
   "cell_type": "code",
   "execution_count": 84,
   "id": "0fcd4a4a-0a55-4cd4-88db-401540666483",
   "metadata": {},
   "outputs": [
    {
     "name": "stdout",
     "output_type": "stream",
     "text": [
      "(array([ 1,  3,  5,  7,  9, 11, 13], dtype=int64),)\n"
     ]
    }
   ],
   "source": [
    "arr = np.arange(1,15)\n",
    "x = np.where(arr % 2 == 0)\n",
    "print(x)"
   ]
  },
  {
   "cell_type": "code",
   "execution_count": 85,
   "id": "f74fdc94-a837-4d99-a5bc-ff49a87019c5",
   "metadata": {},
   "outputs": [
    {
     "name": "stdout",
     "output_type": "stream",
     "text": [
      "3\n"
     ]
    }
   ],
   "source": [
    "arr = np.array([6,7,8,9])\n",
    "x = np.searchsorted(arr,9)\n",
    "print(x)"
   ]
  },
  {
   "cell_type": "code",
   "execution_count": 86,
   "id": "6dbd5320-8fe0-4fa4-a715-99059c7f939c",
   "metadata": {},
   "outputs": [
    {
     "name": "stdout",
     "output_type": "stream",
     "text": [
      "4\n"
     ]
    }
   ],
   "source": [
    "y = np.searchsorted(arr, 11, side = 'right')\n",
    "print(y)"
   ]
  },
  {
   "cell_type": "code",
   "execution_count": 87,
   "id": "dd3503e1-22bd-4be0-b365-a27e73ad6954",
   "metadata": {},
   "outputs": [
    {
     "name": "stdout",
     "output_type": "stream",
     "text": [
      "[3 1 2 3]\n"
     ]
    }
   ],
   "source": [
    "arr = np.array([1,3,5,7])\n",
    "x = np.searchsorted(arr, [7,2,4,6])\n",
    "print(x)"
   ]
  },
  {
   "cell_type": "code",
   "execution_count": 88,
   "id": "9fc59b49-7e21-4ca8-afd2-ecbc6dffae16",
   "metadata": {},
   "outputs": [
    {
     "name": "stdout",
     "output_type": "stream",
     "text": [
      "[1 1 2 3 4 4 5 7 9]\n"
     ]
    }
   ],
   "source": [
    "arr = np.array([1,4,2,7,5,9,4,1,3])\n",
    "print(np.sort(arr))"
   ]
  },
  {
   "cell_type": "code",
   "execution_count": 89,
   "id": "1ed2b7d9-fdcc-4af6-a5d1-60e7964061e4",
   "metadata": {},
   "outputs": [
    {
     "name": "stdout",
     "output_type": "stream",
     "text": [
      "['apple' 'banana' 'cherry']\n"
     ]
    }
   ],
   "source": [
    "arr = np.array(['banana', 'apple', 'cherry'])\n",
    "print(np.sort(arr))"
   ]
  },
  {
   "cell_type": "code",
   "execution_count": 90,
   "id": "7d826d92-d3a0-425e-bf76-5b69c4464262",
   "metadata": {},
   "outputs": [
    {
     "name": "stdout",
     "output_type": "stream",
     "text": [
      "[False  True  True]\n"
     ]
    }
   ],
   "source": [
    "arr = np.array([True, False, True])\n",
    "print(np.sort(arr))"
   ]
  },
  {
   "cell_type": "code",
   "execution_count": 91,
   "id": "7436a1fe-a176-4f40-ad30-00377cc6ab79",
   "metadata": {},
   "outputs": [
    {
     "name": "stdout",
     "output_type": "stream",
     "text": [
      "[[2 3 4]\n",
      " [2 7 9]]\n"
     ]
    }
   ],
   "source": [
    "arr = np.array([[3,2,4], [7,2,9]])\n",
    "print(np.sort(arr))"
   ]
  },
  {
   "cell_type": "code",
   "execution_count": 92,
   "id": "d2431662-e3a4-4a46-88c3-3154a7bf2e92",
   "metadata": {},
   "outputs": [
    {
     "name": "stdout",
     "output_type": "stream",
     "text": [
      "[1 4 6]\n"
     ]
    }
   ],
   "source": [
    "arr = np.array([1,4,8,6,7])\n",
    "new_arr = [True, True, False, True, False]\n",
    "arr1 = arr[new_arr]\n",
    "print(arr1)"
   ]
  },
  {
   "cell_type": "code",
   "execution_count": 93,
   "id": "d033e5e2-df27-4912-9bba-163d79f26c1a",
   "metadata": {},
   "outputs": [
    {
     "name": "stdout",
     "output_type": "stream",
     "text": [
      "[False, False, True, True]\n",
      "[43 44]\n"
     ]
    }
   ],
   "source": [
    "arr = np.array([41,42,43,44])\n",
    "filter_arr = []\n",
    "for i in arr:\n",
    "    if i >42:\n",
    "        filter_arr.append(True)\n",
    "    else:\n",
    "        filter_arr.append(False)\n",
    "new_arr = arr[filter_arr]\n",
    "print(filter_arr)\n",
    "print(new_arr)"
   ]
  },
  {
   "cell_type": "code",
   "execution_count": 94,
   "id": "62b9d5bd-0899-4816-8279-e3b1e55cd842",
   "metadata": {},
   "outputs": [
    {
     "name": "stdout",
     "output_type": "stream",
     "text": [
      "[1 2 3 4 5 6 7]\n",
      "[False, True, False, True, False, True, False]\n",
      "[2 4 6]\n"
     ]
    }
   ],
   "source": [
    "arr = np.array([1,2,3,4,5,6,7])\n",
    "filter_arr = []\n",
    "\n",
    "for i in arr:\n",
    "    if i % 2 == 0:\n",
    "        filter_arr.append(True)\n",
    "    else:\n",
    "        filter_arr.append(False)\n",
    "new_arr = arr[filter_arr]\n",
    "print(arr)\n",
    "print(filter_arr)\n",
    "print(new_arr)"
   ]
  },
  {
   "cell_type": "code",
   "execution_count": 95,
   "id": "3945dd8a-3f12-44a5-b19b-49e5a3f4b6ad",
   "metadata": {},
   "outputs": [
    {
     "name": "stdout",
     "output_type": "stream",
     "text": [
      "[43 44]\n"
     ]
    }
   ],
   "source": [
    "arr = np.array([41,42,43,44])\n",
    "filter_arr = arr > 42\n",
    "\n",
    "new_arr = arr[filter_arr]\n",
    "print(new_arr)"
   ]
  },
  {
   "cell_type": "markdown",
   "id": "303b046e-2ca3-425c-8b8e-1003d4d34c07",
   "metadata": {},
   "source": [
    "Random number does NOT mean a different number every time. Random means \n",
    "something that can not be predicted logically."
   ]
  },
  {
   "cell_type": "code",
   "execution_count": 96,
   "id": "b68a67e6-f3ad-4fe5-8346-09f158c76b0f",
   "metadata": {},
   "outputs": [],
   "source": [
    "import random"
   ]
  },
  {
   "cell_type": "code",
   "execution_count": 97,
   "id": "093541cf-adcb-46e4-80e8-edbcae40f54f",
   "metadata": {},
   "outputs": [
    {
     "name": "stdout",
     "output_type": "stream",
     "text": [
      "35\n"
     ]
    }
   ],
   "source": [
    "x= random.randint(0,100)\n",
    "print(x)"
   ]
  },
  {
   "cell_type": "code",
   "execution_count": 98,
   "id": "e35973b6-a281-4216-bf46-2f824dbff115",
   "metadata": {},
   "outputs": [],
   "source": [
    "from numpy import random"
   ]
  },
  {
   "cell_type": "code",
   "execution_count": 99,
   "id": "220245ff-da6e-42a9-88c3-8ab571328057",
   "metadata": {},
   "outputs": [
    {
     "name": "stdout",
     "output_type": "stream",
     "text": [
      "0.5699156999747079\n"
     ]
    }
   ],
   "source": [
    "x = random.rand()\n",
    "print(x)"
   ]
  },
  {
   "cell_type": "code",
   "execution_count": 100,
   "id": "9ef994ff-7f19-4b5e-8eae-60918881a3ea",
   "metadata": {},
   "outputs": [
    {
     "name": "stdout",
     "output_type": "stream",
     "text": [
      "[[11 44 59 17 37]\n",
      " [63 82 69  6 32]\n",
      " [90 78 32  6 61]]\n"
     ]
    }
   ],
   "source": [
    "x = random.randint(100, size = (3,5))\n",
    "print(x)"
   ]
  },
  {
   "cell_type": "code",
   "execution_count": 101,
   "id": "72f85738-862a-4c53-b083-05fcac32daa7",
   "metadata": {},
   "outputs": [
    {
     "name": "stdout",
     "output_type": "stream",
     "text": [
      "[0.56405408 0.15157618 0.32705875 0.50477917 0.9551688 ]\n"
     ]
    }
   ],
   "source": [
    "x = random.rand(5)\n",
    "print(x)"
   ]
  },
  {
   "cell_type": "code",
   "execution_count": 102,
   "id": "b38f11bd-f734-4652-a085-9560a919f348",
   "metadata": {},
   "outputs": [
    {
     "name": "stdout",
     "output_type": "stream",
     "text": [
      "[[0.32419313 0.53527429 0.41151715 0.23903763 0.77891657]\n",
      " [0.82570034 0.20595985 0.73223221 0.97581054 0.49531413]\n",
      " [0.00954208 0.79157968 0.99071071 0.41845312 0.49400463]]\n"
     ]
    }
   ],
   "source": [
    "x = random.rand(3,5)\n",
    "print(x)"
   ]
  },
  {
   "cell_type": "markdown",
   "id": "1609754d-d725-416a-bf76-2a1322a283f4",
   "metadata": {},
   "source": [
    "The choice() method allows you to generate a\n",
    "random value based on an array of values."
   ]
  },
  {
   "cell_type": "code",
   "execution_count": 103,
   "id": "b7c1b88b-9ad6-474d-b7d3-4951e31f297c",
   "metadata": {},
   "outputs": [
    {
     "name": "stdout",
     "output_type": "stream",
     "text": [
      "8\n"
     ]
    }
   ],
   "source": [
    "x = random.choice([3,5,7,8,9])\n",
    "print(x)"
   ]
  },
  {
   "cell_type": "code",
   "execution_count": 104,
   "id": "7bae618f-333e-4b00-9aff-a65095e58a52",
   "metadata": {},
   "outputs": [
    {
     "name": "stdout",
     "output_type": "stream",
     "text": [
      "[3 5 7 5 5 7 5 5 7 5 3 8 7 7 5 3 7 3 5 8 7 3 5 7 5 7 5 7 7 7 7 3 7 5 8 8 8\n",
      " 7 7 5 7 3 5 7 7 5 8 5 5 7]\n"
     ]
    }
   ],
   "source": [
    "x = random.choice([3,5,7,8,9], p = [0.1,0.3,0.5,0.1,0.0], size = (50))\n",
    "print(x)"
   ]
  },
  {
   "cell_type": "code",
   "execution_count": 105,
   "id": "607bea1f-785a-4e1e-a892-a1c1cc80c1e5",
   "metadata": {},
   "outputs": [
    {
     "name": "stdout",
     "output_type": "stream",
     "text": [
      "[[5 7 8 5 3]\n",
      " [9 7 5 5 7]\n",
      " [7 7 7 7 7]]\n"
     ]
    }
   ],
   "source": [
    "x = random.choice([3,5,7,8,9], p = [0.1,0.3,0.4,0.1,0.1], size = (3,5))\n",
    "print(x)"
   ]
  },
  {
   "cell_type": "code",
   "execution_count": 106,
   "id": "1131b6de-33de-4409-9801-16e6b13fccfb",
   "metadata": {},
   "outputs": [
    {
     "name": "stdout",
     "output_type": "stream",
     "text": [
      "[3 1 2 5 4]\n"
     ]
    }
   ],
   "source": [
    "arr = np.array([1,2,3,4,5]) #Shuffle means changing arrangement of elements in-place. i.e. in the array itself.\n",
    "random.shuffle(arr)\n",
    "print(arr)"
   ]
  },
  {
   "cell_type": "code",
   "execution_count": 107,
   "id": "6fb9e400-ac3e-46f4-882c-d01841abd88e",
   "metadata": {},
   "outputs": [],
   "source": [
    "#The permutation() method returns a re-arranged array (and leaves the original array un-changed)."
   ]
  },
  {
   "cell_type": "code",
   "execution_count": 108,
   "id": "6c8458a8-3fd4-4113-a424-19207efb1924",
   "metadata": {},
   "outputs": [
    {
     "name": "stdout",
     "output_type": "stream",
     "text": [
      "[3 1 2 5 4]\n"
     ]
    }
   ],
   "source": [
    "random.permutation(arr)\n",
    "print(arr)"
   ]
  },
  {
   "cell_type": "code",
   "execution_count": 109,
   "id": "bd5de29a-3dcc-4524-a233-2f21f1281b9c",
   "metadata": {},
   "outputs": [],
   "source": [
    "import matplotlib.pyplot as plt\n",
    "import seaborn as sns"
   ]
  },
  {
   "cell_type": "code",
   "execution_count": 110,
   "id": "4bf33c00-cb38-43f8-8482-bc019e1d0b1a",
   "metadata": {},
   "outputs": [
    {
     "name": "stderr",
     "output_type": "stream",
     "text": [
      "C:\\Users\\jalpa\\AppData\\Local\\Temp\\ipykernel_6072\\1522683222.py:1: UserWarning: \n",
      "\n",
      "`distplot` is a deprecated function and will be removed in seaborn v0.14.0.\n",
      "\n",
      "Please adapt your code to use either `displot` (a figure-level function with\n",
      "similar flexibility) or `histplot` (an axes-level function for histograms).\n",
      "\n",
      "For a guide to updating your code to use the new functions, please see\n",
      "https://gist.github.com/mwaskom/de44147ed2974457ad6372750bbe5751\n",
      "\n",
      "  sns.distplot([1,2,3,4,5,6])\n"
     ]
    },
    {
     "data": {
      "image/png": "[encoded data removed]",
      "text/plain": [
       "<Figure size 640x480 with 1 Axes>"
      ]
     },
     "metadata": {},
     "output_type": "display_data"
    }
   ],
   "source": [
    "sns.distplot([1,2,3,4,5,6])\n",
    "plt.show()"
   ]
  },
  {
   "cell_type": "code",
   "execution_count": 111,
   "id": "23e00917-2db2-477a-a76e-7e45d6054c22",
   "metadata": {},
   "outputs": [
    {
     "name": "stderr",
     "output_type": "stream",
     "text": [
      "C:\\Users\\jalpa\\AppData\\Local\\Temp\\ipykernel_6072\\3446041121.py:1: UserWarning: \n",
      "\n",
      "`distplot` is a deprecated function and will be removed in seaborn v0.14.0.\n",
      "\n",
      "Please adapt your code to use either `displot` (a figure-level function with\n",
      "similar flexibility) or `kdeplot` (an axes-level function for kernel density plots).\n",
      "\n",
      "For a guide to updating your code to use the new functions, please see\n",
      "https://gist.github.com/mwaskom/de44147ed2974457ad6372750bbe5751\n",
      "\n",
      "  sns.distplot([1,2,3,4,5,6], hist = False)\n"
     ]
    },
    {
     "data": {
      "image/png": "[encoded data removed]",
      "text/plain": [
       "<Figure size 640x480 with 1 Axes>"
      ]
     },
     "metadata": {},
     "output_type": "display_data"
    }
   ],
   "source": [
    "sns.distplot([1,2,3,4,5,6], hist = False)\n",
    "plt.show()"
   ]
  },
  {
   "cell_type": "code",
   "execution_count": 112,
   "id": "efcce176-944d-40fb-9118-8600d7ad8e2e",
   "metadata": {},
   "outputs": [
    {
     "name": "stdout",
     "output_type": "stream",
     "text": [
      "[[ 0.37073     0.40936787  0.51687821]\n",
      " [-0.50846335  2.00217302 -1.21482925]]\n"
     ]
    }
   ],
   "source": [
    "x = random.normal(size = (2,3))\n",
    "print(x)"
   ]
  },
  {
   "cell_type": "code",
   "execution_count": 113,
   "id": "c8414777-3c4c-4dd7-9be7-51d85617ffde",
   "metadata": {},
   "outputs": [],
   "source": [
    "import numpy as np\n",
    "import matplotlib.pyplot as plt\n",
    "import seaborn as sns\n",
    "from numpy import random"
   ]
  },
  {
   "cell_type": "code",
   "execution_count": 114,
   "id": "6b81bc39-5a80-47a7-b9b2-9ef0c50c5dfd",
   "metadata": {},
   "outputs": [
    {
     "name": "stdout",
     "output_type": "stream",
     "text": [
      "[[ 0.76659684 -0.88347936 -0.63828253]\n",
      " [ 0.11876528  0.27055562  0.12854834]]\n"
     ]
    }
   ],
   "source": [
    "x = random.normal(size = (2,3))\n",
    "print(x)"
   ]
  },
  {
   "cell_type": "code",
   "execution_count": 115,
   "id": "10e99b39-e956-4846-8ae8-0dac34e31acc",
   "metadata": {},
   "outputs": [
    {
     "name": "stdout",
     "output_type": "stream",
     "text": [
      "[[ 1.60879652  2.43755685  3.7451038 ]\n",
      " [ 0.49449525  3.09557108 -2.09866498]]\n"
     ]
    }
   ],
   "source": [
    "x = random.normal(loc = 1, scale = 2, size = (2,3))\n",
    "print(x)"
   ]
  },
  {
   "cell_type": "code",
   "execution_count": 116,
   "id": "3a734bc2-6e12-43b7-987a-cb14275d0159",
   "metadata": {},
   "outputs": [
    {
     "name": "stderr",
     "output_type": "stream",
     "text": [
      "C:\\Users\\jalpa\\AppData\\Local\\Temp\\ipykernel_6072\\3336335762.py:1: UserWarning: \n",
      "\n",
      "`distplot` is a deprecated function and will be removed in seaborn v0.14.0.\n",
      "\n",
      "Please adapt your code to use either `displot` (a figure-level function with\n",
      "similar flexibility) or `kdeplot` (an axes-level function for kernel density plots).\n",
      "\n",
      "For a guide to updating your code to use the new functions, please see\n",
      "https://gist.github.com/mwaskom/de44147ed2974457ad6372750bbe5751\n",
      "\n",
      "  sns.distplot(random.normal(size = 1000), hist = False)\n"
     ]
    },
    {
     "data": {
      "image/png": "[encoded data removed]",
      "text/plain": [
       "<Figure size 640x480 with 1 Axes>"
      ]
     },
     "metadata": {},
     "output_type": "display_data"
    }
   ],
   "source": [
    "sns.distplot(random.normal(size = 1000), hist = False)\n",
    "plt.show()"
   ]
  },
  {
   "cell_type": "code",
   "execution_count": 120,
   "id": "1b595533-251b-406e-9898-52c088f165cf",
   "metadata": {},
   "outputs": [
    {
     "name": "stdout",
     "output_type": "stream",
     "text": [
      "[0 1 0 1 1 0 1 1 1 1]\n"
     ]
    }
   ],
   "source": [
    "x = random.binomial(n=1, p = 0.5, size = 10)\n",
    "print(x)"
   ]
  },
  {
   "cell_type": "code",
   "execution_count": 122,
   "id": "c69e2213-78b9-46f5-b302-3e5c41890b35",
   "metadata": {},
   "outputs": [
    {
     "name": "stderr",
     "output_type": "stream",
     "text": [
      "C:\\Users\\jalpa\\AppData\\Local\\Temp\\ipykernel_6072\\2532254198.py:1: UserWarning: \n",
      "\n",
      "`distplot` is a deprecated function and will be removed in seaborn v0.14.0.\n",
      "\n",
      "Please adapt your code to use either `displot` (a figure-level function with\n",
      "similar flexibility) or `histplot` (an axes-level function for histograms).\n",
      "\n",
      "For a guide to updating your code to use the new functions, please see\n",
      "https://gist.github.com/mwaskom/de44147ed2974457ad6372750bbe5751\n",
      "\n",
      "  sns.distplot(random.binomial(n=1, p = 0.5, size = 1000), hist = True, kde = False)\n"
     ]
    },
    {
     "data": {
      "text/plain": [
       "<Axes: >"
      ]
     },
     "execution_count": 122,
     "metadata": {},
     "output_type": "execute_result"
    },
    {
     "data": {
      "image/png": "[encoded data removed]",
      "text/plain": [
       "<Figure size 640x480 with 1 Axes>"
      ]
     },
     "metadata": {},
     "output_type": "display_data"
    }
   ],
   "source": [
    "sns.distplot(random.binomial(n=1, p = 0.5, size = 1000), hist = True, kde = False)"
   ]
  },
  {
   "cell_type": "code",
   "execution_count": 123,
   "id": "ef0e7eb5-9981-45ee-b169-bdb1b03b9624",
   "metadata": {},
   "outputs": [
    {
     "name": "stderr",
     "output_type": "stream",
     "text": [
      "C:\\Users\\jalpa\\AppData\\Local\\Temp\\ipykernel_6072\\294548008.py:1: UserWarning: \n",
      "\n",
      "`distplot` is a deprecated function and will be removed in seaborn v0.14.0.\n",
      "\n",
      "Please adapt your code to use either `displot` (a figure-level function with\n",
      "similar flexibility) or `kdeplot` (an axes-level function for kernel density plots).\n",
      "\n",
      "For a guide to updating your code to use the new functions, please see\n",
      "https://gist.github.com/mwaskom/de44147ed2974457ad6372750bbe5751\n",
      "\n",
      "  sns.distplot(random.normal(loc=50, scale = 5, size = 1000), hist = False, label = 'Normal')\n",
      "C:\\Users\\jalpa\\AppData\\Local\\Temp\\ipykernel_6072\\294548008.py:2: UserWarning: \n",
      "\n",
      "`distplot` is a deprecated function and will be removed in seaborn v0.14.0.\n",
      "\n",
      "Please adapt your code to use either `displot` (a figure-level function with\n",
      "similar flexibility) or `kdeplot` (an axes-level function for kernel density plots).\n",
      "\n",
      "For a guide to updating your code to use the new functions, please see\n",
      "https://gist.github.com/mwaskom/de44147ed2974457ad6372750bbe5751\n",
      "\n",
      "  sns.distplot(random.binomial(n=100, p= 0.5, size = 1000), hist = False, label = 'Binomial')\n"
     ]
    },
    {
     "data": {
      "image/png": "[encoded data removed]",
      "text/plain": [
       "<Figure size 640x480 with 1 Axes>"
      ]
     },
     "metadata": {},
     "output_type": "display_data"
    }
   ],
   "source": [
    "sns.distplot(random.normal(loc=50, scale = 5, size = 1000), hist = False, label = 'Normal')\n",
    "sns.distplot(random.binomial(n=100, p= 0.5, size = 1000), hist = False, label = 'Binomial')\n",
    "plt.show()"
   ]
  },
  {
   "cell_type": "code",
   "execution_count": 124,
   "id": "dad2da3c-ec17-40d4-aebc-a188348538ba",
   "metadata": {},
   "outputs": [
    {
     "name": "stdout",
     "output_type": "stream",
     "text": [
      "[4 4 1 2 0 3 1 4 3 1]\n"
     ]
    }
   ],
   "source": [
    "x = random.poisson(lam = 2, size = 10)\n",
    "print(x)"
   ]
  },
  {
   "cell_type": "code",
   "execution_count": 128,
   "id": "04b74450-eea1-4a94-b15a-1243d1b78b29",
   "metadata": {},
   "outputs": [
    {
     "name": "stderr",
     "output_type": "stream",
     "text": [
      "C:\\Users\\jalpa\\AppData\\Local\\Temp\\ipykernel_6072\\1638381646.py:1: UserWarning: \n",
      "\n",
      "`distplot` is a deprecated function and will be removed in seaborn v0.14.0.\n",
      "\n",
      "Please adapt your code to use either `displot` (a figure-level function with\n",
      "similar flexibility) or `histplot` (an axes-level function for histograms).\n",
      "\n",
      "For a guide to updating your code to use the new functions, please see\n",
      "https://gist.github.com/mwaskom/de44147ed2974457ad6372750bbe5751\n",
      "\n",
      "  sns.distplot(random.poisson(lam = 2, size = 100), kde =True, )\n"
     ]
    },
    {
     "data": {
      "text/plain": [
       "<Axes: ylabel='Density'>"
      ]
     },
     "execution_count": 128,
     "metadata": {},
     "output_type": "execute_result"
    },
    {
     "data": {
      "image/png": "[encoded data removed]",
      "text/plain": [
       "<Figure size 640x480 with 1 Axes>"
      ]
     },
     "metadata": {},
     "output_type": "display_data"
    }
   ],
   "source": [
    "\n",
    "sns.distplot(random.poisson(lam = 2, size = 100), kde =True, )"
   ]
  },
  {
   "cell_type": "code",
   "execution_count": 130,
   "id": "b5f9d3da-f71a-438f-8c53-e0c508197fb3",
   "metadata": {},
   "outputs": [
    {
     "name": "stderr",
     "output_type": "stream",
     "text": [
      "C:\\Users\\jalpa\\AppData\\Local\\Temp\\ipykernel_6072\\2260592241.py:1: UserWarning: \n",
      "\n",
      "`distplot` is a deprecated function and will be removed in seaborn v0.14.0.\n",
      "\n",
      "Please adapt your code to use either `displot` (a figure-level function with\n",
      "similar flexibility) or `kdeplot` (an axes-level function for kernel density plots).\n",
      "\n",
      "For a guide to updating your code to use the new functions, please see\n",
      "https://gist.github.com/mwaskom/de44147ed2974457ad6372750bbe5751\n",
      "\n",
      "  sns.distplot(random.normal(loc = 50, scale = 7, size = 1000), hist = False, label = \"Normal\")\n",
      "C:\\Users\\jalpa\\AppData\\Local\\Temp\\ipykernel_6072\\2260592241.py:2: UserWarning: \n",
      "\n",
      "`distplot` is a deprecated function and will be removed in seaborn v0.14.0.\n",
      "\n",
      "Please adapt your code to use either `displot` (a figure-level function with\n",
      "similar flexibility) or `kdeplot` (an axes-level function for kernel density plots).\n",
      "\n",
      "For a guide to updating your code to use the new functions, please see\n",
      "https://gist.github.com/mwaskom/de44147ed2974457ad6372750bbe5751\n",
      "\n",
      "  sns.distplot(random.poisson(lam = 50, size = 1000), hist =False, label = \"Poisson\")\n"
     ]
    },
    {
     "data": {
      "image/png": "[encoded data removed]",
      "text/plain": [
       "<Figure size 640x480 with 1 Axes>"
      ]
     },
     "metadata": {},
     "output_type": "display_data"
    }
   ],
   "source": [
    "\n",
    "sns.distplot(random.normal(loc = 50, scale = 7, size = 1000), hist = False, label = \"Normal\")\n",
    "sns.distplot(random.poisson(lam = 50, size = 1000), hist =False, label = \"Poisson\")\n",
    "plt.show()"
   ]
  },
  {
   "cell_type": "code",
   "execution_count": 132,
   "id": "399a03f9-c50b-4665-93ac-96a5214ae0e0",
   "metadata": {},
   "outputs": [
    {
     "name": "stdout",
     "output_type": "stream",
     "text": [
      "[9.01559676e-01 9.25173084e-01 6.34021084e-01 9.26071399e-01\n",
      " 8.49091425e-01 1.37564201e-01 2.34922724e-01 3.52940209e-01\n",
      " 2.40655614e-02 7.17320398e-01 4.67465133e-01 7.78729048e-01\n",
      " 6.96528464e-01 4.90533578e-01 4.05835663e-01 8.41621689e-01\n",
      " 9.20955021e-01 1.93445239e-01 3.18900834e-01 6.16025019e-01\n",
      " 3.71885141e-01 7.83944092e-01 1.11794389e-01 3.43859577e-01\n",
      " 5.43769044e-01 7.52228676e-01 9.40282446e-01 1.41083723e-02\n",
      " 3.54113509e-01 5.54335937e-02 2.42860468e-03 1.56257783e-01\n",
      " 5.12156836e-01 8.09521704e-01 9.61134884e-01 1.04087559e-01\n",
      " 1.80335573e-01 2.64747542e-01 3.96173268e-01 2.63858203e-01\n",
      " 5.04620642e-01 3.10680125e-01 8.18384644e-01 7.09700578e-01\n",
      " 6.09538462e-01 9.43858112e-02 3.97811439e-01 3.81971999e-01\n",
      " 9.46616273e-01 4.71462617e-01 5.29386394e-01 1.23861788e-01\n",
      " 5.61797044e-01 7.73951563e-02 4.20670991e-01 2.22299426e-01\n",
      " 7.77291401e-01 1.45911084e-01 4.68775596e-01 4.29171257e-01\n",
      " 9.68157111e-01 9.71031398e-01 9.69025049e-01 6.16162430e-01\n",
      " 6.02954728e-01 5.27999371e-02 7.80755113e-01 2.78067888e-01\n",
      " 5.56258905e-01 7.92748209e-01 3.97007558e-01 3.85887797e-01\n",
      " 3.87781647e-01 5.13500166e-01 4.69652021e-01 2.41562610e-01\n",
      " 9.33777172e-01 2.28720422e-01 4.49058078e-01 6.48042150e-01\n",
      " 3.55969218e-01 2.40339479e-01 3.28053453e-01 3.50832120e-01\n",
      " 1.44037852e-01 6.58257997e-01 1.97410438e-01 9.95507706e-01\n",
      " 2.39785555e-01 3.96787415e-01 1.95811284e-01 9.56790805e-01\n",
      " 1.74917014e-01 9.81821710e-01 5.66114152e-01 7.33442100e-01\n",
      " 1.56852576e-01 9.98864002e-01 5.28533753e-01 8.11647259e-01\n",
      " 9.33660939e-01 4.14093011e-01 1.79383227e-01 4.46606979e-01\n",
      " 1.22602127e-01 9.55126363e-01 1.59071932e-01 7.75488401e-01\n",
      " 8.42145142e-01 6.91233136e-01 2.41869409e-01 4.89467751e-01\n",
      " 6.24222847e-01 3.33935524e-01 1.14602090e-01 5.08065609e-01\n",
      " 6.22457082e-01 6.09882475e-02 7.87746759e-01 9.25574257e-01\n",
      " 3.73843776e-01 7.74584373e-02 3.37620071e-01 1.35702097e-01\n",
      " 1.38093180e-02 7.19677585e-01 8.33397901e-01 7.12489526e-01\n",
      " 8.20763848e-01 2.43476494e-01 1.90541349e-01 8.99207861e-01\n",
      " 7.90683042e-01 6.19659411e-01 2.46148136e-01 4.99056718e-01\n",
      " 5.15891916e-01 7.60236562e-01 5.02379681e-02 1.13634287e-01\n",
      " 8.48532948e-01 9.67763419e-01 4.74247132e-02 1.32627419e-01\n",
      " 8.56852100e-01 1.82151178e-01 5.60565137e-02 1.72800470e-01\n",
      " 8.79156540e-01 4.54140354e-01 1.73752881e-02 9.88777337e-01\n",
      " 9.51585972e-01 4.80073013e-01 2.20378465e-01 4.19542296e-01\n",
      " 8.20031655e-01 4.14783169e-01 7.71972581e-01 4.36239854e-01\n",
      " 1.90654369e-01 6.87349652e-02 7.32015638e-01 3.94828849e-01\n",
      " 5.71576208e-01 7.18904082e-01 4.13820393e-01 2.66408669e-01\n",
      " 1.19990408e-01 5.44464467e-01 5.75248389e-01 6.30145983e-01\n",
      " 9.23677271e-01 3.13782583e-01 4.78198961e-01 4.78054680e-01\n",
      " 1.19904822e-01 6.67021181e-01 3.70573181e-02 8.61875421e-01\n",
      " 2.65483247e-01 2.48326702e-02 1.57066461e-01 6.68333524e-01\n",
      " 7.97563574e-01 5.35968100e-01 3.52175229e-01 1.56079989e-01\n",
      " 2.01191382e-02 3.90937887e-01 2.08983795e-01 9.04935021e-01\n",
      " 4.56682365e-01 8.02188410e-01 7.04313028e-01 6.80630151e-02\n",
      " 7.83367304e-01 2.52009997e-01 6.67780196e-01 6.86055225e-01\n",
      " 6.14176380e-01 9.08290877e-01 6.54218786e-03 9.02571049e-01\n",
      " 6.51772902e-01 9.97757936e-01 6.48457204e-01 9.83771526e-01\n",
      " 9.71067245e-01 4.71040887e-01 7.32469275e-01 9.92425584e-02\n",
      " 3.22459945e-02 5.65087431e-02 5.06928911e-01 3.67120038e-01\n",
      " 5.71541123e-01 2.16805519e-01 1.06451638e-01 8.93137571e-01\n",
      " 3.92017309e-01 5.03664732e-01 9.80037783e-01 7.10128389e-01\n",
      " 3.82117198e-01 1.45975221e-01 3.29428315e-01 2.36169540e-01\n",
      " 8.57115851e-01 9.47054802e-01 7.57543431e-01 8.52177841e-01\n",
      " 7.04897350e-01 4.26556705e-01 8.59697441e-01 2.33508536e-01\n",
      " 9.43459951e-01 2.39992716e-01 7.61786660e-03 2.91862494e-01\n",
      " 1.65900633e-02 3.11443442e-01 7.77319440e-01 8.64207116e-01\n",
      " 6.76313110e-01 1.12641045e-01 6.54011930e-01 1.82204431e-02\n",
      " 8.28862697e-01 8.97901738e-01 7.15999270e-01 3.13437471e-01\n",
      " 6.57977008e-01 3.77178432e-02 6.04603305e-01 3.11929824e-01\n",
      " 6.61767440e-01 2.89878628e-01 6.15209388e-01 2.85912214e-01\n",
      " 8.45782866e-01 5.90197860e-01 4.01266124e-01 5.31695151e-01\n",
      " 1.63415871e-01 6.01750390e-01 7.02519588e-01 5.94912301e-01\n",
      " 8.65497212e-01 8.07857045e-01 7.54726105e-01 6.10083081e-01\n",
      " 5.04038990e-01 6.19213307e-01 7.07535824e-01 4.35490023e-01\n",
      " 9.50795649e-01 1.26028207e-01 9.98144715e-01 4.15746351e-01\n",
      " 2.44006361e-01 9.47209415e-01 6.45271915e-01 8.86144250e-01\n",
      " 6.39433310e-01 8.05597462e-01 1.05882991e-01 2.66401879e-01\n",
      " 9.24955933e-01 2.95863621e-01 4.68626059e-01 4.46207686e-01\n",
      " 4.97225863e-01 4.93754390e-01 5.66847006e-01 6.50724108e-01\n",
      " 5.01494380e-01 7.37634432e-01 7.81372787e-01 6.45866237e-01\n",
      " 8.06623297e-01 7.62474219e-01 3.34173865e-01 6.78301901e-01\n",
      " 8.87182908e-02 3.62235500e-01 7.83213107e-01 4.93325606e-01\n",
      " 2.29791138e-01 7.69667961e-01 8.08757668e-01 5.86364727e-01\n",
      " 4.24365353e-01 8.75366137e-01 6.77475279e-01 2.02587131e-01\n",
      " 6.26511766e-01 8.73616201e-01 5.69963539e-01 6.77322172e-01\n",
      " 6.19765931e-01 3.92930792e-01 2.25061336e-01 9.13154384e-02\n",
      " 8.20657378e-01 7.62934811e-01 7.81500387e-01 5.18105501e-01\n",
      " 3.34877084e-01 1.42070103e-01 1.22810579e-02 6.70049180e-01\n",
      " 9.09993396e-01 1.00584953e-01 7.92013618e-01 8.66580247e-01\n",
      " 7.18764717e-01 3.76595199e-01 9.78917911e-01 3.71855155e-01\n",
      " 8.75410195e-01 5.24075965e-01 7.91973548e-01 7.26415581e-01\n",
      " 6.30556929e-01 9.45991547e-01 3.33816191e-01 3.80618960e-01\n",
      " 3.18424662e-01 6.31142363e-01 4.41198556e-01 1.38358654e-01\n",
      " 1.66364708e-01 2.00615683e-01 6.23514426e-01 6.68794597e-02\n",
      " 6.92503080e-01 4.14774505e-01 9.38034859e-01 8.22853200e-01\n",
      " 5.35073222e-01 7.71269199e-01 3.33470317e-01 6.78549457e-01\n",
      " 7.16164865e-01 3.96068938e-03 1.23146220e-01 2.74543916e-01\n",
      " 4.49782159e-01 4.19212974e-01 3.14444640e-01 4.62317330e-01\n",
      " 4.22292292e-01 3.13359684e-01 8.26972221e-01 9.24312948e-01\n",
      " 9.69938180e-01 3.73485769e-01 5.79277931e-01 5.71397292e-01\n",
      " 2.15366127e-01 2.54451607e-01 3.72252898e-01 4.56930946e-01\n",
      " 2.22359959e-01 3.73921110e-01 7.54557602e-01 9.38375737e-01\n",
      " 4.61002143e-01 5.96069344e-01 3.81466721e-01 2.95193161e-01\n",
      " 6.71033674e-01 5.85959917e-01 7.29772940e-01 8.38540479e-01\n",
      " 4.63127980e-01 9.47688863e-01 2.25637141e-01 5.66691885e-01\n",
      " 5.18188897e-01 2.61956434e-01 4.80540663e-01 9.34103842e-01\n",
      " 1.59769603e-01 9.46413248e-01 5.20887836e-01 4.30205319e-01\n",
      " 7.88910068e-01 3.17790451e-01 6.22469592e-01 1.16299329e-01\n",
      " 1.53290957e-02 9.49412638e-01 9.13682143e-01 9.69370588e-01\n",
      " 7.56678955e-01 8.80305012e-01 8.99738147e-01 3.15205342e-01\n",
      " 8.31199618e-01 6.51704123e-01 8.49889101e-01 7.30780286e-01\n",
      " 3.05577866e-01 3.19473705e-01 5.53856393e-01 6.27814256e-01\n",
      " 4.10931917e-01 5.13611219e-01 1.39590509e-02 9.91664772e-01\n",
      " 2.29896503e-02 6.13048200e-02 8.25494996e-01 2.39075395e-02\n",
      " 5.70576017e-01 2.19061430e-01 5.36151024e-01 6.97853749e-02\n",
      " 8.28758235e-01 5.95769221e-02 4.27386650e-01 3.54579228e-01\n",
      " 2.37529675e-01 8.87151187e-01 9.12080674e-01 9.49820382e-01\n",
      " 9.53521779e-01 6.31025701e-01 5.04980833e-01 4.49441031e-01\n",
      " 6.27220094e-01 9.89653968e-01 2.17350705e-01 3.98649530e-01\n",
      " 4.65660686e-01 2.41532322e-01 7.46416782e-01 2.07041945e-01\n",
      " 1.49354855e-01 2.16315577e-01 3.59305403e-01 9.39003857e-01\n",
      " 2.41769910e-02 6.62232114e-01 4.81544659e-01 1.70498167e-01\n",
      " 7.89125738e-01 3.73801887e-01 8.89918277e-01 8.82145819e-01\n",
      " 6.76045990e-01 7.62129482e-01 8.68259167e-01 6.88477184e-01\n",
      " 4.37139436e-01 8.27041992e-01 6.32225564e-01 5.25091300e-01\n",
      " 8.32259346e-01 5.01436320e-01 8.87870005e-01 9.37919600e-01\n",
      " 1.66718439e-01 2.54553510e-01 4.11672836e-01 1.86956255e-01\n",
      " 7.05108420e-01 3.06316106e-01 4.25868525e-01 2.76626401e-01\n",
      " 1.19059590e-01 5.83171913e-01 7.94255660e-01 6.38589999e-01\n",
      " 5.43241308e-02 6.17649173e-01 4.99224058e-01 6.34986954e-01\n",
      " 8.05035457e-01 4.07085741e-01 8.37716539e-01 7.28283688e-01\n",
      " 8.14271546e-01 6.58671413e-01 7.75014384e-01 5.50215996e-01\n",
      " 6.18551593e-01 7.92116515e-01 4.01588541e-02 7.46808956e-01\n",
      " 5.48756450e-01 5.75449703e-01 8.74057956e-01 2.09576090e-01\n",
      " 8.52720447e-01 3.33217202e-01 2.74432374e-01 4.14616968e-01\n",
      " 3.51777284e-01 3.40597385e-01 6.39776853e-01 3.29821003e-01\n",
      " 2.05833277e-02 2.80325599e-01 7.63109661e-01 9.67525836e-01\n",
      " 1.87776629e-02 2.69603836e-01 4.43025838e-01 2.33712078e-01\n",
      " 4.67851984e-01 6.91288427e-01 8.00623197e-01 2.22221179e-01\n",
      " 6.37384867e-01 2.10314738e-01 4.28633065e-01 7.37609794e-01\n",
      " 7.66787918e-01 4.95031958e-01 8.75723588e-01 8.14660214e-01\n",
      " 5.30257063e-01 1.54190915e-01 5.67060776e-01 6.58523832e-01\n",
      " 5.88215561e-01 2.84960130e-01 6.90095843e-01 3.04640775e-02\n",
      " 6.00453452e-01 7.66210858e-01 5.74092987e-02 4.91034777e-01\n",
      " 3.88573305e-03 2.73621697e-01 3.59309828e-01 5.01818856e-01\n",
      " 7.67892020e-01 5.44307645e-01 7.75226158e-01 5.41919419e-01\n",
      " 6.03327596e-02 5.46246014e-01 9.28539207e-02 1.78919450e-01\n",
      " 6.60279133e-01 5.09179551e-01 5.13467366e-01 2.66930508e-01\n",
      " 7.16980555e-01 5.34457637e-01 8.72131257e-01 8.27588972e-01\n",
      " 1.65157596e-01 4.51945162e-01 9.52531392e-01 7.59308299e-01\n",
      " 8.79652214e-01 9.55499426e-01 5.27337135e-01 8.61273645e-01\n",
      " 6.36043572e-01 1.57642476e-01 3.78913848e-01 1.15873724e-01\n",
      " 7.56958206e-01 8.71013035e-01 2.07225163e-01 5.24333103e-01\n",
      " 6.63946746e-01 7.63590678e-01 6.53345393e-01 1.41099020e-01\n",
      " 6.74613061e-01 9.67565566e-01 8.60074102e-01 8.55496160e-01\n",
      " 2.94183821e-01 5.37631631e-01 4.99065835e-01 6.38354363e-01\n",
      " 6.97982348e-01 4.77935097e-01 2.37002913e-01 4.29221988e-01\n",
      " 7.24074686e-01 9.40743118e-02 9.97896328e-01 4.07759935e-01\n",
      " 4.65357880e-02 3.28383917e-01 7.56905682e-01 6.14403545e-01\n",
      " 1.46373721e-01 4.49494549e-01 1.31148685e-01 7.33713705e-01\n",
      " 4.30360143e-01 6.58190405e-01 8.25775913e-01 4.32727566e-01\n",
      " 4.33353888e-01 7.41161114e-01 2.47544411e-01 6.51925437e-01\n",
      " 7.52383263e-01 6.45141204e-01 5.84531860e-03 8.96851616e-01\n",
      " 7.60501255e-01 6.17127410e-01 8.01012134e-01 1.90904189e-01\n",
      " 6.30976271e-01 2.23648262e-02 9.85851924e-01 1.75299249e-01\n",
      " 9.26400531e-01 8.04302305e-01 8.78716142e-01 4.62744034e-01\n",
      " 2.72822149e-01 7.27109167e-01 1.34533304e-01 2.94194831e-01\n",
      " 8.37197051e-01 5.68120174e-01 6.03417076e-01 4.07650393e-01\n",
      " 3.65816922e-02 7.09377393e-01 7.88898548e-01 3.14124108e-01\n",
      " 5.21875941e-01 7.88144412e-02 4.51329837e-01 2.34099378e-01\n",
      " 8.44693056e-01 7.60480766e-01 3.13240332e-01 2.47773176e-01\n",
      " 3.32737731e-01 6.42887407e-01 3.33520350e-01 1.98377675e-01\n",
      " 8.76701085e-02 9.39998412e-01 2.60945750e-01 3.75529724e-01\n",
      " 5.05934522e-01 9.65357870e-01 1.10801874e-01 1.17248985e-01\n",
      " 1.38333605e-01 4.83980128e-01 5.18814758e-01 1.02552549e-01\n",
      " 2.13174624e-01 3.26944956e-01 2.53771663e-01 5.69027777e-04\n",
      " 7.37413111e-01 5.91135314e-02 5.06442655e-01 2.66003395e-01\n",
      " 5.53028747e-01 3.27839687e-01 6.99437266e-01 6.15394577e-01\n",
      " 3.79380144e-01 7.42473499e-01 2.66131252e-01 5.13341518e-01\n",
      " 4.88255453e-01 5.46172493e-01 2.53108956e-01 1.40962675e-01\n",
      " 2.15490096e-01 9.16978956e-01 8.77216998e-01 9.83075639e-01\n",
      " 2.79469386e-01 5.16479564e-01 5.68056425e-01 1.52709805e-01\n",
      " 4.04936722e-01 8.19972299e-02 1.23972167e-01 5.87536373e-01\n",
      " 9.53982993e-01 1.35289167e-01 5.22380224e-01 1.06645263e-01\n",
      " 6.81961039e-01 9.33703610e-01 7.28812444e-01 6.59740509e-01\n",
      " 6.09003160e-01 7.78956911e-01 7.29736089e-01 7.56559182e-01\n",
      " 2.45270058e-01 8.03044541e-01 4.44206522e-01 3.22003392e-02\n",
      " 7.70369244e-01 1.26995149e-01 4.88075092e-01 1.76373144e-01\n",
      " 8.24612598e-01 2.04482727e-01 5.00748542e-01 2.21266286e-02\n",
      " 5.39177730e-01 2.60680021e-01 6.31816213e-01 4.35356095e-01\n",
      " 7.48639666e-01 3.08232121e-01 2.91717538e-01 7.54798597e-01\n",
      " 4.39978778e-01 8.05051780e-01 9.29504011e-01 3.76339984e-01\n",
      " 8.07579011e-01 4.53665629e-01 5.77331649e-02 7.08685142e-01\n",
      " 8.45779672e-01 8.84836345e-01 3.59493154e-01 4.82222544e-02\n",
      " 8.85403148e-01 7.05873861e-02 1.31222248e-01 7.46568159e-01\n",
      " 6.44408015e-01 8.08928031e-01 2.51764826e-01 8.96708722e-01\n",
      " 3.63472879e-03 6.62430024e-01 3.01858919e-01 7.02165289e-01\n",
      " 7.72838811e-01 1.25048629e-01 9.18960295e-01 1.95966320e-01\n",
      " 8.77507617e-01 8.39401322e-01 9.77294704e-01 7.66788544e-01\n",
      " 2.91120988e-01 1.60335770e-01 1.41436347e-01 8.54266930e-01\n",
      " 7.48099440e-01 7.71497790e-01 4.59875365e-01 4.71635147e-01\n",
      " 5.79640953e-01 4.39380176e-01 1.60533125e-01 8.60019520e-01\n",
      " 1.82228866e-01 8.99429245e-01 1.83442062e-01 6.15011810e-01\n",
      " 5.80746318e-01 9.13503815e-01 8.77125420e-01 7.39064860e-01\n",
      " 1.49767672e-01 7.00794807e-01 4.91178741e-01 4.42995713e-01\n",
      " 4.70831716e-01 1.87156660e-01 4.30189054e-01 1.04716637e-01\n",
      " 4.34784671e-02 5.89561021e-01 4.37920823e-01 3.62958780e-01\n",
      " 2.62476172e-01 4.77591880e-01 2.28655037e-01 7.31595851e-02\n",
      " 6.13454757e-01 2.91483355e-02 6.48542814e-01 5.25249970e-01\n",
      " 9.09884201e-02 7.55891135e-02 1.11858274e-01 2.51611774e-01\n",
      " 9.62365242e-01 9.84432628e-01 6.56211920e-02 5.56247991e-02\n",
      " 1.76657283e-01 2.70497994e-01 6.05719559e-01 3.85479548e-01\n",
      " 3.45966878e-01 6.14596449e-01 1.19782402e-01 8.45223424e-01\n",
      " 1.18707803e-01 3.69566786e-01 6.80872628e-01 9.10507070e-01\n",
      " 2.41543276e-01 1.22056472e-01 8.97429458e-01 8.14914749e-01\n",
      " 6.89566741e-01 6.39744790e-01 6.58618766e-01 7.14566641e-02\n",
      " 7.98400755e-01 3.49449183e-01 4.97153736e-01 7.68153837e-01\n",
      " 8.26909989e-01 9.00925353e-01 7.31440217e-01 3.18988501e-01\n",
      " 4.54342459e-02 6.68265120e-01 3.92722911e-01 1.49960607e-01\n",
      " 6.05599160e-01 9.37933885e-02 8.29632115e-01 5.79648964e-01\n",
      " 9.36677306e-01 1.44406970e-01 2.17578115e-01 5.26122050e-01\n",
      " 4.59264280e-01 3.09721529e-01 4.07865392e-01 4.46850659e-01\n",
      " 6.70082885e-01 5.22069567e-02 5.77882443e-01 2.07881690e-01\n",
      " 8.20490438e-01 6.88534362e-01 4.87103334e-01 5.77262957e-01\n",
      " 8.04293162e-01 5.75744867e-01 8.01648814e-01 3.33898496e-01\n",
      " 8.42622268e-01 9.51029629e-02 1.48949037e-01 3.67199344e-01\n",
      " 2.40698654e-01 2.41471836e-03 7.34032966e-01 5.89770765e-01\n",
      " 1.62009920e-01 8.98623922e-01 5.73011456e-02 8.87816273e-01\n",
      " 3.83244293e-01 2.55523490e-01 7.40063319e-01 2.81298358e-01\n",
      " 7.70578168e-01 8.10241369e-01 8.73018961e-02 1.32318441e-01\n",
      " 4.46114633e-01 3.53168841e-01 8.96193723e-01 9.35221792e-01\n",
      " 8.21822645e-01 1.70856972e-01 2.47549305e-01 8.45547526e-01\n",
      " 1.52691395e-01 7.89303421e-01 4.07860345e-02 1.66894071e-01\n",
      " 5.40741129e-01 5.28085525e-01 7.06734678e-01 1.42040196e-01\n",
      " 6.58702910e-01 9.09979799e-01 4.89161316e-01 1.02755890e-01\n",
      " 4.30774535e-01 3.69934526e-02 1.42425336e-01 6.53909087e-01\n",
      " 4.67814146e-01 7.48947843e-01 2.97213308e-01 3.69068330e-01\n",
      " 4.08745502e-02 7.34446300e-01 8.80480259e-01 7.13643508e-01\n",
      " 6.58258549e-01 5.41431474e-01 9.15766587e-01 5.88719215e-01\n",
      " 8.23743639e-01 3.43860191e-01 3.90389040e-01 6.41256357e-01\n",
      " 2.52129792e-01 5.50921891e-01 6.49907376e-01 9.81124125e-02\n",
      " 5.14251591e-01 8.71182306e-01 8.17783512e-01 6.42954583e-02\n",
      " 1.14593217e-01 9.89462608e-01 6.73667239e-01 9.13674619e-01\n",
      " 3.83137695e-01 1.70485061e-01 1.14332001e-01 9.85633683e-01\n",
      " 5.78205974e-01 6.00948710e-01 4.66065153e-01 4.94461397e-01\n",
      " 2.06113805e-02 9.30000404e-01 5.27093822e-01 9.71946671e-01\n",
      " 5.37695816e-01 7.11322918e-01 2.92079027e-01 2.35659578e-01\n",
      " 7.61884413e-01 5.56209822e-01 4.79398689e-01 7.72542040e-01\n",
      " 2.39437671e-01 1.23658828e-01 4.86752178e-01 7.81049592e-01\n",
      " 6.37464584e-01 4.28271133e-01 8.85966140e-01 9.35011730e-01\n",
      " 8.08701173e-01 6.93860276e-01 4.28491938e-01 5.19205169e-01\n",
      " 6.65143458e-01 2.02046284e-01 4.82154133e-01 4.71530660e-01\n",
      " 5.50116485e-02 3.37227536e-02 8.62241286e-01 8.76830132e-01\n",
      " 2.98482705e-01 5.67830707e-01 7.32113550e-01 7.27956404e-01\n",
      " 7.39098437e-01 7.24666488e-01 7.40742703e-01 4.85414297e-01]\n"
     ]
    }
   ],
   "source": [
    "x = random.uniform(size = 1000)\n",
    "print(x)"
   ]
  },
  {
   "cell_type": "code",
   "execution_count": 133,
   "id": "1d5eda46-6a6d-4c04-b93f-cb8af877d5bb",
   "metadata": {},
   "outputs": [
    {
     "name": "stderr",
     "output_type": "stream",
     "text": [
      "C:\\Users\\jalpa\\AppData\\Local\\Temp\\ipykernel_6072\\2581971463.py:1: UserWarning: \n",
      "\n",
      "`distplot` is a deprecated function and will be removed in seaborn v0.14.0.\n",
      "\n",
      "Please adapt your code to use either `displot` (a figure-level function with\n",
      "similar flexibility) or `kdeplot` (an axes-level function for kernel density plots).\n",
      "\n",
      "For a guide to updating your code to use the new functions, please see\n",
      "https://gist.github.com/mwaskom/de44147ed2974457ad6372750bbe5751\n",
      "\n",
      "  sns.distplot(random.uniform(size = 1000), hist = False)\n"
     ]
    },
    {
     "data": {
      "image/png": "[encoded data removed]",
      "text/plain": [
       "<Figure size 640x480 with 1 Axes>"
      ]
     },
     "metadata": {},
     "output_type": "display_data"
    }
   ],
   "source": [
    "sns.distplot(random.uniform(size = 1000), hist = False)\n",
    "plt.show()"
   ]
  },
  {
   "cell_type": "code",
   "execution_count": 135,
   "id": "a980af25-e132-4665-9eec-1df5a0c8ff53",
   "metadata": {},
   "outputs": [
    {
     "name": "stdout",
     "output_type": "stream",
     "text": [
      "[[ 5.93059941  1.4589562  -4.32371291]\n",
      " [-0.55335049  0.71812788  6.50179717]]\n"
     ]
    }
   ],
   "source": [
    "x = random.logistic(loc = 1, scale = 2, size = (2,3))\n",
    "print(x)"
   ]
  },
  {
   "cell_type": "code",
   "execution_count": 136,
   "id": "bc86b6b3-511d-48e1-ab79-f30631df39ce",
   "metadata": {},
   "outputs": [
    {
     "name": "stderr",
     "output_type": "stream",
     "text": [
      "C:\\Users\\jalpa\\AppData\\Local\\Temp\\ipykernel_6072\\3101927136.py:1: UserWarning: \n",
      "\n",
      "`distplot` is a deprecated function and will be removed in seaborn v0.14.0.\n",
      "\n",
      "Please adapt your code to use either `displot` (a figure-level function with\n",
      "similar flexibility) or `histplot` (an axes-level function for histograms).\n",
      "\n",
      "For a guide to updating your code to use the new functions, please see\n",
      "https://gist.github.com/mwaskom/de44147ed2974457ad6372750bbe5751\n",
      "\n",
      "  sns.distplot(random.logistic(loc = 1, scale = 2 , size = (2,3)))\n"
     ]
    },
    {
     "data": {
      "image/png": "[encoded data removed]",
      "text/plain": [
       "<Figure size 640x480 with 1 Axes>"
      ]
     },
     "metadata": {},
     "output_type": "display_data"
    }
   ],
   "source": [
    "sns.distplot(random.logistic(loc = 1, scale = 2 , size = (2,3)))\n",
    "plt.show()"
   ]
  },
  {
   "cell_type": "code",
   "execution_count": 137,
   "id": "6dee1d9f-62b0-4e8e-8256-7cfdca35823e",
   "metadata": {},
   "outputs": [
    {
     "name": "stderr",
     "output_type": "stream",
     "text": [
      "C:\\Users\\jalpa\\AppData\\Local\\Temp\\ipykernel_6072\\2495181047.py:1: UserWarning: \n",
      "\n",
      "`distplot` is a deprecated function and will be removed in seaborn v0.14.0.\n",
      "\n",
      "Please adapt your code to use either `displot` (a figure-level function with\n",
      "similar flexibility) or `kdeplot` (an axes-level function for kernel density plots).\n",
      "\n",
      "For a guide to updating your code to use the new functions, please see\n",
      "https://gist.github.com/mwaskom/de44147ed2974457ad6372750bbe5751\n",
      "\n",
      "  sns.distplot(random.logistic(size = 1000), hist = False)\n"
     ]
    },
    {
     "data": {
      "text/plain": [
       "<Axes: ylabel='Density'>"
      ]
     },
     "execution_count": 137,
     "metadata": {},
     "output_type": "execute_result"
    },
    {
     "data": {
      "image/png": "[encoded data removed]",
      "text/plain": [
       "<Figure size 640x480 with 1 Axes>"
      ]
     },
     "metadata": {},
     "output_type": "display_data"
    }
   ],
   "source": [
    "sns.distplot(random.logistic(size = 1000), hist = False)"
   ]
  },
  {
   "cell_type": "code",
   "execution_count": 142,
   "id": "f9273f93-c310-431b-9496-99cbdf287140",
   "metadata": {},
   "outputs": [
    {
     "name": "stderr",
     "output_type": "stream",
     "text": [
      "C:\\Users\\jalpa\\AppData\\Local\\Temp\\ipykernel_6072\\74899616.py:1: UserWarning: \n",
      "\n",
      "`distplot` is a deprecated function and will be removed in seaborn v0.14.0.\n",
      "\n",
      "Please adapt your code to use either `displot` (a figure-level function with\n",
      "similar flexibility) or `kdeplot` (an axes-level function for kernel density plots).\n",
      "\n",
      "For a guide to updating your code to use the new functions, please see\n",
      "https://gist.github.com/mwaskom/de44147ed2974457ad6372750bbe5751\n",
      "\n",
      "  sns.distplot(random.normal(loc = 0, scale = 3, size = 1000), hist = False)\n",
      "C:\\Users\\jalpa\\AppData\\Local\\Temp\\ipykernel_6072\\74899616.py:2: UserWarning: \n",
      "\n",
      "`distplot` is a deprecated function and will be removed in seaborn v0.14.0.\n",
      "\n",
      "Please adapt your code to use either `displot` (a figure-level function with\n",
      "similar flexibility) or `kdeplot` (an axes-level function for kernel density plots).\n",
      "\n",
      "For a guide to updating your code to use the new functions, please see\n",
      "https://gist.github.com/mwaskom/de44147ed2974457ad6372750bbe5751\n",
      "\n",
      "  sns.distplot(random.logistic(size = 1000), hist = False)\n"
     ]
    },
    {
     "data": {
      "image/png": "[encoded data removed]",
      "text/plain": [
       "<Figure size 640x480 with 1 Axes>"
      ]
     },
     "metadata": {},
     "output_type": "display_data"
    }
   ],
   "source": [
    "sns.distplot(random.normal(loc = 0, scale = 3, size = 1000), hist = False)\n",
    "sns.distplot(random.logistic(size = 1000), hist = False)\n",
    "plt.show()"
   ]
  },
  {
   "cell_type": "code",
   "execution_count": 143,
   "id": "f5c9c636-a42e-474b-8833-a723135e137f",
   "metadata": {},
   "outputs": [
    {
     "name": "stdout",
     "output_type": "stream",
     "text": [
      "[1 1 1 2 0 1]\n"
     ]
    }
   ],
   "source": [
    "x = random.multinomial(n=6, pvals = [1/6,1/6,1/6,1/6,1/6,1/6])\n",
    "print(x)"
   ]
  },
  {
   "cell_type": "code",
   "execution_count": 144,
   "id": "8dfe52ce-c940-43ca-a1aa-45062b19b741",
   "metadata": {},
   "outputs": [
    {
     "name": "stdout",
     "output_type": "stream",
     "text": [
      "[[3.02078526 2.76897228 0.27235985]\n",
      " [1.0799088  2.2690472  0.63834687]]\n"
     ]
    }
   ],
   "source": [
    "x = random.exponential(scale = 2, size = (2,3))\n",
    "print(x)"
   ]
  },
  {
   "cell_type": "code",
   "execution_count": 145,
   "id": "6c9fe498-9731-4f75-aad2-671260194f43",
   "metadata": {},
   "outputs": [
    {
     "name": "stderr",
     "output_type": "stream",
     "text": [
      "C:\\Users\\jalpa\\AppData\\Local\\Temp\\ipykernel_6072\\1595619552.py:1: UserWarning: \n",
      "\n",
      "`distplot` is a deprecated function and will be removed in seaborn v0.14.0.\n",
      "\n",
      "Please adapt your code to use either `displot` (a figure-level function with\n",
      "similar flexibility) or `kdeplot` (an axes-level function for kernel density plots).\n",
      "\n",
      "For a guide to updating your code to use the new functions, please see\n",
      "https://gist.github.com/mwaskom/de44147ed2974457ad6372750bbe5751\n",
      "\n",
      "  sns.distplot(random.exponential(size = 1000), hist = False)\n"
     ]
    },
    {
     "data": {
      "image/png": "[encoded data removed]",
      "text/plain": [
       "<Figure size 640x480 with 1 Axes>"
      ]
     },
     "metadata": {},
     "output_type": "display_data"
    }
   ],
   "source": [
    "sns.distplot(random.exponential(size = 1000), hist = False)\n",
    "plt.show()"
   ]
  },
  {
   "cell_type": "code",
   "execution_count": null,
   "id": "fb6b25e9-ddc4-4608-8759-46ab1d5f3d0f",
   "metadata": {},
   "outputs": [],
   "source": []
  }
 ],
 "metadata": {
  "kernelspec": {
   "display_name": "Python 3 (ipykernel)",
   "language": "python",
   "name": "python3"
  },
  "language_info": {
   "codemirror_mode": {
    "name": "ipython",
    "version": 3
   },
   "file_extension": ".py",
   "mimetype": "text/x-python",
   "name": "python",
   "nbconvert_exporter": "python",
   "pygments_lexer": "ipython3",
   "version": "3.11.4"
  }
 },
 "nbformat": 4,
 "nbformat_minor": 5
}
