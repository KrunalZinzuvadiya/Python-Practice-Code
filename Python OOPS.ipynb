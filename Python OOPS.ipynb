{
 "cells": [
  {
   "cell_type": "code",
   "execution_count": 1,
   "id": "cd4ba067-820e-4544-85b4-bd4da2f5216b",
   "metadata": {},
   "outputs": [],
   "source": [
    "L = [1,2,3,4]"
   ]
  },
  {
   "cell_type": "code",
   "execution_count": 2,
   "id": "5c262dac-d794-4f4d-95da-40915de231cb",
   "metadata": {},
   "outputs": [
    {
     "data": {
      "text/plain": [
       "[1, 2, 3, 4]"
      ]
     },
     "execution_count": 2,
     "metadata": {},
     "output_type": "execute_result"
    }
   ],
   "source": [
    "L"
   ]
  },
  {
   "cell_type": "markdown",
   "id": "0f71fc60-00f5-41b0-ab5b-a2ef421a6fd0",
   "metadata": {},
   "source": [
    "class is blueprint of object that how it will behave."
   ]
  },
  {
   "cell_type": "code",
   "execution_count": 3,
   "id": "7bbc501a-7a7e-45d2-8144-d04565b7754f",
   "metadata": {},
   "outputs": [],
   "source": [
    "class Car:\n",
    "    color = 'blue'\n",
    "    model = 'sports'\n",
    "    def calculate_avg_speed(km,time):\n",
    "        avg_speed = km/time\n",
    "        return avg_speed"
   ]
  },
  {
   "cell_type": "code",
   "execution_count": 4,
   "id": "6ea21933-48e0-4c7f-bd14-c1b45cafa287",
   "metadata": {},
   "outputs": [
    {
     "data": {
      "text/plain": [
       "'blue'"
      ]
     },
     "execution_count": 4,
     "metadata": {},
     "output_type": "execute_result"
    }
   ],
   "source": [
    "Car().color"
   ]
  },
  {
   "cell_type": "code",
   "execution_count": 5,
   "id": "46b5bcf4-9895-461e-a280-94fd3e7e9271",
   "metadata": {},
   "outputs": [],
   "source": [
    "class Atm:\n",
    "    def __init__(self):\n",
    "        self.pin = \"1254\"\n",
    "        self.balance = 0\n",
    "    def menu(self):\n",
    "        user_input = input(\"\"\"\n",
    "        Hello How to proceed\n",
    "        1. Enter 1 to create pin\n",
    "        2. Enter 2 to deposit\n",
    "        3. Enter 3 to exit\n",
    "        : -\"\"\")\n",
    "        if user_input == \"1\":\n",
    "            self.create_pin()\n",
    "        elif user_input == \"2\":\n",
    "            print(\"deposit\")\n",
    "        elif user_input == \"3\":\n",
    "            print(\"bye\")\n",
    "        else:\n",
    "            print(\"invalid\")\n",
    "    def create_pin(self):\n",
    "        self.pin = input(\"Enter your pin\")\n",
    "        print('pin set successfully')\n",
    "    def deposit(self):\n",
    "        temp = input(\"Enter your pin: \")\n",
    "        if temp == self.pin:\n",
    "            amount = int(input(\"Enter the amount to deposit: \"))\n",
    "            self.balance += amount\n",
    "            print(\"Deposit successful\", self.balance)\n",
    "        else:\n",
    "            print(\"Invalid pin\")\n",
    "\n",
    "    def check_balance(self):\n",
    "        temp = input(\"Enter your pin: \")\n",
    "        if temp == self.pin:\n",
    "            print(f\"Your balance is: {self.balance}\")\n",
    "        else:\n",
    "            print(\"Invalid pin\")"
   ]
  },
  {
   "cell_type": "code",
   "execution_count": 6,
   "id": "b299c33b-549d-4341-9406-c5603bc17701",
   "metadata": {},
   "outputs": [
    {
     "name": "stdin",
     "output_type": "stream",
     "text": [
      "Enter your pin:  1254\n",
      "Enter the amount to deposit:  1000\n"
     ]
    },
    {
     "name": "stdout",
     "output_type": "stream",
     "text": [
      "Deposit successful 1000\n"
     ]
    },
    {
     "name": "stdin",
     "output_type": "stream",
     "text": [
      "Enter your pin:  1254\n"
     ]
    },
    {
     "name": "stdout",
     "output_type": "stream",
     "text": [
      "Your balance is: 0\n"
     ]
    }
   ],
   "source": [
    "Atm().deposit()\n",
    "Atm().check_balance()"
   ]
  },
  {
   "cell_type": "code",
   "execution_count": 7,
   "id": "f08797d7-8cd4-44d6-b7f9-4fc9f9247521",
   "metadata": {},
   "outputs": [
    {
     "name": "stdout",
     "output_type": "stream",
     "text": [
      "K\n"
     ]
    }
   ],
   "source": [
    "class Instructor:\n",
    "    def __init__(self, name, address):\n",
    "        self.ins_name = name\n",
    "        self.ins_address = address\n",
    "inst_1 = Instructor(\"K\",\"S\")\n",
    "print(inst_1.ins_name)"
   ]
  },
  {
   "cell_type": "code",
   "execution_count": 8,
   "id": "3b792a48-d838-4a68-b50c-8aabe1560de4",
   "metadata": {},
   "outputs": [
    {
     "data": {
      "text/plain": [
       "15"
      ]
     },
     "execution_count": 8,
     "metadata": {},
     "output_type": "execute_result"
    }
   ],
   "source": [
    "num = 10\n",
    "num.__add__(5)"
   ]
  },
  {
   "cell_type": "code",
   "execution_count": 9,
   "id": "9dfd16df-8e1f-4765-93ff-cdadf16e8051",
   "metadata": {},
   "outputs": [
    {
     "data": {
      "text/plain": [
       "0.8333333333333334"
      ]
     },
     "execution_count": 9,
     "metadata": {},
     "output_type": "execute_result"
    }
   ],
   "source": [
    "#fraction \n",
    "x = 5/6\n",
    "x"
   ]
  },
  {
   "cell_type": "code",
   "execution_count": 19,
   "id": "d8167d95-c3c6-4be0-a19a-081451c6aa66",
   "metadata": {},
   "outputs": [],
   "source": [
    "class fraction:\n",
    "    def __init__(self,n,d):\n",
    "        self.n = n\n",
    "        self.d = d\n",
    "\n",
    "    def __str__(self):\n",
    "        return '{}/{}'.format(self.n,self.d)\n",
    "\n",
    "    def __add__(self,other):\n",
    "        temp_num = self.n * other.d + self.d * other.n\n",
    "        temp_den = self.d * other.d\n",
    "        return \"{}/{}\".format(temp_num, temp_den)\n",
    "\n",
    "    def __sub__(self,other):\n",
    "        temp_num = self.n * other.d - other.n * self.d\n",
    "        temp_den = self.d * other.d\n",
    "        return '{}/{}'.format(temp_num, temp_den)\n",
    "\n",
    "    def __mul__(self,other):\n",
    "        temp_num = self.n * other.n\n",
    "        temp_den = self.d * other.d\n",
    "        return '{}/{}'.format(temp_num, temp_den)\n",
    "\n",
    "    def __truediv__(self, other):\n",
    "        temp_num = self.n * other.d\n",
    "        temp_den = self.d * other.n\n",
    "        return '{}/{}'.format(temp_num, temp_den)"
   ]
  },
  {
   "cell_type": "code",
   "execution_count": 20,
   "id": "ffcae720-a394-4296-b48c-48d1ed07eba6",
   "metadata": {},
   "outputs": [
    {
     "name": "stdout",
     "output_type": "stream",
     "text": [
      "38/24\n",
      "-2/24\n",
      "15/24\n",
      "18/20\n"
     ]
    }
   ],
   "source": [
    "x = fraction(3,4)\n",
    "y = fraction(5,6)\n",
    "print(x + y)\n",
    "print(x - y)\n",
    "print(x * y)\n",
    "print(x / y)"
   ]
  },
  {
   "cell_type": "markdown",
   "id": "18f7b8f9-27b4-488d-bb4e-654b17b13d16",
   "metadata": {},
   "source": [
    "# Encapsulation"
   ]
  },
  {
   "cell_type": "markdown",
   "id": "d8fccb02-b379-4023-a61a-16be9d06ddb5",
   "metadata": {},
   "source": [
    "Any variable make in constructor is called instance variable. value differnt for different object."
   ]
  },
  {
   "cell_type": "markdown",
   "id": "dc228512-e49f-4a6c-a4a6-4f2577e903ba",
   "metadata": {},
   "source": [
    "Encapsulation means hide karna sensitive info"
   ]
  },
  {
   "cell_type": "code",
   "execution_count": 1,
   "id": "39d50ea1-27c7-4788-8abb-eebcd4a25d96",
   "metadata": {},
   "outputs": [],
   "source": [
    "class Atm:\n",
    "    def __init__(self):\n",
    "        self.__pin = \"1254\"\n",
    "        self.__balance = 0\n",
    "        self.__menu()\n",
    "    def __menu(self):\n",
    "        while True:\n",
    "            user_input = input(\"\"\"\n",
    "            Hello How to proceed\n",
    "            1. Enter 1 to create pin\n",
    "            2. Enter 2 to deposit\n",
    "            3. Enter 3 to exit\n",
    "            : -\"\"\")\n",
    "            if user_input == \"1\":\n",
    "                self.create_pin()\n",
    "            elif user_input == \"2\":\n",
    "                self.deposit()\n",
    "            elif user_input == \"3\":\n",
    "                print(\"bye\")\n",
    "                break\n",
    "            else:\n",
    "                print(\"invalid\")\n",
    "    def create_pin(self):\n",
    "        self.__pin = input(\"Enter your pin\")\n",
    "        print('pin set successfully')\n",
    "    def deposit(self):\n",
    "        temp = input(\"Enter your pin: \")\n",
    "        if temp == self.__pin:\n",
    "            amount = int(input(\"Enter the amount to deposit: \"))\n",
    "            self.__balance += amount\n",
    "            print(\"Deposit successful\", self.__balance)\n",
    "        else:\n",
    "            print(\"Invalid pin\")\n",
    "\n",
    "    def check_balance(self):\n",
    "        temp = input(\"Enter your pin: \")\n",
    "        if temp == self.__pin:\n",
    "            print(f\"Your balance is: {self.__balance}\")\n",
    "        else:\n",
    "            print(\"Invalid pin\")"
   ]
  },
  {
   "cell_type": "code",
   "execution_count": 2,
   "id": "d43cd330-bdc1-4bd8-abd6-7918ca812173",
   "metadata": {},
   "outputs": [
    {
     "name": "stdin",
     "output_type": "stream",
     "text": [
      "\n",
      "            Hello How to proceed\n",
      "            1. Enter 1 to create pin\n",
      "            2. Enter 2 to deposit\n",
      "            3. Enter 3 to exit\n",
      "            : - 1\n",
      "Enter your pin 1254\n"
     ]
    },
    {
     "name": "stdout",
     "output_type": "stream",
     "text": [
      "pin set successfully\n"
     ]
    },
    {
     "name": "stdin",
     "output_type": "stream",
     "text": [
      "\n",
      "            Hello How to proceed\n",
      "            1. Enter 1 to create pin\n",
      "            2. Enter 2 to deposit\n",
      "            3. Enter 3 to exit\n",
      "            : - 2\n",
      "Enter your pin:  5000\n"
     ]
    },
    {
     "name": "stdout",
     "output_type": "stream",
     "text": [
      "Invalid pin\n"
     ]
    },
    {
     "name": "stdin",
     "output_type": "stream",
     "text": [
      "\n",
      "            Hello How to proceed\n",
      "            1. Enter 1 to create pin\n",
      "            2. Enter 2 to deposit\n",
      "            3. Enter 3 to exit\n",
      "            : - 3\n"
     ]
    },
    {
     "name": "stdout",
     "output_type": "stream",
     "text": [
      "bye\n"
     ]
    }
   ],
   "source": [
    "sbi = Atm()"
   ]
  },
  {
   "cell_type": "code",
   "execution_count": 3,
   "id": "b27ea27c-1caa-4080-b3c6-4ed4fac56820",
   "metadata": {},
   "outputs": [
    {
     "name": "stdin",
     "output_type": "stream",
     "text": [
      "\n",
      "            Hello How to proceed\n",
      "            1. Enter 1 to create pin\n",
      "            2. Enter 2 to deposit\n",
      "            3. Enter 3 to exit\n",
      "            : - 1\n",
      "Enter your pin 1254\n"
     ]
    },
    {
     "name": "stdout",
     "output_type": "stream",
     "text": [
      "pin set successfully\n"
     ]
    },
    {
     "name": "stdin",
     "output_type": "stream",
     "text": [
      "\n",
      "            Hello How to proceed\n",
      "            1. Enter 1 to create pin\n",
      "            2. Enter 2 to deposit\n",
      "            3. Enter 3 to exit\n",
      "            : - 1254\n"
     ]
    },
    {
     "name": "stdout",
     "output_type": "stream",
     "text": [
      "invalid\n"
     ]
    },
    {
     "name": "stdin",
     "output_type": "stream",
     "text": [
      "\n",
      "            Hello How to proceed\n",
      "            1. Enter 1 to create pin\n",
      "            2. Enter 2 to deposit\n",
      "            3. Enter 3 to exit\n",
      "            : - 2\n",
      "Enter your pin:  1254\n",
      "Enter the amount to deposit:  565656\n"
     ]
    },
    {
     "name": "stdout",
     "output_type": "stream",
     "text": [
      "Deposit successful 565656\n"
     ]
    },
    {
     "name": "stdin",
     "output_type": "stream",
     "text": [
      "\n",
      "            Hello How to proceed\n",
      "            1. Enter 1 to create pin\n",
      "            2. Enter 2 to deposit\n",
      "            3. Enter 3 to exit\n",
      "            : - 3\n"
     ]
    },
    {
     "name": "stdout",
     "output_type": "stream",
     "text": [
      "bye\n"
     ]
    }
   ],
   "source": [
    "hdfc = Atm()"
   ]
  },
  {
   "cell_type": "code",
   "execution_count": 4,
   "id": "ded13350-8e53-4510-9272-d567de1a8b74",
   "metadata": {},
   "outputs": [
    {
     "name": "stdin",
     "output_type": "stream",
     "text": [
      "Enter your pin:  1254\n"
     ]
    },
    {
     "name": "stdout",
     "output_type": "stream",
     "text": [
      "Your balance is: 565656\n"
     ]
    }
   ],
   "source": [
    "hdfc.check_balance()"
   ]
  },
  {
   "cell_type": "code",
   "execution_count": 5,
   "id": "72197ad0-de0a-40fe-8f43-ed03b9a909ac",
   "metadata": {},
   "outputs": [
    {
     "name": "stdin",
     "output_type": "stream",
     "text": [
      "Enter your pin:  1254\n"
     ]
    },
    {
     "name": "stdout",
     "output_type": "stream",
     "text": [
      "Your balance is: 0\n"
     ]
    }
   ],
   "source": [
    "sbi.check_balance()"
   ]
  },
  {
   "cell_type": "code",
   "execution_count": 6,
   "id": "5c1c9b8c-88df-4840-b56c-269d801936ba",
   "metadata": {},
   "outputs": [
    {
     "name": "stdin",
     "output_type": "stream",
     "text": [
      "Enter your pin:  1254\n",
      "Enter the amount to deposit:  45456\n"
     ]
    },
    {
     "name": "stdout",
     "output_type": "stream",
     "text": [
      "Deposit successful 45456\n"
     ]
    }
   ],
   "source": [
    "sbi.deposit()"
   ]
  },
  {
   "cell_type": "code",
   "execution_count": 7,
   "id": "a9394a6e-3ec6-4d9d-add2-ad5d9631a8f2",
   "metadata": {},
   "outputs": [
    {
     "name": "stdin",
     "output_type": "stream",
     "text": [
      "Enter your pin:  1254\n"
     ]
    },
    {
     "name": "stdout",
     "output_type": "stream",
     "text": [
      "Your balance is: 45456\n"
     ]
    }
   ],
   "source": [
    "sbi.check_balance()"
   ]
  },
  {
   "cell_type": "code",
   "execution_count": 8,
   "id": "bed1bd67-f08c-488f-8090-b44553eb5084",
   "metadata": {},
   "outputs": [
    {
     "data": {
      "text/plain": [
       "'1254'"
      ]
     },
     "execution_count": 8,
     "metadata": {},
     "output_type": "execute_result"
    }
   ],
   "source": [
    "sbi._Atm__pin"
   ]
  },
  {
   "cell_type": "code",
   "execution_count": 2,
   "id": "6bb23ac3-c83b-4536-850e-27af0389f600",
   "metadata": {},
   "outputs": [
    {
     "name": "stdout",
     "output_type": "stream",
     "text": [
      "Hello Nitish sir\n"
     ]
    }
   ],
   "source": [
    "class Customer:\n",
    "    def __init__(self,name, gender):\n",
    "        self.name = name\n",
    "        self.gender = gender\n",
    "\n",
    "def greet(customer):\n",
    "    if customer.gender == \"male\":\n",
    "        print(\"Hello\", customer.name, \"sir\")\n",
    "    else:\n",
    "        print(\"Hello\", customer.name, \"ma'am\")\n",
    "        \n",
    "cust = Customer(\"Nitish\",\"male\")\n",
    "greet(cust)"
   ]
  },
  {
   "cell_type": "code",
   "execution_count": 8,
   "id": "848caf6c-f058-4beb-bfb0-7cf694ab45ff",
   "metadata": {},
   "outputs": [
    {
     "name": "stdout",
     "output_type": "stream",
     "text": [
      "2091157804240\n",
      "2091157813392\n"
     ]
    }
   ],
   "source": [
    "class Customer:\n",
    "    def __init__(self, name):\n",
    "        self.name = name\n",
    "\n",
    "def greet(customer):\n",
    "    print(id(customer))\n",
    "\n",
    "cust = Customer(\"Ankita\")\n",
    "cust2 = Customer('Roy')\n",
    "greet(cust2)\n",
    "greet(cust)"
   ]
  },
  {
   "cell_type": "code",
   "execution_count": 9,
   "id": "f84f3ac3-e136-4f9f-bf35-5b32ee0c7642",
   "metadata": {},
   "outputs": [
    {
     "name": "stdout",
     "output_type": "stream",
     "text": [
      "2091157813392\n",
      "2091157804240\n"
     ]
    }
   ],
   "source": [
    "print(id(cust))\n",
    "print(id(cust2))"
   ]
  },
  {
   "cell_type": "markdown",
   "id": "b6dfde50-edef-4c3c-abc1-bff81bd9838b",
   "metadata": {},
   "source": [
    "# Pass by reference"
   ]
  },
  {
   "cell_type": "code",
   "execution_count": 3,
   "id": "97f1000a-8f36-46f2-a9fe-5f61f011c66b",
   "metadata": {},
   "outputs": [
    {
     "name": "stdout",
     "output_type": "stream",
     "text": [
      "2485860336320\n",
      "[1, 2, 3, 4]\n",
      "2485860336320\n",
      "2485860336320\n",
      "[1, 2, 3, 4, 5]\n"
     ]
    }
   ],
   "source": [
    "def change(L):\n",
    "    print(id(L))\n",
    "    L.append(5)\n",
    "    print(id(L))\n",
    "    print(L)\n",
    "\n",
    "L1 = [1,2,3,4]\n",
    "print(id(L1))\n",
    "print(L1)\n",
    "change(L1)"
   ]
  },
  {
   "cell_type": "markdown",
   "id": "aa0c88f2-e849-4af8-a99d-8619ef10fe25",
   "metadata": {},
   "source": [
    "# Collection of Objects"
   ]
  },
  {
   "cell_type": "code",
   "execution_count": 5,
   "id": "cc98f384-a0e4-49d4-af21-d7ab803a8861",
   "metadata": {},
   "outputs": [
    {
     "name": "stdout",
     "output_type": "stream",
     "text": [
      "<__main__.Customer object at 0x00000242C8D19190>\n",
      "2485860274576\n",
      "<__main__.Customer object at 0x00000242C8D19050>\n",
      "2485860274256\n",
      "<__main__.Customer object at 0x00000242C8D193D0>\n",
      "2485860275152\n"
     ]
    }
   ],
   "source": [
    "class Customer:\n",
    "    def __init__(self, name, age):\n",
    "        self.name = name\n",
    "        self.age = age\n",
    "\n",
    "c1 = Customer('K',12)\n",
    "c2 = Customer('S',15)\n",
    "c3 = Customer('A',18)\n",
    "L = [c1,c2,c3]\n",
    "for i in L:\n",
    "    print(i)\n",
    "    print(id(i))"
   ]
  },
  {
   "cell_type": "markdown",
   "id": "fd344ece-c2e3-4194-bcd2-280456c2cb61",
   "metadata": {},
   "source": [
    "can iterate loops on object"
   ]
  },
  {
   "cell_type": "code",
   "execution_count": 8,
   "id": "59ad9b8f-bd13-4224-b937-90bcaad5e059",
   "metadata": {},
   "outputs": [
    {
     "name": "stdout",
     "output_type": "stream",
     "text": [
      "My name is K and age is 12\n",
      "My name is S and age is 15\n",
      "My name is A and age is 18\n"
     ]
    }
   ],
   "source": [
    "class Customer:\n",
    "    def __init__(self, name, age):\n",
    "        self.name = name\n",
    "        self.age = age\n",
    "    def info(self):\n",
    "        print('My name is', self.name, 'and age is', self.age)\n",
    "\n",
    "c1 = Customer('K',12)\n",
    "c2 = Customer('S',15)\n",
    "c3 = Customer('A',18)\n",
    "L = [c1,c2,c3]\n",
    "for i in L:\n",
    "    i.info()"
   ]
  },
  {
   "cell_type": "markdown",
   "id": "7389b7f3-61a3-407c-b47e-18c4303118f9",
   "metadata": {},
   "source": [
    "# Static Attribute and Static methods"
   ]
  },
  {
   "cell_type": "code",
   "execution_count": 11,
   "id": "e8dd8522-3f74-47c9-b1b9-05893b9d942c",
   "metadata": {},
   "outputs": [],
   "source": [
    "class Customer:\n",
    "    def __init__(self, name, age, sno):\n",
    "        self.name = name\n",
    "        self.age = age\n",
    "        self.sno = 0\n",
    "        self.sno += 1"
   ]
  },
  {
   "cell_type": "code",
   "execution_count": 20,
   "id": "2cbca86a-c700-4d8d-a88d-d6a480d8de10",
   "metadata": {},
   "outputs": [],
   "source": [
    "c1 = Customer('K', 12,2)"
   ]
  },
  {
   "cell_type": "code",
   "execution_count": 21,
   "id": "1236e74b-4fd4-41c6-a9be-38d094fe3434",
   "metadata": {},
   "outputs": [
    {
     "data": {
      "text/plain": [
       "2"
      ]
     },
     "execution_count": 21,
     "metadata": {},
     "output_type": "execute_result"
    }
   ],
   "source": [
    "c1.sno"
   ]
  },
  {
   "cell_type": "markdown",
   "id": "6dba19b8-827d-46c6-85c7-1bd181a7bd2f",
   "metadata": {},
   "source": [
    "Instance variable is always inside constructor and Static variable is outside constructor"
   ]
  },
  {
   "cell_type": "code",
   "execution_count": 29,
   "id": "01177fcc-a6d2-4a74-8a37-f2072f6623ae",
   "metadata": {},
   "outputs": [],
   "source": [
    " class Customer:\n",
    "    counter = 1\n",
    "    def __init__(self, name, age):\n",
    "        self.name = name\n",
    "        self.age = age\n",
    "        self.sno = Customer.counter\n",
    "        Customer.counter = Customer.counter + 1\n",
    "        print(id(self))"
   ]
  },
  {
   "cell_type": "code",
   "execution_count": 30,
   "id": "7b749f91-99e5-4f1f-8e57-88f95c8fac22",
   "metadata": {},
   "outputs": [
    {
     "name": "stdout",
     "output_type": "stream",
     "text": [
      "2073383011472\n"
     ]
    }
   ],
   "source": [
    "c1 = Customer('K',12)"
   ]
  },
  {
   "cell_type": "code",
   "execution_count": 31,
   "id": "71991204-6f7b-45b1-8ab5-5f29833866a7",
   "metadata": {},
   "outputs": [
    {
     "name": "stdout",
     "output_type": "stream",
     "text": [
      "2073386345680\n"
     ]
    }
   ],
   "source": [
    "c2 = Customer('M', 45)"
   ]
  },
  {
   "cell_type": "code",
   "execution_count": 32,
   "id": "01daf7f5-1013-467d-aec5-2a36c105d361",
   "metadata": {},
   "outputs": [
    {
     "name": "stdout",
     "output_type": "stream",
     "text": [
      "2073386424400\n"
     ]
    }
   ],
   "source": [
    "c3 = Customer('L', 23)"
   ]
  },
  {
   "cell_type": "code",
   "execution_count": 33,
   "id": "aa9a0958-87da-4937-b586-181ef8ad4858",
   "metadata": {},
   "outputs": [
    {
     "data": {
      "text/plain": [
       "1"
      ]
     },
     "execution_count": 33,
     "metadata": {},
     "output_type": "execute_result"
    }
   ],
   "source": [
    "c1.sno"
   ]
  },
  {
   "cell_type": "code",
   "execution_count": 34,
   "id": "7c8ee3f3-ce2c-4525-b151-0ef4b5fa6914",
   "metadata": {},
   "outputs": [
    {
     "data": {
      "text/plain": [
       "2"
      ]
     },
     "execution_count": 34,
     "metadata": {},
     "output_type": "execute_result"
    }
   ],
   "source": [
    "c2.sno"
   ]
  },
  {
   "cell_type": "code",
   "execution_count": 15,
   "id": "3898ab95-4a52-47b9-817f-bf365f4e5bbe",
   "metadata": {},
   "outputs": [
    {
     "name": "stdout",
     "output_type": "stream",
     "text": [
      "Name: S\n",
      "City: M\n",
      "Pincode: 15\n",
      "State: B\n"
     ]
    }
   ],
   "source": [
    "class Customer:\n",
    "    def __init__(self, name, gender, address):\n",
    "        self.name = name\n",
    "        self.gender = gender\n",
    "        self.address = address\n",
    "\n",
    "    def edit_profile(self,new_name, new_city,new_pincode,new_state):\n",
    "        self.name = new_name\n",
    "        self.address.change_address(new_city,new_pincode,new_state)\n",
    "\n",
    "class Address:\n",
    "    def __init__(self, city, pincode, state):\n",
    "        self.city = city\n",
    "        self.pincode = pincode\n",
    "        self.state = state\n",
    "        \n",
    "    def change_address(self,new_city,new_pincode, new_state):\n",
    "        self.city = new_city\n",
    "        self.pincode = new_pincode\n",
    "        self.state = new_state\n",
    "\n",
    "add = Address('A', '12', 'G')\n",
    "c1 = Customer('K', 'M', add)\n",
    "c1.edit_profile('S','M', '15', 'B')\n",
    "\n",
    "# Check the updated values\n",
    "print(f'Name: {c1.name}')\n",
    "print(f'City: {c1.address.city}')\n",
    "print(f'Pincode: {c1.address.pincode}')\n",
    "print(f'State: {c1.address.state}')"
   ]
  },
  {
   "cell_type": "markdown",
   "id": "1c856557-2049-47cb-9fc9-944a105fbf22",
   "metadata": {},
   "source": [
    "# Inheritance"
   ]
  },
  {
   "attachments": {
    "90586a52-d83e-4dcd-9c6f-443ab28e97d2.png": {
     "image/png": "[encoded data removed]"
    }
   },
   "cell_type": "markdown",
   "id": "9f063f86-604f-45d5-a55e-ad0558e00721",
   "metadata": {},
   "source": [
    "![image.png](attachment:90586a52-d83e-4dcd-9c6f-443ab28e97d2.png)"
   ]
  },
  {
   "cell_type": "markdown",
   "id": "fed2db1f-4ef7-46a0-8619-5609e4e19759",
   "metadata": {},
   "source": [
    "DRY: - Do not repeat yourself which include in bed coding   \n",
    "- So make one class and which has same feature in both student and instructor and inheritent them further down."
   ]
  },
  {
   "cell_type": "code",
   "execution_count": 23,
   "id": "e9e72c2f-7c5f-4a58-9b2b-c2b889138e15",
   "metadata": {},
   "outputs": [],
   "source": [
    "class User:\n",
    "\n",
    "    def login(self):\n",
    "        print(\"Login_1\")\n",
    "\n",
    "    def register(self):\n",
    "        print(\"Register\")\n",
    "\n",
    "class student(User):\n",
    "\n",
    "    def enroll(self):\n",
    "        print(\"Enroll\")\n",
    "\n",
    "    def review(self):\n",
    "        print(\"review\")"
   ]
  },
  {
   "cell_type": "code",
   "execution_count": 24,
   "id": "66e0c498-bd78-47b0-85aa-1d81db596447",
   "metadata": {},
   "outputs": [],
   "source": [
    "std = student()"
   ]
  },
  {
   "cell_type": "code",
   "execution_count": 27,
   "id": "53bd2154-3fb5-4d60-a0f3-0f8663cf480e",
   "metadata": {},
   "outputs": [
    {
     "name": "stdout",
     "output_type": "stream",
     "text": [
      "Login_1\n",
      "None\n"
     ]
    }
   ],
   "source": [
    "print(std.login())"
   ]
  },
  {
   "cell_type": "markdown",
   "id": "192af8c6-7d25-4505-85c6-9d02fdead280",
   "metadata": {},
   "source": [
    "# Polymorphism"
   ]
  },
  {
   "cell_type": "code",
   "execution_count": 1,
   "id": "c1e9366f-57df-4b11-9954-32229ee3751d",
   "metadata": {},
   "outputs": [],
   "source": [
    "# Polymorphism\n",
    "#Method overriding\n",
    "#method overloading\n",
    "#operator overloading"
   ]
  },
  {
   "cell_type": "code",
   "execution_count": 3,
   "id": "6db3571e-04a5-44f8-a43d-291b8be81f36",
   "metadata": {},
   "outputs": [
    {
     "data": {
      "text/plain": [
       "200"
      ]
     },
     "execution_count": 3,
     "metadata": {},
     "output_type": "execute_result"
    }
   ],
   "source": [
    "class parent:\n",
    "    def __init__(self,num):\n",
    "        self.__num = num\n",
    "\n",
    "    def get_num(self):\n",
    "        return self.__num+100\n",
    "\n",
    "class child(parent):\n",
    "    def show(Self):\n",
    "        print('This is child class')\n",
    "\n",
    "\n",
    "son = child(100)\n",
    "son.get_num()"
   ]
  },
  {
   "cell_type": "code",
   "execution_count": 13,
   "id": "c618bca0-1428-4c5d-b635-aaf62d7e416f",
   "metadata": {},
   "outputs": [
    {
     "ename": "SyntaxError",
     "evalue": "invalid syntax. Perhaps you forgot a comma? (4081646896.py, line 16)",
     "output_type": "error",
     "traceback": [
      "\u001b[1;36m  Cell \u001b[1;32mIn[13], line 16\u001b[1;36m\u001b[0m\n\u001b[1;33m    son.get_num() (when child constructor has triggured then parent constructor\u001b[0m\n\u001b[1;37m                   ^\u001b[0m\n\u001b[1;31mSyntaxError\u001b[0m\u001b[1;31m:\u001b[0m invalid syntax. Perhaps you forgot a comma?\n"
     ]
    }
   ],
   "source": [
    "class parent:\n",
    "    def __init__(self,num):\n",
    "        self.__num = num\n",
    "\n",
    "    def get_num(self):\n",
    "        return self.__num\n",
    "\n",
    "class child(parent):\n",
    "    def __init__(self, val, num):\n",
    "        self.__val = val\n",
    "\n",
    "    def get_val(self):\n",
    "        return self.__val\n",
    "\n",
    "son = child(100,10)\n",
    "son.get_num() (when child constructor has triggured then parent constructor\n",
    "will not intialize so self.__num will not created thats why error occured)"
   ]
  },
  {
   "cell_type": "code",
   "execution_count": 15,
   "id": "4856ed2c-2893-4222-acdd-c5aa2cabda78",
   "metadata": {},
   "outputs": [
    {
     "name": "stdout",
     "output_type": "stream",
     "text": [
      "class A 100\n"
     ]
    }
   ],
   "source": [
    "class A:\n",
    "    def __init__(self):\n",
    "        self.var1 = 100\n",
    "\n",
    "    def display1(self, var1):\n",
    "        print('class A', self.var1)\n",
    "\n",
    "class B(A):\n",
    "    def display2(self, var1):\n",
    "        print('class B',self.var1)\n",
    "\n",
    "obj = B()\n",
    "obj.display1(200)"
   ]
  },
  {
   "cell_type": "code",
   "execution_count": 16,
   "id": "0f9e2639-55f2-4fce-b956-acd2423fab2b",
   "metadata": {},
   "outputs": [
    {
     "name": "stdout",
     "output_type": "stream",
     "text": [
      "Inside phone constructor\n",
      "Buying a smartphone\n",
      "Buying a phone\n"
     ]
    }
   ],
   "source": [
    "class phone:\n",
    "    def __init__(self, price, brand, camera):\n",
    "        print('Inside phone constructor')\n",
    "        self.__price = price\n",
    "        self.barnd = brand\n",
    "        self.camera = camera\n",
    "\n",
    "    def buy(self):\n",
    "        print('Buying a phone')\n",
    "\n",
    "class SmartPhone(phone):\n",
    "    def buy(self):\n",
    "        print('Buying a smartphone')\n",
    "        super().buy()\n",
    "\n",
    "s = SmartPhone(2000, 'Apple', 13)\n",
    "s.buy()"
   ]
  },
  {
   "cell_type": "markdown",
   "id": "a146242f-6e01-4d9b-9c50-56da31b4f338",
   "metadata": {},
   "source": [
    "# How parent and child works for super()"
   ]
  },
  {
   "cell_type": "code",
   "execution_count": 23,
   "id": "4eb595b1-6690-4951-b51e-51887a3d48ec",
   "metadata": {},
   "outputs": [
    {
     "name": "stdout",
     "output_type": "stream",
     "text": [
      "Inside phone constructor\n",
      "Inside smartphone constructor\n"
     ]
    },
    {
     "data": {
      "text/plain": [
       "'Samsung'"
      ]
     },
     "execution_count": 23,
     "metadata": {},
     "output_type": "execute_result"
    }
   ],
   "source": [
    "class Phone:\n",
    "    def __init__(self, price, brand, camera):\n",
    "        print('Inside phone constructor')\n",
    "        self.__price = price\n",
    "        self.brand = brand\n",
    "        self.camera = camera\n",
    "\n",
    "class Smartphone(Phone):\n",
    "    def __init__(self, price, brand, camera, os, ram):\n",
    "        super().__init__(price, brand, camera)\n",
    "        self.os = os\n",
    "        self.ram = ram\n",
    "        print('Inside smartphone constructor')\n",
    "\n",
    "s = Smartphone(20000, 'Samsung', 12, 'Android', 2)\n",
    "s.brand"
   ]
  },
  {
   "cell_type": "code",
   "execution_count": 28,
   "id": "8f5d1877-572f-49ef-b417-9d6ea057c849",
   "metadata": {},
   "outputs": [
    {
     "data": {
      "text/plain": [
       "10"
      ]
     },
     "execution_count": 28,
     "metadata": {},
     "output_type": "execute_result"
    }
   ],
   "source": [
    "class parent:\n",
    "    def __init__(self, num):\n",
    "        self.__num = num\n",
    "\n",
    "    def get_num(self):\n",
    "        return self.__num\n",
    "\n",
    "class child(parent):\n",
    "    def __init__(self, num, val):\n",
    "        super().__init__(num)\n",
    "        self.__val = val\n",
    "\n",
    "    def get_val(self):\n",
    "        return self.__val\n",
    "\n",
    "son = child(100,10)\n",
    "\n",
    "son.get_val()"
   ]
  },
  {
   "attachments": {
    "051bd5a0-3174-46f2-ba24-56eb9400b768.png": {
     "image/png": "[encoded data removed]"
    }
   },
   "cell_type": "markdown",
   "id": "9a2d5395-85e3-49a3-81c4-1bb09241b4fd",
   "metadata": {},
   "source": [
    "# Type of Inheritance: -\n",
    "![image.png](attachment:051bd5a0-3174-46f2-ba24-56eb9400b768.png)"
   ]
  },
  {
   "cell_type": "code",
   "execution_count": 30,
   "id": "8a2f955f-0f62-4433-bae0-fdf8424219c2",
   "metadata": {},
   "outputs": [
    {
     "name": "stdout",
     "output_type": "stream",
     "text": [
      "inside phone constructor\n",
      "Customer review\n",
      "Buying a phone\n"
     ]
    }
   ],
   "source": [
    "class phone:\n",
    "    def __init__(self, price, brand, camera):\n",
    "        print(\"inside phone constructor\")\n",
    "        self.__price = price\n",
    "        self.brand = brand\n",
    "        self.camera = camera\n",
    "\n",
    "    def buy(self):\n",
    "        print(\"Buying a phone\")\n",
    "\n",
    "class product:\n",
    "    def review(self):\n",
    "        print(\"Customer review\")\n",
    "\n",
    "class Smartphone(phone, product):\n",
    "    pass\n",
    "\n",
    "s = Smartphone(2000,'Apple', 12)\n",
    "s.review()\n",
    "s.buy()"
   ]
  },
  {
   "cell_type": "code",
   "execution_count": 33,
   "id": "e4f1c20f-ce88-4565-9f24-00861e249354",
   "metadata": {},
   "outputs": [
    {
     "name": "stdout",
     "output_type": "stream",
     "text": [
      "inside phone constructor\n",
      "Product Buy method\n"
     ]
    }
   ],
   "source": [
    "class phone:\n",
    "    def __init__(self, price, brand, camera):\n",
    "        print(\"inside phone constructor\")\n",
    "        self.__price = price\n",
    "        self.brand = brand\n",
    "        self.camera = camera\n",
    "\n",
    "    def buy(self):\n",
    "        print(\"Buying a phone\")\n",
    "\n",
    "class product:\n",
    "    def buy(self):\n",
    "        print(\"Product Buy method\")\n",
    "\n",
    "class Smartphone(product, phone):\n",
    "    pass\n",
    "\n",
    "s = Smartphone(2000,'Apple', 12)\n",
    "s.buy()"
   ]
  },
  {
   "cell_type": "code",
   "execution_count": 37,
   "id": "8617ed82-53d9-4fec-bb93-fce5e4cd0304",
   "metadata": {},
   "outputs": [
    {
     "name": "stdout",
     "output_type": "stream",
     "text": [
      "70\n"
     ]
    }
   ],
   "source": [
    "class A:\n",
    "    def m1(self):\n",
    "        return 20\n",
    "\n",
    "class B(A):\n",
    "    def m1(self):\n",
    "        return 30\n",
    "\n",
    "    def m2(self):\n",
    "        return 40\n",
    "\n",
    "class C(B):\n",
    "    def m2(self):\n",
    "        return 20\n",
    "\n",
    "obj1 = A()\n",
    "obj2 = B()\n",
    "obj3 = C()\n",
    "print(obj1.m1() + obj2.m1() + obj3.m2())"
   ]
  },
  {
   "cell_type": "code",
   "execution_count": 38,
   "id": "9ba101dc-896c-4b81-89e0-609cef8fe9bd",
   "metadata": {},
   "outputs": [
    {
     "name": "stdout",
     "output_type": "stream",
     "text": [
      "70\n"
     ]
    }
   ],
   "source": [
    "class A:\n",
    "    def m1(self):\n",
    "        return 20\n",
    "\n",
    "class B(A):\n",
    "    def m1(self):\n",
    "        val = super().m1() + 30\n",
    "        return val\n",
    "\n",
    "class C(B):\n",
    "    def m1(self):\n",
    "        val = super().m1() + 20\n",
    "        return val\n",
    "\n",
    "obj = C()\n",
    "print(obj.m1())"
   ]
  },
  {
   "cell_type": "code",
   "execution_count": 39,
   "id": "db31e0bf-464d-4a2f-ab03-81fa4139e947",
   "metadata": {},
   "outputs": [],
   "source": [
    "class geometry:\n",
    "    def area(self, a, b = 0):\n",
    "        if b==0:\n",
    "            print('Circle', 3.14 *a*a)\n",
    "\n",
    "        else:\n",
    "            print('Rect', a * b)"
   ]
  },
  {
   "cell_type": "code",
   "execution_count": 40,
   "id": "9f2c5726-482e-42bd-af36-71d57c08f154",
   "metadata": {},
   "outputs": [
    {
     "name": "stdout",
     "output_type": "stream",
     "text": [
      "Circle 50.24\n",
      "Rect 20\n"
     ]
    }
   ],
   "source": [
    "a = geometry()\n",
    "a.area(4)\n",
    "a.area(4,5)"
   ]
  },
  {
   "cell_type": "code",
   "execution_count": null,
   "id": "5ad4e34e-9231-404b-91bc-6675109aa58f",
   "metadata": {},
   "outputs": [],
   "source": []
  }
 ],
 "metadata": {
  "kernelspec": {
   "display_name": "Python 3 (ipykernel)",
   "language": "python",
   "name": "python3"
  },
  "language_info": {
   "codemirror_mode": {
    "name": "ipython",
    "version": 3
   },
   "file_extension": ".py",
   "mimetype": "text/x-python",
   "name": "python",
   "nbconvert_exporter": "python",
   "pygments_lexer": "ipython3",
   "version": "3.11.4"
  }
 },
 "nbformat": 4,
 "nbformat_minor": 5
}
