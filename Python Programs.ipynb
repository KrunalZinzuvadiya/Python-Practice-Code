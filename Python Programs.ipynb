{
 "cells": [
  {
   "cell_type": "code",
   "execution_count": 1,
   "id": "bf2c0504-7386-4025-9fcd-701254d5ba2d",
   "metadata": {},
   "outputs": [
    {
     "name": "stdout",
     "output_type": "stream",
     "text": [
      "30\n"
     ]
    }
   ],
   "source": [
    "#python program to ass two numbers in python\n",
    "a = 10\n",
    "b = 20\n",
    "add = a + b\n",
    "print(add)"
   ]
  },
  {
   "cell_type": "code",
   "execution_count": 2,
   "id": "aebd434c-01eb-4200-a9b7-b4262c06c49e",
   "metadata": {},
   "outputs": [
    {
     "name": "stdin",
     "output_type": "stream",
     "text": [
      "Number one is: 4545\n",
      "Number two is: 54545\n"
     ]
    },
    {
     "name": "stdout",
     "output_type": "stream",
     "text": [
      "59090.0\n"
     ]
    }
   ],
   "source": [
    "a = float(input(\"Number one is:\"))\n",
    "b = float(input(\"Number two is:\"))\n",
    "add = a + b\n",
    "print(add)"
   ]
  },
  {
   "cell_type": "code",
   "execution_count": 4,
   "id": "1d9b637a-586c-4feb-96af-8d7265fe3ab9",
   "metadata": {},
   "outputs": [
    {
     "name": "stdout",
     "output_type": "stream",
     "text": [
      "Hello World\n"
     ]
    }
   ],
   "source": [
    "#print Hello world\n",
    "print(\"Hello World\")"
   ]
  },
  {
   "cell_type": "code",
   "execution_count": 5,
   "id": "822d1347-f86d-4c5a-a3ea-04710cb5bcec",
   "metadata": {},
   "outputs": [
    {
     "name": "stdin",
     "output_type": "stream",
     "text": [
      " Hello World\n"
     ]
    },
    {
     "name": "stdout",
     "output_type": "stream",
     "text": [
      "Hello World\n"
     ]
    }
   ],
   "source": [
    "input_str = input()\n",
    "print(input_str)"
   ]
  },
  {
   "cell_type": "code",
   "execution_count": 6,
   "id": "3ff04833-893a-40ce-a201-447a7078ffd3",
   "metadata": {},
   "outputs": [
    {
     "name": "stdout",
     "output_type": "stream",
     "text": [
      "8.0\n"
     ]
    }
   ],
   "source": [
    "#Find Square root\n",
    "num = 64\n",
    "sr = num**(1/2)\n",
    "print(sr)"
   ]
  },
  {
   "cell_type": "code",
   "execution_count": 9,
   "id": "480adea8-b63d-440c-854d-2934c47499d7",
   "metadata": {},
   "outputs": [
    {
     "name": "stdin",
     "output_type": "stream",
     "text": [
      " 64\n"
     ]
    },
    {
     "name": "stdout",
     "output_type": "stream",
     "text": [
      "8.0\n"
     ]
    }
   ],
   "source": [
    "import math\n",
    "num = int(input())\n",
    "sr = math.sqrt(num)\n",
    "print(sr)"
   ]
  },
  {
   "cell_type": "code",
   "execution_count": 10,
   "id": "85c37ebe-fa81-4e0c-ae6c-540510dd6315",
   "metadata": {},
   "outputs": [
    {
     "name": "stdout",
     "output_type": "stream",
     "text": [
      "75.0\n"
     ]
    }
   ],
   "source": [
    "#Calculate area of triangle\n",
    "base = 10\n",
    "height = 15\n",
    "area = (1/2)*base*height\n",
    "print(area)"
   ]
  },
  {
   "cell_type": "code",
   "execution_count": 16,
   "id": "cb35d400-0dc4-4292-9ed8-b21374f71c64",
   "metadata": {},
   "outputs": [
    {
     "name": "stdout",
     "output_type": "stream",
     "text": [
      "15\n",
      "10\n"
     ]
    }
   ],
   "source": [
    "#Swap the numbers\n",
    "a = 10\n",
    "b = 15\n",
    "\n",
    "a, b= b, a\n",
    "print(a)\n",
    "print(b)"
   ]
  },
  {
   "cell_type": "code",
   "execution_count": 18,
   "id": "5fb6d98d-5c88-47fb-bac7-3157567f39d9",
   "metadata": {},
   "outputs": [
    {
     "name": "stdout",
     "output_type": "stream",
     "text": [
      "3.125\n"
     ]
    }
   ],
   "source": [
    "#Convert from km to miles\n",
    "km = 5\n",
    "\n",
    "miles = km / 1.6\n",
    "print(miles)"
   ]
  },
  {
   "cell_type": "code",
   "execution_count": 21,
   "id": "242834e6-47f9-4cf3-9938-5135c5ff88f1",
   "metadata": {},
   "outputs": [
    {
     "name": "stdin",
     "output_type": "stream",
     "text": [
      " -10\n"
     ]
    },
    {
     "name": "stdout",
     "output_type": "stream",
     "text": [
      "Negative\n"
     ]
    }
   ],
   "source": [
    "#Number is positive, negative, zero\n",
    "a = int(input())\n",
    "\n",
    "if a>0:\n",
    "    print(\"positive\")\n",
    "elif a<0:\n",
    "    print(\"Negative\")\n",
    "else:\n",
    "    print(\"Number is zero\")"
   ]
  },
  {
   "cell_type": "code",
   "execution_count": 26,
   "id": "28076e6e-3002-4cdb-8740-206772f92d63",
   "metadata": {},
   "outputs": [
    {
     "name": "stdin",
     "output_type": "stream",
     "text": [
      " 5\n"
     ]
    },
    {
     "name": "stdout",
     "output_type": "stream",
     "text": [
      "odd\n"
     ]
    }
   ],
   "source": [
    "#Number is odd or even\n",
    "a = int(input())\n",
    "\n",
    "if (a%2) == 0:\n",
    "    print(\"even\")\n",
    "else:\n",
    "    print(\"odd\")"
   ]
  },
  {
   "cell_type": "code",
   "execution_count": 46,
   "id": "f6dc9722-d8bb-45c3-9090-3e655f7575e7",
   "metadata": {},
   "outputs": [
    {
     "name": "stdin",
     "output_type": "stream",
     "text": [
      "Enter a year: 2024\n"
     ]
    },
    {
     "name": "stdout",
     "output_type": "stream",
     "text": [
      "leap year\n"
     ]
    }
   ],
   "source": [
    "#Program to check leap year\n",
    "year = int(input(\"Enter a year:\"))\n",
    "if (year  % 400 == 0) and (year % 100 == 0):\n",
    "    print(\"Leap year\")\n",
    "elif (year % 4 ==0) and (year % 100 != 0):\n",
    "    print(\"leap year\")\n",
    "elif (year % 400 != 0) and (year % 100 != 0):\n",
    "    print(\"Not a leap year\")"
   ]
  },
  {
   "cell_type": "markdown",
   "id": "aa0b4893-2085-4048-920b-b87e02712aa3",
   "metadata": {},
   "source": [
    "# Find the largest number amongs the three numbers"
   ]
  },
  {
   "cell_type": "code",
   "execution_count": 8,
   "id": "4a10300f-bc91-46e9-864b-c7fd47fb6269",
   "metadata": {},
   "outputs": [
    {
     "name": "stdin",
     "output_type": "stream",
     "text": [
      "Enter a first number here: 45\n",
      "Enter a second number here: 12\n",
      "Enter a third number here: 32\n"
     ]
    }
   ],
   "source": [
    "a = int(input(\"Enter a first number here:\"))\n",
    "b = int(input(\"Enter a second number here:\"))\n",
    "c = int(input(\"Enter a third number here:\"))"
   ]
  },
  {
   "cell_type": "code",
   "execution_count": 9,
   "id": "483d90d5-a5b3-452b-a82f-c4baef42df4b",
   "metadata": {},
   "outputs": [
    {
     "name": "stdout",
     "output_type": "stream",
     "text": [
      "a is largest\n"
     ]
    }
   ],
   "source": [
    "if a>b and a>c:\n",
    "    print(\"a is largest\")\n",
    "elif b>c and b>a:\n",
    "    print(\"b is largest\")\n",
    "elif c>a and c>b:\n",
    "    print(\"c is largest\")"
   ]
  },
  {
   "cell_type": "markdown",
   "id": "bdfb546c-3061-4f8a-84a0-29ed9874eda5",
   "metadata": {},
   "source": [
    "# Check the number is prime or not"
   ]
  },
  {
   "cell_type": "code",
   "execution_count": 29,
   "id": "6bc5496d-ad39-4e07-a72c-2f17882eadf6",
   "metadata": {},
   "outputs": [
    {
     "name": "stdin",
     "output_type": "stream",
     "text": [
      " 45\n"
     ]
    }
   ],
   "source": [
    "num = int(input())"
   ]
  },
  {
   "cell_type": "code",
   "execution_count": 30,
   "id": "0798a0d4-4fe5-472e-950a-d320b588b4f1",
   "metadata": {},
   "outputs": [
    {
     "name": "stdout",
     "output_type": "stream",
     "text": [
      "Number is prime\n",
      "Number is not prime\n"
     ]
    }
   ],
   "source": [
    "for i in"
   ]
  },
  {
   "cell_type": "markdown",
   "id": "3efd404d-d28e-47dd-b06d-7b72b2142cf0",
   "metadata": {},
   "source": [
    "-----"
   ]
  },
  {
   "cell_type": "markdown",
   "id": "efb35f42-fa7a-4710-b0a5-1d09a2fe9931",
   "metadata": {},
   "source": [
    "# Dry run the code manually to get results.."
   ]
  },
  {
   "cell_type": "markdown",
   "id": "da13cab7-e54e-4b7d-b3b4-14b6ceb1f53e",
   "metadata": {},
   "source": [
    "# The most important thing to improve the logic by *DRY RUN* in python program."
   ]
  },
  {
   "cell_type": "markdown",
   "id": "51cfbdd4-692f-49ba-bdbb-331fcc69315b",
   "metadata": {},
   "source": [
    "---------------"
   ]
  },
  {
   "cell_type": "markdown",
   "id": "95b05298-007f-42fb-bb8a-88f3bcaaacb4",
   "metadata": {},
   "source": [
    "# Generate the random Number"
   ]
  },
  {
   "cell_type": "code",
   "execution_count": 3,
   "id": "d92a9622-aa6f-43df-bcc7-dc91b264c946",
   "metadata": {},
   "outputs": [
    {
     "name": "stdout",
     "output_type": "stream",
     "text": [
      "66\n"
     ]
    }
   ],
   "source": [
    "import random\n",
    "\n",
    "num = random.randint(0,100)\n",
    "print(num)"
   ]
  },
  {
   "cell_type": "markdown",
   "id": "64abcf7e-8d2d-4fa4-aa1c-0a676ad10003",
   "metadata": {},
   "source": [
    "# Print prime number in an interval"
   ]
  },
  {
   "cell_type": "code",
   "execution_count": 16,
   "id": "426e1e6b-486a-456f-967b-597cf81db5a3",
   "metadata": {},
   "outputs": [
    {
     "name": "stdout",
     "output_type": "stream",
     "text": [
      "2\n",
      "3\n",
      "5\n",
      "7\n",
      "11\n",
      "13\n",
      "17\n",
      "19\n",
      "23\n",
      "29\n",
      "31\n",
      "37\n",
      "41\n",
      "43\n",
      "47\n",
      "53\n",
      "59\n",
      "61\n",
      "67\n",
      "71\n",
      "73\n",
      "79\n",
      "83\n",
      "89\n",
      "97\n"
     ]
    }
   ],
   "source": [
    "for num in range(1,100):\n",
    "    if num>1:\n",
    "        for i in range(2,num):\n",
    "            if num%i==0:\n",
    "                break\n",
    "        else:\n",
    "            print(num)"
   ]
  },
  {
   "cell_type": "code",
   "execution_count": null,
   "id": "d3306b1a-5b07-4c81-bd1e-d65c55da3e3a",
   "metadata": {},
   "outputs": [],
   "source": []
  }
 ],
 "metadata": {
  "kernelspec": {
   "display_name": "Python 3 (ipykernel)",
   "language": "python",
   "name": "python3"
  },
  "language_info": {
   "codemirror_mode": {
    "name": "ipython",
    "version": 3
   },
   "file_extension": ".py",
   "mimetype": "text/x-python",
   "name": "python",
   "nbconvert_exporter": "python",
   "pygments_lexer": "ipython3",
   "version": "3.11.4"
  }
 },
 "nbformat": 4,
 "nbformat_minor": 5
}
