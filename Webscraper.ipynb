{
 "cells": [
  {
   "cell_type": "markdown",
   "id": "12a7c489-4c84-4b4f-9196-307ecc4662b3",
   "metadata": {},
   "source": [
    "# News Headline"
   ]
  },
  {
   "cell_type": "code",
   "execution_count": 23,
   "id": "94808689-ae04-4ad8-b295-5e11b873d2fe",
   "metadata": {},
   "outputs": [],
   "source": [
    "import requests"
   ]
  },
  {
   "cell_type": "code",
   "execution_count": 24,
   "id": "680ba2a5-3505-4c28-844b-7dc442b2c273",
   "metadata": {},
   "outputs": [],
   "source": [
    "from bs4 import BeautifulSoup\n",
    "\n",
    "#Requesting the wbsite\n",
    "url = \"https://www.bbc.com/news\""
   ]
  },
  {
   "cell_type": "code",
   "execution_count": 25,
   "id": "71fba2ff-ceac-4a07-a3eb-16c96f9d4ef2",
   "metadata": {},
   "outputs": [
    {
     "name": "stdout",
     "output_type": "stream",
     "text": [
      "The response code is:  <Response [200]>\n"
     ]
    }
   ],
   "source": [
    "response = requests.get(url)\n",
    "print(\"The response code is: \", response)"
   ]
  },
  {
   "cell_type": "code",
   "execution_count": 26,
   "id": "931b265f-c5e1-47a2-a848-291eb7a5b64c",
   "metadata": {},
   "outputs": [],
   "source": [
    "#parse the HTML Document\n",
    "soup = BeautifulSoup(response.content, 'html.parser')"
   ]
  },
  {
   "cell_type": "code",
   "execution_count": 32,
   "id": "98b350a8-dbcd-4de9-bfe8-f12ca03b4618",
   "metadata": {},
   "outputs": [
    {
     "name": "stdout",
     "output_type": "stream",
     "text": [
      "[<h2 class=\"sc-4fedabc7-3 dsoipF\" data-testid=\"card-headline\">Ukraine claims to control 1,000 sq km of Russian territory<!-- --></h2>, <h2 class=\"sc-4fedabc7-3 zTZri\" data-testid=\"card-headline\">Musk hosts friendly chat with Trump on X after tech delays<!-- --></h2>, <h2 class=\"sc-4fedabc7-3 zTZri\" data-testid=\"card-headline\">Inside the secret Titanic warehouse<!-- --></h2>, <h2 class=\"sc-4fedabc7-3 zTZri\" data-testid=\"card-headline\">Why India's market regulator is in the eye of a storm<!-- --></h2>, <h2 class=\"sc-4fedabc7-3 zTZri\" data-testid=\"card-headline\">UK's Starmer urges Iran to refrain from Israel attack<!-- --></h2>, <h2 class=\"sc-4fedabc7-3 zTZri\" data-testid=\"card-headline\">Musk hosts friendly chat with Trump on X after tech delays<!-- --></h2>, <h2 class=\"sc-4fedabc7-3 zTZri\" data-testid=\"card-headline\">The rise and fall of North Korea - the sleeping giant of women's football<!-- --></h2>, <h2 class=\"sc-4fedabc7-3 zTZri\" data-testid=\"card-headline\">Family of mum who died saving baby in Bondi attack speaks<!-- --></h2>, <h2 class=\"sc-4fedabc7-3 zTZri\" data-testid=\"card-headline\">Hong Kong loves to hate its cabbies - can polite ambassadors help?<!-- --></h2>, <h2 class=\"sc-4fedabc7-3 zTZri\" data-testid=\"card-headline\">Inside the secret Titanic warehouse<!-- --></h2>, <h2 class=\"sc-4fedabc7-3 zTZri\" data-testid=\"card-headline\">One dead as wildfires rage across Athens suburbs<!-- --></h2>, <h2 class=\"sc-4fedabc7-3 zTZri\" data-testid=\"card-headline\">Yunus: I will help make students' dream for Bangladesh come true<!-- --></h2>, <h2 class=\"sc-4fedabc7-3 zTZri\" data-testid=\"card-headline\">'Seismic signals' of liquid water found deep inside Mars<!-- --></h2>, <h2 class=\"sc-4fedabc7-3 zTZri\" data-testid=\"card-headline\">FBI probes claims Iran hacked Trump campaign<!-- --></h2>, <h2 class=\"sc-4fedabc7-3 zTZri\" data-testid=\"card-headline\">King Charles banknotes go for 11 times face value<!-- --></h2>, <h2 class=\"sc-54d40974-2 eKfxoB\" data-testid=\"virginia-title\">Features and analysis</h2>, <h2 class=\"sc-4fedabc7-3 dsoipF\" data-testid=\"card-headline\">The rise and fall of North Korea - the sleeping giant of women's football<!-- --></h2>, <h2 class=\"sc-4fedabc7-3 zTZri\" data-testid=\"card-headline\">The comedian turning her period condition into a stand-up show<!-- --></h2>, <h2 class=\"sc-4fedabc7-3 zTZri\" data-testid=\"card-headline\">Trump falsely claims Harris crowd was faked<!-- --></h2>, <h2 class=\"sc-4fedabc7-3 zTZri\" data-testid=\"card-headline\">Taiwan cheers boxer who won Olympic gold after gender row<!-- --></h2>, <h2 class=\"sc-4fedabc7-3 zTZri\" data-testid=\"card-headline\">'I thought days of race hatred were over' - Riots take British Asians back to 1970s<!-- --></h2>, <h2 class=\"sc-4fedabc7-3 zTZri\" data-testid=\"card-headline\">The comedian turning her period condition into a stand-up show<!-- --></h2>, <h2 class=\"sc-4fedabc7-3 zTZri\" data-testid=\"card-headline\">The 'superfood' taking over fields in northern India<!-- --></h2>, <h2 class=\"sc-4fedabc7-3 zTZri\" data-testid=\"card-headline\">'On verge of an explosion': Policeman's killing part of spiralling West Bank violence<!-- --></h2>, <h2 class=\"sc-4fedabc7-3 zTZri\" data-testid=\"card-headline\">Trump falsely claims Harris crowd was faked<!-- --></h2>, <h2 class=\"sc-54d40974-2 eKfxoB\" data-testid=\"illinois-title\">Most watched</h2>, <h2 class=\"sc-4fedabc7-3 gJvjEE\" data-testid=\"card-headline\">Bodycam video shows police response to Uvalde shooting<!-- --></h2>, <h2 class=\"sc-4fedabc7-3 gJvjEE\" data-testid=\"card-headline\">Moment Banksy rhino artwork is defaced by man in balaclava<!-- --></h2>, <h2 class=\"sc-4fedabc7-3 gJvjEE\" data-testid=\"card-headline\">Watch: Timelapse captures Perseid meteor shower<!-- --></h2>, <h2 class=\"sc-4fedabc7-3 gJvjEE\" data-testid=\"card-headline\">Emotional Miley Cyrus accepts Disney Legend award<!-- --></h2>, <h2 class=\"sc-4fedabc7-3 gJvjEE\" data-testid=\"card-headline\">Doctor taking on epic ironman triathlon challenge<!-- --></h2>, <h2 class=\"sc-54d40974-2 eKfxoB\" data-testid=\"virginia-title\">Also in news</h2>, <h2 class=\"sc-4fedabc7-3 dsoipF\" data-testid=\"card-headline\">Watch: Timelapse captures Perseid meteor shower<!-- --></h2>, <h2 class=\"sc-4fedabc7-3 zTZri\" data-testid=\"card-headline\">Disqualified Eurovision star will not be prosecuted<!-- --></h2>, <h2 class=\"sc-4fedabc7-3 zTZri\" data-testid=\"card-headline\">Banksy's eighth London artwork in eight days defaced<!-- --></h2>, <h2 class=\"sc-4fedabc7-3 zTZri\" data-testid=\"card-headline\">Isaac Hayes' family threaten to sue Trump for $3m<!-- --></h2>, <h2 class=\"sc-4fedabc7-3 zTZri\" data-testid=\"card-headline\">Emotional Miley becomes youngest-ever Disney Legend<!-- --></h2>, <h2 class=\"sc-4fedabc7-3 zTZri\" data-testid=\"card-headline\">Disqualified Eurovision star will not be prosecuted<!-- --></h2>, <h2 class=\"sc-4fedabc7-3 zTZri\" data-testid=\"card-headline\">'Unauthorised' chopper crashes into Australian hotel<!-- --></h2>, <h2 class=\"sc-4fedabc7-3 zTZri\" data-testid=\"card-headline\">Horses can plan and strategise, new study shows<!-- --></h2>, <h2 class=\"sc-4fedabc7-3 zTZri\" data-testid=\"card-headline\">Banksy's eighth London artwork in eight days defaced<!-- --></h2>, <h2 class=\"sc-54d40974-2 eKfxoB\" data-testid=\"illinois-title\">Most read</h2>, <h2 class=\"sc-4fedabc7-3 gJvjEE\" data-testid=\"card-headline\">Musk hosts friendly chat with Trump on X after tech delays<!-- --></h2>, <h2 class=\"sc-4fedabc7-3 gJvjEE\" data-testid=\"card-headline\">The 'superfood' taking over fields in northern India<!-- --></h2>, <h2 class=\"sc-4fedabc7-3 gJvjEE\" data-testid=\"card-headline\">Ukraine claims to control 1,000 sq km of Russian territory<!-- --></h2>, <h2 class=\"sc-4fedabc7-3 gJvjEE\" data-testid=\"card-headline\">Reservoir of liquid water found deep in Martian rocks <!-- --></h2>, <h2 class=\"sc-4fedabc7-3 gJvjEE\" data-testid=\"card-headline\">Man charged after girl stabbed in Leicester Square<!-- --></h2>, <h2 class=\"sc-4fedabc7-3 gJvjEE\" data-testid=\"card-headline\">UK's Starmer urges Iran to refrain from Israel attack<!-- --></h2>, <h2 class=\"sc-4fedabc7-3 gJvjEE\" data-testid=\"card-headline\">Family of mum who died saving baby in Bondi attack speaks<!-- --></h2>, <h2 class=\"sc-4fedabc7-3 gJvjEE\" data-testid=\"card-headline\">Inside the secret Titanic warehouse<!-- --></h2>, <h2 class=\"sc-4fedabc7-3 gJvjEE\" data-testid=\"card-headline\">Hong Kong loves to hate its cabbies - can polite ambassadors help?<!-- --></h2>, <h2 class=\"sc-4fedabc7-3 gJvjEE\" data-testid=\"card-headline\">King Charles banknotes go for 11 times face value<!-- --></h2>, <h2 class=\"sc-54d40974-2 eKfxoB\" data-testid=\"virginia-title\">Sport</h2>, <h2 class=\"sc-4fedabc7-3 dsoipF\" data-testid=\"card-headline\">Football and transfer updates and including latest on Guehi, De Ligt, Mazraoui and more<!-- --></h2>, <h2 class=\"sc-4fedabc7-3 zTZri\" data-testid=\"card-headline\">Ten new players to watch in the Premier League<!-- --></h2>, <h2 class=\"sc-4fedabc7-3 zTZri\" data-testid=\"card-headline\">The rise and fall of North Korea - the sleeping giant of women's football<!-- --></h2>, <h2 class=\"sc-4fedabc7-3 zTZri\" data-testid=\"card-headline\">Sprinter set to be first transgender Paralympian<!-- --></h2>, <h2 class=\"sc-4fedabc7-3 zTZri\" data-testid=\"card-headline\">F1 Q&amp;A: Which grands prix are under threat?<!-- --></h2>, <h2 class=\"sc-4fedabc7-3 zTZri\" data-testid=\"card-headline\">Ten new players to watch in the Premier League<!-- --></h2>, <h2 class=\"sc-4fedabc7-3 zTZri\" data-testid=\"card-headline\">England great Anderson considering white ball return<!-- --></h2>, <h2 class=\"sc-4fedabc7-3 zTZri\" data-testid=\"card-headline\">Premier League 'ours to lose', says Man City's Walker<!-- --></h2>, <h2 class=\"sc-4fedabc7-3 zTZri\" data-testid=\"card-headline\">The rise and fall of North Korea - the sleeping giant of women's football<!-- --></h2>, <h2 class=\"sc-97754ce7-1 friRUH\">Follow BBC on:</h2>]\n"
     ]
    }
   ],
   "source": [
    "#extract the news headline from HTML\n",
    "headlines = soup.find_all(\"h2\")\n",
    "print(headlines)"
   ]
  },
  {
   "cell_type": "code",
   "execution_count": 33,
   "id": "d7bf2508-cc9f-4159-bb5e-066e6687f60c",
   "metadata": {},
   "outputs": [
    {
     "name": "stdout",
     "output_type": "stream",
     "text": [
      "Ukraine claims to control 1,000 sq km of Russian territory \n",
      "\n",
      "Musk hosts friendly chat with Trump on X after tech delays \n",
      "\n",
      "Inside the secret Titanic warehouse \n",
      "\n",
      "Why India's market regulator is in the eye of a storm \n",
      "\n",
      "UK's Starmer urges Iran to refrain from Israel attack \n",
      "\n",
      "Musk hosts friendly chat with Trump on X after tech delays \n",
      "\n",
      "The rise and fall of North Korea - the sleeping giant of women's football \n",
      "\n",
      "Family of mum who died saving baby in Bondi attack speaks \n",
      "\n",
      "Hong Kong loves to hate its cabbies - can polite ambassadors help? \n",
      "\n",
      "Inside the secret Titanic warehouse \n",
      "\n",
      "One dead as wildfires rage across Athens suburbs \n",
      "\n",
      "Yunus: I will help make students' dream for Bangladesh come true \n",
      "\n",
      "'Seismic signals' of liquid water found deep inside Mars \n",
      "\n",
      "FBI probes claims Iran hacked Trump campaign \n",
      "\n",
      "King Charles banknotes go for 11 times face value \n",
      "\n",
      "Features and analysis \n",
      "\n",
      "The rise and fall of North Korea - the sleeping giant of women's football \n",
      "\n",
      "The comedian turning her period condition into a stand-up show \n",
      "\n",
      "Trump falsely claims Harris crowd was faked \n",
      "\n",
      "Taiwan cheers boxer who won Olympic gold after gender row \n",
      "\n",
      "'I thought days of race hatred were over' - Riots take British Asians back to 1970s \n",
      "\n",
      "The comedian turning her period condition into a stand-up show \n",
      "\n",
      "The 'superfood' taking over fields in northern India \n",
      "\n",
      "'On verge of an explosion': Policeman's killing part of spiralling West Bank violence \n",
      "\n",
      "Trump falsely claims Harris crowd was faked \n",
      "\n",
      "Most watched \n",
      "\n",
      "Bodycam video shows police response to Uvalde shooting \n",
      "\n",
      "Moment Banksy rhino artwork is defaced by man in balaclava \n",
      "\n",
      "Watch: Timelapse captures Perseid meteor shower \n",
      "\n",
      "Emotional Miley Cyrus accepts Disney Legend award \n",
      "\n",
      "Doctor taking on epic ironman triathlon challenge \n",
      "\n",
      "Also in news \n",
      "\n",
      "Watch: Timelapse captures Perseid meteor shower \n",
      "\n",
      "Disqualified Eurovision star will not be prosecuted \n",
      "\n",
      "Banksy's eighth London artwork in eight days defaced \n",
      "\n",
      "Isaac Hayes' family threaten to sue Trump for $3m \n",
      "\n",
      "Emotional Miley becomes youngest-ever Disney Legend \n",
      "\n",
      "Disqualified Eurovision star will not be prosecuted \n",
      "\n",
      "'Unauthorised' chopper crashes into Australian hotel \n",
      "\n",
      "Horses can plan and strategise, new study shows \n",
      "\n",
      "Banksy's eighth London artwork in eight days defaced \n",
      "\n",
      "Most read \n",
      "\n",
      "Musk hosts friendly chat with Trump on X after tech delays \n",
      "\n",
      "The 'superfood' taking over fields in northern India \n",
      "\n",
      "Ukraine claims to control 1,000 sq km of Russian territory \n",
      "\n",
      "Reservoir of liquid water found deep in Martian rocks  \n",
      "\n",
      "Man charged after girl stabbed in Leicester Square \n",
      "\n",
      "UK's Starmer urges Iran to refrain from Israel attack \n",
      "\n",
      "Family of mum who died saving baby in Bondi attack speaks \n",
      "\n",
      "Inside the secret Titanic warehouse \n",
      "\n",
      "Hong Kong loves to hate its cabbies - can polite ambassadors help? \n",
      "\n",
      "King Charles banknotes go for 11 times face value \n",
      "\n",
      "Sport \n",
      "\n",
      "Football and transfer updates and including latest on Guehi, De Ligt, Mazraoui and more \n",
      "\n",
      "Ten new players to watch in the Premier League \n",
      "\n",
      "The rise and fall of North Korea - the sleeping giant of women's football \n",
      "\n",
      "Sprinter set to be first transgender Paralympian \n",
      "\n",
      "F1 Q&A: Which grands prix are under threat? \n",
      "\n",
      "Ten new players to watch in the Premier League \n",
      "\n",
      "England great Anderson considering white ball return \n",
      "\n",
      "Premier League 'ours to lose', says Man City's Walker \n",
      "\n",
      "The rise and fall of North Korea - the sleeping giant of women's football \n",
      "\n",
      "Follow BBC on: \n",
      "\n"
     ]
    }
   ],
   "source": [
    "for headlines in headlines:\n",
    "    print(headlines.text, \"\\n\")"
   ]
  },
  {
   "cell_type": "markdown",
   "id": "e537a2ae-0e65-4921-8d70-ec89c5402138",
   "metadata": {},
   "source": [
    "# Linkedin"
   ]
  },
  {
   "cell_type": "code",
   "execution_count": 1,
   "id": "1e8f2f58-1bca-4efe-9d70-931f0f244061",
   "metadata": {},
   "outputs": [],
   "source": [
    "from selenium import webdriver\n",
    "import time\n",
    "import pandas as pd\n",
    "import os\n",
    "\n",
    "from selenium.webdriver.support.select import Select\n",
    "from selenium.webdriver.support.ui import WebDriverWait\n",
    "from selenium.webdriver.chrome.service import Service\n",
    "from selenium.webdriver.chrome.service import Service\n",
    "from selenium.webdriver.chrome.options import Options\n",
    "from selenium.webdriver.common.by import By\n",
    "from selenium.webdriver.support import expected_conditions as EC\n",
    "from webdriver_manager.chrome import ChromeDriverManager"
   ]
  },
  {
   "cell_type": "code",
   "execution_count": 2,
   "id": "703abfa9-2f3d-445c-b801-5f4f0df6b367",
   "metadata": {},
   "outputs": [],
   "source": [
    "# Setup Chrome options\n",
    "chrome_options = Options()\n",
    "chrome_options.add_argument(\"--headless\")  # Ensure GUI is off\n",
    "chrome_options.add_argument(\"--no-sandbox\")\n",
    "chrome_options.add_argument(\"--disable-dev-shm-usage\")"
   ]
  },
  {
   "cell_type": "code",
   "execution_count": 3,
   "id": "66b3b4af-706d-43c3-b1d1-e34ca5b31307",
   "metadata": {},
   "outputs": [],
   "source": [
    "url1 = 'https://in.linkedin.com/jobs/data-analyst-jobs-pune?position=1&pageNum=0'"
   ]
  },
  {
   "cell_type": "code",
   "execution_count": 4,
   "id": "34760a70-a4e1-438e-8c5c-b898e2fdf792",
   "metadata": {},
   "outputs": [],
   "source": [
    "# Create a service object\n",
    "service = Service(\"C:\\\\Users\\\\jalpa\\\\Downloads\\\\chromedriver-win64\\\\chromedriver-win64\\\\chromedriver.exe\")"
   ]
  },
  {
   "cell_type": "code",
   "execution_count": 5,
   "id": "94c08c13-0ab8-4a2f-b67b-1d409f5e2fc4",
   "metadata": {},
   "outputs": [],
   "source": [
    "driver = webdriver.Chrome(service=service)\n",
    "driver.get(url1)\n",
    "driver.implicitly_wait(10)"
   ]
  },
  {
   "cell_type": "code",
   "execution_count": 6,
   "id": "fba50b8a-04fe-417a-8714-385dd3386046",
   "metadata": {},
   "outputs": [
    {
     "data": {
      "text/plain": [
       "'11,000+'"
      ]
     },
     "execution_count": 6,
     "metadata": {},
     "output_type": "execute_result"
    }
   ],
   "source": [
    "#call the elements\n",
    "elements = driver.find_elements(By.CLASS_NAME, 'results-context-header__job-count')\n",
    "n = elements[0].text\n",
    "n"
   ]
  },
  {
   "cell_type": "code",
   "execution_count": 7,
   "id": "0ff0af73-ffaf-4233-a348-d1c7133770c0",
   "metadata": {},
   "outputs": [
    {
     "data": {
      "text/plain": [
       "'11000'"
      ]
     },
     "execution_count": 7,
     "metadata": {},
     "output_type": "execute_result"
    }
   ],
   "source": [
    "cleaned_n = n.replace(\",\", \"\").replace(\"+\",\"\")\n",
    "cleaned_n"
   ]
  },
  {
   "cell_type": "code",
   "execution_count": 8,
   "id": "1d99d0dc-f386-41d2-8134-7843f6c40315",
   "metadata": {},
   "outputs": [
    {
     "data": {
      "text/plain": [
       "11000"
      ]
     },
     "execution_count": 8,
     "metadata": {},
     "output_type": "execute_result"
    }
   ],
   "source": [
    "y = pd.to_numeric(cleaned_n)\n",
    "y"
   ]
  },
  {
   "cell_type": "code",
   "execution_count": 9,
   "id": "996882ba-b887-47a8-9a26-cf39b0db4d89",
   "metadata": {},
   "outputs": [],
   "source": [
    "i = 2\n",
    "while i<=20:\n",
    "    driver.execute_script(\"window.scrollTo(0, document.body.scrollHeight);\")\n",
    "    i = i + 1\n",
    "\n",
    "    try:\n",
    "        x = driver.find_elements_by_xpath(\"//button[@arial-label = 'Load more results']\")\n",
    "        driver.execute_script(\"arguments[0].click();\")\n",
    "        time.sleep(3)\n",
    "    except:\n",
    "        pass\n",
    "        time.sleep(4)"
   ]
  },
  {
   "cell_type": "code",
   "execution_count": 10,
   "id": "65b096fe-23d8-484e-943f-63b0fdce7cbe",
   "metadata": {},
   "outputs": [],
   "source": [
    "companyname = []"
   ]
  },
  {
   "cell_type": "markdown",
   "id": "afd9efc0-d515-4e0d-8004-e069f2c79343",
   "metadata": {},
   "source": [
    "# Job"
   ]
  },
  {
   "cell_type": "code",
   "execution_count": 11,
   "id": "b2a24eab-02b1-4d91-bae8-357cec09e63c",
   "metadata": {},
   "outputs": [
    {
     "name": "stdout",
     "output_type": "stream",
     "text": [
      "Done\n"
     ]
    }
   ],
   "source": [
    "for j in range(y):\n",
    "    try:\n",
    "        company = driver.find_elements(By.CLASS_NAME,'base-search-card__subtitle')[j].text\n",
    "        companyname.append(company)\n",
    "    except IndexError:\n",
    "        print(\"Done\")\n",
    "        break"
   ]
  },
  {
   "cell_type": "code",
   "execution_count": 12,
   "id": "922c65ae-af77-429c-99ff-da243805c9be",
   "metadata": {},
   "outputs": [
    {
     "data": {
      "text/plain": [
       "['ACG World',\n",
       " 'LTIMindtree',\n",
       " 'ADP',\n",
       " 'Tietoevry',\n",
       " 'Fusemachines',\n",
       " 'Wipro',\n",
       " 'PubMatic',\n",
       " 'Virtusa',\n",
       " 'Artefact',\n",
       " 'Bentley Systems',\n",
       " 'DWS Group',\n",
       " 'DWS Group',\n",
       " 'Fusemachines',\n",
       " 'CRISIL Limited',\n",
       " 'Rockwell Automation',\n",
       " 'Emerson',\n",
       " 'Dendrite.ai',\n",
       " 'Sakon',\n",
       " 'Seco Tools',\n",
       " 'AllianceBernstein',\n",
       " 'Birlasoft',\n",
       " 'LivePerson',\n",
       " 'GTT',\n",
       " 'TechHost Services',\n",
       " 'Eaton',\n",
       " 'Eaton',\n",
       " 'Emerson',\n",
       " 'Eaton',\n",
       " 'Comscore, Inc.',\n",
       " 'Luxoft',\n",
       " 'NetSPI',\n",
       " 'Talpro - Leaders in Technology Hiring',\n",
       " 'Mastek',\n",
       " 'Blue Altair',\n",
       " 'Oracle',\n",
       " 'InfoCepts',\n",
       " 'Eaton',\n",
       " 'METRO Global Solution Center IN',\n",
       " 'Wipro',\n",
       " 'Snowflake',\n",
       " 'The Human Capital Exchange',\n",
       " 'Easebuzz',\n",
       " 'Lakshmikumaran and Sridharan attorneys',\n",
       " 'Wipro',\n",
       " 'CodersBrain',\n",
       " 'Oracle',\n",
       " 'Confidential',\n",
       " 'GreenTree Advisory Services Pvt Ltd',\n",
       " 'PeopleStrong',\n",
       " 'Mastek',\n",
       " 'Fintune',\n",
       " 'TETRAHED INC',\n",
       " 'TETRAHED INC',\n",
       " 'eClerx',\n",
       " 'Fusemachines',\n",
       " 'PyjamaHR',\n",
       " 'MSMEx',\n",
       " 'BeansBit Private Limited',\n",
       " 'Dubai Jobs, Gulf Jobs, Jobs in Dubai, Qatar, Kuwait - Boyen Haddin & The Giant HR Consultant',\n",
       " 'Precision For Medicine',\n",
       " 'Eaton',\n",
       " 'Emerson',\n",
       " 'Eaton',\n",
       " 'Comscore, Inc.',\n",
       " 'Luxoft',\n",
       " 'NetSPI',\n",
       " 'Talpro - Leaders in Technology Hiring',\n",
       " 'Mastek',\n",
       " 'Blue Altair',\n",
       " 'Oracle',\n",
       " 'Fintune',\n",
       " 'TETRAHED INC',\n",
       " 'TETRAHED INC',\n",
       " 'eClerx',\n",
       " 'Fusemachines',\n",
       " 'PyjamaHR',\n",
       " 'MSMEx',\n",
       " 'BeansBit Private Limited',\n",
       " 'Dubai Jobs, Gulf Jobs, Jobs in Dubai, Qatar, Kuwait - Boyen Haddin & The Giant HR Consultant',\n",
       " 'Precision For Medicine',\n",
       " 'SMS-Magic',\n",
       " 'Green Clover',\n",
       " 'Cummins Inc.',\n",
       " 'Allianz Services',\n",
       " 'SPG Consulting',\n",
       " 'Infosys',\n",
       " 'Hexanika',\n",
       " 'Confidential',\n",
       " 'Pracemo Global Solutions',\n",
       " 'Fusemachines']"
      ]
     },
     "execution_count": 12,
     "metadata": {},
     "output_type": "execute_result"
    }
   ],
   "source": [
    "companyname"
   ]
  },
  {
   "cell_type": "markdown",
   "id": "8309df0d-a0f4-4988-9e32-dbece183ed25",
   "metadata": {},
   "source": [
    "# Title"
   ]
  },
  {
   "cell_type": "code",
   "execution_count": 13,
   "id": "308569b0-3bfe-47b1-8908-b4131475bac9",
   "metadata": {},
   "outputs": [],
   "source": [
    "titlename = []"
   ]
  },
  {
   "cell_type": "code",
   "execution_count": 14,
   "id": "ad822922-a5ea-42df-a0e5-bc69127b8d73",
   "metadata": {},
   "outputs": [
    {
     "name": "stdout",
     "output_type": "stream",
     "text": [
      "Done\n"
     ]
    }
   ],
   "source": [
    "for j in range(y):\n",
    "    try:\n",
    "        title = driver.find_elements(By.CLASS_NAME,'base-search-card__title')[j].text\n",
    "        titlename.append(title)\n",
    "    except IndexError:\n",
    "        print(\"Done\")\n",
    "        break"
   ]
  },
  {
   "cell_type": "code",
   "execution_count": 15,
   "id": "0d3f4839-426a-487c-97a7-303ecdfd4226",
   "metadata": {},
   "outputs": [
    {
     "data": {
      "text/plain": [
       "['Data Analyst',\n",
       " 'Data Analyst',\n",
       " 'Data Analyst',\n",
       " 'Junior Data and BI engineers (0–1-year experience)',\n",
       " 'Data Analyst',\n",
       " 'Data Analyst',\n",
       " 'Data Analyst',\n",
       " 'Data Analyst',\n",
       " 'Data Analyst (USA timezone)',\n",
       " 'Data Analyst',\n",
       " 'Data Analyst (ASC), Associate',\n",
       " 'Data Analyst (ASC), Associate',\n",
       " 'BI Analyst',\n",
       " 'Data Analyst',\n",
       " 'Data Engineer',\n",
       " 'Master Data Analyst',\n",
       " 'Data Analyst',\n",
       " 'Senior Analyst- Data Operation',\n",
       " 'Data Analyst',\n",
       " 'Analyst, Insights & Analytics',\n",
       " 'Business Intelligence Specialist',\n",
       " 'Revenue Data Analyst (Visualization)',\n",
       " 'Data Analyst',\n",
       " 'Data & BI Analyst',\n",
       " 'Associate Analyst- Data Engineer',\n",
       " 'Analyst - BI',\n",
       " 'Supply Chain Data Analyst',\n",
       " 'Associate Analyst- Data',\n",
       " 'Data Analyst',\n",
       " 'Data Analyst (Cyber Risk & Controls Dashboards & Reporting)',\n",
       " 'Junior Data Engineer',\n",
       " 'Business Data Analyst',\n",
       " 'ETL Testing',\n",
       " 'Analyst/Consultant - Data Science',\n",
       " 'PL/SQL Developer',\n",
       " 'Advanced Analytics - Consultant',\n",
       " 'Associate Analyst - BI',\n",
       " 'Master Data/MDM Analyst',\n",
       " 'Data Engineer',\n",
       " 'Data Analyst - Accounting',\n",
       " 'Data Analyst - Consultant with E&Y (Contract to Hire)',\n",
       " 'Data Engineer',\n",
       " 'Data Annotator',\n",
       " 'Data Engineer',\n",
       " 'Data Analyst (Snowflake)_Kripa_Accion labs',\n",
       " 'PL/SQL Developer',\n",
       " 'Data Quality Analyst',\n",
       " 'Data Referential Analyst',\n",
       " 'Data Analyst',\n",
       " 'Data Engineer- Python/Pyspark',\n",
       " 'Data Analyst in Pune',\n",
       " 'BI Analyst',\n",
       " 'BI Analyst',\n",
       " 'Analyst',\n",
       " 'Data Engineer',\n",
       " 'Data Engineer',\n",
       " 'Data Analyst',\n",
       " 'SQL Developer',\n",
       " 'BI Data Analyst-ODI',\n",
       " 'Supervisor, Data Analyst',\n",
       " 'Analyst - BI',\n",
       " 'Supply Chain Data Analyst',\n",
       " 'Associate Analyst- Data',\n",
       " 'Data Analyst',\n",
       " 'Data Analyst (Cyber Risk & Controls Dashboards & Reporting)',\n",
       " 'Junior Data Engineer',\n",
       " 'Business Data Analyst',\n",
       " 'ETL Testing',\n",
       " 'Analyst/Consultant - Data Science',\n",
       " 'PL/SQL Developer',\n",
       " 'Data Analyst in Pune',\n",
       " 'BI Analyst',\n",
       " 'BI Analyst',\n",
       " 'Analyst',\n",
       " 'Data Engineer',\n",
       " 'Data Engineer',\n",
       " 'Data Analyst',\n",
       " 'SQL Developer',\n",
       " 'BI Data Analyst-ODI',\n",
       " 'Supervisor, Data Analyst',\n",
       " \"Data Analyst - Founder's Office\",\n",
       " 'Data engineer',\n",
       " 'Business Intelligence Analyst',\n",
       " 'Data Engineer',\n",
       " 'Data Engineer',\n",
       " 'PLSQL Developer',\n",
       " 'Data Analyst',\n",
       " 'Senior Data Analyst',\n",
       " 'Data Engineer',\n",
       " 'Sr. Azure Data Analyst']"
      ]
     },
     "execution_count": 15,
     "metadata": {},
     "output_type": "execute_result"
    }
   ],
   "source": [
    "titlename"
   ]
  },
  {
   "cell_type": "code",
   "execution_count": 16,
   "id": "d5a27fbf-fe35-4db0-8d42-9f1394ba6917",
   "metadata": {},
   "outputs": [],
   "source": [
    "# prepare a datafram\n",
    "companyfinal = pd.DataFrame(companyname, columns = [\"Company\"])\n",
    "titlefinal = pd.DataFrame(titlename, columns = [\"Title\"])"
   ]
  },
  {
   "cell_type": "code",
   "execution_count": 17,
   "id": "df92960e-af13-4d37-8089-2726fe3ee60c",
   "metadata": {},
   "outputs": [
    {
     "data": {
      "text/html": [
       "<div>\n",
       "<style scoped>\n",
       "    .dataframe tbody tr th:only-of-type {\n",
       "        vertical-align: middle;\n",
       "    }\n",
       "\n",
       "    .dataframe tbody tr th {\n",
       "        vertical-align: top;\n",
       "    }\n",
       "\n",
       "    .dataframe thead th {\n",
       "        text-align: right;\n",
       "    }\n",
       "</style>\n",
       "<table border=\"1\" class=\"dataframe\">\n",
       "  <thead>\n",
       "    <tr style=\"text-align: right;\">\n",
       "      <th></th>\n",
       "      <th>Company</th>\n",
       "      <th>Title</th>\n",
       "    </tr>\n",
       "  </thead>\n",
       "  <tbody>\n",
       "    <tr>\n",
       "      <th>0</th>\n",
       "      <td>ACG World</td>\n",
       "      <td>Data Analyst</td>\n",
       "    </tr>\n",
       "    <tr>\n",
       "      <th>1</th>\n",
       "      <td>LTIMindtree</td>\n",
       "      <td>Data Analyst</td>\n",
       "    </tr>\n",
       "    <tr>\n",
       "      <th>2</th>\n",
       "      <td>ADP</td>\n",
       "      <td>Data Analyst</td>\n",
       "    </tr>\n",
       "    <tr>\n",
       "      <th>3</th>\n",
       "      <td>Tietoevry</td>\n",
       "      <td>Junior Data and BI engineers (0–1-year experie...</td>\n",
       "    </tr>\n",
       "    <tr>\n",
       "      <th>4</th>\n",
       "      <td>Fusemachines</td>\n",
       "      <td>Data Analyst</td>\n",
       "    </tr>\n",
       "    <tr>\n",
       "      <th>...</th>\n",
       "      <td>...</td>\n",
       "      <td>...</td>\n",
       "    </tr>\n",
       "    <tr>\n",
       "      <th>85</th>\n",
       "      <td>Infosys</td>\n",
       "      <td>PLSQL Developer</td>\n",
       "    </tr>\n",
       "    <tr>\n",
       "      <th>86</th>\n",
       "      <td>Hexanika</td>\n",
       "      <td>Data Analyst</td>\n",
       "    </tr>\n",
       "    <tr>\n",
       "      <th>87</th>\n",
       "      <td>Confidential</td>\n",
       "      <td>Senior Data Analyst</td>\n",
       "    </tr>\n",
       "    <tr>\n",
       "      <th>88</th>\n",
       "      <td>Pracemo Global Solutions</td>\n",
       "      <td>Data Engineer</td>\n",
       "    </tr>\n",
       "    <tr>\n",
       "      <th>89</th>\n",
       "      <td>Fusemachines</td>\n",
       "      <td>Sr. Azure Data Analyst</td>\n",
       "    </tr>\n",
       "  </tbody>\n",
       "</table>\n",
       "<p>90 rows × 2 columns</p>\n",
       "</div>"
      ],
      "text/plain": [
       "                     Company  \\\n",
       "0                  ACG World   \n",
       "1                LTIMindtree   \n",
       "2                        ADP   \n",
       "3                  Tietoevry   \n",
       "4               Fusemachines   \n",
       "..                       ...   \n",
       "85                   Infosys   \n",
       "86                  Hexanika   \n",
       "87              Confidential   \n",
       "88  Pracemo Global Solutions   \n",
       "89              Fusemachines   \n",
       "\n",
       "                                                Title  \n",
       "0                                        Data Analyst  \n",
       "1                                        Data Analyst  \n",
       "2                                        Data Analyst  \n",
       "3   Junior Data and BI engineers (0–1-year experie...  \n",
       "4                                        Data Analyst  \n",
       "..                                                ...  \n",
       "85                                    PLSQL Developer  \n",
       "86                                       Data Analyst  \n",
       "87                                Senior Data Analyst  \n",
       "88                                      Data Engineer  \n",
       "89                             Sr. Azure Data Analyst  \n",
       "\n",
       "[90 rows x 2 columns]"
      ]
     },
     "execution_count": 17,
     "metadata": {},
     "output_type": "execute_result"
    }
   ],
   "source": [
    "final = companyfinal.join(titlefinal)\n",
    "final"
   ]
  },
  {
   "cell_type": "code",
   "execution_count": 24,
   "id": "57aa9ebb-4dfb-4640-8f1c-73b784ce8294",
   "metadata": {},
   "outputs": [],
   "source": [
    "final.to_csv('linkedinjobslist.csv')"
   ]
  },
  {
   "cell_type": "markdown",
   "id": "abf9e939-3f44-4338-ac28-213b7801c014",
   "metadata": {},
   "source": [
    "# Autoscraper"
   ]
  },
  {
   "cell_type": "code",
   "execution_count": 47,
   "id": "7953d698-5275-446c-ac15-50a108566dff",
   "metadata": {},
   "outputs": [],
   "source": [
    "from autoscraper import AutoScraper"
   ]
  },
  {
   "cell_type": "code",
   "execution_count": 48,
   "id": "a14e51f9-31ed-4ad3-a34a-51c35cb17cef",
   "metadata": {},
   "outputs": [],
   "source": [
    "url = 'https://www.amazon.in/mobile/s?k=mobile'\n",
    "\n",
    "wanted_list = [\"POCO C65(Matte Black 6GB RAM 128GB Storage)\", \"1,477\", \"7,499 \", \"38% off\"]"
   ]
  },
  {
   "cell_type": "code",
   "execution_count": 49,
   "id": "fd632cb6-9c52-4671-97e8-58b289f6dccc",
   "metadata": {},
   "outputs": [],
   "source": [
    "scraper = AutoScraper()\n",
    "result = scraper.build(url, wanted_list)"
   ]
  },
  {
   "cell_type": "code",
   "execution_count": 50,
   "id": "f3862ada-673d-46c2-afa2-8e8467d223ba",
   "metadata": {},
   "outputs": [
    {
     "name": "stdout",
     "output_type": "stream",
     "text": [
      "['Redmi 13C (Stardust Black, 6GB RAM, 128GB Storage) | Powered by 4G MediaTek Helio G85 | 90Hz Display | 50MP AI Triple Camera', 'POCO C65(Matte Black 6GB RAM 128GB Storage)', 'Nokia G42 5G | Snapdragon® 480+ 5G | 50MP Triple AI Camera | 11GB RAM (6GB RAM + 5GB Virtual RAM) | 128GB Storage | 5000mAh Battery | 2 Years Android Upgrades | 20W Charger Included | So Grey', 'vivo Y18i (Space Black, 4GB RAM, 64GB Storage) with No Cost EMI/Additional Exchange Offers |Without Charger', 'vivo Y28e 5G (Vintage Red, 4GB RAM, 64GB Storage) with No Cost EMI/Additional Exchange Offers | Without Charger', 'realme NARZO N61 (Voyage Blue,4GB RAM+64GB Storage) 90Hz Eye Comfort Display | IP54 Dust & Water Resistance | 48-Month Fluency | Charger in The Box', 'OnePlus Nord CE4 Lite 5G (Super Silver, 8GB RAM, 128GB Storage)', 'POCO M6 5G (Orion Blue, 6GB RAM, 128GB Storage)', 'POCO C65 (Pastel Blue 4GB RAM 128GB Storage)', 'Redmi A3 (Midnight Black, 3GB RAM, 64GB Storage) | Premium Halo Design | 90Hz Display | Powerful 4G G36 Processor', 'Redmi 13C (Starshine Green, 6GB RAM, 128GB Storage) | Powered by 4G MediaTek Helio G85 | 90Hz Display | 50MP AI Triple Camera', 'Redmi 13C 5G (Starlight Black, 4GB RAM, 128GB Storage) | MediaTek Dimensity 6100+ 5G | 90Hz Display', 'Redmi 13C 5G (Startrail Silver, 4GB RAM, 128GB Storage) | MediaTek Dimensity 6100+ 5G | 90Hz Display', 'OnePlus Nord CE 3 Lite 5G (Chromatic Gray, 8GB RAM, 128GB Storage)', 'iQOO Z9 Lite 5G (Aqua Flow, 4GB RAM, 128GB Storage) | Dimensity 6300 5G | 50MP Sony AI Camera | Charger in The Box', 'realme NARZO 70 Pro 5G (Glass Green, 8GB RAM,256GB Storage) Dimensity 7050 5G Chipset | Horizon Glass Design | Segment 1st Flagship Sony IMX890 OIS Camera', 'Nokia G42 5G | Snapdragon® 480+ 5G | 50MP Triple AI Camera | 11GB RAM (6GB RAM + 5GB Virtual RAM) | 128GB Storage | 5000mA...', 'realme NARZO N61 (Voyage Blue,4GB RAM+64GB Storage) 90Hz Eye Comfort Display | IP54 Dust & Water Resistance | 48-Month Flu...', 'realme NARZO 70 Pro 5G (Glass Green, 8GB RAM,256GB Storage) Dimensity 7050 5G Chipset | Horizon Glass Design | Segment 1st...', '6,241', '1,477', '4,610', '9', '743', '1,089', '372', '6,407', '48,788', '44', '2,866', '8,499', '7,499', '11,499', '7,999', '10,999', '19,999', '9,999', '6,999', '10,499', '16,498', '18,998']\n"
     ]
    }
   ],
   "source": [
    "print(result)"
   ]
  },
  {
   "cell_type": "code",
   "execution_count": 51,
   "id": "eba9da9a-0f80-427b-a9e7-e13b1cb00e5a",
   "metadata": {},
   "outputs": [
    {
     "data": {
      "text/plain": [
       "{'rule_b7nm': ['Redmi 13C (Stardust Black, 6GB RAM, 128GB Storage) | Powered by 4G MediaTek Helio G85 | 90Hz Display | 50MP AI Triple Camera',\n",
       "  'Nokia G42 5G | Snapdragon® 480+ 5G | 50MP Triple AI Camera | 11GB RAM (6GB RAM + 5GB Virtual RAM) | 128GB Storage | 5000mAh Battery | 2 Years Android Upgrades | 20W Charger Included | So Grey',\n",
       "  'vivo Y18i (Space Black, 4GB RAM, 64GB Storage) with No Cost EMI/Additional Exchange Offers |Without Charger',\n",
       "  'Amazon\\'s Choicefor \"mobile\"',\n",
       "  'POCO C65(Matte Black 6GB RAM 128GB Storage)',\n",
       "  'vivo Y28e 5G (Vintage Red, 4GB RAM, 64GB Storage) with No Cost EMI/Additional Exchange Offers | Without Charger',\n",
       "  'OnePlus Nord CE4 Lite 5G (Super Silver, 8GB RAM, 128GB Storage)',\n",
       "  'realme NARZO N61 (Voyage Blue,4GB RAM+64GB Storage) 90Hz Eye Comfort Display | IP54 Dust & Water Resistance | 48-Month Fluency | Charger in The Box',\n",
       "  'Redmi 13C 5G (Starlight Black, 4GB RAM, 128GB Storage) | MediaTek Dimensity 6100+ 5G | 90Hz Display',\n",
       "  'POCO M6 5G (Orion Blue, 6GB RAM, 128GB Storage)',\n",
       "  'iQOO Z9 Lite 5G (Aqua Flow, 4GB RAM, 128GB Storage) | Dimensity 6300 5G | 50MP Sony AI Camera | Charger in The Box',\n",
       "  'realme NARZO 70x 5G (Ice Blue, 6GB RAM,128GB Storage)|120Hz Ultra Smooth Display|Dimensity 6100+ 6nm 5G|50MP AI Camera|45W Charger in The Box',\n",
       "  'Redmi 13C 5G (Startrail Silver, 4GB RAM, 128GB Storage) | MediaTek Dimensity 6100+ 5G | 90Hz Display',\n",
       "  'POCO C65 (Pastel Blue 4GB RAM 128GB Storage)',\n",
       "  'Redmi 13C (Starshine Green, 6GB RAM, 128GB Storage) | Powered by 4G MediaTek Helio G85 | 90Hz Display | 50MP AI Triple Camera',\n",
       "  'realme NARZO 70 Pro 5G (Glass Green, 8GB RAM,256GB Storage) Dimensity 7050 5G Chipset | Horizon Glass Design | Segment 1st Flagship Sony IMX890 OIS Camera',\n",
       "  'Redmi A3 (Midnight Black, 3GB RAM, 64GB Storage) | Premium Halo Design | 90Hz Display | Powerful 4G G36 Processor'],\n",
       " 'rule_dtih': ['Redmi 13C (Stardust Black, 6GB RAM, 128GB Storage) | Powered by 4G MediaTek Helio G85 | 90Hz Display | 50MP AI Triple Camera',\n",
       "  'Nokia G42 5G | Snapdragon® 480+ 5G | 50MP Triple AI Camera | 11GB RAM (6GB RAM + 5GB Virtual RAM) | 128GB Storage | 5000mA...',\n",
       "  'vivo Y18i (Space Black, 4GB RAM, 64GB Storage) with No Cost EMI/Additional Exchange Offers |Without Charger',\n",
       "  'POCO C65(Matte Black 6GB RAM 128GB Storage)',\n",
       "  'vivo Y28e 5G (Vintage Red, 4GB RAM, 64GB Storage) with No Cost EMI/Additional Exchange Offers | Without Charger',\n",
       "  'OnePlus Nord CE4 Lite 5G (Super Silver, 8GB RAM, 128GB Storage)',\n",
       "  'realme NARZO N61 (Voyage Blue,4GB RAM+64GB Storage) 90Hz Eye Comfort Display | IP54 Dust & Water Resistance | 48-Month Flu...',\n",
       "  'Redmi 13C 5G (Starlight Black, 4GB RAM, 128GB Storage) | MediaTek Dimensity 6100+ 5G | 90Hz Display',\n",
       "  'POCO M6 5G (Orion Blue, 6GB RAM, 128GB Storage)',\n",
       "  'iQOO Z9 Lite 5G (Aqua Flow, 4GB RAM, 128GB Storage) | Dimensity 6300 5G | 50MP Sony AI Camera | Charger in The Box',\n",
       "  'realme NARZO 70x 5G (Ice Blue, 6GB RAM,128GB Storage)|120Hz Ultra Smooth Display|Dimensity 6100+ 6nm 5G|50MP AI Camera|45W...',\n",
       "  'Redmi 13C 5G (Startrail Silver, 4GB RAM, 128GB Storage) | MediaTek Dimensity 6100+ 5G | 90Hz Display',\n",
       "  'POCO C65 (Pastel Blue 4GB RAM 128GB Storage)',\n",
       "  'Redmi 13C (Starshine Green, 6GB RAM, 128GB Storage) | Powered by 4G MediaTek Helio G85 | 90Hz Display | 50MP AI Triple Camera',\n",
       "  'realme NARZO 70 Pro 5G (Glass Green, 8GB RAM,256GB Storage) Dimensity 7050 5G Chipset | Horizon Glass Design | Segment 1st...',\n",
       "  'Redmi A3 (Midnight Black, 3GB RAM, 64GB Storage) | Premium Halo Design | 90Hz Display | Powerful 4G G36 Processor'],\n",
       " 'rule_lal7': ['6,241',\n",
       "  '4,610',\n",
       "  '1,477',\n",
       "  '9',\n",
       "  '743',\n",
       "  '6,407',\n",
       "  '1,089',\n",
       "  '44',\n",
       "  '1,194',\n",
       "  '6,407',\n",
       "  '1,477',\n",
       "  '6,241',\n",
       "  '2,866',\n",
       "  '372'],\n",
       " 'rule_g4p5': ['6,241',\n",
       "  '4,610',\n",
       "  '1,477',\n",
       "  '9',\n",
       "  '743',\n",
       "  '6,407',\n",
       "  '1,089',\n",
       "  '44',\n",
       "  '1,194',\n",
       "  '6,407',\n",
       "  '1,477',\n",
       "  '6,241',\n",
       "  '2,866',\n",
       "  '372'],\n",
       " 'rule_wsim': ['8,499',\n",
       "  '11,499',\n",
       "  '7,999',\n",
       "  '7,499',\n",
       "  '10,999',\n",
       "  '19,999',\n",
       "  '7,499',\n",
       "  '10,499',\n",
       "  '9,999',\n",
       "  '10,499',\n",
       "  '12,998',\n",
       "  '10,499',\n",
       "  '6,999',\n",
       "  '8,499',\n",
       "  '18,998',\n",
       "  '6,999'],\n",
       " 'rule_50ub': ['8,499',\n",
       "  '11,499',\n",
       "  '7,999',\n",
       "  '7,499',\n",
       "  '10,999',\n",
       "  '19,999',\n",
       "  '7,499',\n",
       "  '10,499',\n",
       "  '9,999',\n",
       "  '10,499',\n",
       "  '12,998',\n",
       "  '10,499',\n",
       "  '6,999',\n",
       "  '8,499',\n",
       "  '18,998',\n",
       "  '6,999']}"
      ]
     },
     "execution_count": 51,
     "metadata": {},
     "output_type": "execute_result"
    }
   ],
   "source": [
    "scraper.get_result_similar(url, grouped = True)"
   ]
  },
  {
   "cell_type": "code",
   "execution_count": 52,
   "id": "83026b75-934c-4142-b47d-8954bcca917e",
   "metadata": {},
   "outputs": [],
   "source": [
    "scraper.set_rule_aliases({'rule_b7nm': 'Title'})\n",
    "scraper.keep_rules(['rule_b7nm'])\n",
    "scraper.save('amazon-search')"
   ]
  },
  {
   "cell_type": "code",
   "execution_count": 56,
   "id": "da81596a-89b9-4496-b104-d4538ef3719a",
   "metadata": {},
   "outputs": [],
   "source": [
    "result = scraper.get_result_similar(url, group_by_alias = True)"
   ]
  },
  {
   "cell_type": "code",
   "execution_count": 57,
   "id": "b2705506-df68-4e3d-afc1-ccdcbd9a7bcf",
   "metadata": {},
   "outputs": [
    {
     "data": {
      "text/plain": [
       "['Redmi 13C (Stardust Black, 6GB RAM, 128GB Storage) | Powered by 4G MediaTek Helio G85 | 90Hz Display | 50MP AI Triple Camera',\n",
       " 'Amazon\\'s Choicefor \"mobile\"',\n",
       " 'POCO C65(Matte Black 6GB RAM 128GB Storage)',\n",
       " 'realme NARZO N61 (Voyage Blue,4GB RAM+64GB Storage) 90Hz Eye Comfort Display | IP54 Dust & Water Resistance | 48-Month Fluency | Charger in The Box',\n",
       " 'POCO C65 (Pastel Blue 4GB RAM 128GB Storage)',\n",
       " 'Nokia G42 5G | Snapdragon® 480+ 5G | 50MP Triple AI Camera | 11GB RAM (6GB RAM + 5GB Virtual RAM) | 128GB Storage | 5000mAh Battery | 2 Years Android Upgrades | 20W Charger Included | So Grey',\n",
       " 'Redmi 13C (Starshine Green, 6GB RAM, 128GB Storage) | Powered by 4G MediaTek Helio G85 | 90Hz Display | 50MP AI Triple Camera',\n",
       " 'POCO M6 5G (Orion Blue, 6GB RAM, 128GB Storage)',\n",
       " 'OnePlus Nord CE4 Lite 5G (Super Silver, 8GB RAM, 128GB Storage)',\n",
       " 'POCO M6 Pro 5G (Power Black, 4GB RAM, 128GB Storage)',\n",
       " 'vivo Y28e 5G (Vintage Red, 4GB RAM, 64GB Storage) with No Cost EMI/Additional Exchange Offers | Without Charger',\n",
       " 'Redmi 13C 5G (Starlight Black, 4GB RAM, 128GB Storage) | MediaTek Dimensity 6100+ 5G | 90Hz Display',\n",
       " 'Redmi 13C (Starfrost White, 6GB RAM, 128GB Storage) | Powered by 4G MediaTek Helio G85 | 90Hz Display | 50MP AI Triple Camera',\n",
       " 'vivo Y18i (Space Black, 4GB RAM, 64GB Storage) with No Cost EMI/Additional Exchange Offers |Without Charger',\n",
       " 'iQOO Z9 Lite 5G (Aqua Flow, 4GB RAM, 128GB Storage) | Dimensity 6300 5G | 50MP Sony AI Camera | Charger in The Box',\n",
       " 'realme NARZO N63 (Leather Blue, 4GB RAM+128GB Storage) 45W Fast Charge | 5000mAh Durable Battery | 7.74mm Ultra Slim | 50MP AI Camera | AI Boost',\n",
       " 'POCO M6 Pro 5G (128 GB) (6 GB RAM) (Power Black)']"
      ]
     },
     "execution_count": 57,
     "metadata": {},
     "output_type": "execute_result"
    }
   ],
   "source": [
    "result['Title']"
   ]
  },
  {
   "cell_type": "code",
   "execution_count": null,
   "id": "a1a4adf6-03be-4979-b6c1-9995c4d8d953",
   "metadata": {},
   "outputs": [],
   "source": []
  }
 ],
 "metadata": {
  "kernelspec": {
   "display_name": "Python 3 (ipykernel)",
   "language": "python",
   "name": "python3"
  },
  "language_info": {
   "codemirror_mode": {
    "name": "ipython",
    "version": 3
   },
   "file_extension": ".py",
   "mimetype": "text/x-python",
   "name": "python",
   "nbconvert_exporter": "python",
   "pygments_lexer": "ipython3",
   "version": "3.11.4"
  }
 },
 "nbformat": 4,
 "nbformat_minor": 5
}
