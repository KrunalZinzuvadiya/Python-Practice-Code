{
 "cells": [
  {
   "cell_type": "markdown",
   "id": "68603206-6831-4889-a252-40bfb6afc446",
   "metadata": {},
   "source": [
    "# Addition of two numbers"
   ]
  },
  {
   "cell_type": "code",
   "execution_count": 2,
   "id": "c41e8fcc-40fe-411e-bdf0-a6cc7bc3c8c2",
   "metadata": {},
   "outputs": [
    {
     "name": "stdin",
     "output_type": "stream",
     "text": [
      "Enter a first number: 5\n",
      "Enter a second number: 3\n"
     ]
    },
    {
     "name": "stdout",
     "output_type": "stream",
     "text": [
      "Additon of two numbers are: \n"
     ]
    },
    {
     "data": {
      "text/plain": [
       "8"
      ]
     },
     "execution_count": 2,
     "metadata": {},
     "output_type": "execute_result"
    }
   ],
   "source": [
    "num1 = int(input(\"Enter a first number:\"))\n",
    "num2 = int(input(\"Enter a second number:\"))\n",
    "\n",
    "def add():\n",
    "    addition = num1 + num2\n",
    "    print(\"Additon of two numbers are: \")\n",
    "    return addition\n",
    "\n",
    "add()"
   ]
  },
  {
   "cell_type": "markdown",
   "id": "fca229a7-b990-4e44-9440-144edbc0d625",
   "metadata": {},
   "source": [
    "# Substraction of two number"
   ]
  },
  {
   "cell_type": "code",
   "execution_count": 3,
   "id": "0e809c56-6445-4691-ab22-451f7379f45f",
   "metadata": {},
   "outputs": [
    {
     "name": "stdin",
     "output_type": "stream",
     "text": [
      "Enter a first number: 5\n",
      "Enter a second number: 3\n"
     ]
    },
    {
     "name": "stdout",
     "output_type": "stream",
     "text": [
      "substraction of two numbers are: \n"
     ]
    },
    {
     "data": {
      "text/plain": [
       "2"
      ]
     },
     "execution_count": 3,
     "metadata": {},
     "output_type": "execute_result"
    }
   ],
   "source": [
    "num1 = int(input(\"Enter a first number:\"))\n",
    "num2 = int(input(\"Enter a second number:\"))\n",
    "\n",
    "def sub():\n",
    "    substraction = num1 - num2\n",
    "    print(\"substraction of two numbers are: \")\n",
    "    return substraction\n",
    "\n",
    "sub()"
   ]
  },
  {
   "cell_type": "markdown",
   "id": "7437a5e6-9552-4ef4-96d6-c98dca4ea22d",
   "metadata": {},
   "source": [
    "# Multiplication of two number"
   ]
  },
  {
   "cell_type": "code",
   "execution_count": 5,
   "id": "93548b3b-33d5-4a53-8ca3-6b51d381573f",
   "metadata": {},
   "outputs": [
    {
     "name": "stdin",
     "output_type": "stream",
     "text": [
      "Enter a first number: 5\n",
      "Enter a second number: 3\n"
     ]
    },
    {
     "name": "stdout",
     "output_type": "stream",
     "text": [
      "multiplication of two numbers are: \n"
     ]
    },
    {
     "data": {
      "text/plain": [
       "15"
      ]
     },
     "execution_count": 5,
     "metadata": {},
     "output_type": "execute_result"
    }
   ],
   "source": [
    "num1 = int(input(\"Enter a first number:\"))\n",
    "num2 = int(input(\"Enter a second number:\"))\n",
    "\n",
    "def mul():\n",
    "    multiplication = num1 * num2\n",
    "    print(\"multiplication of two numbers are: \")\n",
    "    return multiplication\n",
    "\n",
    "mul()"
   ]
  },
  {
   "cell_type": "markdown",
   "id": "e42db893-363a-42d1-be35-761526028c57",
   "metadata": {},
   "source": [
    "# Divison of two number"
   ]
  },
  {
   "cell_type": "code",
   "execution_count": 9,
   "id": "6f79af73-4f35-4f8d-8fc4-d54f15294528",
   "metadata": {},
   "outputs": [
    {
     "name": "stdin",
     "output_type": "stream",
     "text": [
      "Enter a first number: 5\n",
      "Enter a second number: 3\n"
     ]
    },
    {
     "name": "stdout",
     "output_type": "stream",
     "text": [
      "divison of two numbers are: \n"
     ]
    },
    {
     "data": {
      "text/plain": [
       "2"
      ]
     },
     "execution_count": 9,
     "metadata": {},
     "output_type": "execute_result"
    }
   ],
   "source": [
    "num1 = int(input(\"Enter a first number:\"))\n",
    "num2 = int(input(\"Enter a second number:\"))\n",
    "\n",
    "def div():\n",
    "    divison = num1 / num2\n",
    "    print(\"divison of two numbers are: \")\n",
    "    return divison\n",
    "\n",
    "div()"
   ]
  },
  {
   "cell_type": "markdown",
   "id": "bcce8086-5c0a-426d-ac38-9291ed097625",
   "metadata": {},
   "source": [
    "# Modulo of two number"
   ]
  },
  {
   "cell_type": "code",
   "execution_count": 10,
   "id": "8d9caa04-2ec3-43cc-94bf-97561a8a3c14",
   "metadata": {},
   "outputs": [
    {
     "name": "stdin",
     "output_type": "stream",
     "text": [
      "Enter a first number: 5\n",
      "Enter a second number: 3\n"
     ]
    },
    {
     "name": "stdout",
     "output_type": "stream",
     "text": [
      "Modulo of two numbers are: \n"
     ]
    },
    {
     "data": {
      "text/plain": [
       "2"
      ]
     },
     "execution_count": 10,
     "metadata": {},
     "output_type": "execute_result"
    }
   ],
   "source": [
    "num1 = int(input(\"Enter a first number:\"))\n",
    "num2 = int(input(\"Enter a second number:\"))\n",
    "\n",
    "def Modulo():\n",
    "    mod = num1 % num2\n",
    "    print(\"Modulo of two numbers are: \")\n",
    "    return mod\n",
    "\n",
    "Modulo()"
   ]
  },
  {
   "cell_type": "markdown",
   "id": "d01ae002-f5b9-41d3-807d-64e8fe8d59fb",
   "metadata": {},
   "source": [
    "# Ternary Operator"
   ]
  },
  {
   "cell_type": "code",
   "execution_count": 13,
   "id": "61ac6763-8165-4087-9cbe-75af8dfa5d06",
   "metadata": {},
   "outputs": [
    {
     "name": "stdin",
     "output_type": "stream",
     "text": [
      "Enter a number: -3\n"
     ]
    },
    {
     "name": "stdout",
     "output_type": "stream",
     "text": [
      "Input number is: \n",
      "Negative\n"
     ]
    }
   ],
   "source": [
    "num1 = int(input(\"Enter a number:\"))\n",
    "print(\"Input number is: \")\n",
    "res = \"Positive\" if num1>0 else \"Negative\" if num1<0 else \"Zero\"\n",
    "print(res)"
   ]
  },
  {
   "cell_type": "markdown",
   "id": "48d133c6-30f7-4244-ad5a-93f7139fe4fd",
   "metadata": {},
   "source": [
    "# Increment and Decrement"
   ]
  },
  {
   "cell_type": "code",
   "execution_count": 19,
   "id": "9cb34e2f-950e-4f91-80ba-6307ae041e09",
   "metadata": {},
   "outputs": [
    {
     "name": "stdin",
     "output_type": "stream",
     "text": [
      "Enter a number:  5\n"
     ]
    },
    {
     "name": "stdout",
     "output_type": "stream",
     "text": [
      "Increment after +1: 6\n"
     ]
    }
   ],
   "source": [
    "num = int(input(\"Enter a number: \")) #Increment\n",
    "num += 1\n",
    "print(\"Increment after +1:\", num)"
   ]
  },
  {
   "cell_type": "code",
   "execution_count": 20,
   "id": "e6c5aaab-79fb-440d-9303-9c21f0f5e687",
   "metadata": {},
   "outputs": [
    {
     "name": "stdin",
     "output_type": "stream",
     "text": [
      "Enter a number:  5\n"
     ]
    },
    {
     "name": "stdout",
     "output_type": "stream",
     "text": [
      "Decrement after -1: 4\n"
     ]
    }
   ],
   "source": [
    "num = int(input(\"Enter a number: \")) #Decrement\n",
    "num -= 1\n",
    "print(\"Decrement after -1:\", num)"
   ]
  },
  {
   "cell_type": "markdown",
   "id": "90c398b7-9a79-4c69-ad69-06413f77e163",
   "metadata": {},
   "source": [
    "# Check wheather they are equal or not."
   ]
  },
  {
   "cell_type": "code",
   "execution_count": 22,
   "id": "01fa49b5-699c-45c4-ade9-a2f01eec67a7",
   "metadata": {},
   "outputs": [
    {
     "name": "stdin",
     "output_type": "stream",
     "text": [
      "Enter a first number: 5\n",
      "Enter a second number: 3\n"
     ]
    },
    {
     "name": "stdout",
     "output_type": "stream",
     "text": [
      "They are not equal\n"
     ]
    }
   ],
   "source": [
    "num1 = int(input(\"Enter a first number:\"))\n",
    "num2 = int(input(\"Enter a second number:\"))\n",
    "\n",
    "if num1 == num2:\n",
    "    print(\"They are equal\")\n",
    "else:\n",
    "    print(\"They are not equal\")"
   ]
  },
  {
   "cell_type": "markdown",
   "id": "66872b99-77a5-4edb-82e1-a9d1d9c276f0",
   "metadata": {},
   "source": [
    "# Write a program wheather a given number is positive or negative"
   ]
  },
  {
   "cell_type": "code",
   "execution_count": 25,
   "id": "b2586e52-65c8-404b-a9f0-591ac75ed44b",
   "metadata": {},
   "outputs": [
    {
     "name": "stdin",
     "output_type": "stream",
     "text": [
      "Enter a number: 5\n"
     ]
    },
    {
     "name": "stdout",
     "output_type": "stream",
     "text": [
      "Number is Positive.\n"
     ]
    }
   ],
   "source": [
    "num = int(input(\"Enter a number:\"))\n",
    "if num>0:\n",
    "    print(\"Number is Positive.\")\n",
    "elif num<0:\n",
    "    print(\"Number is Negative.\")\n",
    "else:\n",
    "    print(\"Number is Zero.\")"
   ]
  },
  {
   "cell_type": "markdown",
   "id": "ace544a9-85bb-440f-a84e-fc38ec800320",
   "metadata": {},
   "source": [
    "# Wheather given year is leap year or not"
   ]
  },
  {
   "cell_type": "code",
   "execution_count": 38,
   "id": "1d7f4d00-d1f1-4a38-925e-79458e24e037",
   "metadata": {},
   "outputs": [
    {
     "name": "stdin",
     "output_type": "stream",
     "text": [
      "Enter a year:  2025\n"
     ]
    },
    {
     "name": "stdout",
     "output_type": "stream",
     "text": [
      "2025 is not a leap year\n"
     ]
    }
   ],
   "source": [
    "Year = int(input(\"Enter a year: \"))\n",
    "\n",
    "if (Year % 400 == 0) and (Year % 100 == 0):\n",
    "    print(f\"{Year} is leap year\")\n",
    "elif (Year % 4 == 0) and (Year % 100 != 0):\n",
    "    print(f\"{Year} is leap year\")\n",
    "else:\n",
    "    print(f\"{Year} is not a leap year\")"
   ]
  },
  {
   "cell_type": "markdown",
   "id": "38fd51ff-15aa-4d88-b566-533389b3d293",
   "metadata": {},
   "source": [
    "# Check wheather a triangle can be formed or not"
   ]
  },
  {
   "cell_type": "code",
   "execution_count": 43,
   "id": "a1cd5398-f64b-4863-bc7c-e49edca8e894",
   "metadata": {},
   "outputs": [
    {
     "name": "stdin",
     "output_type": "stream",
     "text": [
      "Enter a first number: 7\n",
      "Enter a second number: 10\n",
      "Enter a third number: 5\n"
     ]
    },
    {
     "name": "stdout",
     "output_type": "stream",
     "text": [
      "It is valid traingle\n"
     ]
    }
   ],
   "source": [
    "a = int(input(\"Enter a first number:\"))\n",
    "b = int(input(\"Enter a second number:\"))\n",
    "c = int(input(\"Enter a third number:\"))\n",
    "\n",
    "if (a+b)>c and (b+c)>a and (a+c)>b:\n",
    "    print(\"It is valid traingle\")\n",
    "else:\n",
    "    print(\"It is not valid traingle\")"
   ]
  },
  {
   "cell_type": "markdown",
   "id": "9dfd90b0-736e-4ce2-8fe2-5a5aa382d3f4",
   "metadata": {},
   "source": [
    "# Check wheather it is number, alphabet or special character"
   ]
  },
  {
   "cell_type": "code",
   "execution_count": 53,
   "id": "7ddd4474-4f80-482d-9d9b-06212f4b15d4",
   "metadata": {},
   "outputs": [
    {
     "name": "stdin",
     "output_type": "stream",
     "text": [
      "Enter a input here:  4\n"
     ]
    },
    {
     "name": "stdout",
     "output_type": "stream",
     "text": [
      "it is a number\n"
     ]
    }
   ],
   "source": [
    "char = input(\"Enter a input here: \")\n",
    "if (char>='a' and char<= 'z') or (char>='A' and char<= 'Z'):\n",
    "    print('it is character')\n",
    "elif (int(char)>= 0 and int(char) <= 9):\n",
    "    print('it is a number')\n",
    "else:\n",
    "    print('it is special character')"
   ]
  },
  {
   "cell_type": "markdown",
   "id": "21a7528d-4f0b-4cdd-b9fc-2c324c66cf89",
   "metadata": {},
   "source": [
    "# Check wheather it is vowel, consonant"
   ]
  },
  {
   "cell_type": "code",
   "execution_count": 55,
   "id": "81989311-1876-4c23-b85f-0c32b79d39cd",
   "metadata": {},
   "outputs": [
    {
     "name": "stdin",
     "output_type": "stream",
     "text": [
      "Enter a character here:  b\n"
     ]
    },
    {
     "name": "stdout",
     "output_type": "stream",
     "text": [
      "It is consonant\n"
     ]
    }
   ],
   "source": [
    "vowel = ['a', 'e', 'i', 'o', 'u', 'A', 'E', 'I', 'O', 'U']\n",
    "char = input('Enter a character here: ')\n",
    "\n",
    "if char in vowel:\n",
    "    print('It is vowel')\n",
    "else:\n",
    "    print('It is consonant')"
   ]
  },
  {
   "cell_type": "markdown",
   "id": "6c843f26-28a1-4f70-8b5a-eaa30666720a",
   "metadata": {},
   "source": [
    "# Convert number into words"
   ]
  },
  {
   "cell_type": "code",
   "execution_count": 77,
   "id": "d6829cea-ca0b-4538-8e62-781c74e4660a",
   "metadata": {},
   "outputs": [
    {
     "name": "stdin",
     "output_type": "stream",
     "text": [
      "Enter a number here:  3\n"
     ]
    },
    {
     "name": "stdout",
     "output_type": "stream",
     "text": [
      "Wednesday is the day.\n"
     ]
    }
   ],
   "source": [
    "numword = { 1 : 'Monday', 2 : 'Tuesday', 3 : 'Wednesday', 4 : 'Thursday', 5 : 'Friday', 6 : 'Saturday', 7 : 'Sunday'}\n",
    "num = int(input(\"Enter a number here: \"))\n",
    "\n",
    "print(f\"{numword[num]} is the day.\")"
   ]
  },
  {
   "cell_type": "markdown",
   "id": "135059f5-7095-4765-8d0f-943aa5bc3fde",
   "metadata": {},
   "source": [
    "# Extract the digit from the number."
   ]
  },
  {
   "cell_type": "code",
   "execution_count": 71,
   "id": "85309c37-d00f-44a7-a618-4da56a64cd17",
   "metadata": {},
   "outputs": [
    {
     "name": "stdin",
     "output_type": "stream",
     "text": [
      "Enter a number here:  1234\n"
     ]
    },
    {
     "name": "stdout",
     "output_type": "stream",
     "text": [
      "4\n",
      "3\n",
      "2\n",
      "1\n"
     ]
    }
   ],
   "source": [
    "num = int(input('Enter a number here: '))\n",
    "\n",
    "while num>0:\n",
    "    rem = num % 10\n",
    "    num = num - rem\n",
    "    num = num / 10\n",
    "    num = int(num)\n",
    "    print(rem)"
   ]
  },
  {
   "cell_type": "markdown",
   "id": "3c352d25-6fed-4ee1-9c6e-9cab3caeef21",
   "metadata": {},
   "source": [
    "# Write a program to find the sum of first 10 natural numbers."
   ]
  },
  {
   "cell_type": "code",
   "execution_count": 79,
   "id": "14c29a49-cb88-4580-874a-ee7424a0fdd7",
   "metadata": {},
   "outputs": [
    {
     "name": "stdout",
     "output_type": "stream",
     "text": [
      "1\n",
      "2\n",
      "3\n",
      "4\n",
      "5\n",
      "6\n",
      "7\n",
      "8\n",
      "9\n",
      "10\n"
     ]
    }
   ],
   "source": [
    "for i in range(1,11):\n",
    "    print(i)"
   ]
  },
  {
   "cell_type": "code",
   "execution_count": 80,
   "id": "7b80ef23-5ca5-45e8-830e-9cbf5a1ac4e9",
   "metadata": {},
   "outputs": [
    {
     "name": "stdout",
     "output_type": "stream",
     "text": [
      "55\n"
     ]
    }
   ],
   "source": [
    "sum = 0\n",
    "for i in range(1,11):\n",
    "    sum = sum + i\n",
    "\n",
    "print(sum)"
   ]
  },
  {
   "cell_type": "markdown",
   "id": "611fac17-801d-4755-abe2-45357aa4bf07",
   "metadata": {},
   "source": [
    "# Write a program to display n terms of natural number and their sum"
   ]
  },
  {
   "cell_type": "code",
   "execution_count": 84,
   "id": "d3abdd23-1d44-4485-a7f0-f98d638a5555",
   "metadata": {},
   "outputs": [
    {
     "name": "stdin",
     "output_type": "stream",
     "text": [
      "Enter a number here:  15\n"
     ]
    },
    {
     "name": "stdout",
     "output_type": "stream",
     "text": [
      "Natural number list: \n",
      "1\n",
      "2\n",
      "3\n",
      "4\n",
      "5\n",
      "6\n",
      "7\n",
      "8\n",
      "9\n",
      "10\n",
      "11\n",
      "12\n",
      "13\n",
      "14\n",
      "15\n",
      "------\n",
      "120 is total sum.\n"
     ]
    }
   ],
   "source": [
    "sum = 0\n",
    "n = int(input(\"Enter a number here: \"))\n",
    "print('Natural number list: ')\n",
    "for i in range(1, n+1):\n",
    "    print(i)\n",
    "    sum = sum + i\n",
    "print(\"------\")\n",
    "print(f\"{sum} is total sum.\")"
   ]
  },
  {
   "cell_type": "markdown",
   "id": "28fbd2b8-e5fc-4ba1-8b4c-12c018e06211",
   "metadata": {},
   "source": [
    "# Write a program to display the cube of the number"
   ]
  },
  {
   "cell_type": "code",
   "execution_count": 85,
   "id": "7d735633-b948-474a-94b9-6c5729c5e324",
   "metadata": {},
   "outputs": [
    {
     "name": "stdin",
     "output_type": "stream",
     "text": [
      "Enter a number here:  8\n"
     ]
    },
    {
     "name": "stdout",
     "output_type": "stream",
     "text": [
      "1\n",
      "-------\n",
      "8\n",
      "-------\n",
      "27\n",
      "-------\n",
      "64\n",
      "-------\n",
      "125\n",
      "-------\n",
      "216\n",
      "-------\n",
      "343\n",
      "-------\n",
      "512\n",
      "-------\n"
     ]
    }
   ],
   "source": [
    "n = int(input(\"Enter a number here: \"))\n",
    "for i in range(1, n+1):\n",
    "    print(i ** 3)\n",
    "    print(\"-------\")"
   ]
  },
  {
   "cell_type": "markdown",
   "id": "73573feb-c477-4c5b-817d-5f60b44a6b50",
   "metadata": {},
   "source": [
    "# Write a program to display mulltiplication table"
   ]
  },
  {
   "cell_type": "code",
   "execution_count": 90,
   "id": "e5070f08-f6aa-4d28-808c-0e20fff75f08",
   "metadata": {},
   "outputs": [
    {
     "name": "stdin",
     "output_type": "stream",
     "text": [
      "Enter a number table 25\n"
     ]
    },
    {
     "name": "stdout",
     "output_type": "stream",
     "text": [
      "25 * 1 = 25\n",
      "---------------\n",
      "25 * 2 = 50\n",
      "---------------\n",
      "25 * 3 = 75\n",
      "---------------\n",
      "25 * 4 = 100\n",
      "---------------\n",
      "25 * 5 = 125\n",
      "---------------\n",
      "25 * 6 = 150\n",
      "---------------\n",
      "25 * 7 = 175\n",
      "---------------\n",
      "25 * 8 = 200\n",
      "---------------\n",
      "25 * 9 = 225\n",
      "---------------\n",
      "25 * 10 = 250\n",
      "---------------\n"
     ]
    }
   ],
   "source": [
    "n = int(input('Enter a number table'))\n",
    "\n",
    "for i in range(1, 11):\n",
    "    print(f\"{n} * {i} = {n * i}\")\n",
    "    print(\"---------------\")"
   ]
  },
  {
   "cell_type": "markdown",
   "id": "9ba19af2-1661-4c8c-89e1-58fc8ce6670e",
   "metadata": {},
   "source": [
    "# Write a program for the factorial number"
   ]
  },
  {
   "cell_type": "code",
   "execution_count": 94,
   "id": "d1ce6943-d9e2-40aa-96bf-67ad661b4bbb",
   "metadata": {},
   "outputs": [
    {
     "name": "stdin",
     "output_type": "stream",
     "text": [
      "Enter a number here:  5\n"
     ]
    },
    {
     "name": "stdout",
     "output_type": "stream",
     "text": [
      "120\n"
     ]
    }
   ],
   "source": [
    "n = int(input(\"Enter a number here: \"))\n",
    "fact = 1\n",
    "for i in reversed(range(1, n+1)):\n",
    "    fact = fact * i\n",
    "\n",
    "print(fact)"
   ]
  },
  {
   "cell_type": "markdown",
   "id": "87d28a6e-e1b3-4167-b573-75f86702f0df",
   "metadata": {},
   "source": [
    "# Write a program to display n terms of even natural numbers and their sum"
   ]
  },
  {
   "cell_type": "code",
   "execution_count": 106,
   "id": "6ff7c359-fb42-4096-93ad-b4656454e289",
   "metadata": {},
   "outputs": [
    {
     "name": "stdin",
     "output_type": "stream",
     "text": [
      "Enter a number here:  10\n"
     ]
    },
    {
     "name": "stdout",
     "output_type": "stream",
     "text": [
      "Here is first 10 even numbers\n",
      "2\n",
      "4\n",
      "6\n",
      "8\n",
      "10\n",
      "12\n",
      "14\n",
      "16\n",
      "18\n",
      "20\n",
      "------------------------------------\n",
      "Sum of total 10 even number is 110\n"
     ]
    }
   ],
   "source": [
    "n = int(input(\"Enter a number here: \"))\n",
    "sum = 0\n",
    "print(f\"Here is first {n} even numbers\")\n",
    "for i in range(1, (n+1)*2):\n",
    "    if i % 2 == 0:\n",
    "        print(i)\n",
    "        sum = sum + i\n",
    "\n",
    "print(\"------------------------------------\")\n",
    "print(f\"Sum of total {n} even number is {sum}\" )"
   ]
  },
  {
   "cell_type": "markdown",
   "id": "eee3e73e-a0d2-437a-b798-74b020006546",
   "metadata": {},
   "source": [
    "# Write a program to check given number is armstrong or not"
   ]
  },
  {
   "cell_type": "code",
   "execution_count": 125,
   "id": "8344d1d4-9dac-467b-846c-20a62ac1b7bb",
   "metadata": {},
   "outputs": [
    {
     "name": "stdin",
     "output_type": "stream",
     "text": [
      "Enter a number here:  153\n"
     ]
    },
    {
     "name": "stdout",
     "output_type": "stream",
     "text": [
      "153 is the sum of digits in n\n",
      "153 is the armstrong number\n"
     ]
    }
   ],
   "source": [
    "n = int(input(\"Enter a number here: \"))\n",
    "original_n = n\n",
    "sum = 0\n",
    "\n",
    "while n>0:\n",
    "    rem = n%10\n",
    "    sum = sum + (rem ** len(str(original_n)))\n",
    "    rem = int(rem)\n",
    "    n = n - rem\n",
    "    n = n / 10\n",
    "    sum = int(sum)\n",
    "\n",
    "print(f\"{sum} is the sum of digits in n\")\n",
    "if original_n == sum:\n",
    "    print(f\"{sum} is the armstrong number\")"
   ]
  },
  {
   "cell_type": "markdown",
   "id": "51533744-c5dd-4ace-95bf-aa2e0c1e1cb0",
   "metadata": {},
   "source": [
    "# Write a program to check number is prime or not"
   ]
  },
  {
   "cell_type": "code",
   "execution_count": 136,
   "id": "86607023-d27a-4f72-a257-f8ba1fc61e01",
   "metadata": {},
   "outputs": [
    {
     "name": "stdin",
     "output_type": "stream",
     "text": [
      "Enter a number here:  37\n"
     ]
    },
    {
     "name": "stdout",
     "output_type": "stream",
     "text": [
      "37 is prime number.\n"
     ]
    }
   ],
   "source": [
    "n = int(input(\"Enter a number here: \"))\n",
    "\n",
    "if n>1:\n",
    "    for i in range(2, (n // 2) + 1):\n",
    "        if n % i == 0:\n",
    "            print(f\"{n} is not prime number.\")\n",
    "            break\n",
    "    else:\n",
    "        print(f\"{n} is prime number.\")"
   ]
  },
  {
   "cell_type": "markdown",
   "id": "722c283a-55e8-46cf-8750-81e8909e6c9d",
   "metadata": {},
   "source": [
    "# display the first n terms of fibonnaci series"
   ]
  },
  {
   "cell_type": "code",
   "execution_count": 143,
   "id": "70bc9b46-e6b7-407c-9260-faadb8c72b86",
   "metadata": {},
   "outputs": [
    {
     "name": "stdin",
     "output_type": "stream",
     "text": [
      "Enter a number here 10\n"
     ]
    },
    {
     "name": "stdout",
     "output_type": "stream",
     "text": [
      "Fibonacci series:  0 1 1 2 3 5 8 13 21 34 55 89 "
     ]
    }
   ],
   "source": [
    "num = int(input(\"Enter a number here\"))\n",
    "n1, n2 = 0, 1\n",
    "count = 0\n",
    "print(\"Fibonacci series: \", n1, n2, end = \" \")\n",
    "while count < num:\n",
    "    n3 = n1 + n2\n",
    "    n1 = n2\n",
    "    n2 = n3\n",
    "    count += 1\n",
    "    print(n3, end = \" \")"
   ]
  },
  {
   "cell_type": "markdown",
   "id": "a0e96241-93e0-42c7-a963-269041d79cff",
   "metadata": {},
   "source": [
    "# Display the number in reverse order"
   ]
  },
  {
   "cell_type": "code",
   "execution_count": 144,
   "id": "05021685-35a8-4a6f-80a7-d4150d979d36",
   "metadata": {},
   "outputs": [
    {
     "name": "stdin",
     "output_type": "stream",
     "text": [
      "Enter a number here:  1234\n"
     ]
    },
    {
     "name": "stdout",
     "output_type": "stream",
     "text": [
      "4321"
     ]
    }
   ],
   "source": [
    "num = int(input('Enter a number here: '))\n",
    "\n",
    "while num>0:\n",
    "    rem = num % 10\n",
    "    num = num - rem\n",
    "    num = num / 10\n",
    "    num = int(num)\n",
    "    print(rem, end = \"\")"
   ]
  },
  {
   "cell_type": "markdown",
   "id": "00e0938e-ebc1-46f5-9725-67196d6dcbb7",
   "metadata": {},
   "source": [
    "# Check number is palindrome or not"
   ]
  },
  {
   "cell_type": "code",
   "execution_count": 159,
   "id": "82966282-71d8-4139-b75a-9129d13cb5ed",
   "metadata": {},
   "outputs": [
    {
     "name": "stdin",
     "output_type": "stream",
     "text": [
      "Enter a number here:  121\n"
     ]
    },
    {
     "name": "stdout",
     "output_type": "stream",
     "text": [
      "121\n",
      "number is palindrome\n"
     ]
    }
   ],
   "source": [
    "num = int(input('Enter a number here: '))\n",
    "original_num = num\n",
    "sum = 0\n",
    "while num>0:\n",
    "    rem = num % 10\n",
    "    sum = sum * 10 + rem\n",
    "    num = num // 10\n",
    "    num = int(num)\n",
    "  \n",
    "print(sum)\n",
    "\n",
    "if sum == original_num:\n",
    "    print(\"number is palindrome\")\n",
    "else:\n",
    "    print(\"number is not palindrome\")"
   ]
  },
  {
   "cell_type": "markdown",
   "id": "6231531d-09b0-45a8-9ee9-4c4fc1bf0ad8",
   "metadata": {},
   "source": [
    "# Make a game of rock papaer scissor game"
   ]
  },
  {
   "cell_type": "code",
   "execution_count": 186,
   "id": "b04a6db1-8cb2-4493-90b0-5ef0b5a5e218",
   "metadata": {},
   "outputs": [
    {
     "name": "stdin",
     "output_type": "stream",
     "text": [
      "Player 1:  t\n",
      "Player 2:  i\n"
     ]
    },
    {
     "name": "stdout",
     "output_type": "stream",
     "text": [
      "invalid move\n"
     ]
    }
   ],
   "source": [
    "Player1 = input(\"Player 1: \").lower()\n",
    "Player2 = input(\"Player 2: \").lower()\n",
    "\n",
    "moves = ['r', 'p', 's']\n",
    "\n",
    "if Player1 in moves and Player2 in moves:\n",
    "    print(\"Valid moves\")\n",
    "    if Player1 == Player2:\n",
    "        print(\"Its Draw\")\n",
    "    elif (Player1 == 'p' and Player2 == 'r') or (Player1 == 's' and Player2 == 'p') or (Player1 == 'r' and Player2 == 's'):\n",
    "        print(\"Player 1 wins\")\n",
    "    else:\n",
    "        print(\"Player 2 wins\")\n",
    "else:\n",
    "    print(\"invalid move\")"
   ]
  },
  {
   "cell_type": "markdown",
   "id": "a0aa9f81-4aca-4300-8311-a4590026fe34",
   "metadata": {},
   "source": [
    "----------"
   ]
  },
  {
   "cell_type": "markdown",
   "id": "feb9f914-8235-4767-838f-578cccf4c4e2",
   "metadata": {},
   "source": [
    "# Make a pattern of *"
   ]
  },
  {
   "cell_type": "code",
   "execution_count": 188,
   "id": "0bf4080d-0830-4833-b126-5ee612438166",
   "metadata": {},
   "outputs": [
    {
     "name": "stdout",
     "output_type": "stream",
     "text": [
      "\n",
      "* \n",
      "* * \n",
      "* * * \n",
      "* * * * \n",
      "* * * * * \n"
     ]
    }
   ],
   "source": [
    "for i in range(6):\n",
    "    for j in range(i):\n",
    "        print('*', end = \" \")\n",
    "    print()"
   ]
  },
  {
   "cell_type": "markdown",
   "id": "9649ba62-935a-4dc9-ac9d-9b412c88aa57",
   "metadata": {},
   "source": [
    "# Make a pattern of numbers"
   ]
  },
  {
   "cell_type": "code",
   "execution_count": 192,
   "id": "7ef9304f-afc7-4d75-ba6d-8a9624d547a7",
   "metadata": {},
   "outputs": [
    {
     "name": "stdout",
     "output_type": "stream",
     "text": [
      "\n",
      "1 \n",
      "1 2 \n",
      "1 2 3 \n",
      "1 2 3 4 \n"
     ]
    }
   ],
   "source": [
    "for i in range(1, 6):\n",
    "    for j in range(1, i):\n",
    "        print(j, end = \" \")\n",
    "    print()"
   ]
  },
  {
   "cell_type": "code",
   "execution_count": 198,
   "id": "60b8547d-6112-4949-b012-679cf99fc2f0",
   "metadata": {},
   "outputs": [
    {
     "name": "stdout",
     "output_type": "stream",
     "text": [
      "\n",
      "1 \n",
      "2 2 \n",
      "3 3 3 \n",
      "4 4 4 4 \n"
     ]
    }
   ],
   "source": [
    "for i in range(5):\n",
    "    for j in range(i):\n",
    "        print(i, end = \" \")\n",
    "    print()"
   ]
  },
  {
   "cell_type": "markdown",
   "id": "8278f7fd-6010-476d-b8ee-1ac21eac8e4c",
   "metadata": {},
   "source": [
    "# Write program for a pattern of 1 to 10"
   ]
  },
  {
   "cell_type": "code",
   "execution_count": 199,
   "id": "92f9d4bd-b092-4b7b-a9c8-40f4dce65fb6",
   "metadata": {},
   "outputs": [
    {
     "name": "stdout",
     "output_type": "stream",
     "text": [
      "\n",
      "1 \n",
      "2 3 \n",
      "4 5 6 \n",
      "7 8 9 10 \n"
     ]
    }
   ],
   "source": [
    "num = 1\n",
    "for i in range(5):\n",
    "    for j in range(i):\n",
    "        print(num, end = \" \")\n",
    "        num += 1\n",
    "    print()"
   ]
  },
  {
   "cell_type": "code",
   "execution_count": 201,
   "id": "7f4773e8-b68d-47be-99de-2d21bee3f31a",
   "metadata": {},
   "outputs": [
    {
     "name": "stdout",
     "output_type": "stream",
     "text": [
      "        *  \n",
      "       * *  \n",
      "      * * *  \n",
      "     * * * *  \n",
      "    * * * * *  \n"
     ]
    }
   ],
   "source": [
    "size = 5\n",
    "m = (2 * size) - 2\n",
    "\n",
    "for i in range(0, size):\n",
    "    for j in range(0, m):\n",
    "        print(end = \" \")\n",
    "    m = m - 1\n",
    "    for j in range(0, i + 1):\n",
    "        print(\"*\", end=' ')\n",
    "    print(\" \")"
   ]
  },
  {
   "cell_type": "code",
   "execution_count": 206,
   "id": "36c351a1-6e0b-48c1-b017-ce61d31683a5",
   "metadata": {},
   "outputs": [
    {
     "name": "stdout",
     "output_type": "stream",
     "text": [
      "* * * * * * \n",
      "* * * * * * \n",
      "* * * * * * \n",
      "* * * * * * \n",
      "* * * * * * \n",
      "* * * * * * \n"
     ]
    }
   ],
   "source": [
    "for i in range(6):\n",
    "    for j in range(6):\n",
    "        print('*', end = \" \")\n",
    "    print()"
   ]
  },
  {
   "cell_type": "code",
   "execution_count": 209,
   "id": "9efb50db-ccac-477f-9f0a-972acba411c4",
   "metadata": {},
   "outputs": [
    {
     "name": "stdout",
     "output_type": "stream",
     "text": [
      "* * * * * \n",
      "* * * * \n",
      "* * * \n",
      "* * \n",
      "* \n"
     ]
    }
   ],
   "source": [
    "for i in range(5, 0, -1):\n",
    "    for j in range(0, i):\n",
    "        print('*', end = \" \")\n",
    "    print()"
   ]
  },
  {
   "cell_type": "markdown",
   "id": "bba44066-2f38-4189-af0d-aaf7d220a1ee",
   "metadata": {},
   "source": [
    "# Array Programs"
   ]
  },
  {
   "cell_type": "markdown",
   "id": "b69214f7-1bd9-4bc1-868a-892488f692f7",
   "metadata": {},
   "source": [
    "# Write a program to read n numbers of values is an array and display it in reverse order"
   ]
  },
  {
   "cell_type": "code",
   "execution_count": 216,
   "id": "5d522762-46a1-49e1-b60e-d824b965f4d0",
   "metadata": {},
   "outputs": [
    {
     "name": "stdin",
     "output_type": "stream",
     "text": [
      "pick any index number from 0 to 5: -  2\n"
     ]
    },
    {
     "name": "stdout",
     "output_type": "stream",
     "text": [
      "3\n"
     ]
    }
   ],
   "source": [
    "import numpy as np\n",
    "arr = [1,2,3,4,5,6]\n",
    "le = len(arr)\n",
    "n = int(input(f\"pick any index number from 0 to {le-1}: - \"))\n",
    "array = arr[n]\n",
    "print(array)"
   ]
  },
  {
   "cell_type": "markdown",
   "id": "690282ed-c1d7-4935-9af9-73c6dfedec52",
   "metadata": {},
   "source": [
    "# Write a program to copy one element from one array to another"
   ]
  },
  {
   "cell_type": "code",
   "execution_count": 221,
   "id": "95b04b36-09b5-4f1c-87e2-4145507c46d3",
   "metadata": {},
   "outputs": [
    {
     "data": {
      "text/plain": [
       "array([1, 2, 3, 4, 5, 6])"
      ]
     },
     "execution_count": 221,
     "metadata": {},
     "output_type": "execute_result"
    }
   ],
   "source": [
    "arr = np.array([1,2,3,4,5,6])\n",
    "arr2 = arr\n",
    "arr2"
   ]
  },
  {
   "cell_type": "markdown",
   "id": "b35af0f8-9954-43ec-ab2a-7e5f88457142",
   "metadata": {},
   "source": [
    "---------------"
   ]
  },
  {
   "cell_type": "markdown",
   "id": "7f013ede-256c-4c3c-b82c-d25c48bcdd66",
   "metadata": {},
   "source": [
    "# Function"
   ]
  },
  {
   "cell_type": "markdown",
   "id": "1b23016a-1104-4bf3-ac1b-3c5b6511b3cd",
   "metadata": {},
   "source": [
    "# Write a propgram to find square of any number using this function"
   ]
  },
  {
   "cell_type": "code",
   "execution_count": 4,
   "id": "517f6ee5-c230-400c-9dd3-d1dc814a2575",
   "metadata": {},
   "outputs": [
    {
     "name": "stdin",
     "output_type": "stream",
     "text": [
      "Enter a number here:  6\n"
     ]
    },
    {
     "name": "stdout",
     "output_type": "stream",
     "text": [
      "6 number square is 36.\n"
     ]
    }
   ],
   "source": [
    "n = int(input(\"Enter a number here: \"))\n",
    "\n",
    "def square():\n",
    "    sq = n ** 2\n",
    "    print(f\"{n} number square is {sq}.\")\n",
    "\n",
    "square()"
   ]
  },
  {
   "cell_type": "markdown",
   "id": "0559abb0-c2b0-46ee-a8a3-0ae68d689cc7",
   "metadata": {},
   "source": [
    "# Write a program to swap two numbers using the function"
   ]
  },
  {
   "cell_type": "code",
   "execution_count": 15,
   "id": "1bfa4381-133b-4f52-ab70-729b1b16da7f",
   "metadata": {},
   "outputs": [
    {
     "name": "stdout",
     "output_type": "stream",
     "text": [
      "12 is first number after swaping\n",
      "10 is second number after swaping\n",
      "5 is first number after swaping\n",
      "4 is second number after swaping\n"
     ]
    }
   ],
   "source": [
    "def swaping(num1, num2):\n",
    "    num1, num2 = num2, num1\n",
    "    print(f\"{num1} is first number after swaping\")\n",
    "    print(f\"{num2} is second number after swaping\")\n",
    "\n",
    "swaping(10, 12)\n",
    "swaping(4, 5)"
   ]
  },
  {
   "cell_type": "markdown",
   "id": "f5e58989-643c-4643-befe-538d6658a983",
   "metadata": {},
   "source": [
    "# Write a program to wheather number is prime or not."
   ]
  },
  {
   "cell_type": "code",
   "execution_count": 21,
   "id": "8670011b-8863-45f6-9acf-46e0e69c0389",
   "metadata": {},
   "outputs": [
    {
     "name": "stdout",
     "output_type": "stream",
     "text": [
      "5 is prime number\n",
      "14 is not a prime number.\n",
      "21 is not a prime number.\n",
      "13 is prime number\n"
     ]
    }
   ],
   "source": [
    "def primeornot(n):\n",
    "    if n>1:\n",
    "        for i in range(2, (n // 2) + 1):\n",
    "            if n % i == 0:\n",
    "                print(f\"{n} is not a prime number.\")\n",
    "                break\n",
    "        else:\n",
    "            print(f\"{n} is prime number\")\n",
    "\n",
    "primeornot(5)\n",
    "primeornot(14)\n",
    "primeornot(21)\n",
    "primeornot(13)"
   ]
  },
  {
   "cell_type": "markdown",
   "id": "0c770853-930d-4617-9f29-6ed9fc803d49",
   "metadata": {},
   "source": [
    "# Write a program to extract the largest element in an array"
   ]
  },
  {
   "cell_type": "code",
   "execution_count": 3,
   "id": "7edaf76d-375f-4dcc-be81-6ceb6f023703",
   "metadata": {},
   "outputs": [
    {
     "data": {
      "text/plain": [
       "9"
      ]
     },
     "execution_count": 3,
     "metadata": {},
     "output_type": "execute_result"
    }
   ],
   "source": [
    "arr = np.array([1,3,5,7,9])\n",
    "int(max(arr))"
   ]
  },
  {
   "cell_type": "code",
   "execution_count": 13,
   "id": "f56c9a74-489b-429c-9287-72e9e4285742",
   "metadata": {},
   "outputs": [
    {
     "name": "stdout",
     "output_type": "stream",
     "text": [
      "9\n"
     ]
    }
   ],
   "source": [
    "arr = np.array([1,3,5,7,9])\n",
    "\n",
    "def maxarray(arr):\n",
    "    if arr.size == 0:\n",
    "        return None\n",
    "    else:\n",
    "        print(np.max(arr))\n",
    "\n",
    "maxarray(arr)"
   ]
  },
  {
   "cell_type": "markdown",
   "id": "4fd91c76-56a1-4839-8b71-c51dd1cd1b6f",
   "metadata": {},
   "source": [
    "# Write a program to extract the maximum and minimum elements in an array"
   ]
  },
  {
   "cell_type": "code",
   "execution_count": 19,
   "id": "e7db2a90-a317-448e-938b-d5aee2b8d592",
   "metadata": {},
   "outputs": [
    {
     "name": "stdout",
     "output_type": "stream",
     "text": [
      "Max element in an array is 9\n",
      "Min element in an array is 1\n"
     ]
    }
   ],
   "source": [
    "arr = np.array([1,4,6,8,9,2])\n",
    "\n",
    "def maxmin(arr):\n",
    "    if arr.size == 0:\n",
    "        return None\n",
    "    else:\n",
    "        print(\"Max element in an array is\",np.max(arr))\n",
    "        print(\"Min element in an array is\",np.min(arr))\n",
    "\n",
    "maxmin(arr)"
   ]
  },
  {
   "cell_type": "markdown",
   "id": "1ef004b2-5682-4045-a1f8-e6cea4e91d96",
   "metadata": {},
   "source": [
    "# Write a program to convert decimal number to binary number"
   ]
  },
  {
   "cell_type": "code",
   "execution_count": 13,
   "id": "962dd5ff-e0e5-466d-b107-0a1e96933481",
   "metadata": {},
   "outputs": [
    {
     "name": "stdin",
     "output_type": "stream",
     "text": [
      "Enter a number here 125\n"
     ]
    },
    {
     "data": {
      "text/plain": [
       "521"
      ]
     },
     "execution_count": 13,
     "metadata": {},
     "output_type": "execute_result"
    }
   ],
   "source": [
    "num = int(input(\"Enter a number here\"))\n",
    "reversed_str = \"\"\n",
    "\n",
    "while num>0:\n",
    "    rem = num % 10\n",
    "    num = num - rem\n",
    "    num = num / 10\n",
    "    num = int(num)\n",
    "    reversed_str += str(rem)\n",
    "\n",
    "int(reversed_str)"
   ]
  },
  {
   "cell_type": "code",
   "execution_count": 19,
   "id": "ce4bad11-1386-4d43-b281-5840fb7cd4d0",
   "metadata": {},
   "outputs": [
    {
     "data": {
      "text/plain": [
       "'1111101'"
      ]
     },
     "execution_count": 19,
     "metadata": {},
     "output_type": "execute_result"
    }
   ],
   "source": [
    "num = 125\n",
    "\n",
    "def dec_bin(num):\n",
    "    reversed_str = \"\"\n",
    "    while num>0:\n",
    "        if num % 2 == 0:\n",
    "            reversed_str += \"0\"\n",
    "        else:\n",
    "            reversed_str += \"1\"\n",
    "        num = num // 2\n",
    "    \n",
    "    return reversed_str[::-1]\n",
    "\n",
    "dec_bin(num)"
   ]
  },
  {
   "cell_type": "code",
   "execution_count": 1,
   "id": "924885ef-1d9b-4139-8a72-91cf9454aba9",
   "metadata": {},
   "outputs": [
    {
     "data": {
      "text/plain": [
       "62"
      ]
     },
     "execution_count": 1,
     "metadata": {},
     "output_type": "execute_result"
    }
   ],
   "source": [
    "125 // 2"
   ]
  },
  {
   "cell_type": "markdown",
   "id": "c9fb54e4-2236-4738-af72-2076ad9e33ac",
   "metadata": {},
   "source": [
    "--------"
   ]
  },
  {
   "cell_type": "markdown",
   "id": "5bbed294-226d-49ef-b418-f065ce58fc62",
   "metadata": {},
   "source": [
    "# Switch Programs"
   ]
  },
  {
   "cell_type": "code",
   "execution_count": null,
   "id": "fad82724-146b-4ff4-ad8a-6c9216920d81",
   "metadata": {},
   "outputs": [],
   "source": []
  },
  {
   "cell_type": "markdown",
   "id": "d4a1a2c8-0694-4dbd-bda0-a9565a9a490e",
   "metadata": {},
   "source": [
    "-----"
   ]
  },
  {
   "cell_type": "markdown",
   "id": "9407cd0b-e624-4157-847e-ab6d455f20ba",
   "metadata": {},
   "source": [
    "# Basic Programs"
   ]
  },
  {
   "cell_type": "markdown",
   "id": "39d1f5d7-7114-472a-82a4-8ee0e2708875",
   "metadata": {},
   "source": [
    "# Write a program to calculate months, weeks, and years from given days number"
   ]
  },
  {
   "cell_type": "code",
   "execution_count": 25,
   "id": "b29d1f76-f1c8-4e1f-b419-1a04602f6b86",
   "metadata": {},
   "outputs": [
    {
     "name": "stdin",
     "output_type": "stream",
     "text": [
      "enter a number here:  3000\n"
     ]
    },
    {
     "name": "stdout",
     "output_type": "stream",
     "text": [
      "years:  8\n",
      "months:  2\n",
      "days:  20\n"
     ]
    }
   ],
   "source": [
    "n = int(input('enter a number here: '))\n",
    "\n",
    "def years_months_days(n):\n",
    "    years = n // 365\n",
    "    months = (n - years * 365) // 30\n",
    "    days = (n - years * 365 - months * 30)\n",
    "    print(\"years: \", years)\n",
    "    print(\"months: \", months)\n",
    "    print(\"days: \", days)\n",
    "\n",
    "years_months_days(n)"
   ]
  },
  {
   "cell_type": "markdown",
   "id": "1c59340d-bd7f-466f-9ba6-1ea49d89e307",
   "metadata": {},
   "source": [
    "# Write a program to calculate the distance between two points"
   ]
  },
  {
   "cell_type": "code",
   "execution_count": 28,
   "id": "533fc6f8-5541-469e-8397-d147d754b284",
   "metadata": {},
   "outputs": [
    {
     "name": "stdin",
     "output_type": "stream",
     "text": [
      "Enter only first distance number in KM here:  9\n",
      "Enter only second distance number in KM here:  7\n"
     ]
    },
    {
     "name": "stdout",
     "output_type": "stream",
     "text": [
      "difference between both distance in KM is:  2\n"
     ]
    }
   ],
   "source": [
    "dist1 = int(input(\"Enter only first distance number in KM here: \"))\n",
    "dist2 = int(input(\"Enter only second distance number in KM here: \"))\n",
    "\n",
    "def difference(dist1, dist2):\n",
    "    diff = dist1 - dist2\n",
    "    diff = abs(diff)\n",
    "    print(\"difference between both distance in KM is: \", diff)\n",
    "\n",
    "difference(dist1, dist2)"
   ]
  },
  {
   "cell_type": "markdown",
   "id": "632f56f3-5d1d-44bc-be20-7f6bda9966a7",
   "metadata": {},
   "source": [
    "# Write a program to convert a given amount and break the amount in smallest possible number for bank notes"
   ]
  },
  {
   "cell_type": "code",
   "execution_count": 1,
   "id": "fc1e903a-ecab-4080-941d-7fb1a4364910",
   "metadata": {},
   "outputs": [
    {
     "name": "stdout",
     "output_type": "stream",
     "text": [
      "Currency Count ->\n",
      "500 : 2\n",
      "100 : 1\n",
      "20 : 1\n"
     ]
    }
   ],
   "source": [
    "def countCurrency(amount):    \n",
    "    notes = [2000, 500, 200, 100, 50, 20, 10]\n",
    "    notesCount = {}\n",
    "    \n",
    "    for note in notes:\n",
    "        if amount >= note:\n",
    "            notesCount[note] = amount//note\n",
    "            amount = amount % note\n",
    "            \n",
    "    print (\"Currency Count ->\")\n",
    "    for key, val in notesCount.items():\n",
    "        print(f\"{key} : {val}\")\n",
    "\n",
    "amount = 1120\n",
    "countCurrency(amount)"
   ]
  },
  {
   "cell_type": "markdown",
   "id": "e2cd1057-5e76-4919-9acb-147f194be8ea",
   "metadata": {},
   "source": [
    "# Write a python code to convert seconds to hours, minutes and seconds"
   ]
  },
  {
   "cell_type": "code",
   "execution_count": 2,
   "id": "1c125e4a-3aab-4c2f-a65b-d471e7b3da1d",
   "metadata": {},
   "outputs": [
    {
     "name": "stdout",
     "output_type": "stream",
     "text": [
      "10:29:48\n"
     ]
    }
   ],
   "source": [
    "def convert(seconds):\n",
    "\tseconds = seconds % (24 * 3600)\n",
    "\thour = seconds // 3600\n",
    "\tseconds %= 3600\n",
    "\tminutes = seconds // 60\n",
    "\tseconds %= 60\n",
    "\t\n",
    "\treturn \"%d:%02d:%02d\" % (hour, minutes, seconds)\n",
    "\t\n",
    "\n",
    "n = 3600\n",
    "print(convert(n))\n"
   ]
  },
  {
   "cell_type": "markdown",
   "id": "74266438-c164-4fda-aa8a-e9e28b30f396",
   "metadata": {},
   "source": [
    "# Write a python program to calculate sum of all numbers between them."
   ]
  },
  {
   "cell_type": "code",
   "execution_count": 7,
   "id": "47452605-defb-45a2-b348-4faae4987ac0",
   "metadata": {},
   "outputs": [
    {
     "name": "stdin",
     "output_type": "stream",
     "text": [
      "Enter a first number here:  1\n",
      "Enter a second number here:  10\n"
     ]
    },
    {
     "name": "stdout",
     "output_type": "stream",
     "text": [
      "sum of all odds between 1 and 10 is: 25\n"
     ]
    }
   ],
   "source": [
    "num1 = int(input(\"Enter a first number here: \"))\n",
    "num2 = int(input(\"Enter a second number here: \"))\n",
    "sum = 0\n",
    "\n",
    "for i in range(num1, num2+1):\n",
    "    if i%2 != 0:\n",
    "        sum += i\n",
    "    else:\n",
    "        continue\n",
    "print(f\"sum of all odds between {num1} and {num2} is:\", sum)"
   ]
  },
  {
   "cell_type": "markdown",
   "id": "4c044c50-996c-4f2b-b54d-ee358c270355",
   "metadata": {},
   "source": [
    "# Write a program to print all even numbers in range 1 to 50"
   ]
  },
  {
   "cell_type": "code",
   "execution_count": 9,
   "id": "bf06d149-afff-45d1-92fd-5378e4605a6a",
   "metadata": {},
   "outputs": [
    {
     "name": "stdout",
     "output_type": "stream",
     "text": [
      "---------------------------------\n",
      "1th even number is: 2\n",
      "---------------------------------\n",
      "2th even number is: 4\n",
      "---------------------------------\n",
      "3th even number is: 6\n",
      "---------------------------------\n",
      "4th even number is: 8\n",
      "---------------------------------\n",
      "5th even number is: 10\n",
      "---------------------------------\n",
      "6th even number is: 12\n",
      "---------------------------------\n",
      "7th even number is: 14\n",
      "---------------------------------\n",
      "8th even number is: 16\n",
      "---------------------------------\n",
      "9th even number is: 18\n",
      "---------------------------------\n",
      "10th even number is: 20\n",
      "---------------------------------\n",
      "11th even number is: 22\n",
      "---------------------------------\n",
      "12th even number is: 24\n",
      "---------------------------------\n",
      "13th even number is: 26\n",
      "---------------------------------\n",
      "14th even number is: 28\n",
      "---------------------------------\n",
      "15th even number is: 30\n",
      "---------------------------------\n",
      "16th even number is: 32\n",
      "---------------------------------\n",
      "17th even number is: 34\n",
      "---------------------------------\n",
      "18th even number is: 36\n",
      "---------------------------------\n",
      "19th even number is: 38\n",
      "---------------------------------\n",
      "20th even number is: 40\n",
      "---------------------------------\n",
      "21th even number is: 42\n",
      "---------------------------------\n",
      "22th even number is: 44\n",
      "---------------------------------\n",
      "23th even number is: 46\n",
      "---------------------------------\n",
      "24th even number is: 48\n",
      "---------------------------------\n",
      "25th even number is: 50\n"
     ]
    }
   ],
   "source": [
    "num1 = 1\n",
    "num2 = 50\n",
    "count = 0\n",
    "\n",
    "for i in range(1,50+1):\n",
    "    if i%2 == 0:\n",
    "        count += 1\n",
    "        print(\"---------------------------------\")\n",
    "        print(f\"{count}th even number is:\", i)\n",
    "    else:\n",
    "        continue\n"
   ]
  },
  {
   "cell_type": "markdown",
   "id": "f9740ff6-8fb6-4756-af65-88d72df8fb3a",
   "metadata": {},
   "source": [
    "# Write a program to count positive and negative numbers from them"
   ]
  },
  {
   "cell_type": "code",
   "execution_count": 12,
   "id": "addb96f6-405b-4faa-8c9f-9efde78ee60c",
   "metadata": {},
   "outputs": [
    {
     "name": "stdout",
     "output_type": "stream",
     "text": [
      "Count of negative numbers are:  2\n",
      "Count of positive numbers are:  3\n"
     ]
    }
   ],
   "source": [
    "numbers = [2,4,7,-2,-6]\n",
    "count_negative = 0\n",
    "count_positive = 0\n",
    "\n",
    "for i in numbers:\n",
    "    if i < 0:\n",
    "        count_negative += 1\n",
    "    elif i>0:\n",
    "        count_positive += 1\n",
    "        continue\n",
    "print(\"Count of negative numbers are: \", count_negative)\n",
    "print(\"Count of positive numbers are: \", count_positive)"
   ]
  },
  {
   "cell_type": "markdown",
   "id": "fa36d429-f1b7-443d-ae38-c679fca326a3",
   "metadata": {},
   "source": [
    "# Average of positive integers"
   ]
  },
  {
   "cell_type": "code",
   "execution_count": 19,
   "id": "45dd04e1-63a5-4dc8-8bfc-3c234341dbb3",
   "metadata": {},
   "outputs": [
    {
     "name": "stdout",
     "output_type": "stream",
     "text": [
      "Average of positive integers are:  4.33\n"
     ]
    }
   ],
   "source": [
    "numbers = [2,4,7,-2,-6]\n",
    "sumof = 0\n",
    "count = 0\n",
    "\n",
    "for i in numbers:\n",
    "    if i > 0:\n",
    "        sumof += i\n",
    "        count += 1\n",
    "    else:\n",
    "        continue\n",
    "average = sumof / count\n",
    "print(\"Average of positive integers are: \", round(average,2))"
   ]
  },
  {
   "cell_type": "markdown",
   "id": "af312331-9037-4f0e-bf12-12c4ff63d18d",
   "metadata": {},
   "source": [
    "# Write a program to print square of even values from 1 to specified value."
   ]
  },
  {
   "cell_type": "code",
   "execution_count": 21,
   "id": "0277f4fd-98af-43b1-850e-8dca7e17b3dd",
   "metadata": {},
   "outputs": [
    {
     "name": "stdin",
     "output_type": "stream",
     "text": [
      "Enter a number here:  50\n"
     ]
    },
    {
     "name": "stdout",
     "output_type": "stream",
     "text": [
      "---------------------------------\n",
      "2 number square is:  4\n",
      "---------------------------------\n",
      "4 number square is:  16\n",
      "---------------------------------\n",
      "6 number square is:  36\n",
      "---------------------------------\n",
      "8 number square is:  64\n",
      "---------------------------------\n",
      "10 number square is:  100\n",
      "---------------------------------\n",
      "12 number square is:  144\n",
      "---------------------------------\n",
      "14 number square is:  196\n",
      "---------------------------------\n",
      "16 number square is:  256\n",
      "---------------------------------\n",
      "18 number square is:  324\n",
      "---------------------------------\n",
      "20 number square is:  400\n",
      "---------------------------------\n",
      "22 number square is:  484\n",
      "---------------------------------\n",
      "24 number square is:  576\n",
      "---------------------------------\n",
      "26 number square is:  676\n",
      "---------------------------------\n",
      "28 number square is:  784\n",
      "---------------------------------\n",
      "30 number square is:  900\n",
      "---------------------------------\n",
      "32 number square is:  1024\n",
      "---------------------------------\n",
      "34 number square is:  1156\n",
      "---------------------------------\n",
      "36 number square is:  1296\n",
      "---------------------------------\n",
      "38 number square is:  1444\n",
      "---------------------------------\n",
      "40 number square is:  1600\n",
      "---------------------------------\n",
      "42 number square is:  1764\n",
      "---------------------------------\n",
      "44 number square is:  1936\n",
      "---------------------------------\n",
      "46 number square is:  2116\n",
      "---------------------------------\n",
      "48 number square is:  2304\n",
      "---------------------------------\n",
      "50 number square is:  2500\n"
     ]
    }
   ],
   "source": [
    "num = int(input(\"Enter a number here: \"))\n",
    "\n",
    "for i in range(1, num+1):\n",
    "    if i % 2 == 0:\n",
    "        print(\"---------------------------------\")\n",
    "        print(f\"{i} number square is: \", i ** 2)\n",
    "    else:\n",
    "        continue"
   ]
  },
  {
   "cell_type": "markdown",
   "id": "4645e24a-0647-481f-adaa-128f4d8d5d05",
   "metadata": {},
   "source": [
    "# Write a program to distinguish between postive even, positive odd, negative even, negative odd, and even"
   ]
  },
  {
   "cell_type": "code",
   "execution_count": 30,
   "id": "b6983153-38b6-4509-b705-2e1550bed0da",
   "metadata": {},
   "outputs": [
    {
     "name": "stdin",
     "output_type": "stream",
     "text": [
      "Enter a number here:  -4\n"
     ]
    },
    {
     "name": "stdout",
     "output_type": "stream",
     "text": [
      "-4 is negative even\n"
     ]
    }
   ],
   "source": [
    "num = int(input(\"Enter a number here: \"))\n",
    "\n",
    "if num>0:\n",
    "    if num % 2 == 0:\n",
    "        print(f\"{num} is postive even\")\n",
    "    elif num % 2 != 0:\n",
    "        print(f\"{num} is positive odd\")\n",
    "        pass\n",
    "\n",
    "elif num<0:\n",
    "    if -(num) % 2 == 0:\n",
    "        print(f\"{num} is negative even\")\n",
    "    elif -(num) % 2 != 0:\n",
    "        print(f\"{num} is negative odd\")\n",
    "        pass\n",
    "else:\n",
    "    print(\"It is Even\")"
   ]
  },
  {
   "cell_type": "markdown",
   "id": "2b3fa97e-ad68-46d8-94f6-77871838b85a",
   "metadata": {},
   "source": [
    "# Write a program which divide by specified number and remainder is 3"
   ]
  },
  {
   "cell_type": "code",
   "execution_count": 42,
   "id": "90038ec5-a8bd-4ddf-bc77-c64c936c8730",
   "metadata": {},
   "outputs": [
    {
     "name": "stdout",
     "output_type": "stream",
     "text": [
      "3 divided by 5 and remainder is 3.\n",
      "-----------------------------------------\n",
      "3 divided by 7 and remainder is 3.\n",
      "-----------------------------------------\n",
      "8 divided by 5 and remainder is 3.\n",
      "-----------------------------------------\n",
      "10 divided by 7 and remainder is 3.\n",
      "-----------------------------------------\n",
      "13 divided by 5 and remainder is 3.\n",
      "-----------------------------------------\n",
      "17 divided by 7 and remainder is 3.\n",
      "-----------------------------------------\n",
      "18 divided by 5 and remainder is 3.\n",
      "-----------------------------------------\n",
      "23 divided by 5 and remainder is 3.\n",
      "-----------------------------------------\n",
      "24 divided by 7 and remainder is 3.\n",
      "-----------------------------------------\n",
      "28 divided by 5 and remainder is 3.\n",
      "-----------------------------------------\n",
      "31 divided by 7 and remainder is 3.\n",
      "-----------------------------------------\n",
      "33 divided by 5 and remainder is 3.\n",
      "-----------------------------------------\n",
      "38 divided by 5 and remainder is 3.\n",
      "-----------------------------------------\n",
      "38 divided by 7 and remainder is 3.\n",
      "-----------------------------------------\n",
      "43 divided by 5 and remainder is 3.\n",
      "-----------------------------------------\n",
      "45 divided by 7 and remainder is 3.\n",
      "-----------------------------------------\n",
      "48 divided by 5 and remainder is 3.\n",
      "-----------------------------------------\n",
      "52 divided by 7 and remainder is 3.\n",
      "-----------------------------------------\n",
      "53 divided by 5 and remainder is 3.\n",
      "-----------------------------------------\n",
      "58 divided by 5 and remainder is 3.\n",
      "-----------------------------------------\n",
      "59 divided by 7 and remainder is 3.\n",
      "-----------------------------------------\n",
      "63 divided by 5 and remainder is 3.\n",
      "-----------------------------------------\n",
      "66 divided by 7 and remainder is 3.\n",
      "-----------------------------------------\n",
      "68 divided by 5 and remainder is 3.\n",
      "-----------------------------------------\n",
      "73 divided by 5 and remainder is 3.\n",
      "-----------------------------------------\n",
      "73 divided by 7 and remainder is 3.\n",
      "-----------------------------------------\n",
      "78 divided by 5 and remainder is 3.\n",
      "-----------------------------------------\n",
      "80 divided by 7 and remainder is 3.\n",
      "-----------------------------------------\n",
      "83 divided by 5 and remainder is 3.\n",
      "-----------------------------------------\n",
      "87 divided by 7 and remainder is 3.\n",
      "-----------------------------------------\n",
      "88 divided by 5 and remainder is 3.\n",
      "-----------------------------------------\n",
      "93 divided by 5 and remainder is 3.\n",
      "-----------------------------------------\n",
      "94 divided by 7 and remainder is 3.\n",
      "-----------------------------------------\n",
      "98 divided by 5 and remainder is 3.\n",
      "-----------------------------------------\n"
     ]
    }
   ],
   "source": [
    "list1 = [2,3,5,7]\n",
    "for i in range(1,101):\n",
    "    for j in list1:\n",
    "        if i % j == 3:\n",
    "            print(f\"{i} divided by {j} and remainder is 3.\")\n",
    "            print(\"-----------------------------------------\")"
   ]
  },
  {
   "cell_type": "markdown",
   "id": "b9552af9-730e-4106-bdaf-b9f806e78bfb",
   "metadata": {},
   "source": [
    "# Write a program that accepts some integers and find highest value and position in that."
   ]
  },
  {
   "cell_type": "code",
   "execution_count": 46,
   "id": "0b4cc0ed-8906-4d38-8435-b0f6963bc9c1",
   "metadata": {},
   "outputs": [
    {
     "name": "stdin",
     "output_type": "stream",
     "text": [
      "Total number of values:  3\n",
      "Enter a number here:  4\n",
      "Enter a number here:  5\n",
      "Enter a number here:  6\n"
     ]
    },
    {
     "name": "stdout",
     "output_type": "stream",
     "text": [
      "Max value in given numbers is 6\n",
      "Index position of given number is 2\n"
     ]
    }
   ],
   "source": [
    "n = int(input(\"Total number of values: \"))\n",
    "list1 = []\n",
    "for i in range(n):\n",
    "    list1.append(int(input(\"Enter a number here: \")))\n",
    "\n",
    "max_value = max(list1)\n",
    "idx = list1.index(max_value)\n",
    "\n",
    "print(\"Max value in given numbers is\", max_value)\n",
    "print(\"Index position of given number is\", idx)"
   ]
  },
  {
   "cell_type": "markdown",
   "id": "63f2ac55-75de-4827-aa7b-5a3f1a012103",
   "metadata": {},
   "source": [
    "# Write a program to read correct password"
   ]
  },
  {
   "cell_type": "code",
   "execution_count": 2,
   "id": "21aea241-9e14-4371-bb70-a45f3c53319c",
   "metadata": {},
   "outputs": [
    {
     "name": "stdin",
     "output_type": "stream",
     "text": [
      "Enter a password here:  56667674\n"
     ]
    },
    {
     "name": "stdout",
     "output_type": "stream",
     "text": [
      "Incorrect password try again\n"
     ]
    },
    {
     "name": "stdin",
     "output_type": "stream",
     "text": [
      "Enter a password here:  443354657\n"
     ]
    },
    {
     "name": "stdout",
     "output_type": "stream",
     "text": [
      "Incorrect password try again\n"
     ]
    },
    {
     "name": "stdin",
     "output_type": "stream",
     "text": [
      "Enter a password here:  88686\n"
     ]
    },
    {
     "name": "stdout",
     "output_type": "stream",
     "text": [
      "Incorrect password try again\n"
     ]
    },
    {
     "name": "stdin",
     "output_type": "stream",
     "text": [
      "Enter a password here:  fhfh\n"
     ]
    },
    {
     "name": "stdout",
     "output_type": "stream",
     "text": [
      "Incorrect password try again\n"
     ]
    },
    {
     "name": "stdin",
     "output_type": "stream",
     "text": [
      "Enter a password here:  1234\n"
     ]
    },
    {
     "name": "stdout",
     "output_type": "stream",
     "text": [
      "It is correct password\n"
     ]
    }
   ],
   "source": [
    "correct = '1234'\n",
    "password = input(\"Enter a password here: \")\n",
    "\n",
    "while True:\n",
    "    if password == correct:\n",
    "        print(\"It is correct password\")\n",
    "        break\n",
    "    else:\n",
    "        print(\"Incorrect password try again\")\n",
    "        password = input(\"Enter a password here: \")\n",
    "        continue"
   ]
  },
  {
   "cell_type": "markdown",
   "id": "a0a06ca2-2a0a-41fc-ae65-a4ae65a1f1c3",
   "metadata": {},
   "source": [
    "# Write a program to divide two numbers"
   ]
  },
  {
   "cell_type": "code",
   "execution_count": 9,
   "id": "578d65e8-e3c3-4c5c-af29-3f4c8237580e",
   "metadata": {},
   "outputs": [
    {
     "name": "stdin",
     "output_type": "stream",
     "text": [
      "Enter a first number here:  57576\n",
      "Enter a second number here:  76\n"
     ]
    },
    {
     "name": "stdout",
     "output_type": "stream",
     "text": [
      "Division is possible\n",
      "Divison is 757.58\n"
     ]
    }
   ],
   "source": [
    "num1 = int(input(\"Enter a first number here: \"))\n",
    "num2 = int(input(\"Enter a second number here: \"))\n",
    "\n",
    "if num2 != 0:\n",
    "    div = num1 / num2\n",
    "    div = round(div, 2)\n",
    "    print(\"Division is possible\")\n",
    "    print(\"Divison is\", div)\n",
    "elif num2 == 0:\n",
    "    print(\"Divison is not possible here\")\n"
   ]
  },
  {
   "cell_type": "markdown",
   "id": "acb52ff0-be09-44ca-92f6-8ef6712d400d",
   "metadata": {},
   "source": [
    "# Program which divisible by 7 and remainder is 2 or 3."
   ]
  },
  {
   "cell_type": "code",
   "execution_count": 10,
   "id": "ed02ec89-f0d2-4763-85d9-4ef05e09cd9b",
   "metadata": {},
   "outputs": [
    {
     "name": "stdin",
     "output_type": "stream",
     "text": [
      "Enter a first number here:  1\n",
      "Enter a first number here:  100\n"
     ]
    },
    {
     "name": "stdout",
     "output_type": "stream",
     "text": [
      "[2, 3, 9, 10, 16, 17, 23, 24, 30, 31, 37, 38, 44, 45, 51, 52, 58, 59, 65, 66, 72, 73, 79, 80, 86, 87, 93, 94, 100]\n"
     ]
    }
   ],
   "source": [
    "num1 = int(input(\"Enter a first number here: \"))\n",
    "num2 = int(input(\"Enter a first number here: \"))\n",
    "list1 = []\n",
    "\n",
    "for i in range(num1, num2+1):\n",
    "    if i % 7 == 2 or i % 7 ==3:\n",
    "        list1.append(i)\n",
    "\n",
    "print(list1)"
   ]
  },
  {
   "cell_type": "markdown",
   "id": "2b50db93-2687-4872-be68-d37e6eabdfa8",
   "metadata": {},
   "source": [
    "------"
   ]
  },
  {
   "cell_type": "markdown",
   "id": "4f6fa17e-6fab-4e22-a82a-146a7c240272",
   "metadata": {},
   "source": [
    "# String Programs"
   ]
  },
  {
   "cell_type": "code",
   "execution_count": 42,
   "id": "64687f5f-c781-41e7-abf2-d0ca06926941",
   "metadata": {},
   "outputs": [
    {
     "name": "stdin",
     "output_type": "stream",
     "text": [
      "Enter a string here:  Hello world!\n"
     ]
    },
    {
     "name": "stdout",
     "output_type": "stream",
     "text": [
      "String is:  Hello world!\n"
     ]
    }
   ],
   "source": [
    "str1 = input(\"Enter a string here: \")\n",
    "\n",
    "print(\"String is: \",str1)"
   ]
  },
  {
   "cell_type": "code",
   "execution_count": 17,
   "id": "fd1b1a6f-2876-42e5-ba38-7bc789c85c29",
   "metadata": {},
   "outputs": [
    {
     "name": "stdout",
     "output_type": "stream",
     "text": [
      "Length of string is 12\n"
     ]
    }
   ],
   "source": [
    "#Length of string\n",
    "print(\"Length of string is\", len(str1))"
   ]
  },
  {
   "cell_type": "markdown",
   "id": "e38f5910-ec98-4f42-9320-43f67cc47693",
   "metadata": {},
   "source": [
    "# Separate indivisual character in string"
   ]
  },
  {
   "cell_type": "code",
   "execution_count": 21,
   "id": "346e292c-5ce5-409c-821a-b9a2bac690d0",
   "metadata": {},
   "outputs": [
    {
     "name": "stdout",
     "output_type": "stream",
     "text": [
      "Characters are:  ['H', 'e', 'l', 'l', 'o', ' ', 'W', 'o', 'r', 'l', 'd', '!']\n"
     ]
    }
   ],
   "source": [
    "list1 = []\n",
    "for i in str1:\n",
    "    list1.append(i)\n",
    "\n",
    "print(\"Characters are: \", list1)"
   ]
  },
  {
   "cell_type": "markdown",
   "id": "0a7ec816-7d61-436e-a5d6-1c04b61d6e4f",
   "metadata": {},
   "source": [
    "# Print character in reverse order"
   ]
  },
  {
   "cell_type": "code",
   "execution_count": 28,
   "id": "18c2d4ae-bb09-48df-b876-f777cbae85a7",
   "metadata": {},
   "outputs": [
    {
     "name": "stdout",
     "output_type": "stream",
     "text": [
      "Characters are:  ['!', 'd', 'l', 'r', 'o', 'W', ' ', 'o', 'l', 'l', 'e', 'H']\n"
     ]
    }
   ],
   "source": [
    "rev_str = str1[::-1]\n",
    "list1 = []\n",
    "for i in rev_str:\n",
    "    list1.append(i)\n",
    "\n",
    "print(\"Characters are: \", list1)"
   ]
  },
  {
   "cell_type": "markdown",
   "id": "3d930b30-0d49-4ef6-9109-d7e43be77d2a",
   "metadata": {},
   "source": [
    "# Total characters, digits and special characters"
   ]
  },
  {
   "cell_type": "code",
   "execution_count": 40,
   "id": "6ce40a26-9ae0-4eb5-bf78-a87960a71113",
   "metadata": {},
   "outputs": [
    {
     "name": "stdout",
     "output_type": "stream",
     "text": [
      "Total digits are:  5\n",
      "Total characters are:  8\n",
      "Total special characters are:  2\n"
     ]
    }
   ],
   "source": [
    "str1 = \"hjwdhdhg23234@&\"\n",
    "count_str = 0\n",
    "count_digit = 0\n",
    "count_sc = 0\n",
    "for i in str1:\n",
    "    if i.isalpha():\n",
    "        count_str += 1\n",
    "    elif i.isdigit():\n",
    "        count_digit +=1\n",
    "    else:\n",
    "        count_sc += 1\n",
    "\n",
    "print(\"Total digits are: \", count_digit)\n",
    "print(\"Total characters are: \", count_str)\n",
    "print(\"Total special characters are: \", count_sc)"
   ]
  },
  {
   "cell_type": "markdown",
   "id": "8aeccc63-8ecc-4fc7-a759-54afe53dda9b",
   "metadata": {},
   "source": [
    "# Write a program to sort string in ascending order."
   ]
  },
  {
   "cell_type": "code",
   "execution_count": 51,
   "id": "e2116bf8-98aa-4962-a11a-8fcdfa53e38e",
   "metadata": {},
   "outputs": [
    {
     "data": {
      "text/plain": [
       "['H', 'e', 'l', 'l', 'o']"
      ]
     },
     "execution_count": 51,
     "metadata": {},
     "output_type": "execute_result"
    }
   ],
   "source": [
    "sorted(str1)"
   ]
  },
  {
   "cell_type": "markdown",
   "id": "3fcc322b-afcb-4aa0-b95b-54dfe48bec2a",
   "metadata": {},
   "source": [
    "# String join"
   ]
  },
  {
   "cell_type": "code",
   "execution_count": 47,
   "id": "08d6fa4c-6553-4f84-a704-3a5cff127560",
   "metadata": {},
   "outputs": [
    {
     "name": "stdout",
     "output_type": "stream",
     "text": [
      "Hello World!\n"
     ]
    }
   ],
   "source": [
    "str1 = \"Hello\"\n",
    "str2 = \"World\"\n",
    "\n",
    "string = str1 + \" \" + str2 + \"!\"\n",
    "print(string)"
   ]
  },
  {
   "cell_type": "markdown",
   "id": "85f3a73b-6918-4601-b905-51865e3e7232",
   "metadata": {},
   "source": [
    "# Copy string"
   ]
  },
  {
   "cell_type": "code",
   "execution_count": 50,
   "id": "002b5abf-00eb-482d-a649-291abd758b1f",
   "metadata": {},
   "outputs": [
    {
     "data": {
      "text/plain": [
       "'Hello World!'"
      ]
     },
     "execution_count": 50,
     "metadata": {},
     "output_type": "execute_result"
    }
   ],
   "source": [
    "import copy\n",
    "str3 = copy.copy(string)\n",
    "str3"
   ]
  },
  {
   "cell_type": "markdown",
   "id": "cbfa50a7-2216-42e5-a470-07690d399522",
   "metadata": {},
   "source": [
    "--------------------"
   ]
  },
  {
   "cell_type": "markdown",
   "id": "2699aa8f-7314-4731-8a1c-db7ffae44d51",
   "metadata": {},
   "source": [
    "# Class and objects programs"
   ]
  },
  {
   "cell_type": "code",
   "execution_count": 54,
   "id": "464b0c3f-bbd8-41c4-9d0d-1a19d2abe1ee",
   "metadata": {},
   "outputs": [
    {
     "data": {
      "text/plain": [
       "5"
      ]
     },
     "execution_count": 54,
     "metadata": {},
     "output_type": "execute_result"
    }
   ],
   "source": [
    "# Practice\n",
    "class Myclass:\n",
    "    x = 5\n",
    "\n",
    "classs = Myclass()\n",
    "classs.x"
   ]
  },
  {
   "cell_type": "code",
   "execution_count": 60,
   "id": "104e5016-e5eb-4831-a2b9-96231ead2d2e",
   "metadata": {},
   "outputs": [
    {
     "name": "stdout",
     "output_type": "stream",
     "text": [
      "Kabir\n",
      "25\n",
      "<__main__.Person object at 0x7f1947062320>\n"
     ]
    }
   ],
   "source": [
    "class Person:\n",
    "    def __init__(self, name, age):\n",
    "        self.name = name\n",
    "        self.age = age\n",
    "\n",
    "p1 = Person(\"Kabir\", 25)\n",
    "print(p1.name)\n",
    "print(p1.age)\n",
    "print(p1)"
   ]
  },
  {
   "cell_type": "code",
   "execution_count": 59,
   "id": "31fda93a-104e-4c05-b698-ce5977908773",
   "metadata": {},
   "outputs": [
    {
     "name": "stdout",
     "output_type": "stream",
     "text": [
      "Kabir (25)\n"
     ]
    }
   ],
   "source": [
    "class Person:\n",
    "    def __init__(self, name, age):\n",
    "        self.name = name\n",
    "        self.age = age\n",
    "\n",
    "    def __str__(self):\n",
    "        return f\"{self.name} ({self.age})\"\n",
    "p1 = Person(\"Kabir\", 25)\n",
    "print(p1)"
   ]
  },
  {
   "cell_type": "code",
   "execution_count": 63,
   "id": "9ae96d17-f849-4812-9bed-de6be8f9482a",
   "metadata": {},
   "outputs": [
    {
     "name": "stdout",
     "output_type": "stream",
     "text": [
      "Hello my name is Kabir\n"
     ]
    }
   ],
   "source": [
    "class Person:\n",
    "    def __init__(self, name, age):\n",
    "        self.name = name\n",
    "        self.age = age\n",
    "\n",
    "    def myfunc(self):\n",
    "        print(\"Hello my name is \" + self.name)\n",
    "\n",
    "p1 = Person(\"Kabir\", 25)\n",
    "p1.myfunc()"
   ]
  },
  {
   "cell_type": "code",
   "execution_count": 66,
   "id": "44e9df9e-bc21-4aa0-a088-a275ffd8e2cd",
   "metadata": {},
   "outputs": [
    {
     "name": "stdout",
     "output_type": "stream",
     "text": [
      "Hello my name is John\n",
      "47\n"
     ]
    }
   ],
   "source": [
    "class Person:\n",
    "  def __init__(mysillyobject, name, age):\n",
    "    mysillyobject.name = name\n",
    "    mysillyobject.age = age\n",
    "\n",
    "  def myfunc(xyz):\n",
    "    print(\"Hello my name is \" + xyz.name)\n",
    "\n",
    "p1 = Person(\"John\", 36)\n",
    "p1.myfunc() \n",
    "p1.age = 47\n",
    "print(p1.age)"
   ]
  },
  {
   "cell_type": "code",
   "execution_count": 69,
   "id": "f6e2095f-2679-495a-aeac-ce0a2b74b8ea",
   "metadata": {},
   "outputs": [
    {
     "name": "stdout",
     "output_type": "stream",
     "text": [
      "Kabir | 25\n"
     ]
    }
   ],
   "source": [
    "class Person:\n",
    "    def __init__(self, firstname, lastname):\n",
    "        self.firstname = firstname\n",
    "        self.lastname = lastname\n",
    "\n",
    "    def printname(self):\n",
    "        print(self.firstname,\"|\",self.lastname)\n",
    "\n",
    "x = Person(\"Kabir\", 25)\n",
    "x.printname()"
   ]
  },
  {
   "cell_type": "code",
   "execution_count": 71,
   "id": "15a032e2-22a6-4350-a97f-2d2a369eaa76",
   "metadata": {},
   "outputs": [
    {
     "name": "stdout",
     "output_type": "stream",
     "text": [
      "Krunal | 23\n"
     ]
    }
   ],
   "source": [
    "class Student(Person):\n",
    "    pass\n",
    "\n",
    "s = Student('Krunal', 23)\n",
    "s.printname()"
   ]
  },
  {
   "cell_type": "code",
   "execution_count": 74,
   "id": "8186d908-999d-4552-99cf-451c07f8e61e",
   "metadata": {},
   "outputs": [
    {
     "name": "stdout",
     "output_type": "stream",
     "text": [
      "Kabir | 36\n"
     ]
    }
   ],
   "source": [
    "class Student(Person):\n",
    "    def __init__(self, firstname, lastname):\n",
    "        super().__init__(firstname, lastname)\n",
    "\n",
    "s = Student(\"Kabir\", 36)\n",
    "s.printname()"
   ]
  },
  {
   "cell_type": "markdown",
   "id": "b9fd68d0-ec3b-403e-8305-f10f7ad78e59",
   "metadata": {},
   "source": [
    "# Write a program to create a class of student"
   ]
  },
  {
   "cell_type": "code",
   "execution_count": 3,
   "id": "989e4b37-e13e-4838-aef4-bf068ccb51ba",
   "metadata": {},
   "outputs": [
    {
     "name": "stdout",
     "output_type": "stream",
     "text": [
      "xyz | 2\n"
     ]
    }
   ],
   "source": [
    "class Student():\n",
    "    def __init__(self, name, roll_no):\n",
    "        self.name = name\n",
    "        self.roll_no = roll_no\n",
    "\n",
    "s = Student(\"xyz\", 2)\n",
    "print(s.name, \"|\", s.roll_no)"
   ]
  },
  {
   "cell_type": "markdown",
   "id": "e6e935eb-4693-4366-9085-52da07c0cdcb",
   "metadata": {},
   "source": [
    "# Create two student objects"
   ]
  },
  {
   "cell_type": "code",
   "execution_count": 8,
   "id": "eb0a6cb4-e0c7-420c-8ee5-6f3654351283",
   "metadata": {},
   "outputs": [
    {
     "name": "stdout",
     "output_type": "stream",
     "text": [
      "xyz\n"
     ]
    }
   ],
   "source": [
    "class Student1():\n",
    "    def __init__(self, name, roll_no, phone_number, address):\n",
    "        self.name = name\n",
    "        self.roll_no = roll_no\n",
    "        self.phone_number = phone_number\n",
    "        self.address = address\n",
    "\n",
    "s1 = Student1('xyz', 20, 7484737839, 'Ahmedabad')\n",
    "print(s1.name)"
   ]
  },
  {
   "cell_type": "code",
   "execution_count": 9,
   "id": "d049b40d-f4bd-4543-b273-e7f43389084a",
   "metadata": {},
   "outputs": [
    {
     "name": "stdout",
     "output_type": "stream",
     "text": [
      "abc\n"
     ]
    }
   ],
   "source": [
    "class Student1():\n",
    "    def __init__(self, name, roll_no, phone_number, address):\n",
    "        self.name = name\n",
    "        self.roll_no = roll_no\n",
    "        self.phone_number = phone_number\n",
    "        self.address = address\n",
    "\n",
    "s2 = Student1('abc', 10, 987986526, 'Gandhinagar')\n",
    "print(s2.name)"
   ]
  },
  {
   "cell_type": "code",
   "execution_count": 16,
   "id": "38b5a3d6-d5b5-4351-9d99-319108619aff",
   "metadata": {},
   "outputs": [
    {
     "name": "stdout",
     "output_type": "stream",
     "text": [
      "7.5\n",
      "12\n"
     ]
    }
   ],
   "source": [
    "class triangle():\n",
    "    def __init__(self, base, height, side1, side2):\n",
    "        self.base = base\n",
    "        self.height = height\n",
    "        self.side1 = side1\n",
    "        self.side2 = side2\n",
    "\n",
    "    def area(self):\n",
    "        area = 0.5 * self.base * self.height\n",
    "        return area\n",
    "\n",
    "    def perimeter(self):\n",
    "        peri = self.base + self.side1 + self.side2\n",
    "        return peri\n",
    "\n",
    "t = triangle(5,3,4,3)\n",
    "print(t.area())\n",
    "print(t.perimeter())\n",
    "    "
   ]
  },
  {
   "cell_type": "code",
   "execution_count": 1,
   "id": "cf098e11-45c5-42a8-9279-9c95fb47cf24",
   "metadata": {},
   "outputs": [
    {
     "name": "stdout",
     "output_type": "stream",
     "text": [
      "Perimeter: 12\n",
      "Area: 6.0\n"
     ]
    }
   ],
   "source": [
    "class Triangle:\n",
    "    def __init__(self, a, b, c):\n",
    "        self.a = a\n",
    "        self.b = b\n",
    "        self.c = c\n",
    "    \n",
    "    def perimeter(self):\n",
    "        return self.a + self.b + self.c\n",
    "    \n",
    "    def area(self):\n",
    "        s = self.perimeter() / 2\n",
    "        return (s * (s - self.a) * (s - self.b) * (s - self.c)) ** 0.5\n",
    "    \n",
    "    def display(self):\n",
    "        print(f\"Perimeter: {self.perimeter()}\")\n",
    "        print(f\"Area: {self.area()}\")\n",
    "\n",
    "triangle = Triangle(3, 4, 5)\n",
    "triangle.display()"
   ]
  },
  {
   "cell_type": "code",
   "execution_count": 2,
   "id": "ed9d78b3-dcba-49d1-8cb3-d201baf38582",
   "metadata": {},
   "outputs": [
    {
     "name": "stdout",
     "output_type": "stream",
     "text": [
      "Area of first rectangle: 20\n",
      "Area of second rectangle: 40\n"
     ]
    }
   ],
   "source": [
    "class Rectangle:\n",
    "    def __init__(self, length, breadth):\n",
    "        self.length = length\n",
    "        self.breadth = breadth\n",
    "    \n",
    "    def area(self):\n",
    "        return self.length * self.breadth\n",
    "\n",
    "rect1 = Rectangle(4, 5)\n",
    "rect2 = Rectangle(5, 8)\n",
    "print(f\"Area of first rectangle: {rect1.area()}\")\n",
    "print(f\"Area of second rectangle: {rect2.area()}\")\n"
   ]
  },
  {
   "cell_type": "code",
   "execution_count": 3,
   "id": "f08b9926-dd4e-44df-a8d7-2eda36e85a30",
   "metadata": {},
   "outputs": [
    {
     "name": "stdout",
     "output_type": "stream",
     "text": [
      "Name\tYear of Joining\tAddress\n",
      "xyz\t2000\tFacebook Tower\n",
      "abc\t2015\tGoogle Street\n"
     ]
    }
   ],
   "source": [
    "class Employee:\n",
    "    def __init__(self, name, year, address):\n",
    "        self.name = name\n",
    "        self.year = year\n",
    "        self.address = address\n",
    "\n",
    "    def display(self):\n",
    "        print(f\"{self.name}\\t{self.year}\\t{self.address}\")\n",
    "\n",
    "employees = [\n",
    "    Employee(\"xyz\", 2000, \"Facebook Tower\"),\n",
    "    Employee(\"abc\", 2015, \"Google Street\"),\n",
    "]\n",
    "print(\"Name\\tYear of Joining\\tAddress\")\n",
    "for emp in employees:\n",
    "    emp.display()"
   ]
  },
  {
   "cell_type": "code",
   "execution_count": 5,
   "id": "e7aa8fad-2b9d-4a5c-bb45-67feb0438d20",
   "metadata": {},
   "outputs": [
    {
     "name": "stdout",
     "output_type": "stream",
     "text": [
      "Final Salary: 6000\n"
     ]
    }
   ],
   "source": [
    "class EmployeeSalary:\n",
    "    def __init__(self):\n",
    "        self.salary = 0\n",
    "        self.hours = 0\n",
    "    \n",
    "    def getInfo(self, salary, hours):\n",
    "        self.salary = salary\n",
    "        self.hours = hours\n",
    "    \n",
    "    def AddSal(self):\n",
    "        if self.salary < 5000:\n",
    "            self.salary += 1000\n",
    "    \n",
    "    def AddWork(self):\n",
    "        if self.hours > 6:\n",
    "            self.salary += 500\n",
    "    \n",
    "    def displaySalary(self):\n",
    "        print(f\"Final Salary: {self.salary}\")\n",
    "\n",
    "emp = EmployeeSalary()\n",
    "emp.getInfo(4500, 7)\n",
    "emp.AddSal()\n",
    "emp.AddWork()\n",
    "emp.displaySalary()"
   ]
  },
  {
   "cell_type": "code",
   "execution_count": 6,
   "id": "4bfbaef8-8e86-4d4b-a7bf-36455141af67",
   "metadata": {},
   "outputs": [
    {
     "name": "stdout",
     "output_type": "stream",
     "text": [
      "This is parent class\n",
      "This is child class\n",
      "This is parent class\n"
     ]
    }
   ],
   "source": [
    "class Parent:\n",
    "    def display(self):\n",
    "        print(\"This is parent class\")\n",
    "\n",
    "class Child(Parent):\n",
    "    def show(self):\n",
    "        print(\"This is child class\")\n",
    "\n",
    "# Creating objects\n",
    "parent_obj = Parent()\n",
    "child_obj = Child()\n",
    "\n",
    "# Calling functions\n",
    "parent_obj.display()\n",
    "child_obj.show()\n",
    "child_obj.display()"
   ]
  },
  {
   "cell_type": "code",
   "execution_count": 7,
   "id": "dac0113f-4bb2-455f-9a9a-f9b775634cd5",
   "metadata": {},
   "outputs": [
    {
     "name": "stdout",
     "output_type": "stream",
     "text": [
      "Salary: 50000\n",
      "Salary: 70000\n"
     ]
    }
   ],
   "source": [
    "class Member:\n",
    "    def __init__(self, name, age, phone, address, salary):\n",
    "        self.name = name\n",
    "        self.age = age\n",
    "        self.phone = phone\n",
    "        self.address = address\n",
    "        self.salary = salary\n",
    "\n",
    "    def printSalary(self):\n",
    "        print(f\"Salary: {self.salary}\")\n",
    "\n",
    "class Employee(Member):\n",
    "    def __init__(self, name, age, phone, address, salary, specialization):\n",
    "        super().__init__(name, age, phone, address, salary)\n",
    "        self.specialization = specialization\n",
    "\n",
    "class Manager(Member):\n",
    "    def __init__(self, name, age, phone, address, salary, department):\n",
    "        super().__init__(name, age, phone, address, salary)\n",
    "        self.department = department\n",
    "\n",
    "emp = Employee(\"John\", 30, \"1234567890\", \"Street 1\", 50000, \"IT\")\n",
    "mgr = Manager(\"Alice\", 40, \"0987654321\", \"Street 2\", 70000, \"HR\")\n",
    "\n",
    "emp.printSalary()\n",
    "mgr.printSalary()"
   ]
  },
  {
   "cell_type": "code",
   "execution_count": 10,
   "id": "bc5ba30a-5a29-46ca-93cb-53d0193e56b2",
   "metadata": {},
   "outputs": [
    {
     "name": "stdout",
     "output_type": "stream",
     "text": [
      "Rectangle Area: 20, Perimeter: 18\n",
      "Square Area: 16, Perimeter: 16\n",
      "Square 1: Area = 1\n",
      "Square 2: Area = 4\n",
      "Square 3: Area = 9\n",
      "Square 4: Area = 16\n",
      "Square 5: Area = 25\n",
      "Square 6: Area = 36\n",
      "Square 7: Area = 49\n",
      "Square 8: Area = 64\n",
      "Square 9: Area = 81\n",
      "Square 10: Area = 100\n"
     ]
    }
   ],
   "source": [
    "class Rectangle:\n",
    "    def __init__(self, length, breadth):\n",
    "        self.length = length\n",
    "        self.breadth = breadth\n",
    "    \n",
    "    def area(self):\n",
    "        return self.length * self.breadth\n",
    "    \n",
    "    def perimeter(self):\n",
    "        return 2 * (self.length + self.breadth)\n",
    "\n",
    "class Square(Rectangle):\n",
    "    def __init__(self, side):\n",
    "        super().__init__(side, side)\n",
    "\n",
    "rect = Rectangle(4, 5)\n",
    "sq = Square(4)\n",
    "print(f\"Rectangle Area: {rect.area()}, Perimeter: {rect.perimeter()}\")\n",
    "print(f\"Square Area: {sq.area()}, Perimeter: {sq.perimeter()}\")\n",
    "\n",
    "# Array of squares\n",
    "squares = [Square(i) for i in range(1, 11)]\n",
    "for i, square in enumerate(squares, 1):\n",
    "    print(f\"Square {i}: Area = {square.area()}\")\n"
   ]
  },
  {
   "cell_type": "code",
   "execution_count": 9,
   "id": "dcbd5e01-6290-46c1-8ac9-7ad20a052bc6",
   "metadata": {},
   "outputs": [
    {
     "name": "stdout",
     "output_type": "stream",
     "text": [
      "This is a shape\n",
      "This is rectangular shape\n"
     ]
    }
   ],
   "source": [
    "class Shape:\n",
    "    def print_shape(self):\n",
    "        print(\"This is a shape\")\n",
    "\n",
    "class RectangleShape(Shape):\n",
    "    def print_rectangle(self):\n",
    "        print(\"This is rectangular shape\")\n",
    "\n",
    "class Circle(Shape):\n",
    "    def print_circle(self):\n",
    "        print(\"This is circular shape\")\n",
    "\n",
    "class Square(RectangleShape):\n",
    "    def print_square(self):\n",
    "        print(\"Square is a rectangle\")\n",
    "\n",
    "square_obj = Square()\n",
    "square_obj.print_shape()\n",
    "square_obj.print_rectangle()"
   ]
  },
  {
   "cell_type": "code",
   "execution_count": 20,
   "id": "7cd4d3ba-03ca-4f6c-a020-016969bc1b7b",
   "metadata": {},
   "outputs": [
    {
     "name": "stdin",
     "output_type": "stream",
     "text": [
      "Enter a number:  0\n"
     ]
    },
    {
     "name": "stdout",
     "output_type": "stream",
     "text": [
      "Cannot divide by zero.\n"
     ]
    }
   ],
   "source": [
    "\n",
    "try:\n",
    "    num = int(input(\"Enter a number: \"))\n",
    "    result = 10 / num\n",
    "except ZeroDivisionError:\n",
    "    print(\"Cannot divide by zero.\")\n",
    "except ValueError:\n",
    "    print(\"Invalid input. Please enter a number.\")"
   ]
  },
  {
   "cell_type": "code",
   "execution_count": 21,
   "id": "924ce41b-72b6-4a4f-9744-3a93dbe050ff",
   "metadata": {},
   "outputs": [
    {
     "name": "stdin",
     "output_type": "stream",
     "text": [
      "Enter an index:  5\n"
     ]
    },
    {
     "name": "stdout",
     "output_type": "stream",
     "text": [
      "Index out of range.\n"
     ]
    }
   ],
   "source": [
    "\n",
    "try:\n",
    "    arr = [1, 2, 3]\n",
    "    index = int(input(\"Enter an index: \"))\n",
    "    print(arr[index])\n",
    "except IndexError:\n",
    "    print(\"Index out of range.\")\n",
    "except ValueError:\n",
    "    print(\"Invalid input. Please enter an integer.\")"
   ]
  },
  {
   "cell_type": "code",
   "execution_count": 22,
   "id": "100a5d17-1eea-4816-bfd0-faa585c7f62b",
   "metadata": {},
   "outputs": [
    {
     "name": "stdin",
     "output_type": "stream",
     "text": [
      "Enter a number:  6\n"
     ]
    }
   ],
   "source": [
    "\n",
    "try:\n",
    "    num = int(input(\"Enter a number: \"))\n",
    "    result = 10 / num\n",
    "except Exception as e:\n",
    "    print(f\"An error occurred: {e}\")"
   ]
  },
  {
   "cell_type": "code",
   "execution_count": 23,
   "id": "a0e394df-75ac-49cb-9483-621b8f349b38",
   "metadata": {},
   "outputs": [
    {
     "name": "stdout",
     "output_type": "stream",
     "text": [
      "Caught RuntimeError: This is a runtime error\n"
     ]
    }
   ],
   "source": [
    "\n",
    "try:\n",
    "    raise RuntimeError(\"This is a runtime error\")\n",
    "except RuntimeError as e:\n",
    "    print(f\"Caught RuntimeError: {e}\")\n"
   ]
  },
  {
   "cell_type": "code",
   "execution_count": 24,
   "id": "9d5aef00-3be5-4d0d-9195-8435ca62f446",
   "metadata": {},
   "outputs": [
    {
     "name": "stdout",
     "output_type": "stream",
     "text": [
      "Caught an exception: Something went wrong\n",
      "Exception rethrown: Something went wrong\n"
     ]
    }
   ],
   "source": [
    "\n",
    "try:\n",
    "    try:\n",
    "        raise ValueError(\"Something went wrong\")\n",
    "    except ValueError as e:\n",
    "        print(f\"Caught an exception: {e}\")\n",
    "        raise\n",
    "except ValueError as e:\n",
    "    print(f\"Exception rethrown: {e}\")"
   ]
  },
  {
   "cell_type": "code",
   "execution_count": 25,
   "id": "ea3d5fe6-9995-42e4-90b3-9217b52a5ca5",
   "metadata": {},
   "outputs": [
    {
     "name": "stdin",
     "output_type": "stream",
     "text": [
      "Enter first number:  20\n",
      "Enter second number:  5\n"
     ]
    },
    {
     "name": "stdout",
     "output_type": "stream",
     "text": [
      "Result: 4.0\n"
     ]
    }
   ],
   "source": [
    "\n",
    "def read_numbers():\n",
    "    try:\n",
    "        a = float(input(\"Enter first number: \"))\n",
    "        b = float(input(\"Enter second number: \"))\n",
    "        return a, b\n",
    "    except ValueError:\n",
    "        raise ValueError(\"Invalid input. Please enter numeric values.\")\n",
    "\n",
    "def divide(a, b):\n",
    "    if b == 0:\n",
    "        raise ZeroDivisionError(\"Division by zero is not allowed.\")\n",
    "    return a / b\n",
    "\n",
    "try:\n",
    "    x, y = read_numbers()\n",
    "    print(f\"Result: {divide(x, y)}\")\n",
    "except ValueError as ve:\n",
    "    print(f\"Error: {ve}\")\n",
    "except ZeroDivisionError as zde:\n",
    "    print(f\"Error: {zde}\")"
   ]
  },
  {
   "cell_type": "code",
   "execution_count": 26,
   "id": "a1e1bb18-acde-493a-806a-fd99ffd7e267",
   "metadata": {},
   "outputs": [
    {
     "name": "stdout",
     "output_type": "stream",
     "text": [
      "Caught an exception from nested function: An error occurred in level 3\n"
     ]
    }
   ],
   "source": [
    "\n",
    "def level3():\n",
    "    raise Exception(\"An error occurred in level 3\")\n",
    "\n",
    "def level2():\n",
    "    level3()\n",
    "\n",
    "def level1():\n",
    "    level2()\n",
    "\n",
    "try:\n",
    "    level1()\n",
    "except Exception as e:\n",
    "    print(f\"Caught an exception from nested function: {e}\")\n"
   ]
  },
  {
   "cell_type": "code",
   "execution_count": null,
   "id": "5c827468-20b3-4b5d-beef-2e84502bfa71",
   "metadata": {},
   "outputs": [],
   "source": []
  }
 ],
 "metadata": {
  "kernelspec": {
   "display_name": "Python 3 (ipykernel)",
   "language": "python",
   "name": "python3"
  },
  "language_info": {
   "codemirror_mode": {
    "name": "ipython",
    "version": 3
   },
   "file_extension": ".py",
   "mimetype": "text/x-python",
   "name": "python",
   "nbconvert_exporter": "python",
   "pygments_lexer": "ipython3",
   "version": "3.10.12"
  }
 },
 "nbformat": 4,
 "nbformat_minor": 5
}
