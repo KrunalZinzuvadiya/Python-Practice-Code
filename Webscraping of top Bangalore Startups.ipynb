{
 "cells": [
  {
   "cell_type": "code",
   "execution_count": 8,
   "id": "f0746bda-2fdc-4020-b426-2208a94d77c0",
   "metadata": {},
   "outputs": [
    {
     "name": "stdout",
     "output_type": "stream",
     "text": [
      "Error: Message: \n",
      "Stacktrace:\n",
      "\tGetHandleVerifier [0x00007FF79D8B9632+30946]\n",
      "\t(No symbol) [0x00007FF79D86E3C9]\n",
      "\t(No symbol) [0x00007FF79D766FDA]\n",
      "\t(No symbol) [0x00007FF79D7B822C]\n",
      "\t(No symbol) [0x00007FF79D7B850C]\n",
      "\t(No symbol) [0x00007FF79D7FDCB7]\n",
      "\t(No symbol) [0x00007FF79D7DCAAF]\n",
      "\t(No symbol) [0x00007FF79D7FB041]\n",
      "\t(No symbol) [0x00007FF79D7DC813]\n",
      "\t(No symbol) [0x00007FF79D7AA6E5]\n",
      "\t(No symbol) [0x00007FF79D7AB021]\n",
      "\tGetHandleVerifier [0x00007FF79D9EF83D+1301229]\n",
      "\tGetHandleVerifier [0x00007FF79D9FBDB7+1351783]\n",
      "\tGetHandleVerifier [0x00007FF79D9F2A03+1313971]\n",
      "\tGetHandleVerifier [0x00007FF79D8EDD06+245686]\n",
      "\t(No symbol) [0x00007FF79D87758F]\n",
      "\t(No symbol) [0x00007FF79D873804]\n",
      "\t(No symbol) [0x00007FF79D873992]\n",
      "\t(No symbol) [0x00007FF79D86A3EF]\n",
      "\tBaseThreadInitThunk [0x00007FFA5CD6257D+29]\n",
      "\tRtlUserThreadStart [0x00007FFA5E26AF28+40]\n",
      "\n"
     ]
    }
   ],
   "source": [
    "from selenium import webdriver\n",
    "from selenium.webdriver.chrome.service import Service\n",
    "from selenium.webdriver.common.by import By\n",
    "from selenium.webdriver.support.ui import WebDriverWait\n",
    "from selenium.webdriver.support import expected_conditions as EC\n",
    "from webdriver_manager.chrome import ChromeDriverManager\n",
    "from bs4 import BeautifulSoup\n",
    "import time\n",
    "\n",
    "# Set up the driver (automatically download correct ChromeDriver version)\n",
    "driver = webdriver.Chrome(service=Service(\"C:\\\\Users\\\\jalpa\\\\Downloads\\\\Chrome Driver\\\\chromedriver.exe\"))\n",
    "\n",
    "# Define the URL\n",
    "url = \"https://www.f6s.com/companies/data-analytics/india/karnataka/bangalore/co\"\n",
    "\n",
    "# Open the URL in the browser\n",
    "driver.get(url)\n",
    "\n",
    "# Wait until elements are loaded (adjust class or tag as per the actual structure of the page)\n",
    "try:\n",
    "    # Wait for a specific element to ensure page is fully loaded (adjust the class name or tag accordingly)\n",
    "    WebDriverWait(driver, 10).until(EC.presence_of_element_located((By.CLASS_NAME, \"company-section-class\")))  # Adjust the class as needed\n",
    "    \n",
    "    # Once the page has loaded, get the page source\n",
    "    page_source = driver.page_source\n",
    "\n",
    "    # Parse the page with BeautifulSoup\n",
    "    soup = BeautifulSoup(page_source, \"html.parser\")\n",
    "\n",
    "    # Extract company data (adjust the HTML selectors as per the actual structure of the page)\n",
    "    company_sections = soup.find_all(\"div\", class_=\"company-section-class\")  # Adjust based on actual HTML\n",
    "\n",
    "    # Iterate over the extracted sections\n",
    "    for section in company_sections:\n",
    "        company_name = section.find(\"div\", class_=\"company-name-class\")  # Adjust the tag/class as needed\n",
    "        founded_in = section.find(\"div\", class_=\"founded-in-class\")  # Adjust the tag/class as needed\n",
    "\n",
    "        # Print company details if available\n",
    "        if company_name and founded_in:\n",
    "            print(f\"Company Name: {company_name.get_text(strip=True)}\")\n",
    "            print(f\"Founded In: {founded_in.get_text(strip=True)}\")\n",
    "            print('-' * 40)\n",
    "\n",
    "except Exception as e:\n",
    "    print(f\"Error: {e}\")\n",
    "\n",
    "# Close the browser\n",
    "driver.quit()"
   ]
  },
  {
   "cell_type": "code",
   "execution_count": null,
   "id": "751696c2-28ea-4db1-a1d1-45c23c45c9aa",
   "metadata": {},
   "outputs": [],
   "source": []
  },
  {
   "cell_type": "code",
   "execution_count": null,
   "id": "dc2ba36f-de29-46cf-8dbe-1126326c8ceb",
   "metadata": {},
   "outputs": [],
   "source": []
  }
 ],
 "metadata": {
  "kernelspec": {
   "display_name": "Python 3 (ipykernel)",
   "language": "python",
   "name": "python3"
  },
  "language_info": {
   "codemirror_mode": {
    "name": "ipython",
    "version": 3
   },
   "file_extension": ".py",
   "mimetype": "text/x-python",
   "name": "python",
   "nbconvert_exporter": "python",
   "pygments_lexer": "ipython3",
   "version": "3.11.4"
  }
 },
 "nbformat": 4,
 "nbformat_minor": 5
}
