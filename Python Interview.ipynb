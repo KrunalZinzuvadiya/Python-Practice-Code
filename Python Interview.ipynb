{
 "cells": [
  {
   "cell_type": "code",
   "execution_count": 13,
   "id": "8ae9c0eb-ca75-4d61-a62d-440ff04771be",
   "metadata": {},
   "outputs": [
    {
     "data": {
      "text/plain": [
       "[[1, 2, 3], [4, 5, 6]]"
      ]
     },
     "execution_count": 13,
     "metadata": {},
     "output_type": "execute_result"
    }
   ],
   "source": [
    "import copy\n",
    "original_list = [[1,2,3], [4,5,6]]\n",
    "shallow_copy_list = copy.copy(original_list)\n",
    "shallow_copy_list"
   ]
  },
  {
   "cell_type": "code",
   "execution_count": 14,
   "id": "d0fc5879-134d-4fc5-916d-ccc4c77060a4",
   "metadata": {},
   "outputs": [
    {
     "data": {
      "text/plain": [
       "[[1, 2, 3], [4, 5, 6]]"
      ]
     },
     "execution_count": 14,
     "metadata": {},
     "output_type": "execute_result"
    }
   ],
   "source": [
    "deep_copy_list = copy.deepcopy(original_list)\n",
    "deep_copy_list"
   ]
  },
  {
   "cell_type": "code",
   "execution_count": 15,
   "id": "45040575-6604-4011-882d-2d11df72c8c4",
   "metadata": {},
   "outputs": [],
   "source": [
    "deep_copy_list[0][0] = 100"
   ]
  },
  {
   "cell_type": "code",
   "execution_count": 16,
   "id": "efd11b19-dec8-48d1-b51f-8da8978b438c",
   "metadata": {},
   "outputs": [
    {
     "data": {
      "text/plain": [
       "[[1, 2, 3], [4, 5, 6]]"
      ]
     },
     "execution_count": 16,
     "metadata": {},
     "output_type": "execute_result"
    }
   ],
   "source": [
    "original_list"
   ]
  },
  {
   "cell_type": "code",
   "execution_count": 18,
   "id": "ea151621-4b19-4f5c-a8cc-55be33b4bc7b",
   "metadata": {},
   "outputs": [
    {
     "data": {
      "text/plain": [
       "{'A', 'a', 'b', 'c'}"
      ]
     },
     "execution_count": 18,
     "metadata": {},
     "output_type": "execute_result"
    }
   ],
   "source": [
    "set = {'a', 'b', 'c', 'A'}\n",
    "set"
   ]
  },
  {
   "cell_type": "code",
   "execution_count": 19,
   "id": "b8305e6c-3d33-498f-8e73-306425893a3e",
   "metadata": {},
   "outputs": [
    {
     "name": "stdout",
     "output_type": "stream",
     "text": [
      "1\n",
      "2\n"
     ]
    }
   ],
   "source": [
    "def generator_function():\n",
    "    for i in range(1, 6):\n",
    "        yield i  # Produces one value at a time\n",
    "\n",
    "gen = generator_function()\n",
    "print(next(gen))  # Output: 1\n",
    "print(next(gen))  # Output: 2\n"
   ]
  },
  {
   "cell_type": "code",
   "execution_count": 20,
   "id": "8565ffad-0cb2-4046-8724-d97f756762f7",
   "metadata": {},
   "outputs": [
    {
     "data": {
      "text/plain": [
       "3"
      ]
     },
     "execution_count": 20,
     "metadata": {},
     "output_type": "execute_result"
    }
   ],
   "source": [
    "next(gen)"
   ]
  },
  {
   "cell_type": "code",
   "execution_count": 21,
   "id": "ca65ead0-e451-48a2-9878-255655809d8e",
   "metadata": {},
   "outputs": [
    {
     "data": {
      "text/plain": [
       "4"
      ]
     },
     "execution_count": 21,
     "metadata": {},
     "output_type": "execute_result"
    }
   ],
   "source": [
    "next(gen)"
   ]
  },
  {
   "cell_type": "code",
   "execution_count": 22,
   "id": "e9bedd6c-5058-4c6a-b591-60a6dff99c06",
   "metadata": {},
   "outputs": [
    {
     "data": {
      "text/plain": [
       "5"
      ]
     },
     "execution_count": 22,
     "metadata": {},
     "output_type": "execute_result"
    }
   ],
   "source": [
    "next(gen)"
   ]
  },
  {
   "cell_type": "code",
   "execution_count": 24,
   "id": "eb8c961e-7cb4-46e2-81d8-75a5bf1cd098",
   "metadata": {},
   "outputs": [
    {
     "data": {
      "text/plain": [
       "True"
      ]
     },
     "execution_count": 24,
     "metadata": {},
     "output_type": "execute_result"
    }
   ],
   "source": [
    "l1 = [1, 2, 3]\n",
    "l2 = [1, 2, 3]\n",
    "l1 == l2"
   ]
  },
  {
   "cell_type": "code",
   "execution_count": 25,
   "id": "68a221d1-8654-4f84-a1d0-c78623928c4f",
   "metadata": {},
   "outputs": [
    {
     "data": {
      "text/plain": [
       "False"
      ]
     },
     "execution_count": 25,
     "metadata": {},
     "output_type": "execute_result"
    }
   ],
   "source": [
    "l1 is l2"
   ]
  },
  {
   "cell_type": "code",
   "execution_count": 26,
   "id": "83967c4e-5201-43fd-8575-a4522b89ed5e",
   "metadata": {},
   "outputs": [
    {
     "data": {
      "text/plain": [
       "True"
      ]
     },
     "execution_count": 26,
     "metadata": {},
     "output_type": "execute_result"
    }
   ],
   "source": [
    "l3 = 4\n",
    "l4 = 4\n",
    "l3 is l4"
   ]
  },
  {
   "cell_type": "code",
   "execution_count": null,
   "id": "eb96423e-4096-4366-9851-4ae45ad6fe81",
   "metadata": {},
   "outputs": [],
   "source": []
  }
 ],
 "metadata": {
  "kernelspec": {
   "display_name": "Python 3 (ipykernel)",
   "language": "python",
   "name": "python3"
  },
  "language_info": {
   "codemirror_mode": {
    "name": "ipython",
    "version": 3
   },
   "file_extension": ".py",
   "mimetype": "text/x-python",
   "name": "python",
   "nbconvert_exporter": "python",
   "pygments_lexer": "ipython3",
   "version": "3.11.4"
  }
 },
 "nbformat": 4,
 "nbformat_minor": 5
}
